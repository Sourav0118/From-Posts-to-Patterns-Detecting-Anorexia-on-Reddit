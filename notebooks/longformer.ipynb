{
 "cells": [
  {
   "cell_type": "code",
   "execution_count": 1,
   "metadata": {},
   "outputs": [],
   "source": [
    "import pandas as pd\n",
    "\n",
    "df = pd.read_csv(\"/media/souravsaini/Data/POP_OS/internship/eRisk/dataset/train_data.csv\")\n",
    "df = df.dropna().reset_index(drop=True)"
   ]
  },
  {
   "cell_type": "code",
   "execution_count": 2,
   "metadata": {},
   "outputs": [
    {
     "data": {
      "text/html": [
       "<div>\n",
       "<style scoped>\n",
       "    .dataframe tbody tr th:only-of-type {\n",
       "        vertical-align: middle;\n",
       "    }\n",
       "\n",
       "    .dataframe tbody tr th {\n",
       "        vertical-align: top;\n",
       "    }\n",
       "\n",
       "    .dataframe thead th {\n",
       "        text-align: right;\n",
       "    }\n",
       "</style>\n",
       "<table border=\"1\" class=\"dataframe\">\n",
       "  <thead>\n",
       "    <tr style=\"text-align: right;\">\n",
       "      <th></th>\n",
       "      <th>Unnamed: 0</th>\n",
       "      <th>subject_ID</th>\n",
       "      <th>text</th>\n",
       "      <th>Anorexia</th>\n",
       "    </tr>\n",
       "  </thead>\n",
       "  <tbody>\n",
       "    <tr>\n",
       "      <th>0</th>\n",
       "      <td>0</td>\n",
       "      <td>1074</td>\n",
       "      <td>[pc] [h] 4 keys maybe 5? [w] endo    so why d...</td>\n",
       "      <td>0</td>\n",
       "    </tr>\n",
       "    <tr>\n",
       "      <th>1</th>\n",
       "      <td>1</td>\n",
       "      <td>1101</td>\n",
       "      <td>Because he saw a movie once?     It's Cana...</td>\n",
       "      <td>0</td>\n",
       "    </tr>\n",
       "    <tr>\n",
       "      <th>2</th>\n",
       "      <td>2</td>\n",
       "      <td>1120</td>\n",
       "      <td>What book should I read next that will scare ...</td>\n",
       "      <td>0</td>\n",
       "    </tr>\n",
       "    <tr>\n",
       "      <th>3</th>\n",
       "      <td>3</td>\n",
       "      <td>1137</td>\n",
       "      <td>''I only drink soda at parties''     Are y...</td>\n",
       "      <td>0</td>\n",
       "    </tr>\n",
       "    <tr>\n",
       "      <th>4</th>\n",
       "      <td>4</td>\n",
       "      <td>1143</td>\n",
       "      <td>Once I named myself 'pros solo', the numbe...</td>\n",
       "      <td>0</td>\n",
       "    </tr>\n",
       "  </tbody>\n",
       "</table>\n",
       "</div>"
      ],
      "text/plain": [
       "   Unnamed: 0  subject_ID                                               text  \\\n",
       "0           0        1074   [pc] [h] 4 keys maybe 5? [w] endo    so why d...   \n",
       "1           1        1101      Because he saw a movie once?     It's Cana...   \n",
       "2           2        1120   What book should I read next that will scare ...   \n",
       "3           3        1137      ''I only drink soda at parties''     Are y...   \n",
       "4           4        1143      Once I named myself 'pros solo', the numbe...   \n",
       "\n",
       "   Anorexia  \n",
       "0         0  \n",
       "1         0  \n",
       "2         0  \n",
       "3         0  \n",
       "4         0  "
      ]
     },
     "execution_count": 2,
     "metadata": {},
     "output_type": "execute_result"
    }
   ],
   "source": [
    "df.head()"
   ]
  },
  {
   "cell_type": "code",
   "execution_count": 3,
   "metadata": {},
   "outputs": [],
   "source": [
    "import re\n",
    "\n",
    "def remove_urls(text):\n",
    "    # Define the pattern to match URLs\n",
    "    url_pattern = re.compile(r'https?://\\S+|www\\.\\S+')\n",
    "\n",
    "    # Replace URLs with an empty string\n",
    "    text_without_urls = url_pattern.sub('', text)\n",
    "    text_wihtout_urls = ''.join(filter(lambda x: x.isalpha() or x.isdigit() or x.isspace(), text_without_urls))\n",
    "    return text_without_urls"
   ]
  },
  {
   "cell_type": "code",
   "execution_count": 4,
   "metadata": {},
   "outputs": [
    {
     "name": "stderr",
     "output_type": "stream",
     "text": [
      "/media/souravsaini/Data/POP_OS/internship/env/lib/python3.10/site-packages/tqdm/auto.py:21: TqdmWarning: IProgress not found. Please update jupyter and ipywidgets. See https://ipywidgets.readthedocs.io/en/stable/user_install.html\n",
      "  from .autonotebook import tqdm as notebook_tqdm\n"
     ]
    }
   ],
   "source": [
    "from transformers import LongformerTokenizer, LongformerForSequenceClassification\n",
    "\n",
    "tokenizer = LongformerTokenizer.from_pretrained(\"allenai/longformer-base-4096\", strip_accents=True, remove_punctuations=True)\n",
    "\n",
    "tokenized_text = tokenizer.tokenize(remove_urls(df['text'][0]))"
   ]
  },
  {
   "cell_type": "code",
   "execution_count": 1,
   "metadata": {},
   "outputs": [],
   "source": [
    "def split_text_into_subtexts(text, max_length):\n",
    "    subtexts = []\n",
    "    words = text.split()\n",
    "    current_subtext = ''\n",
    "    for word in words:\n",
    "        if len(current_subtext) + len(word) < max_length:\n",
    "            current_subtext += ' ' + word\n",
    "        else:\n",
    "            subtexts.append(current_subtext.strip())\n",
    "            current_subtext = word\n",
    "    if current_subtext:\n",
    "        subtexts.append(current_subtext.strip())\n",
    "    return subtexts"
   ]
  },
  {
   "cell_type": "code",
   "execution_count": 6,
   "metadata": {},
   "outputs": [
    {
     "name": "stderr",
     "output_type": "stream",
     "text": [
      "0it [00:00, ?it/s]Input ids are automatically padded from 1063 to 1536 to be a multiple of `config.attention_window`: 512\n",
      "Input ids are automatically padded from 1077 to 1536 to be a multiple of `config.attention_window`: 512\n",
      "Input ids are automatically padded from 1050 to 1536 to be a multiple of `config.attention_window`: 512\n",
      "Input ids are automatically padded from 1057 to 1536 to be a multiple of `config.attention_window`: 512\n",
      "Input ids are automatically padded from 1088 to 1536 to be a multiple of `config.attention_window`: 512\n",
      "Input ids are automatically padded from 1027 to 1536 to be a multiple of `config.attention_window`: 512\n",
      "Input ids are automatically padded from 1117 to 1536 to be a multiple of `config.attention_window`: 512\n",
      "Input ids are automatically padded from 1033 to 1536 to be a multiple of `config.attention_window`: 512\n",
      "Input ids are automatically padded from 1047 to 1536 to be a multiple of `config.attention_window`: 512\n",
      "Input ids are automatically padded from 1107 to 1536 to be a multiple of `config.attention_window`: 512\n",
      "Input ids are automatically padded from 1054 to 1536 to be a multiple of `config.attention_window`: 512\n",
      "Input ids are automatically padded from 1048 to 1536 to be a multiple of `config.attention_window`: 512\n",
      "Input ids are automatically padded from 1051 to 1536 to be a multiple of `config.attention_window`: 512\n",
      "Input ids are automatically padded from 1038 to 1536 to be a multiple of `config.attention_window`: 512\n",
      "Input ids are automatically padded from 1049 to 1536 to be a multiple of `config.attention_window`: 512\n",
      "Input ids are automatically padded from 1095 to 1536 to be a multiple of `config.attention_window`: 512\n",
      "Input ids are automatically padded from 1098 to 1536 to be a multiple of `config.attention_window`: 512\n",
      "Input ids are automatically padded from 1071 to 1536 to be a multiple of `config.attention_window`: 512\n",
      "Input ids are automatically padded from 1031 to 1536 to be a multiple of `config.attention_window`: 512\n",
      "Input ids are automatically padded from 1007 to 1024 to be a multiple of `config.attention_window`: 512\n",
      "Input ids are automatically padded from 1058 to 1536 to be a multiple of `config.attention_window`: 512\n",
      "Input ids are automatically padded from 1060 to 1536 to be a multiple of `config.attention_window`: 512\n",
      "Input ids are automatically padded from 1130 to 1536 to be a multiple of `config.attention_window`: 512\n",
      "Input ids are automatically padded from 1066 to 1536 to be a multiple of `config.attention_window`: 512\n",
      "Input ids are automatically padded from 1062 to 1536 to be a multiple of `config.attention_window`: 512\n",
      "Input ids are automatically padded from 1030 to 1536 to be a multiple of `config.attention_window`: 512\n",
      "Input ids are automatically padded from 1044 to 1536 to be a multiple of `config.attention_window`: 512\n",
      "Input ids are automatically padded from 1022 to 1024 to be a multiple of `config.attention_window`: 512\n",
      "Input ids are automatically padded from 1059 to 1536 to be a multiple of `config.attention_window`: 512\n",
      "Input ids are automatically padded from 1091 to 1536 to be a multiple of `config.attention_window`: 512\n",
      "Input ids are automatically padded from 1029 to 1536 to be a multiple of `config.attention_window`: 512\n",
      "Input ids are automatically padded from 1037 to 1536 to be a multiple of `config.attention_window`: 512\n",
      "Input ids are automatically padded from 1053 to 1536 to be a multiple of `config.attention_window`: 512\n",
      "Input ids are automatically padded from 1043 to 1536 to be a multiple of `config.attention_window`: 512\n",
      "Input ids are automatically padded from 1034 to 1536 to be a multiple of `config.attention_window`: 512\n",
      "Input ids are automatically padded from 1052 to 1536 to be a multiple of `config.attention_window`: 512\n",
      "Input ids are automatically padded from 1081 to 1536 to be a multiple of `config.attention_window`: 512\n",
      "Input ids are automatically padded from 1002 to 1024 to be a multiple of `config.attention_window`: 512\n",
      "Input ids are automatically padded from 1040 to 1536 to be a multiple of `config.attention_window`: 512\n",
      "Input ids are automatically padded from 1101 to 1536 to be a multiple of `config.attention_window`: 512\n",
      "Input ids are automatically padded from 1017 to 1024 to be a multiple of `config.attention_window`: 512\n",
      "Input ids are automatically padded from 1080 to 1536 to be a multiple of `config.attention_window`: 512\n",
      "Input ids are automatically padded from 1036 to 1536 to be a multiple of `config.attention_window`: 512\n",
      "Input ids are automatically padded from 998 to 1024 to be a multiple of `config.attention_window`: 512\n",
      "Input ids are automatically padded from 1021 to 1024 to be a multiple of `config.attention_window`: 512\n",
      "Input ids are automatically padded from 1086 to 1536 to be a multiple of `config.attention_window`: 512\n",
      "Input ids are automatically padded from 1064 to 1536 to be a multiple of `config.attention_window`: 512\n",
      "Input ids are automatically padded from 1004 to 1024 to be a multiple of `config.attention_window`: 512\n",
      "Input ids are automatically padded from 1046 to 1536 to be a multiple of `config.attention_window`: 512\n",
      "Input ids are automatically padded from 1096 to 1536 to be a multiple of `config.attention_window`: 512\n",
      "Input ids are automatically padded from 969 to 1024 to be a multiple of `config.attention_window`: 512\n",
      "Input ids are automatically padded from 1093 to 1536 to be a multiple of `config.attention_window`: 512\n",
      "Input ids are automatically padded from 1090 to 1536 to be a multiple of `config.attention_window`: 512\n",
      "Input ids are automatically padded from 1092 to 1536 to be a multiple of `config.attention_window`: 512\n",
      "Input ids are automatically padded from 1068 to 1536 to be a multiple of `config.attention_window`: 512\n",
      "Input ids are automatically padded from 1067 to 1536 to be a multiple of `config.attention_window`: 512\n",
      "Input ids are automatically padded from 1009 to 1024 to be a multiple of `config.attention_window`: 512\n",
      "Input ids are automatically padded from 1074 to 1536 to be a multiple of `config.attention_window`: 512\n",
      "Input ids are automatically padded from 1018 to 1024 to be a multiple of `config.attention_window`: 512\n",
      "Input ids are automatically padded from 1045 to 1536 to be a multiple of `config.attention_window`: 512\n",
      "Input ids are automatically padded from 1085 to 1536 to be a multiple of `config.attention_window`: 512\n",
      "Input ids are automatically padded from 1061 to 1536 to be a multiple of `config.attention_window`: 512\n",
      "Input ids are automatically padded from 1111 to 1536 to be a multiple of `config.attention_window`: 512\n",
      "Input ids are automatically padded from 1079 to 1536 to be a multiple of `config.attention_window`: 512\n",
      "Input ids are automatically padded from 1072 to 1536 to be a multiple of `config.attention_window`: 512\n",
      "Input ids are automatically padded from 1014 to 1024 to be a multiple of `config.attention_window`: 512\n",
      "Input ids are automatically padded from 1121 to 1536 to be a multiple of `config.attention_window`: 512\n",
      "Input ids are automatically padded from 1055 to 1536 to be a multiple of `config.attention_window`: 512\n",
      "Input ids are automatically padded from 1105 to 1536 to be a multiple of `config.attention_window`: 512\n",
      "Input ids are automatically padded from 1023 to 1024 to be a multiple of `config.attention_window`: 512\n",
      "Input ids are automatically padded from 979 to 1024 to be a multiple of `config.attention_window`: 512\n",
      "Input ids are automatically padded from 1065 to 1536 to be a multiple of `config.attention_window`: 512\n",
      "Input ids are automatically padded from 1167 to 1536 to be a multiple of `config.attention_window`: 512\n",
      "Input ids are automatically padded from 1126 to 1536 to be a multiple of `config.attention_window`: 512\n",
      "Input ids are automatically padded from 1069 to 1536 to be a multiple of `config.attention_window`: 512\n",
      "Input ids are automatically padded from 1076 to 1536 to be a multiple of `config.attention_window`: 512\n",
      "Input ids are automatically padded from 1042 to 1536 to be a multiple of `config.attention_window`: 512\n",
      "Input ids are automatically padded from 1041 to 1536 to be a multiple of `config.attention_window`: 512\n",
      "Input ids are automatically padded from 950 to 1024 to be a multiple of `config.attention_window`: 512\n",
      "Input ids are automatically padded from 1097 to 1536 to be a multiple of `config.attention_window`: 512\n",
      "Input ids are automatically padded from 1094 to 1536 to be a multiple of `config.attention_window`: 512\n",
      "Input ids are automatically padded from 1019 to 1024 to be a multiple of `config.attention_window`: 512\n",
      "Input ids are automatically padded from 1056 to 1536 to be a multiple of `config.attention_window`: 512\n",
      "Input ids are automatically padded from 1070 to 1536 to be a multiple of `config.attention_window`: 512\n",
      "Input ids are automatically padded from 1020 to 1024 to be a multiple of `config.attention_window`: 512\n",
      "Input ids are automatically padded from 1106 to 1536 to be a multiple of `config.attention_window`: 512\n",
      "Input ids are automatically padded from 1100 to 1536 to be a multiple of `config.attention_window`: 512\n",
      "Input ids are automatically padded from 1082 to 1536 to be a multiple of `config.attention_window`: 512\n",
      "Input ids are automatically padded from 1000 to 1024 to be a multiple of `config.attention_window`: 512\n",
      "Input ids are automatically padded from 1125 to 1536 to be a multiple of `config.attention_window`: 512\n",
      "Input ids are automatically padded from 1136 to 1536 to be a multiple of `config.attention_window`: 512\n",
      "Input ids are automatically padded from 1028 to 1536 to be a multiple of `config.attention_window`: 512\n",
      "Input ids are automatically padded from 1103 to 1536 to be a multiple of `config.attention_window`: 512\n",
      "Input ids are automatically padded from 1078 to 1536 to be a multiple of `config.attention_window`: 512\n",
      "Input ids are automatically padded from 990 to 1024 to be a multiple of `config.attention_window`: 512\n",
      "Input ids are automatically padded from 1073 to 1536 to be a multiple of `config.attention_window`: 512\n",
      "Input ids are automatically padded from 1026 to 1536 to be a multiple of `config.attention_window`: 512\n",
      "Input ids are automatically padded from 1032 to 1536 to be a multiple of `config.attention_window`: 512\n",
      "Input ids are automatically padded from 1087 to 1536 to be a multiple of `config.attention_window`: 512\n",
      "Input ids are automatically padded from 1109 to 1536 to be a multiple of `config.attention_window`: 512\n",
      "Input ids are automatically padded from 992 to 1024 to be a multiple of `config.attention_window`: 512\n",
      "Input ids are automatically padded from 1108 to 1536 to be a multiple of `config.attention_window`: 512\n",
      "Input ids are automatically padded from 1089 to 1536 to be a multiple of `config.attention_window`: 512\n",
      "Input ids are automatically padded from 989 to 1024 to be a multiple of `config.attention_window`: 512\n",
      "Input ids are automatically padded from 1035 to 1536 to be a multiple of `config.attention_window`: 512\n",
      "Input ids are automatically padded from 993 to 1024 to be a multiple of `config.attention_window`: 512\n",
      "Input ids are automatically padded from 1075 to 1536 to be a multiple of `config.attention_window`: 512\n",
      "Input ids are automatically padded from 1016 to 1024 to be a multiple of `config.attention_window`: 512\n",
      "Input ids are automatically padded from 980 to 1024 to be a multiple of `config.attention_window`: 512\n",
      "Input ids are automatically padded from 1137 to 1536 to be a multiple of `config.attention_window`: 512\n",
      "Input ids are automatically padded from 991 to 1024 to be a multiple of `config.attention_window`: 512\n",
      "Input ids are automatically padded from 997 to 1024 to be a multiple of `config.attention_window`: 512\n",
      "Input ids are automatically padded from 1008 to 1024 to be a multiple of `config.attention_window`: 512\n",
      "Input ids are automatically padded from 986 to 1024 to be a multiple of `config.attention_window`: 512\n",
      "Input ids are automatically padded from 1025 to 1536 to be a multiple of `config.attention_window`: 512\n",
      "Input ids are automatically padded from 1127 to 1536 to be a multiple of `config.attention_window`: 512\n",
      "Input ids are automatically padded from 921 to 1024 to be a multiple of `config.attention_window`: 512\n",
      "1409it [02:09, 10.86it/s]Input ids are automatically padded from 945 to 1024 to be a multiple of `config.attention_window`: 512\n",
      "Input ids are automatically padded from 937 to 1024 to be a multiple of `config.attention_window`: 512\n",
      "Input ids are automatically padded from 636 to 1024 to be a multiple of `config.attention_window`: 512\n",
      "Input ids are automatically padded from 956 to 1024 to be a multiple of `config.attention_window`: 512\n",
      "Input ids are automatically padded from 917 to 1024 to be a multiple of `config.attention_window`: 512\n",
      "Input ids are automatically padded from 966 to 1024 to be a multiple of `config.attention_window`: 512\n",
      "Input ids are automatically padded from 960 to 1024 to be a multiple of `config.attention_window`: 512\n",
      "Input ids are automatically padded from 971 to 1024 to be a multiple of `config.attention_window`: 512\n",
      "Input ids are automatically padded from 975 to 1024 to be a multiple of `config.attention_window`: 512\n",
      "Input ids are automatically padded from 943 to 1024 to be a multiple of `config.attention_window`: 512\n",
      "Input ids are automatically padded from 936 to 1024 to be a multiple of `config.attention_window`: 512\n",
      "Input ids are automatically padded from 974 to 1024 to be a multiple of `config.attention_window`: 512\n",
      "Input ids are automatically padded from 951 to 1024 to be a multiple of `config.attention_window`: 512\n",
      "Input ids are automatically padded from 954 to 1024 to be a multiple of `config.attention_window`: 512\n",
      "Input ids are automatically padded from 935 to 1024 to be a multiple of `config.attention_window`: 512\n",
      "Input ids are automatically padded from 953 to 1024 to be a multiple of `config.attention_window`: 512\n",
      "Input ids are automatically padded from 963 to 1024 to be a multiple of `config.attention_window`: 512\n",
      "Input ids are automatically padded from 946 to 1024 to be a multiple of `config.attention_window`: 512\n",
      "Input ids are automatically padded from 957 to 1024 to be a multiple of `config.attention_window`: 512\n",
      "Input ids are automatically padded from 924 to 1024 to be a multiple of `config.attention_window`: 512\n",
      "Input ids are automatically padded from 930 to 1024 to be a multiple of `config.attention_window`: 512\n",
      "Input ids are automatically padded from 925 to 1024 to be a multiple of `config.attention_window`: 512\n",
      "Input ids are automatically padded from 915 to 1024 to be a multiple of `config.attention_window`: 512\n",
      "Input ids are automatically padded from 923 to 1024 to be a multiple of `config.attention_window`: 512\n",
      "Input ids are automatically padded from 944 to 1024 to be a multiple of `config.attention_window`: 512\n",
      "Input ids are automatically padded from 914 to 1024 to be a multiple of `config.attention_window`: 512\n",
      "Input ids are automatically padded from 952 to 1024 to be a multiple of `config.attention_window`: 512\n",
      "Input ids are automatically padded from 947 to 1024 to be a multiple of `config.attention_window`: 512\n",
      "Input ids are automatically padded from 933 to 1024 to be a multiple of `config.attention_window`: 512\n",
      "Input ids are automatically padded from 941 to 1024 to be a multiple of `config.attention_window`: 512\n",
      "Input ids are automatically padded from 739 to 1024 to be a multiple of `config.attention_window`: 512\n",
      "1411it [02:21,  9.63it/s]Input ids are automatically padded from 928 to 1024 to be a multiple of `config.attention_window`: 512\n",
      "Input ids are automatically padded from 151 to 512 to be a multiple of `config.attention_window`: 512\n",
      "1412it [02:21,  9.59it/s]Input ids are automatically padded from 922 to 1024 to be a multiple of `config.attention_window`: 512\n",
      "Input ids are automatically padded from 835 to 1024 to be a multiple of `config.attention_window`: 512\n",
      "Input ids are automatically padded from 801 to 1024 to be a multiple of `config.attention_window`: 512\n",
      "Input ids are automatically padded from 807 to 1024 to be a multiple of `config.attention_window`: 512\n",
      "Input ids are automatically padded from 839 to 1024 to be a multiple of `config.attention_window`: 512\n",
      "Input ids are automatically padded from 782 to 1024 to be a multiple of `config.attention_window`: 512\n",
      "1413it [02:23,  9.36it/s]Input ids are automatically padded from 796 to 1024 to be a multiple of `config.attention_window`: 512\n",
      "Input ids are automatically padded from 799 to 1024 to be a multiple of `config.attention_window`: 512\n",
      "Input ids are automatically padded from 794 to 1024 to be a multiple of `config.attention_window`: 512\n",
      "Input ids are automatically padded from 802 to 1024 to be a multiple of `config.attention_window`: 512\n",
      "Input ids are automatically padded from 840 to 1024 to be a multiple of `config.attention_window`: 512\n",
      "Input ids are automatically padded from 778 to 1024 to be a multiple of `config.attention_window`: 512\n",
      "Input ids are automatically padded from 804 to 1024 to be a multiple of `config.attention_window`: 512\n",
      "Input ids are automatically padded from 789 to 1024 to be a multiple of `config.attention_window`: 512\n",
      "Input ids are automatically padded from 809 to 1024 to be a multiple of `config.attention_window`: 512\n",
      "Input ids are automatically padded from 788 to 1024 to be a multiple of `config.attention_window`: 512\n",
      "Input ids are automatically padded from 792 to 1024 to be a multiple of `config.attention_window`: 512\n",
      "Input ids are automatically padded from 805 to 1024 to be a multiple of `config.attention_window`: 512\n",
      "Input ids are automatically padded from 803 to 1024 to be a multiple of `config.attention_window`: 512\n",
      "Input ids are automatically padded from 713 to 1024 to be a multiple of `config.attention_window`: 512\n",
      "1414it [02:26,  8.60it/s]Input ids are automatically padded from 964 to 1024 to be a multiple of `config.attention_window`: 512\n",
      "Input ids are automatically padded from 147 to 512 to be a multiple of `config.attention_window`: 512\n",
      "1415it [02:27,  8.47it/s]Input ids are automatically padded from 860 to 1024 to be a multiple of `config.attention_window`: 512\n",
      "Input ids are automatically padded from 871 to 1024 to be a multiple of `config.attention_window`: 512\n",
      "Input ids are automatically padded from 862 to 1024 to be a multiple of `config.attention_window`: 512\n",
      "Input ids are automatically padded from 883 to 1024 to be a multiple of `config.attention_window`: 512\n",
      "Input ids are automatically padded from 887 to 1024 to be a multiple of `config.attention_window`: 512\n",
      "Input ids are automatically padded from 831 to 1024 to be a multiple of `config.attention_window`: 512\n",
      "Input ids are automatically padded from 861 to 1024 to be a multiple of `config.attention_window`: 512\n",
      "Input ids are automatically padded from 823 to 1024 to be a multiple of `config.attention_window`: 512\n",
      "Input ids are automatically padded from 889 to 1024 to be a multiple of `config.attention_window`: 512\n",
      "Input ids are automatically padded from 886 to 1024 to be a multiple of `config.attention_window`: 512\n",
      "Input ids are automatically padded from 842 to 1024 to be a multiple of `config.attention_window`: 512\n",
      "Input ids are automatically padded from 877 to 1024 to be a multiple of `config.attention_window`: 512\n",
      "Input ids are automatically padded from 819 to 1024 to be a multiple of `config.attention_window`: 512\n",
      "Input ids are automatically padded from 874 to 1024 to be a multiple of `config.attention_window`: 512\n",
      "Input ids are automatically padded from 857 to 1024 to be a multiple of `config.attention_window`: 512\n",
      "Input ids are automatically padded from 856 to 1024 to be a multiple of `config.attention_window`: 512\n",
      "Input ids are automatically padded from 882 to 1024 to be a multiple of `config.attention_window`: 512\n",
      "Input ids are automatically padded from 865 to 1024 to be a multiple of `config.attention_window`: 512\n",
      "Input ids are automatically padded from 864 to 1024 to be a multiple of `config.attention_window`: 512\n",
      "Input ids are automatically padded from 855 to 1024 to be a multiple of `config.attention_window`: 512\n",
      "Input ids are automatically padded from 834 to 1024 to be a multiple of `config.attention_window`: 512\n",
      "Input ids are automatically padded from 824 to 1024 to be a multiple of `config.attention_window`: 512\n",
      "Input ids are automatically padded from 875 to 1024 to be a multiple of `config.attention_window`: 512\n",
      "Input ids are automatically padded from 608 to 1024 to be a multiple of `config.attention_window`: 512\n",
      "1416it [02:33,  6.43it/s]Input ids are automatically padded from 897 to 1024 to be a multiple of `config.attention_window`: 512\n",
      "Input ids are automatically padded from 884 to 1024 to be a multiple of `config.attention_window`: 512\n",
      "Input ids are automatically padded from 967 to 1024 to be a multiple of `config.attention_window`: 512\n",
      "Input ids are automatically padded from 948 to 1024 to be a multiple of `config.attention_window`: 512\n",
      "Input ids are automatically padded from 879 to 1024 to be a multiple of `config.attention_window`: 512\n",
      "Input ids are automatically padded from 918 to 1024 to be a multiple of `config.attention_window`: 512\n",
      "Input ids are automatically padded from 908 to 1024 to be a multiple of `config.attention_window`: 512\n",
      "Input ids are automatically padded from 910 to 1024 to be a multiple of `config.attention_window`: 512\n",
      "Input ids are automatically padded from 873 to 1024 to be a multiple of `config.attention_window`: 512\n",
      "Input ids are automatically padded from 888 to 1024 to be a multiple of `config.attention_window`: 512\n",
      "Input ids are automatically padded from 912 to 1024 to be a multiple of `config.attention_window`: 512\n",
      "Input ids are automatically padded from 863 to 1024 to be a multiple of `config.attention_window`: 512\n",
      "Input ids are automatically padded from 850 to 1024 to be a multiple of `config.attention_window`: 512\n",
      "Input ids are automatically padded from 841 to 1024 to be a multiple of `config.attention_window`: 512\n",
      "Input ids are automatically padded from 288 to 512 to be a multiple of `config.attention_window`: 512\n",
      "1417it [02:39,  4.94it/s]Input ids are automatically padded from 977 to 1024 to be a multiple of `config.attention_window`: 512\n",
      "Input ids are automatically padded from 1416 to 1536 to be a multiple of `config.attention_window`: 512\n",
      "Input ids are automatically padded from 1646 to 2048 to be a multiple of `config.attention_window`: 512\n",
      "Input ids are automatically padded from 1181 to 1536 to be a multiple of `config.attention_window`: 512\n",
      "Input ids are automatically padded from 1115 to 1536 to be a multiple of `config.attention_window`: 512\n",
      "Input ids are automatically padded from 1243 to 1536 to be a multiple of `config.attention_window`: 512\n",
      "Input ids are automatically padded from 978 to 1024 to be a multiple of `config.attention_window`: 512\n",
      "Input ids are automatically padded from 972 to 1024 to be a multiple of `config.attention_window`: 512\n",
      "Input ids are automatically padded from 1139 to 1536 to be a multiple of `config.attention_window`: 512\n",
      "Input ids are automatically padded from 1176 to 1536 to be a multiple of `config.attention_window`: 512\n",
      "Input ids are automatically padded from 1214 to 1536 to be a multiple of `config.attention_window`: 512\n",
      "Input ids are automatically padded from 973 to 1024 to be a multiple of `config.attention_window`: 512\n",
      "Input ids are automatically padded from 981 to 1024 to be a multiple of `config.attention_window`: 512\n",
      "Input ids are automatically padded from 987 to 1024 to be a multiple of `config.attention_window`: 512\n",
      "Input ids are automatically padded from 968 to 1024 to be a multiple of `config.attention_window`: 512\n",
      "Input ids are automatically padded from 1269 to 1536 to be a multiple of `config.attention_window`: 512\n",
      "Input ids are automatically padded from 1218 to 1536 to be a multiple of `config.attention_window`: 512\n",
      "Input ids are automatically padded from 1434 to 1536 to be a multiple of `config.attention_window`: 512\n",
      "Input ids are automatically padded from 1350 to 1536 to be a multiple of `config.attention_window`: 512\n",
      "Input ids are automatically padded from 1275 to 1536 to be a multiple of `config.attention_window`: 512\n",
      "Input ids are automatically padded from 1334 to 1536 to be a multiple of `config.attention_window`: 512\n",
      "Input ids are automatically padded from 1166 to 1536 to be a multiple of `config.attention_window`: 512\n",
      "1418it [02:55,  2.56it/s]Input ids are automatically padded from 286 to 512 to be a multiple of `config.attention_window`: 512\n",
      "1419it [02:55,  2.58it/s]Input ids are automatically padded from 913 to 1024 to be a multiple of `config.attention_window`: 512\n",
      "Input ids are automatically padded from 931 to 1024 to be a multiple of `config.attention_window`: 512\n",
      "Input ids are automatically padded from 955 to 1024 to be a multiple of `config.attention_window`: 512\n",
      "Input ids are automatically padded from 169 to 512 to be a multiple of `config.attention_window`: 512\n",
      "1420it [02:59,  2.16it/s]Input ids are automatically padded from 96 to 512 to be a multiple of `config.attention_window`: 512\n",
      "1421it [02:59,  2.14it/s]Input ids are automatically padded from 970 to 1024 to be a multiple of `config.attention_window`: 512\n",
      "Input ids are automatically padded from 983 to 1024 to be a multiple of `config.attention_window`: 512\n",
      "Input ids are automatically padded from 1321 to 1536 to be a multiple of `config.attention_window`: 512\n",
      "Input ids are automatically padded from 1513 to 1536 to be a multiple of `config.attention_window`: 512\n",
      "Input ids are automatically padded from 1403 to 1536 to be a multiple of `config.attention_window`: 512\n",
      "Input ids are automatically padded from 1514 to 1536 to be a multiple of `config.attention_window`: 512\n",
      "Input ids are automatically padded from 1242 to 1536 to be a multiple of `config.attention_window`: 512\n",
      "Input ids are automatically padded from 1354 to 1536 to be a multiple of `config.attention_window`: 512\n",
      "Input ids are automatically padded from 1297 to 1536 to be a multiple of `config.attention_window`: 512\n",
      "Input ids are automatically padded from 919 to 1024 to be a multiple of `config.attention_window`: 512\n",
      "Input ids are automatically padded from 899 to 1024 to be a multiple of `config.attention_window`: 512\n",
      "Input ids are automatically padded from 1099 to 1536 to be a multiple of `config.attention_window`: 512\n",
      "Input ids are automatically padded from 1003 to 1024 to be a multiple of `config.attention_window`: 512\n",
      "Input ids are automatically padded from 1189 to 1536 to be a multiple of `config.attention_window`: 512\n",
      "Input ids are automatically padded from 764 to 1024 to be a multiple of `config.attention_window`: 512\n",
      "1422it [03:11,  1.05it/s]Input ids are automatically padded from 880 to 1024 to be a multiple of `config.attention_window`: 512\n",
      "Input ids are automatically padded from 902 to 1024 to be a multiple of `config.attention_window`: 512\n",
      "Input ids are automatically padded from 892 to 1024 to be a multiple of `config.attention_window`: 512\n",
      "Input ids are automatically padded from 982 to 1024 to be a multiple of `config.attention_window`: 512\n",
      "Input ids are automatically padded from 939 to 1024 to be a multiple of `config.attention_window`: 512\n",
      "Input ids are automatically padded from 999 to 1024 to be a multiple of `config.attention_window`: 512\n",
      "Input ids are automatically padded from 942 to 1024 to be a multiple of `config.attention_window`: 512\n",
      "Input ids are automatically padded from 958 to 1024 to be a multiple of `config.attention_window`: 512\n",
      "Input ids are automatically padded from 1015 to 1024 to be a multiple of `config.attention_window`: 512\n",
      "Input ids are automatically padded from 934 to 1024 to be a multiple of `config.attention_window`: 512\n",
      "Input ids are automatically padded from 1467 to 1536 to be a multiple of `config.attention_window`: 512\n",
      "Input ids are automatically padded from 1211 to 1536 to be a multiple of `config.attention_window`: 512\n",
      "Input ids are automatically padded from 995 to 1024 to be a multiple of `config.attention_window`: 512\n",
      "Input ids are automatically padded from 18 to 512 to be a multiple of `config.attention_window`: 512\n",
      "1423it [03:19,  1.35s/it]Input ids are automatically padded from 961 to 1024 to be a multiple of `config.attention_window`: 512\n",
      "Input ids are automatically padded from 927 to 1024 to be a multiple of `config.attention_window`: 512\n",
      "Input ids are automatically padded from 896 to 1024 to be a multiple of `config.attention_window`: 512\n",
      "Input ids are automatically padded from 1006 to 1024 to be a multiple of `config.attention_window`: 512\n",
      "Input ids are automatically padded from 926 to 1024 to be a multiple of `config.attention_window`: 512\n",
      "Input ids are automatically padded from 1159 to 1536 to be a multiple of `config.attention_window`: 512\n",
      "Input ids are automatically padded from 1146 to 1536 to be a multiple of `config.attention_window`: 512\n",
      "Input ids are automatically padded from 1083 to 1536 to be a multiple of `config.attention_window`: 512\n",
      "Input ids are automatically padded from 1188 to 1536 to be a multiple of `config.attention_window`: 512\n",
      "Input ids are automatically padded from 1200 to 1536 to be a multiple of `config.attention_window`: 512\n",
      "Input ids are automatically padded from 1304 to 1536 to be a multiple of `config.attention_window`: 512\n",
      "Input ids are automatically padded from 1120 to 1536 to be a multiple of `config.attention_window`: 512\n",
      "Input ids are automatically padded from 1140 to 1536 to be a multiple of `config.attention_window`: 512\n",
      "Input ids are automatically padded from 1168 to 1536 to be a multiple of `config.attention_window`: 512\n",
      "Input ids are automatically padded from 1147 to 1536 to be a multiple of `config.attention_window`: 512\n",
      "Input ids are automatically padded from 1198 to 1536 to be a multiple of `config.attention_window`: 512\n",
      "Input ids are automatically padded from 1230 to 1536 to be a multiple of `config.attention_window`: 512\n",
      "Input ids are automatically padded from 985 to 1024 to be a multiple of `config.attention_window`: 512\n",
      "Input ids are automatically padded from 962 to 1024 to be a multiple of `config.attention_window`: 512\n",
      "Input ids are automatically padded from 905 to 1024 to be a multiple of `config.attention_window`: 512\n",
      "Input ids are automatically padded from 901 to 1024 to be a multiple of `config.attention_window`: 512\n",
      "Input ids are automatically padded from 1013 to 1024 to be a multiple of `config.attention_window`: 512\n",
      "Input ids are automatically padded from 911 to 1024 to be a multiple of `config.attention_window`: 512\n",
      "Input ids are automatically padded from 1010 to 1024 to be a multiple of `config.attention_window`: 512\n",
      "Input ids are automatically padded from 929 to 1024 to be a multiple of `config.attention_window`: 512\n",
      "Input ids are automatically padded from 904 to 1024 to be a multiple of `config.attention_window`: 512\n",
      "1424it [03:44,  3.22s/it]Input ids are automatically padded from 773 to 1024 to be a multiple of `config.attention_window`: 512\n",
      "1425it [03:45,  2.95s/it]Input ids are automatically padded from 249 to 512 to be a multiple of `config.attention_window`: 512\n",
      "1426it [03:45,  2.59s/it]Input ids are automatically padded from 1148 to 1536 to be a multiple of `config.attention_window`: 512\n",
      "Input ids are automatically padded from 940 to 1024 to be a multiple of `config.attention_window`: 512\n",
      "Input ids are automatically padded from 866 to 1024 to be a multiple of `config.attention_window`: 512\n",
      "Input ids are automatically padded from 1160 to 1536 to be a multiple of `config.attention_window`: 512\n",
      "Input ids are automatically padded from 965 to 1024 to be a multiple of `config.attention_window`: 512\n",
      "Input ids are automatically padded from 949 to 1024 to be a multiple of `config.attention_window`: 512\n",
      "Input ids are automatically padded from 938 to 1024 to be a multiple of `config.attention_window`: 512\n",
      "Input ids are automatically padded from 895 to 1024 to be a multiple of `config.attention_window`: 512\n",
      "Input ids are automatically padded from 984 to 1024 to be a multiple of `config.attention_window`: 512\n",
      "Input ids are automatically padded from 872 to 1024 to be a multiple of `config.attention_window`: 512\n",
      "Input ids are automatically padded from 800 to 1024 to be a multiple of `config.attention_window`: 512\n",
      "Input ids are automatically padded from 812 to 1024 to be a multiple of `config.attention_window`: 512\n",
      "Input ids are automatically padded from 837 to 1024 to be a multiple of `config.attention_window`: 512\n",
      "Input ids are automatically padded from 818 to 1024 to be a multiple of `config.attention_window`: 512\n",
      "Input ids are automatically padded from 829 to 1024 to be a multiple of `config.attention_window`: 512\n",
      "Input ids are automatically padded from 826 to 1024 to be a multiple of `config.attention_window`: 512\n",
      "Input ids are automatically padded from 832 to 1024 to be a multiple of `config.attention_window`: 512\n",
      "Input ids are automatically padded from 817 to 1024 to be a multiple of `config.attention_window`: 512\n",
      "Input ids are automatically padded from 815 to 1024 to be a multiple of `config.attention_window`: 512\n",
      "Input ids are automatically padded from 303 to 512 to be a multiple of `config.attention_window`: 512\n",
      "1427it [04:03,  4.96s/it]Input ids are automatically padded from 1150 to 1536 to be a multiple of `config.attention_window`: 512\n",
      "Input ids are automatically padded from 1163 to 1536 to be a multiple of `config.attention_window`: 512\n",
      "Input ids are automatically padded from 1191 to 1536 to be a multiple of `config.attention_window`: 512\n",
      "Input ids are automatically padded from 1129 to 1536 to be a multiple of `config.attention_window`: 512\n",
      "Input ids are automatically padded from 1152 to 1536 to be a multiple of `config.attention_window`: 512\n",
      "Input ids are automatically padded from 1175 to 1536 to be a multiple of `config.attention_window`: 512\n",
      "Input ids are automatically padded from 1118 to 1536 to be a multiple of `config.attention_window`: 512\n",
      "Input ids are automatically padded from 1154 to 1536 to be a multiple of `config.attention_window`: 512\n",
      "Input ids are automatically padded from 1153 to 1536 to be a multiple of `config.attention_window`: 512\n",
      "Input ids are automatically padded from 1281 to 1536 to be a multiple of `config.attention_window`: 512\n",
      "Input ids are automatically padded from 1202 to 1536 to be a multiple of `config.attention_window`: 512\n",
      "Input ids are automatically padded from 1084 to 1536 to be a multiple of `config.attention_window`: 512\n",
      "Input ids are automatically padded from 727 to 1024 to be a multiple of `config.attention_window`: 512\n",
      "1428it [04:19,  7.00s/it]Input ids are automatically padded from 900 to 1024 to be a multiple of `config.attention_window`: 512\n",
      "Input ids are automatically padded from 858 to 1024 to be a multiple of `config.attention_window`: 512\n",
      "Input ids are automatically padded from 844 to 1024 to be a multiple of `config.attention_window`: 512\n",
      "Input ids are automatically padded from 87 to 512 to be a multiple of `config.attention_window`: 512\n",
      "1429it [04:21,  5.93s/it]Input ids are automatically padded from 894 to 1024 to be a multiple of `config.attention_window`: 512\n",
      "Input ids are automatically padded from 869 to 1024 to be a multiple of `config.attention_window`: 512\n",
      "Input ids are automatically padded from 8 to 512 to be a multiple of `config.attention_window`: 512\n",
      "1430it [04:24,  5.18s/it]Input ids are automatically padded from 920 to 1024 to be a multiple of `config.attention_window`: 512\n",
      "Input ids are automatically padded from 1112 to 1536 to be a multiple of `config.attention_window`: 512\n",
      "Input ids are automatically padded from 890 to 1024 to be a multiple of `config.attention_window`: 512\n",
      "Input ids are automatically padded from 891 to 1024 to be a multiple of `config.attention_window`: 512\n",
      "Input ids are automatically padded from 976 to 1024 to be a multiple of `config.attention_window`: 512\n",
      "Input ids are automatically padded from 932 to 1024 to be a multiple of `config.attention_window`: 512\n",
      "Input ids are automatically padded from 1379 to 1536 to be a multiple of `config.attention_window`: 512\n",
      "Input ids are automatically padded from 906 to 1024 to be a multiple of `config.attention_window`: 512\n",
      "Input ids are automatically padded from 185 to 512 to be a multiple of `config.attention_window`: 512\n",
      "1431it [04:41,  8.23s/it]Input ids are automatically padded from 996 to 1024 to be a multiple of `config.attention_window`: 512\n",
      "Input ids are automatically padded from 1005 to 1024 to be a multiple of `config.attention_window`: 512\n",
      "Input ids are automatically padded from 275 to 512 to be a multiple of `config.attention_window`: 512\n",
      "1432it [04:45,  6.96s/it]Input ids are automatically padded from 885 to 1024 to be a multiple of `config.attention_window`: 512\n",
      "Input ids are automatically padded from 843 to 1024 to be a multiple of `config.attention_window`: 512\n",
      "Input ids are automatically padded from 846 to 1024 to be a multiple of `config.attention_window`: 512\n",
      "Input ids are automatically padded from 853 to 1024 to be a multiple of `config.attention_window`: 512\n",
      "Input ids are automatically padded from 854 to 1024 to be a multiple of `config.attention_window`: 512\n",
      "Input ids are automatically padded from 223 to 512 to be a multiple of `config.attention_window`: 512\n",
      "1433it [04:50,  6.65s/it]Input ids are automatically padded from 822 to 1024 to be a multiple of `config.attention_window`: 512\n",
      "Input ids are automatically padded from 791 to 1024 to be a multiple of `config.attention_window`: 512\n",
      "Input ids are automatically padded from 907 to 1024 to be a multiple of `config.attention_window`: 512\n",
      "Input ids are automatically padded from 847 to 1024 to be a multiple of `config.attention_window`: 512\n",
      "Input ids are automatically padded from 903 to 1024 to be a multiple of `config.attention_window`: 512\n",
      "Input ids are automatically padded from 838 to 1024 to be a multiple of `config.attention_window`: 512\n",
      "Input ids are automatically padded from 798 to 1024 to be a multiple of `config.attention_window`: 512\n",
      "Input ids are automatically padded from 868 to 1024 to be a multiple of `config.attention_window`: 512\n",
      "Input ids are automatically padded from 959 to 1024 to be a multiple of `config.attention_window`: 512\n",
      "Input ids are automatically padded from 878 to 1024 to be a multiple of `config.attention_window`: 512\n",
      "Input ids are automatically padded from 808 to 1024 to be a multiple of `config.attention_window`: 512\n",
      "Input ids are automatically padded from 836 to 1024 to be a multiple of `config.attention_window`: 512\n",
      "Input ids are automatically padded from 806 to 1024 to be a multiple of `config.attention_window`: 512\n",
      "Input ids are automatically padded from 870 to 1024 to be a multiple of `config.attention_window`: 512\n",
      "Input ids are automatically padded from 825 to 1024 to be a multiple of `config.attention_window`: 512\n",
      "Input ids are automatically padded from 783 to 1024 to be a multiple of `config.attention_window`: 512\n",
      "Input ids are automatically padded from 916 to 1024 to be a multiple of `config.attention_window`: 512\n",
      "Input ids are automatically padded from 816 to 1024 to be a multiple of `config.attention_window`: 512\n",
      "Input ids are automatically padded from 833 to 1024 to be a multiple of `config.attention_window`: 512\n",
      "Input ids are automatically padded from 768 to 1024 to be a multiple of `config.attention_window`: 512\n",
      "Input ids are automatically padded from 821 to 1024 to be a multiple of `config.attention_window`: 512\n",
      "1434it [05:13, 11.09s/it]Input ids are automatically padded from 827 to 1024 to be a multiple of `config.attention_window`: 512\n",
      "Input ids are automatically padded from 1505 to 1536 to be a multiple of `config.attention_window`: 512\n",
      "Input ids are automatically padded from 471 to 512 to be a multiple of `config.attention_window`: 512\n",
      "1435it [05:20,  9.85s/it]Input ids are automatically padded from 46 to 512 to be a multiple of `config.attention_window`: 512\n",
      "1436it [05:20,  7.16s/it]Input ids are automatically padded from 1110 to 1536 to be a multiple of `config.attention_window`: 512\n",
      "Input ids are automatically padded from 1001 to 1024 to be a multiple of `config.attention_window`: 512\n",
      "1437it [05:36,  9.68s/it]Input ids are automatically padded from 852 to 1024 to be a multiple of `config.attention_window`: 512\n",
      "Input ids are automatically padded from 898 to 1024 to be a multiple of `config.attention_window`: 512\n",
      "Input ids are automatically padded from 876 to 1024 to be a multiple of `config.attention_window`: 512\n",
      "Input ids are automatically padded from 893 to 1024 to be a multiple of `config.attention_window`: 512\n",
      "Input ids are automatically padded from 36 to 512 to be a multiple of `config.attention_window`: 512\n",
      "1438it [05:46,  9.80s/it]Input ids are automatically padded from 828 to 1024 to be a multiple of `config.attention_window`: 512\n",
      "Input ids are automatically padded from 881 to 1024 to be a multiple of `config.attention_window`: 512\n",
      "Input ids are automatically padded from 859 to 1024 to be a multiple of `config.attention_window`: 512\n",
      "Input ids are automatically padded from 848 to 1024 to be a multiple of `config.attention_window`: 512\n",
      "Input ids are automatically padded from 849 to 1024 to be a multiple of `config.attention_window`: 512\n",
      "Input ids are automatically padded from 820 to 1024 to be a multiple of `config.attention_window`: 512\n",
      "Input ids are automatically padded from 867 to 1024 to be a multiple of `config.attention_window`: 512\n",
      "Input ids are automatically padded from 851 to 1024 to be a multiple of `config.attention_window`: 512\n",
      "Input ids are automatically padded from 845 to 1024 to be a multiple of `config.attention_window`: 512\n",
      "Input ids are automatically padded from 793 to 1024 to be a multiple of `config.attention_window`: 512\n",
      "Input ids are automatically padded from 790 to 1024 to be a multiple of `config.attention_window`: 512\n",
      "Input ids are automatically padded from 527 to 1024 to be a multiple of `config.attention_window`: 512\n",
      "1439it [06:05, 12.55s/it]Input ids are automatically padded from 1272 to 1536 to be a multiple of `config.attention_window`: 512\n",
      "Input ids are automatically padded from 1210 to 1536 to be a multiple of `config.attention_window`: 512\n",
      "Input ids are automatically padded from 1102 to 1536 to be a multiple of `config.attention_window`: 512\n",
      "Input ids are automatically padded from 1458 to 1536 to be a multiple of `config.attention_window`: 512\n",
      "Input ids are automatically padded from 1433 to 1536 to be a multiple of `config.attention_window`: 512\n",
      "Input ids are automatically padded from 1391 to 1536 to be a multiple of `config.attention_window`: 512\n",
      "Input ids are automatically padded from 1315 to 1536 to be a multiple of `config.attention_window`: 512\n",
      "Input ids are automatically padded from 1575 to 2048 to be a multiple of `config.attention_window`: 512\n",
      "Input ids are automatically padded from 1510 to 1536 to be a multiple of `config.attention_window`: 512\n",
      "1440it [06:13, 10.95s/it]Input ids are automatically padded from 988 to 1024 to be a multiple of `config.attention_window`: 512\n",
      "Input ids are automatically padded from 1012 to 1024 to be a multiple of `config.attention_window`: 512\n",
      "Input ids are automatically padded from 1011 to 1024 to be a multiple of `config.attention_window`: 512\n",
      "1441it [06:25, 11.32s/it]Input ids are automatically padded from 1177 to 1536 to be a multiple of `config.attention_window`: 512\n",
      "Input ids are automatically padded from 1197 to 1536 to be a multiple of `config.attention_window`: 512\n",
      "Input ids are automatically padded from 612 to 1024 to be a multiple of `config.attention_window`: 512\n",
      "1442it [06:30,  9.44s/it]Input ids are automatically padded from 41 to 512 to be a multiple of `config.attention_window`: 512\n",
      "1443it [06:45, 11.26s/it]Input ids are automatically padded from 57 to 512 to be a multiple of `config.attention_window`: 512\n",
      "1444it [06:55, 10.68s/it]Input ids are automatically padded from 635 to 1024 to be a multiple of `config.attention_window`: 512\n",
      "1445it [07:10, 12.12s/it]Input ids are automatically padded from 1519 to 1536 to be a multiple of `config.attention_window`: 512\n",
      "Input ids are automatically padded from 1461 to 1536 to be a multiple of `config.attention_window`: 512\n",
      "Input ids are automatically padded from 304 to 512 to be a multiple of `config.attention_window`: 512\n",
      "1446it [07:12,  9.13s/it]Input ids are automatically padded from 642 to 1024 to be a multiple of `config.attention_window`: 512\n",
      "1447it [07:16,  7.43s/it]Input ids are automatically padded from 356 to 512 to be a multiple of `config.attention_window`: 512\n",
      "1448it [07:22,  7.08s/it]Input ids are automatically padded from 909 to 1024 to be a multiple of `config.attention_window`: 512\n",
      "Input ids are automatically padded from 374 to 512 to be a multiple of `config.attention_window`: 512\n",
      "1449it [07:27,  6.61s/it]Input ids are automatically padded from 1141 to 1536 to be a multiple of `config.attention_window`: 512\n",
      "Input ids are automatically padded from 1174 to 1536 to be a multiple of `config.attention_window`: 512\n",
      "Input ids are automatically padded from 167 to 512 to be a multiple of `config.attention_window`: 512\n",
      "1450it [07:35,  6.97s/it]Input ids are automatically padded from 712 to 1024 to be a multiple of `config.attention_window`: 512\n",
      "1451it [07:40,  6.21s/it]Input ids are automatically padded from 308 to 512 to be a multiple of `config.attention_window`: 512\n",
      "1453it [08:01,  7.78s/it]Input ids are automatically padded from 721 to 1024 to be a multiple of `config.attention_window`: 512\n",
      "1455it [08:25,  9.59s/it]Input ids are automatically padded from 258 to 512 to be a multiple of `config.attention_window`: 512\n",
      "1456it [08:31,  8.29s/it]Input ids are automatically padded from 453 to 512 to be a multiple of `config.attention_window`: 512\n",
      "1457it [08:46, 10.23s/it]Input ids are automatically padded from 637 to 1024 to be a multiple of `config.attention_window`: 512\n",
      "1458it [08:47,  7.46s/it]Input ids are automatically padded from 213 to 512 to be a multiple of `config.attention_window`: 512\n",
      "1459it [08:47,  5.25s/it]Input ids are automatically padded from 747 to 1024 to be a multiple of `config.attention_window`: 512\n",
      "1460it [08:48,  4.02s/it]Input ids are automatically padded from 456 to 512 to be a multiple of `config.attention_window`: 512\n",
      "1461it [08:59,  6.18s/it]Input ids are automatically padded from 775 to 1024 to be a multiple of `config.attention_window`: 512\n",
      "1462it [09:00,  4.54s/it]Input ids are automatically padded from 104 to 512 to be a multiple of `config.attention_window`: 512\n",
      "1463it [09:01,  3.48s/it]Input ids are automatically padded from 402 to 512 to be a multiple of `config.attention_window`: 512\n",
      "1464it [09:18,  7.51s/it]Input ids are automatically padded from 1039 to 1536 to be a multiple of `config.attention_window`: 512\n",
      "Input ids are automatically padded from 766 to 1024 to be a multiple of `config.attention_window`: 512\n",
      "1466it [09:19,  4.07s/it]Input ids are automatically padded from 1252 to 1536 to be a multiple of `config.attention_window`: 512\n",
      "Input ids are automatically padded from 1119 to 1536 to be a multiple of `config.attention_window`: 512\n",
      "Input ids are automatically padded from 994 to 1024 to be a multiple of `config.attention_window`: 512\n",
      "Input ids are automatically padded from 1486 to 1536 to be a multiple of `config.attention_window`: 512\n",
      "Input ids are automatically padded from 1836 to 2048 to be a multiple of `config.attention_window`: 512\n",
      "Input ids are automatically padded from 1526 to 1536 to be a multiple of `config.attention_window`: 512\n",
      "1467it [09:34,  7.44s/it]Input ids are automatically padded from 1132 to 1536 to be a multiple of `config.attention_window`: 512\n",
      "Input ids are automatically padded from 615 to 1024 to be a multiple of `config.attention_window`: 512\n",
      "1469it [09:41,  5.03s/it]Input ids are automatically padded from 691 to 1024 to be a multiple of `config.attention_window`: 512\n",
      "1470it [09:44,  4.58s/it]Input ids are automatically padded from 1266 to 1536 to be a multiple of `config.attention_window`: 512\n",
      "Input ids are automatically padded from 631 to 1024 to be a multiple of `config.attention_window`: 512\n",
      "1471it [09:53,  5.74s/it]Input ids are automatically padded from 596 to 1024 to be a multiple of `config.attention_window`: 512\n",
      "1472it [10:12,  9.67s/it]Input ids are automatically padded from 450 to 512 to be a multiple of `config.attention_window`: 512\n",
      "1473it [10:15,  7.67s/it]Input ids are automatically padded from 692 to 1024 to be a multiple of `config.attention_window`: 512\n",
      "1475it [10:17,  4.26s/it]Input ids are automatically padded from 143 to 512 to be a multiple of `config.attention_window`: 512\n",
      "1476it [10:25,  5.37s/it]Input ids are automatically padded from 331 to 512 to be a multiple of `config.attention_window`: 512\n",
      "1477it [10:38,  7.65s/it]Input ids are automatically padded from 405 to 512 to be a multiple of `config.attention_window`: 512\n",
      "1478it [10:38,  5.39s/it]Input ids are automatically padded from 78 to 512 to be a multiple of `config.attention_window`: 512\n",
      "1479it [10:38,  4.02s/it]Input ids are automatically padded from 114 to 512 to be a multiple of `config.attention_window`: 512\n",
      "1481it [10:58,  6.92s/it]Input ids are automatically padded from 264 to 512 to be a multiple of `config.attention_window`: 512\n",
      "1482it [11:06,  7.16s/it]Input ids are automatically padded from 153 to 512 to be a multiple of `config.attention_window`: 512\n",
      "1483it [11:21,  9.50s/it]Input ids are automatically padded from 208 to 512 to be a multiple of `config.attention_window`: 512\n",
      "1485it [11:28,  6.47s/it]Input ids are automatically padded from 659 to 1024 to be a multiple of `config.attention_window`: 512\n",
      "1486it [11:28,  4.60s/it]Input ids are automatically padded from 797 to 1024 to be a multiple of `config.attention_window`: 512\n",
      "Input ids are automatically padded from 784 to 1024 to be a multiple of `config.attention_window`: 512\n",
      "Input ids are automatically padded from 1116 to 1536 to be a multiple of `config.attention_window`: 512\n",
      "Input ids are automatically padded from 423 to 512 to be a multiple of `config.attention_window`: 512\n",
      "1487it [11:50,  9.77s/it]Input ids are automatically padded from 673 to 1024 to be a multiple of `config.attention_window`: 512\n",
      "1488it [11:58,  9.31s/it]Input ids are automatically padded from 732 to 1024 to be a multiple of `config.attention_window`: 512\n",
      "1490it [12:12,  8.21s/it]Input ids are automatically padded from 662 to 1024 to be a multiple of `config.attention_window`: 512\n",
      "1492it [12:34,  9.99s/it]Input ids are automatically padded from 1194 to 1536 to be a multiple of `config.attention_window`: 512\n",
      "Input ids are automatically padded from 814 to 1024 to be a multiple of `config.attention_window`: 512\n",
      "Input ids are automatically padded from 830 to 1024 to be a multiple of `config.attention_window`: 512\n",
      "Input ids are automatically padded from 813 to 1024 to be a multiple of `config.attention_window`: 512\n",
      "Input ids are automatically padded from 811 to 1024 to be a multiple of `config.attention_window`: 512\n",
      "1493it [13:03, 15.73s/it]Input ids are automatically padded from 1104 to 1536 to be a multiple of `config.attention_window`: 512\n",
      "1494it [13:04, 11.17s/it]Input ids are automatically padded from 684 to 1024 to be a multiple of `config.attention_window`: 512\n",
      "1495it [13:25, 14.09s/it]Input ids are automatically padded from 1376 to 1536 to be a multiple of `config.attention_window`: 512\n",
      "Input ids are automatically padded from 786 to 1024 to be a multiple of `config.attention_window`: 512\n",
      "Input ids are automatically padded from 1238 to 1536 to be a multiple of `config.attention_window`: 512\n",
      "Input ids are automatically padded from 473 to 512 to be a multiple of `config.attention_window`: 512\n",
      "1496it [13:50, 17.43s/it]Input ids are automatically padded from 411 to 512 to be a multiple of `config.attention_window`: 512\n",
      "1497it [13:51, 12.39s/it]Input ids are automatically padded from 168 to 512 to be a multiple of `config.attention_window`: 512\n",
      "1498it [14:03, 12.27s/it]Input ids are automatically padded from 102 to 512 to be a multiple of `config.attention_window`: 512\n",
      "1499it [14:04,  8.89s/it]Input ids are automatically padded from 1138 to 1536 to be a multiple of `config.attention_window`: 512\n",
      "Input ids are automatically padded from 1122 to 1536 to be a multiple of `config.attention_window`: 512\n",
      "Input ids are automatically padded from 1113 to 1536 to be a multiple of `config.attention_window`: 512\n",
      "Input ids are automatically padded from 101 to 512 to be a multiple of `config.attention_window`: 512\n",
      "1500it [14:24, 12.20s/it]Input ids are automatically padded from 1222 to 1536 to be a multiple of `config.attention_window`: 512\n",
      "Input ids are automatically padded from 1192 to 1536 to be a multiple of `config.attention_window`: 512\n",
      "1501it [14:39, 13.12s/it]Input ids are automatically padded from 1144 to 1536 to be a multiple of `config.attention_window`: 512\n",
      "Input ids are automatically padded from 30 to 512 to be a multiple of `config.attention_window`: 512\n",
      "1503it [14:57, 11.49s/it]Input ids are automatically padded from 21 to 512 to be a multiple of `config.attention_window`: 512\n",
      "1505it [15:07,  8.47s/it]Input ids are automatically padded from 624 to 1024 to be a multiple of `config.attention_window`: 512\n",
      "1506it [15:28, 12.41s/it]Input ids are automatically padded from 465 to 512 to be a multiple of `config.attention_window`: 512\n",
      "1507it [15:29,  8.81s/it]Input ids are automatically padded from 156 to 512 to be a multiple of `config.attention_window`: 512\n",
      "1509it [15:37,  6.90s/it]Input ids are automatically padded from 351 to 512 to be a multiple of `config.attention_window`: 512\n",
      "1510it [15:48,  7.86s/it]Input ids are automatically padded from 590 to 1024 to be a multiple of `config.attention_window`: 512\n",
      "1511it [16:08, 11.59s/it]Input ids are automatically padded from 1178 to 1536 to be a multiple of `config.attention_window`: 512\n",
      "Input ids are automatically padded from 1244 to 1536 to be a multiple of `config.attention_window`: 512\n",
      "Input ids are automatically padded from 1172 to 1536 to be a multiple of `config.attention_window`: 512\n",
      "Input ids are automatically padded from 1145 to 1536 to be a multiple of `config.attention_window`: 512\n",
      "Input ids are automatically padded from 498 to 512 to be a multiple of `config.attention_window`: 512\n",
      "1512it [16:23, 12.56s/it]Input ids are automatically padded from 763 to 1024 to be a multiple of `config.attention_window`: 512\n",
      "Input ids are automatically padded from 781 to 1024 to be a multiple of `config.attention_window`: 512\n",
      "Input ids are automatically padded from 780 to 1024 to be a multiple of `config.attention_window`: 512\n",
      "Input ids are automatically padded from 362 to 512 to be a multiple of `config.attention_window`: 512\n",
      "1513it [16:57, 19.14s/it]Input ids are automatically padded from 511 to 512 to be a multiple of `config.attention_window`: 512\n",
      "1514it [18:26, 40.18s/it]Input ids are automatically padded from 395 to 512 to be a multiple of `config.attention_window`: 512\n",
      "1515it [19:13, 42.00s/it]Input ids are automatically padded from 740 to 1024 to be a multiple of `config.attention_window`: 512\n",
      "Input ids are automatically padded from 769 to 1024 to be a multiple of `config.attention_window`: 512\n",
      "1516it [19:52, 41.31s/it]Input ids are automatically padded from 86 to 512 to be a multiple of `config.attention_window`: 512\n",
      "1517it [19:58, 30.70s/it]Input ids are automatically padded from 698 to 1024 to be a multiple of `config.attention_window`: 512\n",
      "1518it [20:13, 25.81s/it]Input ids are automatically padded from 748 to 1024 to be a multiple of `config.attention_window`: 512\n",
      "1519it [20:13, 18.15s/it]Input ids are automatically padded from 289 to 512 to be a multiple of `config.attention_window`: 512\n",
      "1520it [20:19, 14.36s/it]Input ids are automatically padded from 132 to 512 to be a multiple of `config.attention_window`: 512\n",
      "1522it [20:39, 11.34s/it]Input ids are automatically padded from 1260 to 1536 to be a multiple of `config.attention_window`: 512\n",
      "Input ids are automatically padded from 1262 to 1536 to be a multiple of `config.attention_window`: 512\n",
      "Input ids are automatically padded from 1142 to 1536 to be a multiple of `config.attention_window`: 512\n",
      "Input ids are automatically padded from 1231 to 1536 to be a multiple of `config.attention_window`: 512\n",
      "Input ids are automatically padded from 566 to 1024 to be a multiple of `config.attention_window`: 512\n",
      "1523it [21:01, 14.50s/it]Input ids are automatically padded from 1455 to 1536 to be a multiple of `config.attention_window`: 512\n",
      "Input ids are automatically padded from 1490 to 1536 to be a multiple of `config.attention_window`: 512\n",
      "Input ids are automatically padded from 1253 to 1536 to be a multiple of `config.attention_window`: 512\n",
      "Input ids are automatically padded from 454 to 512 to be a multiple of `config.attention_window`: 512\n",
      "1524it [21:23, 16.74s/it]Input ids are automatically padded from 182 to 512 to be a multiple of `config.attention_window`: 512\n",
      "1525it [21:28, 13.30s/it]Input ids are automatically padded from 205 to 512 to be a multiple of `config.attention_window`: 512\n",
      "1526it [21:33, 10.71s/it]Input ids are automatically padded from 1134 to 1536 to be a multiple of `config.attention_window`: 512\n",
      "Input ids are automatically padded from 1114 to 1536 to be a multiple of `config.attention_window`: 512\n",
      "1528it [21:41,  7.08s/it]Input ids are automatically padded from 137 to 512 to be a multiple of `config.attention_window`: 512\n",
      "1529it [21:50,  7.63s/it]Input ids are automatically padded from 1184 to 1536 to be a multiple of `config.attention_window`: 512\n",
      "Input ids are automatically padded from 1311 to 1536 to be a multiple of `config.attention_window`: 512\n",
      "Input ids are automatically padded from 656 to 1024 to be a multiple of `config.attention_window`: 512\n",
      "1530it [22:22, 15.08s/it]Input ids are automatically padded from 767 to 1024 to be a multiple of `config.attention_window`: 512\n",
      "Input ids are automatically padded from 131 to 512 to be a multiple of `config.attention_window`: 512\n",
      "1531it [22:34, 13.90s/it]Input ids are automatically padded from 1424 to 1536 to be a multiple of `config.attention_window`: 512\n",
      "Input ids are automatically padded from 1186 to 1536 to be a multiple of `config.attention_window`: 512\n",
      "Input ids are automatically padded from 1205 to 1536 to be a multiple of `config.attention_window`: 512\n",
      "Input ids are automatically padded from 1249 to 1536 to be a multiple of `config.attention_window`: 512\n",
      "Input ids are automatically padded from 1280 to 1536 to be a multiple of `config.attention_window`: 512\n",
      "Input ids are automatically padded from 1273 to 1536 to be a multiple of `config.attention_window`: 512\n",
      "Input ids are automatically padded from 1220 to 1536 to be a multiple of `config.attention_window`: 512\n",
      "Input ids are automatically padded from 1207 to 1536 to be a multiple of `config.attention_window`: 512\n",
      "Input ids are automatically padded from 1225 to 1536 to be a multiple of `config.attention_window`: 512\n",
      "Input ids are automatically padded from 1155 to 1536 to be a multiple of `config.attention_window`: 512\n",
      "Input ids are automatically padded from 1432 to 1536 to be a multiple of `config.attention_window`: 512\n",
      "Input ids are automatically padded from 1288 to 1536 to be a multiple of `config.attention_window`: 512\n",
      "Input ids are automatically padded from 1446 to 1536 to be a multiple of `config.attention_window`: 512\n",
      "Input ids are automatically padded from 1612 to 2048 to be a multiple of `config.attention_window`: 512\n",
      "Input ids are automatically padded from 1516 to 1536 to be a multiple of `config.attention_window`: 512\n",
      "Input ids are automatically padded from 1255 to 1536 to be a multiple of `config.attention_window`: 512\n",
      "1532it [22:58, 17.09s/it]Input ids are automatically padded from 82 to 512 to be a multiple of `config.attention_window`: 512\n",
      "1533it [23:10, 15.57s/it]Input ids are automatically padded from 455 to 512 to be a multiple of `config.attention_window`: 512\n",
      "1534it [23:11, 11.07s/it]Input ids are automatically padded from 381 to 512 to be a multiple of `config.attention_window`: 512\n",
      "1535it [23:11,  7.78s/it]Input ids are automatically padded from 1123 to 1536 to be a multiple of `config.attention_window`: 512\n",
      "Input ids are automatically padded from 1199 to 1536 to be a multiple of `config.attention_window`: 512\n",
      "Input ids are automatically padded from 1185 to 1536 to be a multiple of `config.attention_window`: 512\n",
      "Input ids are automatically padded from 98 to 512 to be a multiple of `config.attention_window`: 512\n",
      "1536it [23:22,  8.88s/it]Input ids are automatically padded from 676 to 1024 to be a multiple of `config.attention_window`: 512\n",
      "1537it [23:23,  6.46s/it]Input ids are automatically padded from 256 to 512 to be a multiple of `config.attention_window`: 512\n",
      "1538it [23:32,  7.25s/it]Input ids are automatically padded from 1405 to 1536 to be a multiple of `config.attention_window`: 512\n",
      "Input ids are automatically padded from 669 to 1024 to be a multiple of `config.attention_window`: 512\n",
      "1539it [23:38,  6.71s/it]Input ids are automatically padded from 668 to 1024 to be a multiple of `config.attention_window`: 512\n",
      "1540it [23:42,  6.07s/it]Input ids are automatically padded from 546 to 1024 to be a multiple of `config.attention_window`: 512\n",
      "1541it [23:48,  5.96s/it]Input ids are automatically padded from 89 to 512 to be a multiple of `config.attention_window`: 512\n",
      "1542it [24:05,  9.35s/it]Input ids are automatically padded from 744 to 1024 to be a multiple of `config.attention_window`: 512\n",
      "1544it [24:12,  6.67s/it]Input ids are automatically padded from 752 to 1024 to be a multiple of `config.attention_window`: 512\n",
      "Input ids are automatically padded from 240 to 512 to be a multiple of `config.attention_window`: 512\n",
      "1545it [24:17,  5.98s/it]Input ids are automatically padded from 571 to 1024 to be a multiple of `config.attention_window`: 512\n",
      "1546it [24:27,  7.32s/it]Input ids are automatically padded from 644 to 1024 to be a multiple of `config.attention_window`: 512\n",
      "1547it [24:28,  5.33s/it]Input ids are automatically padded from 350 to 512 to be a multiple of `config.attention_window`: 512\n",
      "1548it [24:28,  3.77s/it]Input ids are automatically padded from 301 to 512 to be a multiple of `config.attention_window`: 512\n",
      "1549it [24:29,  2.88s/it]Input ids are automatically padded from 1156 to 1536 to be a multiple of `config.attention_window`: 512\n",
      "Input ids are automatically padded from 1227 to 1536 to be a multiple of `config.attention_window`: 512\n",
      "Input ids are automatically padded from 1368 to 1536 to be a multiple of `config.attention_window`: 512\n",
      "Input ids are automatically padded from 1316 to 1536 to be a multiple of `config.attention_window`: 512\n",
      "Input ids are automatically padded from 1201 to 1536 to be a multiple of `config.attention_window`: 512\n",
      "Input ids are automatically padded from 1169 to 1536 to be a multiple of `config.attention_window`: 512\n",
      "Input ids are automatically padded from 1193 to 1536 to be a multiple of `config.attention_window`: 512\n",
      "Input ids are automatically padded from 1157 to 1536 to be a multiple of `config.attention_window`: 512\n",
      "Input ids are automatically padded from 1124 to 1536 to be a multiple of `config.attention_window`: 512\n",
      "Input ids are automatically padded from 1212 to 1536 to be a multiple of `config.attention_window`: 512\n",
      "1550it [25:00, 11.54s/it]Input ids are automatically padded from 1235 to 1536 to be a multiple of `config.attention_window`: 512\n",
      "Input ids are automatically padded from 1302 to 1536 to be a multiple of `config.attention_window`: 512\n",
      "Input ids are automatically padded from 1278 to 1536 to be a multiple of `config.attention_window`: 512\n",
      "Input ids are automatically padded from 1340 to 1536 to be a multiple of `config.attention_window`: 512\n",
      "Input ids are automatically padded from 1293 to 1536 to be a multiple of `config.attention_window`: 512\n",
      "Input ids are automatically padded from 1256 to 1536 to be a multiple of `config.attention_window`: 512\n",
      "Input ids are automatically padded from 1346 to 1536 to be a multiple of `config.attention_window`: 512\n",
      "Input ids are automatically padded from 1286 to 1536 to be a multiple of `config.attention_window`: 512\n",
      "Input ids are automatically padded from 1309 to 1536 to be a multiple of `config.attention_window`: 512\n",
      "Input ids are automatically padded from 1326 to 1536 to be a multiple of `config.attention_window`: 512\n",
      "Input ids are automatically padded from 1351 to 1536 to be a multiple of `config.attention_window`: 512\n",
      "Input ids are automatically padded from 1335 to 1536 to be a multiple of `config.attention_window`: 512\n",
      "Input ids are automatically padded from 1327 to 1536 to be a multiple of `config.attention_window`: 512\n",
      "Input ids are automatically padded from 1306 to 1536 to be a multiple of `config.attention_window`: 512\n",
      "Input ids are automatically padded from 1312 to 1536 to be a multiple of `config.attention_window`: 512\n",
      "Input ids are automatically padded from 1300 to 1536 to be a multiple of `config.attention_window`: 512\n",
      "Input ids are automatically padded from 1322 to 1536 to be a multiple of `config.attention_window`: 512\n",
      "Input ids are automatically padded from 1317 to 1536 to be a multiple of `config.attention_window`: 512\n",
      "Input ids are automatically padded from 1342 to 1536 to be a multiple of `config.attention_window`: 512\n",
      "Input ids are automatically padded from 1373 to 1536 to be a multiple of `config.attention_window`: 512\n",
      "Input ids are automatically padded from 1216 to 1536 to be a multiple of `config.attention_window`: 512\n",
      "Input ids are automatically padded from 1303 to 1536 to be a multiple of `config.attention_window`: 512\n",
      "Input ids are automatically padded from 1183 to 1536 to be a multiple of `config.attention_window`: 512\n",
      "Input ids are automatically padded from 1284 to 1536 to be a multiple of `config.attention_window`: 512\n",
      "Input ids are automatically padded from 1324 to 1536 to be a multiple of `config.attention_window`: 512\n",
      "Input ids are automatically padded from 1237 to 1536 to be a multiple of `config.attention_window`: 512\n",
      "Input ids are automatically padded from 1282 to 1536 to be a multiple of `config.attention_window`: 512\n",
      "Input ids are automatically padded from 1313 to 1536 to be a multiple of `config.attention_window`: 512\n",
      "Input ids are automatically padded from 1298 to 1536 to be a multiple of `config.attention_window`: 512\n",
      "Input ids are automatically padded from 1518 to 1536 to be a multiple of `config.attention_window`: 512\n",
      "Input ids are automatically padded from 1161 to 1536 to be a multiple of `config.attention_window`: 512\n",
      "Input ids are automatically padded from 179 to 512 to be a multiple of `config.attention_window`: 512\n",
      "1551it [25:33, 17.88s/it]Input ids are automatically padded from 113 to 512 to be a multiple of `config.attention_window`: 512\n",
      "1552it [25:36, 13.39s/it]Input ids are automatically padded from 595 to 1024 to be a multiple of `config.attention_window`: 512\n",
      "1553it [25:53, 14.37s/it]Input ids are automatically padded from 140 to 512 to be a multiple of `config.attention_window`: 512\n",
      "1554it [25:55, 10.91s/it]Input ids are automatically padded from 382 to 512 to be a multiple of `config.attention_window`: 512\n",
      "1555it [25:56,  7.81s/it]Input ids are automatically padded from 56 to 512 to be a multiple of `config.attention_window`: 512\n",
      "1557it [26:20,  9.19s/it]Input ids are automatically padded from 14 to 512 to be a multiple of `config.attention_window`: 512\n",
      "1558it [26:36, 11.06s/it]Input ids are automatically padded from 300 to 512 to be a multiple of `config.attention_window`: 512\n",
      "1559it [26:36,  8.00s/it]Input ids are automatically padded from 1196 to 1536 to be a multiple of `config.attention_window`: 512\n",
      "Input ids are automatically padded from 336 to 512 to be a multiple of `config.attention_window`: 512\n",
      "1560it [26:56, 11.37s/it]Input ids are automatically padded from 378 to 512 to be a multiple of `config.attention_window`: 512\n",
      "1561it [27:03, 10.09s/it]Input ids are automatically padded from 357 to 512 to be a multiple of `config.attention_window`: 512\n",
      "1563it [27:19,  9.77s/it]Input ids are automatically padded from 1208 to 1536 to be a multiple of `config.attention_window`: 512\n",
      "Input ids are automatically padded from 452 to 512 to be a multiple of `config.attention_window`: 512\n",
      "1564it [27:38, 12.49s/it]Input ids are automatically padded from 394 to 512 to be a multiple of `config.attention_window`: 512\n",
      "1565it [27:41,  9.76s/it]Input ids are automatically padded from 1149 to 1536 to be a multiple of `config.attention_window`: 512\n",
      "1566it [27:46,  8.33s/it]Input ids are automatically padded from 694 to 1024 to be a multiple of `config.attention_window`: 512\n",
      "1567it [27:47,  5.97s/it]Input ids are automatically padded from 302 to 512 to be a multiple of `config.attention_window`: 512\n",
      "1569it [28:08,  7.85s/it]Input ids are automatically padded from 1305 to 1536 to be a multiple of `config.attention_window`: 512\n",
      "Input ids are automatically padded from 589 to 1024 to be a multiple of `config.attention_window`: 512\n",
      "1571it [28:26,  8.21s/it]Input ids are automatically padded from 1310 to 1536 to be a multiple of `config.attention_window`: 512\n",
      "Input ids are automatically padded from 1365 to 1536 to be a multiple of `config.attention_window`: 512\n",
      "Input ids are automatically padded from 1333 to 1536 to be a multiple of `config.attention_window`: 512\n",
      "Input ids are automatically padded from 1241 to 1536 to be a multiple of `config.attention_window`: 512\n",
      "1572it [28:36,  8.98s/it]Input ids are automatically padded from 776 to 1024 to be a multiple of `config.attention_window`: 512\n",
      "1573it [28:52, 10.80s/it]Input ids are automatically padded from 1248 to 1536 to be a multiple of `config.attention_window`: 512\n",
      "Input ids are automatically padded from 1359 to 1536 to be a multiple of `config.attention_window`: 512\n",
      "Input ids are automatically padded from 1408 to 1536 to be a multiple of `config.attention_window`: 512\n",
      "Input ids are automatically padded from 1448 to 1536 to be a multiple of `config.attention_window`: 512\n",
      "Input ids are automatically padded from 1422 to 1536 to be a multiple of `config.attention_window`: 512\n",
      "Input ids are automatically padded from 1397 to 1536 to be a multiple of `config.attention_window`: 512\n",
      "Input ids are automatically padded from 1456 to 1536 to be a multiple of `config.attention_window`: 512\n",
      "Input ids are automatically padded from 1463 to 1536 to be a multiple of `config.attention_window`: 512\n",
      "Input ids are automatically padded from 1308 to 1536 to be a multiple of `config.attention_window`: 512\n",
      "Input ids are automatically padded from 1375 to 1536 to be a multiple of `config.attention_window`: 512\n",
      "Input ids are automatically padded from 1413 to 1536 to be a multiple of `config.attention_window`: 512\n",
      "Input ids are automatically padded from 1239 to 1536 to be a multiple of `config.attention_window`: 512\n",
      "Input ids are automatically padded from 1441 to 1536 to be a multiple of `config.attention_window`: 512\n",
      "Input ids are automatically padded from 1378 to 1536 to be a multiple of `config.attention_window`: 512\n",
      "Input ids are automatically padded from 1402 to 1536 to be a multiple of `config.attention_window`: 512\n",
      "Input ids are automatically padded from 1363 to 1536 to be a multiple of `config.attention_window`: 512\n",
      "Input ids are automatically padded from 1418 to 1536 to be a multiple of `config.attention_window`: 512\n",
      "Input ids are automatically padded from 1296 to 1536 to be a multiple of `config.attention_window`: 512\n",
      "Input ids are automatically padded from 1224 to 1536 to be a multiple of `config.attention_window`: 512\n",
      "Input ids are automatically padded from 1417 to 1536 to be a multiple of `config.attention_window`: 512\n",
      "Input ids are automatically padded from 1353 to 1536 to be a multiple of `config.attention_window`: 512\n",
      "1575it [29:22, 12.11s/it]Input ids are automatically padded from 212 to 512 to be a multiple of `config.attention_window`: 512\n",
      "1576it [29:22,  8.61s/it]Input ids are automatically padded from 278 to 512 to be a multiple of `config.attention_window`: 512\n",
      "1578it [29:28,  5.80s/it]Input ids are automatically padded from 543 to 1024 to be a multiple of `config.attention_window`: 512\n",
      "1579it [29:29,  4.38s/it]Input ids are automatically padded from 63 to 512 to be a multiple of `config.attention_window`: 512\n",
      "1580it [29:32,  3.95s/it]Input ids are automatically padded from 1265 to 1536 to be a multiple of `config.attention_window`: 512\n",
      "Input ids are automatically padded from 1217 to 1536 to be a multiple of `config.attention_window`: 512\n",
      "Input ids are automatically padded from 1128 to 1536 to be a multiple of `config.attention_window`: 512\n",
      "Input ids are automatically padded from 1264 to 1536 to be a multiple of `config.attention_window`: 512\n",
      "Input ids are automatically padded from 1195 to 1536 to be a multiple of `config.attention_window`: 512\n",
      "Input ids are automatically padded from 1323 to 1536 to be a multiple of `config.attention_window`: 512\n",
      "Input ids are automatically padded from 1357 to 1536 to be a multiple of `config.attention_window`: 512\n",
      "Input ids are automatically padded from 1307 to 1536 to be a multiple of `config.attention_window`: 512\n",
      "Input ids are automatically padded from 1268 to 1536 to be a multiple of `config.attention_window`: 512\n",
      "Input ids are automatically padded from 1299 to 1536 to be a multiple of `config.attention_window`: 512\n",
      "Input ids are automatically padded from 1320 to 1536 to be a multiple of `config.attention_window`: 512\n",
      "Input ids are automatically padded from 1267 to 1536 to be a multiple of `config.attention_window`: 512\n",
      "Input ids are automatically padded from 1221 to 1536 to be a multiple of `config.attention_window`: 512\n",
      "Input ids are automatically padded from 1274 to 1536 to be a multiple of `config.attention_window`: 512\n",
      "1582it [29:55,  6.78s/it]Input ids are automatically padded from 678 to 1024 to be a multiple of `config.attention_window`: 512\n",
      "Input ids are automatically padded from 785 to 1024 to be a multiple of `config.attention_window`: 512\n",
      "Input ids are automatically padded from 779 to 1024 to be a multiple of `config.attention_window`: 512\n",
      "Input ids are automatically padded from 751 to 1024 to be a multiple of `config.attention_window`: 512\n",
      "Input ids are automatically padded from 787 to 1024 to be a multiple of `config.attention_window`: 512\n",
      "Input ids are automatically padded from 731 to 1024 to be a multiple of `config.attention_window`: 512\n",
      "1583it [30:55, 22.78s/it]Input ids are automatically padded from 638 to 1024 to be a multiple of `config.attention_window`: 512\n",
      "1584it [30:59, 17.08s/it]Input ids are automatically padded from 426 to 512 to be a multiple of `config.attention_window`: 512\n",
      "1587it [31:17, 10.75s/it]Input ids are automatically padded from 795 to 1024 to be a multiple of `config.attention_window`: 512\n",
      "1588it [31:31, 11.63s/it]Input ids are automatically padded from 1187 to 1536 to be a multiple of `config.attention_window`: 512\n",
      "Input ids are automatically padded from 342 to 512 to be a multiple of `config.attention_window`: 512\n",
      "1590it [31:59, 11.65s/it]Input ids are automatically padded from 123 to 512 to be a multiple of `config.attention_window`: 512\n",
      "1591it [32:24, 15.64s/it]Input ids are automatically padded from 646 to 1024 to be a multiple of `config.attention_window`: 512\n",
      "1592it [32:29, 12.38s/it]Input ids are automatically padded from 161 to 512 to be a multiple of `config.attention_window`: 512\n",
      "1593it [32:42, 12.71s/it]Input ids are automatically padded from 414 to 512 to be a multiple of `config.attention_window`: 512\n",
      "1594it [32:44,  9.26s/it]Input ids are automatically padded from 150 to 512 to be a multiple of `config.attention_window`: 512\n",
      "1595it [32:44,  6.51s/it]Input ids are automatically padded from 1355 to 1536 to be a multiple of `config.attention_window`: 512\n",
      "Input ids are automatically padded from 487 to 512 to be a multiple of `config.attention_window`: 512\n",
      "1597it [33:12,  9.73s/it]Input ids are automatically padded from 760 to 1024 to be a multiple of `config.attention_window`: 512\n",
      "Input ids are automatically padded from 16 to 512 to be a multiple of `config.attention_window`: 512\n",
      "1598it [33:36, 14.11s/it]Input ids are automatically padded from 666 to 1024 to be a multiple of `config.attention_window`: 512\n",
      "1601it [34:14, 13.87s/it]Input ids are automatically padded from 641 to 1024 to be a multiple of `config.attention_window`: 512\n",
      "1602it [34:30, 14.55s/it]Input ids are automatically padded from 191 to 512 to be a multiple of `config.attention_window`: 512\n",
      "1604it [34:46, 11.86s/it]Input ids are automatically padded from 577 to 1024 to be a multiple of `config.attention_window`: 512\n",
      "1606it [35:05, 10.84s/it]Input ids are automatically padded from 1131 to 1536 to be a multiple of `config.attention_window`: 512\n",
      "Input ids are automatically padded from 116 to 512 to be a multiple of `config.attention_window`: 512\n",
      "1607it [35:40, 18.29s/it]Input ids are automatically padded from 152 to 512 to be a multiple of `config.attention_window`: 512\n",
      "1609it [35:47, 10.38s/it]Input ids are automatically padded from 774 to 1024 to be a multiple of `config.attention_window`: 512\n",
      "1611it [36:03,  8.46s/it]Input ids are automatically padded from 346 to 512 to be a multiple of `config.attention_window`: 512\n",
      "1612it [36:12,  8.71s/it]Input ids are automatically padded from 1240 to 1536 to be a multiple of `config.attention_window`: 512\n",
      "Input ids are automatically padded from 1219 to 1536 to be a multiple of `config.attention_window`: 512\n",
      "Input ids are automatically padded from 603 to 1024 to be a multiple of `config.attention_window`: 512\n",
      "1613it [36:32, 12.11s/it]Input ids are automatically padded from 578 to 1024 to be a multiple of `config.attention_window`: 512\n",
      "1617it [36:49,  5.61s/it]Input ids are automatically padded from 556 to 1024 to be a multiple of `config.attention_window`: 512\n",
      "1619it [36:53,  3.68s/it]Input ids are automatically padded from 327 to 512 to be a multiple of `config.attention_window`: 512\n",
      "1620it [37:00,  4.92s/it]Input ids are automatically padded from 1802 to 2048 to be a multiple of `config.attention_window`: 512\n",
      "Input ids are automatically padded from 1447 to 1536 to be a multiple of `config.attention_window`: 512\n",
      "Input ids are automatically padded from 1173 to 1536 to be a multiple of `config.attention_window`: 512\n",
      "Input ids are automatically padded from 1369 to 1536 to be a multiple of `config.attention_window`: 512\n",
      "Input ids are automatically padded from 1204 to 1536 to be a multiple of `config.attention_window`: 512\n",
      "Input ids are automatically padded from 1162 to 1536 to be a multiple of `config.attention_window`: 512\n",
      "1621it [37:18,  8.85s/it]Input ids are automatically padded from 446 to 512 to be a multiple of `config.attention_window`: 512\n",
      "1623it [37:47, 11.76s/it]Input ids are automatically padded from 306 to 512 to be a multiple of `config.attention_window`: 512\n",
      "1624it [37:51,  9.60s/it]Input ids are automatically padded from 442 to 512 to be a multiple of `config.attention_window`: 512\n",
      "1626it [37:55,  5.82s/it]Input ids are automatically padded from 1179 to 1536 to be a multiple of `config.attention_window`: 512\n",
      "Input ids are automatically padded from 1165 to 1536 to be a multiple of `config.attention_window`: 512\n",
      "Input ids are automatically padded from 1531 to 1536 to be a multiple of `config.attention_window`: 512\n",
      "Input ids are automatically padded from 1133 to 1536 to be a multiple of `config.attention_window`: 512\n",
      "1627it [38:17, 10.70s/it]Input ids are automatically padded from 810 to 1024 to be a multiple of `config.attention_window`: 512\n",
      "Input ids are automatically padded from 474 to 512 to be a multiple of `config.attention_window`: 512\n",
      "1628it [38:36, 13.03s/it]Input ids are automatically padded from 762 to 1024 to be a multiple of `config.attention_window`: 512\n",
      "Input ids are automatically padded from 772 to 1024 to be a multiple of `config.attention_window`: 512\n",
      "Input ids are automatically padded from 777 to 1024 to be a multiple of `config.attention_window`: 512\n",
      "Input ids are automatically padded from 770 to 1024 to be a multiple of `config.attention_window`: 512\n",
      "1629it [38:57, 15.44s/it]Input ids are automatically padded from 710 to 1024 to be a multiple of `config.attention_window`: 512\n",
      "1631it [39:11, 11.78s/it]Input ids are automatically padded from 717 to 1024 to be a multiple of `config.attention_window`: 512\n",
      "1633it [39:13,  6.11s/it]Input ids are automatically padded from 283 to 512 to be a multiple of `config.attention_window`: 512\n",
      "1634it [39:13,  4.46s/it]Input ids are automatically padded from 263 to 512 to be a multiple of `config.attention_window`: 512\n",
      "1635it [39:20,  5.11s/it]Input ids are automatically padded from 100 to 512 to be a multiple of `config.attention_window`: 512\n",
      "1636it [39:20,  3.70s/it]Input ids are automatically padded from 559 to 1024 to be a multiple of `config.attention_window`: 512\n",
      "1637it [39:21,  2.66s/it]Input ids are automatically padded from 188 to 512 to be a multiple of `config.attention_window`: 512\n",
      "1638it [39:34,  5.82s/it]Input ids are automatically padded from 480 to 512 to be a multiple of `config.attention_window`: 512\n",
      "1639it [39:34,  4.11s/it]Input ids are automatically padded from 515 to 1024 to be a multiple of `config.attention_window`: 512\n",
      "1640it [39:34,  2.94s/it]Input ids are automatically padded from 415 to 512 to be a multiple of `config.attention_window`: 512\n",
      "1641it [39:35,  2.23s/it]Input ids are automatically padded from 38 to 512 to be a multiple of `config.attention_window`: 512\n",
      "1644it [39:40,  2.28s/it]Input ids are automatically padded from 587 to 1024 to be a multiple of `config.attention_window`: 512\n",
      "1645it [39:41,  1.67s/it]Input ids are automatically padded from 702 to 1024 to be a multiple of `config.attention_window`: 512\n",
      "1646it [39:48,  3.32s/it]Input ids are automatically padded from 1370 to 1536 to be a multiple of `config.attention_window`: 512\n",
      "1647it [40:15, 10.41s/it]Input ids are automatically padded from 750 to 1024 to be a multiple of `config.attention_window`: 512\n",
      "1648it [40:25, 10.50s/it]Input ids are automatically padded from 482 to 512 to be a multiple of `config.attention_window`: 512\n",
      "1650it [40:29,  5.94s/it]Input ids are automatically padded from 1372 to 1536 to be a multiple of `config.attention_window`: 512\n",
      "Input ids are automatically padded from 619 to 1024 to be a multiple of `config.attention_window`: 512\n",
      "1652it [40:43,  6.08s/it]Input ids are automatically padded from 81 to 512 to be a multiple of `config.attention_window`: 512\n",
      "1653it [40:44,  4.48s/it]Input ids are automatically padded from 696 to 1024 to be a multiple of `config.attention_window`: 512\n",
      "1654it [40:48,  4.60s/it]Input ids are automatically padded from 1356 to 1536 to be a multiple of `config.attention_window`: 512\n",
      "Input ids are automatically padded from 1270 to 1536 to be a multiple of `config.attention_window`: 512\n",
      "Input ids are automatically padded from 1471 to 1536 to be a multiple of `config.attention_window`: 512\n",
      "Input ids are automatically padded from 1477 to 1536 to be a multiple of `config.attention_window`: 512\n",
      "Input ids are automatically padded from 1460 to 1536 to be a multiple of `config.attention_window`: 512\n",
      "Input ids are automatically padded from 1381 to 1536 to be a multiple of `config.attention_window`: 512\n",
      "Input ids are automatically padded from 1439 to 1536 to be a multiple of `config.attention_window`: 512\n",
      "Input ids are automatically padded from 1412 to 1536 to be a multiple of `config.attention_window`: 512\n",
      "Input ids are automatically padded from 1143 to 1536 to be a multiple of `config.attention_window`: 512\n",
      "Input ids are automatically padded from 1482 to 1536 to be a multiple of `config.attention_window`: 512\n",
      "Input ids are automatically padded from 1453 to 1536 to be a multiple of `config.attention_window`: 512\n",
      "Input ids are automatically padded from 1501 to 1536 to be a multiple of `config.attention_window`: 512\n",
      "Input ids are automatically padded from 1481 to 1536 to be a multiple of `config.attention_window`: 512\n",
      "Input ids are automatically padded from 1427 to 1536 to be a multiple of `config.attention_window`: 512\n",
      "Input ids are automatically padded from 1484 to 1536 to be a multiple of `config.attention_window`: 512\n",
      "Input ids are automatically padded from 1349 to 1536 to be a multiple of `config.attention_window`: 512\n",
      "Input ids are automatically padded from 1492 to 1536 to be a multiple of `config.attention_window`: 512\n",
      "Input ids are automatically padded from 1502 to 1536 to be a multiple of `config.attention_window`: 512\n",
      "Input ids are automatically padded from 1411 to 1536 to be a multiple of `config.attention_window`: 512\n",
      "Input ids are automatically padded from 1336 to 1536 to be a multiple of `config.attention_window`: 512\n",
      "Input ids are automatically padded from 1457 to 1536 to be a multiple of `config.attention_window`: 512\n",
      "Input ids are automatically padded from 1400 to 1536 to be a multiple of `config.attention_window`: 512\n",
      "Input ids are automatically padded from 1232 to 1536 to be a multiple of `config.attention_window`: 512\n",
      "Input ids are automatically padded from 1366 to 1536 to be a multiple of `config.attention_window`: 512\n",
      "Input ids are automatically padded from 1344 to 1536 to be a multiple of `config.attention_window`: 512\n",
      "Input ids are automatically padded from 1319 to 1536 to be a multiple of `config.attention_window`: 512\n",
      "Input ids are automatically padded from 1399 to 1536 to be a multiple of `config.attention_window`: 512\n",
      "Input ids are automatically padded from 1428 to 1536 to be a multiple of `config.attention_window`: 512\n",
      "Input ids are automatically padded from 1386 to 1536 to be a multiple of `config.attention_window`: 512\n",
      "Input ids are automatically padded from 1347 to 1536 to be a multiple of `config.attention_window`: 512\n",
      "Input ids are automatically padded from 1287 to 1536 to be a multiple of `config.attention_window`: 512\n",
      "Input ids are automatically padded from 1506 to 1536 to be a multiple of `config.attention_window`: 512\n",
      "Input ids are automatically padded from 1285 to 1536 to be a multiple of `config.attention_window`: 512\n",
      "Input ids are automatically padded from 1371 to 1536 to be a multiple of `config.attention_window`: 512\n",
      "Input ids are automatically padded from 1401 to 1536 to be a multiple of `config.attention_window`: 512\n",
      "Input ids are automatically padded from 1328 to 1536 to be a multiple of `config.attention_window`: 512\n",
      "Input ids are automatically padded from 1410 to 1536 to be a multiple of `config.attention_window`: 512\n",
      "Input ids are automatically padded from 1396 to 1536 to be a multiple of `config.attention_window`: 512\n",
      "Input ids are automatically padded from 1279 to 1536 to be a multiple of `config.attention_window`: 512\n",
      "Input ids are automatically padded from 1394 to 1536 to be a multiple of `config.attention_window`: 512\n",
      "Input ids are automatically padded from 1250 to 1536 to be a multiple of `config.attention_window`: 512\n",
      "Input ids are automatically padded from 1385 to 1536 to be a multiple of `config.attention_window`: 512\n",
      "Input ids are automatically padded from 1236 to 1536 to be a multiple of `config.attention_window`: 512\n",
      "Input ids are automatically padded from 1289 to 1536 to be a multiple of `config.attention_window`: 512\n",
      "Input ids are automatically padded from 1352 to 1536 to be a multiple of `config.attention_window`: 512\n",
      "Input ids are automatically padded from 1419 to 1536 to be a multiple of `config.attention_window`: 512\n",
      "Input ids are automatically padded from 1421 to 1536 to be a multiple of `config.attention_window`: 512\n",
      "Input ids are automatically padded from 1377 to 1536 to be a multiple of `config.attention_window`: 512\n",
      "1655it [41:30, 15.74s/it]Input ids are automatically padded from 688 to 1024 to be a multiple of `config.attention_window`: 512\n",
      "1656it [41:40, 13.84s/it]Input ids are automatically padded from 133 to 512 to be a multiple of `config.attention_window`: 512\n",
      "1657it [41:47, 11.98s/it]Input ids are automatically padded from 436 to 512 to be a multiple of `config.attention_window`: 512\n",
      "1658it [41:51,  9.49s/it]Input ids are automatically padded from 186 to 512 to be a multiple of `config.attention_window`: 512\n",
      "1659it [41:56,  8.27s/it]Input ids are automatically padded from 704 to 1024 to be a multiple of `config.attention_window`: 512\n",
      "1660it [41:57,  5.86s/it]Input ids are automatically padded from 1164 to 1536 to be a multiple of `config.attention_window`: 512\n",
      "Input ids are automatically padded from 670 to 1024 to be a multiple of `config.attention_window`: 512\n",
      "1662it [42:52, 16.50s/it]Input ids are automatically padded from 633 to 1024 to be a multiple of `config.attention_window`: 512\n",
      "1663it [43:10, 17.02s/it]Input ids are automatically padded from 297 to 512 to be a multiple of `config.attention_window`: 512\n",
      "1664it [43:11, 12.15s/it]Input ids are automatically padded from 287 to 512 to be a multiple of `config.attention_window`: 512\n",
      "1665it [43:15,  9.61s/it]Input ids are automatically padded from 232 to 512 to be a multiple of `config.attention_window`: 512\n",
      "1666it [43:15,  6.83s/it]Input ids are automatically padded from 655 to 1024 to be a multiple of `config.attention_window`: 512\n",
      "1667it [43:28,  8.75s/it]Input ids are automatically padded from 1395 to 1536 to be a multiple of `config.attention_window`: 512\n",
      "Input ids are automatically padded from 1254 to 1536 to be a multiple of `config.attention_window`: 512\n",
      "Input ids are automatically padded from 1215 to 1536 to be a multiple of `config.attention_window`: 512\n",
      "Input ids are automatically padded from 1440 to 1536 to be a multiple of `config.attention_window`: 512\n",
      "Input ids are automatically padded from 1442 to 1536 to be a multiple of `config.attention_window`: 512\n",
      "Input ids are automatically padded from 1151 to 1536 to be a multiple of `config.attention_window`: 512\n",
      "Input ids are automatically padded from 1277 to 1536 to be a multiple of `config.attention_window`: 512\n",
      "Input ids are automatically padded from 1358 to 1536 to be a multiple of `config.attention_window`: 512\n",
      "Input ids are automatically padded from 1360 to 1536 to be a multiple of `config.attention_window`: 512\n",
      "Input ids are automatically padded from 1258 to 1536 to be a multiple of `config.attention_window`: 512\n",
      "Input ids are automatically padded from 1251 to 1536 to be a multiple of `config.attention_window`: 512\n",
      "Input ids are automatically padded from 1213 to 1536 to be a multiple of `config.attention_window`: 512\n",
      "Input ids are automatically padded from 1337 to 1536 to be a multiple of `config.attention_window`: 512\n",
      "Input ids are automatically padded from 1229 to 1536 to be a multiple of `config.attention_window`: 512\n",
      "Input ids are automatically padded from 1171 to 1536 to be a multiple of `config.attention_window`: 512\n",
      "Input ids are automatically padded from 1170 to 1536 to be a multiple of `config.attention_window`: 512\n",
      "Input ids are automatically padded from 1257 to 1536 to be a multiple of `config.attention_window`: 512\n",
      "Input ids are automatically padded from 1283 to 1536 to be a multiple of `config.attention_window`: 512\n",
      "1669it [45:05, 25.24s/it]Input ids are automatically padded from 139 to 512 to be a multiple of `config.attention_window`: 512\n",
      "1670it [45:11, 19.41s/it]Input ids are automatically padded from 97 to 512 to be a multiple of `config.attention_window`: 512\n",
      "1672it [46:01, 21.32s/it]Input ids are automatically padded from 271 to 512 to be a multiple of `config.attention_window`: 512\n",
      "1673it [46:01, 14.96s/it]Input ids are automatically padded from 652 to 1024 to be a multiple of `config.attention_window`: 512\n",
      "1674it [46:07, 12.30s/it]Input ids are automatically padded from 34 to 512 to be a multiple of `config.attention_window`: 512\n",
      "1675it [46:27, 14.56s/it]Input ids are automatically padded from 49 to 512 to be a multiple of `config.attention_window`: 512\n",
      "1676it [46:49, 16.72s/it]Input ids are automatically padded from 715 to 1024 to be a multiple of `config.attention_window`: 512\n",
      "1677it [47:07, 17.12s/it]Input ids are automatically padded from 672 to 1024 to be a multiple of `config.attention_window`: 512\n",
      "1678it [47:12, 13.46s/it]Input ids are automatically padded from 260 to 512 to be a multiple of `config.attention_window`: 512\n",
      "1679it [47:17, 11.06s/it]Input ids are automatically padded from 439 to 512 to be a multiple of `config.attention_window`: 512\n",
      "1680it [47:18,  7.85s/it]Input ids are automatically padded from 274 to 512 to be a multiple of `config.attention_window`: 512\n",
      "1681it [47:45, 13.65s/it]Input ids are automatically padded from 259 to 512 to be a multiple of `config.attention_window`: 512\n",
      "1682it [47:45,  9.77s/it]Input ids are automatically padded from 626 to 1024 to be a multiple of `config.attention_window`: 512\n",
      "1684it [47:55,  7.48s/it]Input ids are automatically padded from 399 to 512 to be a multiple of `config.attention_window`: 512\n",
      "1686it [48:17,  9.93s/it]Input ids are automatically padded from 621 to 1024 to be a multiple of `config.attention_window`: 512\n",
      "1687it [48:42, 14.35s/it]Input ids are automatically padded from 517 to 1024 to be a multiple of `config.attention_window`: 512\n",
      "1689it [48:58, 10.73s/it]Input ids are automatically padded from 211 to 512 to be a multiple of `config.attention_window`: 512\n",
      "1691it [49:03,  6.80s/it]Input ids are automatically padded from 290 to 512 to be a multiple of `config.attention_window`: 512\n",
      "1692it [49:07,  5.77s/it]Input ids are automatically padded from 1627 to 2048 to be a multiple of `config.attention_window`: 512\n",
      "Input ids are automatically padded from 1339 to 1536 to be a multiple of `config.attention_window`: 512\n",
      "Input ids are automatically padded from 412 to 512 to be a multiple of `config.attention_window`: 512\n",
      "1693it [49:39, 13.70s/it]Input ids are automatically padded from 700 to 1024 to be a multiple of `config.attention_window`: 512\n",
      "1695it [49:54, 10.82s/it]Input ids are automatically padded from 359 to 512 to be a multiple of `config.attention_window`: 512\n",
      "1696it [49:55,  7.81s/it]Input ids are automatically padded from 657 to 1024 to be a multiple of `config.attention_window`: 512\n",
      "1697it [50:11, 10.50s/it]Input ids are automatically padded from 664 to 1024 to be a multiple of `config.attention_window`: 512\n",
      "1699it [50:50, 14.49s/it]Input ids are automatically padded from 593 to 1024 to be a multiple of `config.attention_window`: 512\n",
      "1700it [51:02, 13.54s/it]Input ids are automatically padded from 400 to 512 to be a multiple of `config.attention_window`: 512\n",
      "1701it [51:11, 12.30s/it]Input ids are automatically padded from 523 to 1024 to be a multiple of `config.attention_window`: 512\n",
      "1703it [51:23,  8.81s/it]Input ids are automatically padded from 130 to 512 to be a multiple of `config.attention_window`: 512\n",
      "1705it [51:30,  6.60s/it]Input ids are automatically padded from 128 to 512 to be a multiple of `config.attention_window`: 512\n",
      "1706it [51:31,  4.75s/it]Input ids are automatically padded from 291 to 512 to be a multiple of `config.attention_window`: 512\n",
      "1707it [51:38,  5.37s/it]Input ids are automatically padded from 1135 to 1536 to be a multiple of `config.attention_window`: 512\n",
      "Input ids are automatically padded from 32 to 512 to be a multiple of `config.attention_window`: 512\n",
      "1708it [51:46,  6.30s/it]Input ids are automatically padded from 613 to 1024 to be a multiple of `config.attention_window`: 512\n",
      "1710it [51:51,  4.61s/it]Input ids are automatically padded from 496 to 512 to be a multiple of `config.attention_window`: 512\n",
      "1711it [51:52,  3.47s/it]Input ids are automatically padded from 170 to 512 to be a multiple of `config.attention_window`: 512\n",
      "1712it [52:01,  4.97s/it]Input ids are automatically padded from 176 to 512 to be a multiple of `config.attention_window`: 512\n",
      "1714it [52:03,  2.96s/it]Input ids are automatically padded from 1190 to 1536 to be a multiple of `config.attention_window`: 512\n",
      "Input ids are automatically padded from 75 to 512 to be a multiple of `config.attention_window`: 512\n",
      "1716it [52:17,  4.52s/it]Input ids are automatically padded from 486 to 512 to be a multiple of `config.attention_window`: 512\n",
      "1717it [52:17,  3.20s/it]Input ids are automatically padded from 741 to 1024 to be a multiple of `config.attention_window`: 512\n",
      "1718it [52:32,  6.64s/it]Input ids are automatically padded from 160 to 512 to be a multiple of `config.attention_window`: 512\n",
      "1719it [52:38,  6.28s/it]Input ids are automatically padded from 388 to 512 to be a multiple of `config.attention_window`: 512\n",
      "1721it [52:42,  4.49s/it]Input ids are automatically padded from 276 to 512 to be a multiple of `config.attention_window`: 512\n",
      "1725it [53:32, 11.06s/it]Input ids are automatically padded from 604 to 1024 to be a multiple of `config.attention_window`: 512\n",
      "1727it [54:01, 12.75s/it]Input ids are automatically padded from 443 to 512 to be a multiple of `config.attention_window`: 512\n",
      "1728it [54:14, 12.82s/it]Input ids are automatically padded from 460 to 512 to be a multiple of `config.attention_window`: 512\n",
      "1729it [54:14,  9.10s/it]Input ids are automatically padded from 243 to 512 to be a multiple of `config.attention_window`: 512\n",
      "1730it [54:22,  8.67s/it]Input ids are automatically padded from 385 to 512 to be a multiple of `config.attention_window`: 512\n",
      "1731it [54:23,  6.23s/it]Input ids are automatically padded from 285 to 512 to be a multiple of `config.attention_window`: 512\n",
      "1734it [54:32,  4.85s/it]Input ids are automatically padded from 728 to 1024 to be a multiple of `config.attention_window`: 512\n",
      "1736it [54:37,  3.73s/it]Input ids are automatically padded from 632 to 1024 to be a multiple of `config.attention_window`: 512\n",
      "1737it [54:50,  6.65s/it]Input ids are automatically padded from 383 to 512 to be a multiple of `config.attention_window`: 512\n",
      "1739it [55:12,  8.13s/it]Input ids are automatically padded from 537 to 1024 to be a multiple of `config.attention_window`: 512\n",
      "1740it [55:33, 12.14s/it]Input ids are automatically padded from 279 to 512 to be a multiple of `config.attention_window`: 512\n",
      "1741it [55:38,  9.96s/it]Input ids are automatically padded from 749 to 1024 to be a multiple of `config.attention_window`: 512\n",
      "1743it [55:47,  7.10s/it]Input ids are automatically padded from 1246 to 1536 to be a multiple of `config.attention_window`: 512\n",
      "1744it [55:55,  7.41s/it]Input ids are automatically padded from 332 to 512 to be a multiple of `config.attention_window`: 512\n",
      "1745it [55:59,  6.21s/it]Input ids are automatically padded from 758 to 1024 to be a multiple of `config.attention_window`: 512\n",
      "Input ids are automatically padded from 756 to 1024 to be a multiple of `config.attention_window`: 512\n",
      "Input ids are automatically padded from 754 to 1024 to be a multiple of `config.attention_window`: 512\n",
      "Input ids are automatically padded from 753 to 1024 to be a multiple of `config.attention_window`: 512\n",
      "Input ids are automatically padded from 757 to 1024 to be a multiple of `config.attention_window`: 512\n",
      "Input ids are automatically padded from 733 to 1024 to be a multiple of `config.attention_window`: 512\n",
      "Input ids are automatically padded from 724 to 1024 to be a multiple of `config.attention_window`: 512\n",
      "Input ids are automatically padded from 690 to 1024 to be a multiple of `config.attention_window`: 512\n",
      "Input ids are automatically padded from 736 to 1024 to be a multiple of `config.attention_window`: 512\n",
      "Input ids are automatically padded from 742 to 1024 to be a multiple of `config.attention_window`: 512\n",
      "Input ids are automatically padded from 708 to 1024 to be a multiple of `config.attention_window`: 512\n",
      "Input ids are automatically padded from 743 to 1024 to be a multiple of `config.attention_window`: 512\n",
      "Input ids are automatically padded from 759 to 1024 to be a multiple of `config.attention_window`: 512\n",
      "Input ids are automatically padded from 761 to 1024 to be a multiple of `config.attention_window`: 512\n",
      "Input ids are automatically padded from 1245 to 1536 to be a multiple of `config.attention_window`: 512\n",
      "1746it [57:58, 40.06s/it]Input ids are automatically padded from 73 to 512 to be a multiple of `config.attention_window`: 512\n",
      "1747it [58:38, 40.08s/it]Input ids are automatically padded from 1429 to 1536 to be a multiple of `config.attention_window`: 512\n",
      "1748it [58:52, 32.48s/it]Input ids are automatically padded from 479 to 512 to be a multiple of `config.attention_window`: 512\n",
      "1750it [59:13, 20.58s/it]Input ids are automatically padded from 242 to 512 to be a multiple of `config.attention_window`: 512\n",
      "1752it [59:21, 12.29s/it]Input ids are automatically padded from 384 to 512 to be a multiple of `config.attention_window`: 512\n",
      "1754it [59:22,  6.11s/it]Input ids are automatically padded from 55 to 512 to be a multiple of `config.attention_window`: 512\n",
      "1755it [59:27,  5.80s/it]Input ids are automatically padded from 1234 to 1536 to be a multiple of `config.attention_window`: 512\n",
      "1756it [59:41,  8.50s/it]Input ids are automatically padded from 529 to 1024 to be a multiple of `config.attention_window`: 512\n",
      "1758it [59:54,  7.05s/it]Input ids are automatically padded from 325 to 512 to be a multiple of `config.attention_window`: 512\n",
      "1759it [59:54,  5.06s/it]Input ids are automatically padded from 1180 to 1536 to be a multiple of `config.attention_window`: 512\n",
      "1760it [59:55,  3.90s/it]Input ids are automatically padded from 262 to 512 to be a multiple of `config.attention_window`: 512\n",
      "1761it [1:00:00,  4.20s/it]Input ids are automatically padded from 183 to 512 to be a multiple of `config.attention_window`: 512\n",
      "1763it [1:00:07,  3.96s/it]Input ids are automatically padded from 714 to 1024 to be a multiple of `config.attention_window`: 512\n",
      "1765it [1:00:15,  3.80s/it]Input ids are automatically padded from 231 to 512 to be a multiple of `config.attention_window`: 512\n",
      "Input ids are automatically padded from 309 to 512 to be a multiple of `config.attention_window`: 512\n",
      "1767it [1:00:24,  4.12s/it]Input ids are automatically padded from 723 to 1024 to be a multiple of `config.attention_window`: 512\n",
      "1770it [1:00:50,  7.54s/it]Input ids are automatically padded from 52 to 512 to be a multiple of `config.attention_window`: 512\n",
      "1772it [1:01:04,  7.88s/it]Input ids are automatically padded from 530 to 1024 to be a multiple of `config.attention_window`: 512\n",
      "1773it [1:01:04,  5.69s/it]Input ids are automatically padded from 640 to 1024 to be a multiple of `config.attention_window`: 512\n",
      "1775it [1:01:25,  8.30s/it]Input ids are automatically padded from 144 to 512 to be a multiple of `config.attention_window`: 512\n",
      "1777it [1:01:32,  5.88s/it]Input ids are automatically padded from 59 to 512 to be a multiple of `config.attention_window`: 512\n",
      "1779it [1:01:48,  6.45s/it]Input ids are automatically padded from 222 to 512 to be a multiple of `config.attention_window`: 512\n",
      "1781it [1:01:52,  4.00s/it]Input ids are automatically padded from 686 to 1024 to be a multiple of `config.attention_window`: 512\n",
      "1782it [1:02:02,  5.91s/it]Input ids are automatically padded from 372 to 512 to be a multiple of `config.attention_window`: 512\n",
      "1783it [1:02:47, 17.60s/it]Input ids are automatically padded from 229 to 512 to be a multiple of `config.attention_window`: 512\n",
      "1786it [1:03:39, 19.25s/it]Input ids are automatically padded from 1803 to 2048 to be a multiple of `config.attention_window`: 512\n",
      "1787it [1:03:40, 13.95s/it]Input ids are automatically padded from 1158 to 1536 to be a multiple of `config.attention_window`: 512\n",
      "Input ids are automatically padded from 1392 to 1536 to be a multiple of `config.attention_window`: 512\n",
      "Input ids are automatically padded from 1209 to 1536 to be a multiple of `config.attention_window`: 512\n",
      "1789it [1:04:09, 13.94s/it]Input ids are automatically padded from 376 to 512 to be a multiple of `config.attention_window`: 512\n",
      "1790it [1:04:10, 10.04s/it]Input ids are automatically padded from 355 to 512 to be a multiple of `config.attention_window`: 512\n",
      "1792it [1:04:30,  9.34s/it]Input ids are automatically padded from 563 to 1024 to be a multiple of `config.attention_window`: 512\n",
      "1793it [1:04:30,  6.60s/it]Input ids are automatically padded from 1341 to 1536 to be a multiple of `config.attention_window`: 512\n",
      "Input ids are automatically padded from 729 to 1024 to be a multiple of `config.attention_window`: 512\n",
      "1794it [1:05:29, 22.28s/it]Input ids are automatically padded from 74 to 512 to be a multiple of `config.attention_window`: 512\n",
      "1795it [1:05:46, 20.88s/it]Input ids are automatically padded from 318 to 512 to be a multiple of `config.attention_window`: 512\n",
      "1796it [1:05:56, 17.43s/it]Input ids are automatically padded from 422 to 512 to be a multiple of `config.attention_window`: 512\n",
      "1797it [1:06:08, 15.85s/it]Input ids are automatically padded from 1276 to 1536 to be a multiple of `config.attention_window`: 512\n",
      "Input ids are automatically padded from 364 to 512 to be a multiple of `config.attention_window`: 512\n",
      "1798it [1:06:25, 16.27s/it]Input ids are automatically padded from 377 to 512 to be a multiple of `config.attention_window`: 512\n",
      "1799it [1:06:25, 11.43s/it]Input ids are automatically padded from 248 to 512 to be a multiple of `config.attention_window`: 512\n",
      "1801it [1:06:43,  9.37s/it]Input ids are automatically padded from 193 to 512 to be a multiple of `config.attention_window`: 512\n",
      "1803it [1:07:10, 11.64s/it]Input ids are automatically padded from 502 to 512 to be a multiple of `config.attention_window`: 512\n",
      "1804it [1:07:22, 11.92s/it]Input ids are automatically padded from 737 to 1024 to be a multiple of `config.attention_window`: 512\n",
      "Input ids are automatically padded from 250 to 512 to be a multiple of `config.attention_window`: 512\n",
      "1805it [1:07:52, 17.18s/it]Input ids are automatically padded from 267 to 512 to be a multiple of `config.attention_window`: 512\n",
      "1806it [1:08:31, 23.84s/it]Input ids are automatically padded from 434 to 512 to be a multiple of `config.attention_window`: 512\n",
      "1807it [1:08:41, 19.66s/it]Input ids are automatically padded from 180 to 512 to be a multiple of `config.attention_window`: 512\n",
      "1808it [1:08:44, 14.65s/it]Input ids are automatically padded from 645 to 1024 to be a multiple of `config.attention_window`: 512\n",
      "1810it [1:09:19, 16.07s/it]Input ids are automatically padded from 567 to 1024 to be a multiple of `config.attention_window`: 512\n",
      "1812it [1:09:48, 15.45s/it]Input ids are automatically padded from 569 to 1024 to be a multiple of `config.attention_window`: 512\n",
      "1813it [1:10:00, 14.43s/it]Input ids are automatically padded from 685 to 1024 to be a multiple of `config.attention_window`: 512\n",
      "1814it [1:10:01, 10.38s/it]Input ids are automatically padded from 406 to 512 to be a multiple of `config.attention_window`: 512\n",
      "1815it [1:10:06,  8.78s/it]Input ids are automatically padded from 538 to 1024 to be a multiple of `config.attention_window`: 512\n",
      "1816it [1:10:12,  7.78s/it]Input ids are automatically padded from 534 to 1024 to be a multiple of `config.attention_window`: 512\n",
      "1818it [1:10:23,  7.11s/it]Input ids are automatically padded from 79 to 512 to be a multiple of `config.attention_window`: 512\n",
      "1819it [1:10:50, 13.00s/it]Input ids are automatically padded from 1487 to 1536 to be a multiple of `config.attention_window`: 512\n",
      "Input ids are automatically padded from 1431 to 1536 to be a multiple of `config.attention_window`: 512\n",
      "Input ids are automatically padded from 1345 to 1536 to be a multiple of `config.attention_window`: 512\n",
      "Input ids are automatically padded from 1420 to 1536 to be a multiple of `config.attention_window`: 512\n",
      "Input ids are automatically padded from 1318 to 1536 to be a multiple of `config.attention_window`: 512\n",
      "1820it [1:11:04, 13.37s/it]Input ids are automatically padded from 628 to 1024 to be a multiple of `config.attention_window`: 512\n",
      "1827it [1:11:51,  8.31s/it]Input ids are automatically padded from 1290 to 1536 to be a multiple of `config.attention_window`: 512\n",
      "1828it [1:12:14, 12.65s/it]Input ids are automatically padded from 2499 to 2560 to be a multiple of `config.attention_window`: 512\n",
      "Input ids are automatically padded from 1786 to 2048 to be a multiple of `config.attention_window`: 512\n",
      "Input ids are automatically padded from 1752 to 2048 to be a multiple of `config.attention_window`: 512\n",
      "Input ids are automatically padded from 1785 to 2048 to be a multiple of `config.attention_window`: 512\n",
      "Input ids are automatically padded from 1783 to 2048 to be a multiple of `config.attention_window`: 512\n",
      "Input ids are automatically padded from 1744 to 2048 to be a multiple of `config.attention_window`: 512\n",
      "Input ids are automatically padded from 1782 to 2048 to be a multiple of `config.attention_window`: 512\n",
      "Input ids are automatically padded from 1753 to 2048 to be a multiple of `config.attention_window`: 512\n",
      "Input ids are automatically padded from 1546 to 2048 to be a multiple of `config.attention_window`: 512\n",
      "Input ids are automatically padded from 1835 to 2048 to be a multiple of `config.attention_window`: 512\n",
      "Input ids are automatically padded from 1511 to 1536 to be a multiple of `config.attention_window`: 512\n",
      "1830it [1:12:45, 12.81s/it]Input ids are automatically padded from 490 to 512 to be a multiple of `config.attention_window`: 512\n",
      "1840it [1:14:03, 11.21s/it]Input ids are automatically padded from 1840 to 2048 to be a multiple of `config.attention_window`: 512\n",
      "Input ids are automatically padded from 1259 to 1536 to be a multiple of `config.attention_window`: 512\n",
      "Input ids are automatically padded from 1228 to 1536 to be a multiple of `config.attention_window`: 512\n",
      "Input ids are automatically padded from 64 to 512 to be a multiple of `config.attention_window`: 512\n",
      "1841it [1:14:53, 22.50s/it]Input ids are automatically padded from 494 to 512 to be a multiple of `config.attention_window`: 512\n",
      "1842it [1:15:04, 19.34s/it]Input ids are automatically padded from 1393 to 1536 to be a multiple of `config.attention_window`: 512\n",
      "Input ids are automatically padded from 1599 to 2048 to be a multiple of `config.attention_window`: 512\n",
      "Input ids are automatically padded from 1545 to 2048 to be a multiple of `config.attention_window`: 512\n",
      "Input ids are automatically padded from 1596 to 2048 to be a multiple of `config.attention_window`: 512\n",
      "Input ids are automatically padded from 1480 to 1536 to be a multiple of `config.attention_window`: 512\n",
      "Input ids are automatically padded from 1626 to 2048 to be a multiple of `config.attention_window`: 512\n",
      "Input ids are automatically padded from 1589 to 2048 to be a multiple of `config.attention_window`: 512\n",
      "Input ids are automatically padded from 1580 to 2048 to be a multiple of `config.attention_window`: 512\n",
      "Input ids are automatically padded from 1644 to 2048 to be a multiple of `config.attention_window`: 512\n",
      "Input ids are automatically padded from 1606 to 2048 to be a multiple of `config.attention_window`: 512\n",
      "1843it [1:15:37, 23.18s/it]Input ids are automatically padded from 500 to 512 to be a multiple of `config.attention_window`: 512\n",
      "1845it [1:16:04, 19.42s/it]Input ids are automatically padded from 574 to 1024 to be a multiple of `config.attention_window`: 512\n",
      "1846it [1:16:42, 25.14s/it]Input ids are automatically padded from 198 to 512 to be a multiple of `config.attention_window`: 512\n",
      "1849it [1:16:47,  9.49s/it]Input ids are automatically padded from 1292 to 1536 to be a multiple of `config.attention_window`: 512\n",
      "Input ids are automatically padded from 1645 to 2048 to be a multiple of `config.attention_window`: 512\n",
      "Input ids are automatically padded from 1338 to 1536 to be a multiple of `config.attention_window`: 512\n",
      "Input ids are automatically padded from 1203 to 1536 to be a multiple of `config.attention_window`: 512\n",
      "Input ids are automatically padded from 375 to 512 to be a multiple of `config.attention_window`: 512\n",
      "1851it [1:17:37, 17.77s/it]Input ids are automatically padded from 682 to 1024 to be a multiple of `config.attention_window`: 512\n",
      "1855it [1:19:43, 19.22s/it]Input ids are automatically padded from 273 to 512 to be a multiple of `config.attention_window`: 512\n",
      "1858it [1:20:37, 15.17s/it]Input ids are automatically padded from 226 to 512 to be a multiple of `config.attention_window`: 512\n",
      "1859it [1:20:44, 12.73s/it]Input ids are automatically padded from 1404 to 1536 to be a multiple of `config.attention_window`: 512\n",
      "1860it [1:22:00, 31.71s/it]Input ids are automatically padded from 142 to 512 to be a multiple of `config.attention_window`: 512\n",
      "1861it [1:22:22, 29.02s/it]Input ids are automatically padded from 505 to 512 to be a multiple of `config.attention_window`: 512\n",
      "1862it [1:22:26, 21.47s/it]Input ids are automatically padded from 585 to 1024 to be a multiple of `config.attention_window`: 512\n",
      "1863it [1:22:26, 15.10s/it]Input ids are automatically padded from 1504 to 1536 to be a multiple of `config.attention_window`: 512\n",
      "Input ids are automatically padded from 1464 to 1536 to be a multiple of `config.attention_window`: 512\n",
      "Input ids are automatically padded from 1263 to 1536 to be a multiple of `config.attention_window`: 512\n",
      "Input ids are automatically padded from 1414 to 1536 to be a multiple of `config.attention_window`: 512\n",
      "Input ids are automatically padded from 1343 to 1536 to be a multiple of `config.attention_window`: 512\n",
      "Input ids are automatically padded from 1206 to 1536 to be a multiple of `config.attention_window`: 512\n",
      "Input ids are automatically padded from 1261 to 1536 to be a multiple of `config.attention_window`: 512\n",
      "Input ids are automatically padded from 1294 to 1536 to be a multiple of `config.attention_window`: 512\n",
      "Input ids are automatically padded from 1390 to 1536 to be a multiple of `config.attention_window`: 512\n",
      "Input ids are automatically padded from 1389 to 1536 to be a multiple of `config.attention_window`: 512\n",
      "Input ids are automatically padded from 1382 to 1536 to be a multiple of `config.attention_window`: 512\n",
      "Input ids are automatically padded from 1367 to 1536 to be a multiple of `config.attention_window`: 512\n",
      "Input ids are automatically padded from 1450 to 1536 to be a multiple of `config.attention_window`: 512\n",
      "Input ids are automatically padded from 1466 to 1536 to be a multiple of `config.attention_window`: 512\n",
      "Input ids are automatically padded from 1479 to 1536 to be a multiple of `config.attention_window`: 512\n",
      "Input ids are automatically padded from 1489 to 1536 to be a multiple of `config.attention_window`: 512\n",
      "Input ids are automatically padded from 1361 to 1536 to be a multiple of `config.attention_window`: 512\n",
      "Input ids are automatically padded from 1497 to 1536 to be a multiple of `config.attention_window`: 512\n",
      "Input ids are automatically padded from 1507 to 1536 to be a multiple of `config.attention_window`: 512\n",
      "Input ids are automatically padded from 1325 to 1536 to be a multiple of `config.attention_window`: 512\n",
      "Input ids are automatically padded from 42 to 512 to be a multiple of `config.attention_window`: 512\n",
      "1866it [1:23:48, 18.52s/it]Input ids are automatically padded from 1449 to 1536 to be a multiple of `config.attention_window`: 512\n",
      "Input ids are automatically padded from 1472 to 1536 to be a multiple of `config.attention_window`: 512\n",
      "Input ids are automatically padded from 1426 to 1536 to be a multiple of `config.attention_window`: 512\n",
      "Input ids are automatically padded from 1332 to 1536 to be a multiple of `config.attention_window`: 512\n",
      "1868it [1:24:43, 22.56s/it]Input ids are automatically padded from 695 to 1024 to be a multiple of `config.attention_window`: 512\n",
      "1870it [1:24:48, 12.65s/it]Input ids are automatically padded from 755 to 1024 to be a multiple of `config.attention_window`: 512\n",
      "Input ids are automatically padded from 745 to 1024 to be a multiple of `config.attention_window`: 512\n",
      "Input ids are automatically padded from 1619 to 2048 to be a multiple of `config.attention_window`: 512\n",
      "Input ids are automatically padded from 1578 to 2048 to be a multiple of `config.attention_window`: 512\n",
      "Input ids are automatically padded from 1547 to 2048 to be a multiple of `config.attention_window`: 512\n",
      "Input ids are automatically padded from 1765 to 2048 to be a multiple of `config.attention_window`: 512\n",
      "Input ids are automatically padded from 1503 to 1536 to be a multiple of `config.attention_window`: 512\n",
      "Input ids are automatically padded from 1331 to 1536 to be a multiple of `config.attention_window`: 512\n",
      "1873it [1:26:16, 22.82s/it]Input ids are automatically padded from 1629 to 2048 to be a multiple of `config.attention_window`: 512\n",
      "Input ids are automatically padded from 1795 to 2048 to be a multiple of `config.attention_window`: 512\n",
      "Input ids are automatically padded from 245 to 512 to be a multiple of `config.attention_window`: 512\n",
      "1874it [1:26:27, 19.18s/it]Input ids are automatically padded from 1314 to 1536 to be a multiple of `config.attention_window`: 512\n",
      "Input ids are automatically padded from 1271 to 1536 to be a multiple of `config.attention_window`: 512\n",
      "Input ids are automatically padded from 1295 to 1536 to be a multiple of `config.attention_window`: 512\n",
      "Input ids are automatically padded from 1398 to 1536 to be a multiple of `config.attention_window`: 512\n",
      "Input ids are automatically padded from 1384 to 1536 to be a multiple of `config.attention_window`: 512\n",
      "Input ids are automatically padded from 1380 to 1536 to be a multiple of `config.attention_window`: 512\n",
      "Input ids are automatically padded from 1571 to 2048 to be a multiple of `config.attention_window`: 512\n",
      "Input ids are automatically padded from 1570 to 2048 to be a multiple of `config.attention_window`: 512\n",
      "Input ids are automatically padded from 324 to 512 to be a multiple of `config.attention_window`: 512\n",
      "1875it [1:27:20, 29.17s/it]Input ids are automatically padded from 305 to 512 to be a multiple of `config.attention_window`: 512\n",
      "1876it [1:27:58, 31.85s/it]Input ids are automatically padded from 397 to 512 to be a multiple of `config.attention_window`: 512\n",
      "1877it [1:28:04, 24.30s/it]Input ids are automatically padded from 488 to 512 to be a multiple of `config.attention_window`: 512\n",
      "1878it [1:28:10, 18.69s/it]Input ids are automatically padded from 525 to 1024 to be a multiple of `config.attention_window`: 512\n",
      "1882it [1:28:41, 11.15s/it]Input ids are automatically padded from 407 to 512 to be a multiple of `config.attention_window`: 512\n",
      "1883it [1:29:07, 15.51s/it]Input ids are automatically padded from 771 to 1024 to be a multiple of `config.attention_window`: 512\n",
      "1884it [1:29:24, 15.96s/it]Input ids are automatically padded from 674 to 1024 to be a multiple of `config.attention_window`: 512\n",
      "1889it [1:30:25, 10.28s/it]Input ids are automatically padded from 472 to 512 to be a multiple of `config.attention_window`: 512\n",
      "1891it [1:30:29,  6.23s/it]Input ids are automatically padded from 1182 to 1536 to be a multiple of `config.attention_window`: 512\n",
      "1895it [1:31:47, 12.14s/it]Input ids are automatically padded from 586 to 1024 to be a multiple of `config.attention_window`: 512\n",
      "1896it [1:31:49,  9.27s/it]Input ids are automatically padded from 509 to 512 to be a multiple of `config.attention_window`: 512\n",
      "1897it [1:32:10, 12.76s/it]Input ids are automatically padded from 765 to 1024 to be a multiple of `config.attention_window`: 512\n",
      "Input ids are automatically padded from 706 to 1024 to be a multiple of `config.attention_window`: 512\n",
      "Input ids are automatically padded from 726 to 1024 to be a multiple of `config.attention_window`: 512\n",
      "Input ids are automatically padded from 711 to 1024 to be a multiple of `config.attention_window`: 512\n",
      "Input ids are automatically padded from 735 to 1024 to be a multiple of `config.attention_window`: 512\n",
      "1898it [1:32:19, 11.46s/it]Input ids are automatically padded from 20 to 512 to be a multiple of `config.attention_window`: 512\n",
      "1900it [1:32:19,  5.79s/it]Input ids are automatically padded from 614 to 1024 to be a multiple of `config.attention_window`: 512\n",
      "1902it [1:32:37,  7.50s/it]Input ids are automatically padded from 1329 to 1536 to be a multiple of `config.attention_window`: 512\n",
      "Input ids are automatically padded from 1521 to 1536 to be a multiple of `config.attention_window`: 512\n",
      "Input ids are automatically padded from 1567 to 2048 to be a multiple of `config.attention_window`: 512\n",
      "Input ids are automatically padded from 1233 to 1536 to be a multiple of `config.attention_window`: 512\n",
      "Input ids are automatically padded from 1488 to 1536 to be a multiple of `config.attention_window`: 512\n",
      "Input ids are automatically padded from 1495 to 1536 to be a multiple of `config.attention_window`: 512\n",
      "Input ids are automatically padded from 1435 to 1536 to be a multiple of `config.attention_window`: 512\n",
      "Input ids are automatically padded from 1291 to 1536 to be a multiple of `config.attention_window`: 512\n",
      "Input ids are automatically padded from 1383 to 1536 to be a multiple of `config.attention_window`: 512\n",
      "Input ids are automatically padded from 1362 to 1536 to be a multiple of `config.attention_window`: 512\n",
      "Input ids are automatically padded from 1483 to 1536 to be a multiple of `config.attention_window`: 512\n",
      "Input ids are automatically padded from 1330 to 1536 to be a multiple of `config.attention_window`: 512\n",
      "Input ids are automatically padded from 1695 to 2048 to be a multiple of `config.attention_window`: 512\n",
      "Input ids are automatically padded from 1686 to 2048 to be a multiple of `config.attention_window`: 512\n",
      "Input ids are automatically padded from 1425 to 1536 to be a multiple of `config.attention_window`: 512\n",
      "Input ids are automatically padded from 1452 to 1536 to be a multiple of `config.attention_window`: 512\n",
      "Input ids are automatically padded from 1550 to 2048 to be a multiple of `config.attention_window`: 512\n",
      "Input ids are automatically padded from 1496 to 1536 to be a multiple of `config.attention_window`: 512\n",
      "Input ids are automatically padded from 1512 to 1536 to be a multiple of `config.attention_window`: 512\n",
      "Input ids are automatically padded from 1529 to 1536 to be a multiple of `config.attention_window`: 512\n",
      "Input ids are automatically padded from 1522 to 1536 to be a multiple of `config.attention_window`: 512\n",
      "Input ids are automatically padded from 1534 to 1536 to be a multiple of `config.attention_window`: 512\n",
      "Input ids are automatically padded from 1508 to 1536 to be a multiple of `config.attention_window`: 512\n",
      "Input ids are automatically padded from 1537 to 2048 to be a multiple of `config.attention_window`: 512\n",
      "Input ids are automatically padded from 1494 to 1536 to be a multiple of `config.attention_window`: 512\n",
      "Input ids are automatically padded from 1443 to 1536 to be a multiple of `config.attention_window`: 512\n",
      "Input ids are automatically padded from 1573 to 2048 to be a multiple of `config.attention_window`: 512\n",
      "Input ids are automatically padded from 1551 to 2048 to be a multiple of `config.attention_window`: 512\n",
      "Input ids are automatically padded from 1581 to 2048 to be a multiple of `config.attention_window`: 512\n",
      "Input ids are automatically padded from 1473 to 1536 to be a multiple of `config.attention_window`: 512\n",
      "Input ids are automatically padded from 1388 to 1536 to be a multiple of `config.attention_window`: 512\n",
      "Input ids are automatically padded from 1415 to 1536 to be a multiple of `config.attention_window`: 512\n",
      "Input ids are automatically padded from 1226 to 1536 to be a multiple of `config.attention_window`: 512\n",
      "Input ids are automatically padded from 1459 to 1536 to be a multiple of `config.attention_window`: 512\n",
      "Input ids are automatically padded from 1444 to 1536 to be a multiple of `config.attention_window`: 512\n",
      "Input ids are automatically padded from 1558 to 2048 to be a multiple of `config.attention_window`: 512\n",
      "Input ids are automatically padded from 1520 to 1536 to be a multiple of `config.attention_window`: 512\n",
      "Input ids are automatically padded from 1499 to 1536 to be a multiple of `config.attention_window`: 512\n",
      "Input ids are automatically padded from 1523 to 1536 to be a multiple of `config.attention_window`: 512\n",
      "Input ids are automatically padded from 1524 to 1536 to be a multiple of `config.attention_window`: 512\n",
      "Input ids are automatically padded from 1745 to 2048 to be a multiple of `config.attention_window`: 512\n",
      "Input ids are automatically padded from 1690 to 2048 to be a multiple of `config.attention_window`: 512\n",
      "Input ids are automatically padded from 1387 to 1536 to be a multiple of `config.attention_window`: 512\n",
      "Input ids are automatically padded from 1595 to 2048 to be a multiple of `config.attention_window`: 512\n",
      "Input ids are automatically padded from 1625 to 2048 to be a multiple of `config.attention_window`: 512\n",
      "Input ids are automatically padded from 1509 to 1536 to be a multiple of `config.attention_window`: 512\n",
      "Input ids are automatically padded from 1656 to 2048 to be a multiple of `config.attention_window`: 512\n",
      "Input ids are automatically padded from 1633 to 2048 to be a multiple of `config.attention_window`: 512\n",
      "Input ids are automatically padded from 1621 to 2048 to be a multiple of `config.attention_window`: 512\n",
      "Input ids are automatically padded from 1617 to 2048 to be a multiple of `config.attention_window`: 512\n",
      "Input ids are automatically padded from 1594 to 2048 to be a multiple of `config.attention_window`: 512\n",
      "Input ids are automatically padded from 1635 to 2048 to be a multiple of `config.attention_window`: 512\n",
      "Input ids are automatically padded from 1568 to 2048 to be a multiple of `config.attention_window`: 512\n",
      "Input ids are automatically padded from 1597 to 2048 to be a multiple of `config.attention_window`: 512\n",
      "Input ids are automatically padded from 1475 to 1536 to be a multiple of `config.attention_window`: 512\n",
      "Input ids are automatically padded from 1608 to 2048 to be a multiple of `config.attention_window`: 512\n",
      "Input ids are automatically padded from 1576 to 2048 to be a multiple of `config.attention_window`: 512\n",
      "Input ids are automatically padded from 1544 to 2048 to be a multiple of `config.attention_window`: 512\n",
      "Input ids are automatically padded from 1708 to 2048 to be a multiple of `config.attention_window`: 512\n",
      "1903it [1:34:49, 44.98s/it]Input ids are automatically padded from 1543 to 2048 to be a multiple of `config.attention_window`: 512\n",
      "Input ids are automatically padded from 1709 to 2048 to be a multiple of `config.attention_window`: 512\n",
      "Input ids are automatically padded from 1698 to 2048 to be a multiple of `config.attention_window`: 512\n",
      "Input ids are automatically padded from 1705 to 2048 to be a multiple of `config.attention_window`: 512\n",
      "Input ids are automatically padded from 1679 to 2048 to be a multiple of `config.attention_window`: 512\n",
      "Input ids are automatically padded from 1697 to 2048 to be a multiple of `config.attention_window`: 512\n",
      "Input ids are automatically padded from 1692 to 2048 to be a multiple of `config.attention_window`: 512\n",
      "Input ids are automatically padded from 1701 to 2048 to be a multiple of `config.attention_window`: 512\n",
      "Input ids are automatically padded from 1687 to 2048 to be a multiple of `config.attention_window`: 512\n",
      "Input ids are automatically padded from 1685 to 2048 to be a multiple of `config.attention_window`: 512\n",
      "Input ids are automatically padded from 380 to 512 to be a multiple of `config.attention_window`: 512\n",
      "1910it [1:37:15, 18.24s/it]Input ids are automatically padded from 391 to 512 to be a multiple of `config.attention_window`: 512\n",
      "1920it [1:39:07,  7.48s/it]Input ids are automatically padded from 627 to 1024 to be a multiple of `config.attention_window`: 512\n",
      "1921it [1:39:18,  8.47s/it]Input ids are automatically padded from 1301 to 1536 to be a multiple of `config.attention_window`: 512\n",
      "Input ids are automatically padded from 1491 to 1536 to be a multiple of `config.attention_window`: 512\n",
      "1923it [1:39:48, 10.99s/it]Input ids are automatically padded from 227 to 512 to be a multiple of `config.attention_window`: 512\n",
      "1926it [1:40:15,  9.37s/it]Input ids are automatically padded from 600 to 1024 to be a multiple of `config.attention_window`: 512\n",
      "1928it [1:40:49, 12.48s/it]Input ids are automatically padded from 598 to 1024 to be a multiple of `config.attention_window`: 512\n",
      "1930it [1:40:57,  7.72s/it]Input ids are automatically padded from 580 to 1024 to be a multiple of `config.attention_window`: 512\n",
      "1931it [1:41:34, 16.45s/it]Input ids are automatically padded from 239 to 512 to be a multiple of `config.attention_window`: 512\n",
      "1932it [1:41:35, 11.82s/it]Input ids are automatically padded from 373 to 512 to be a multiple of `config.attention_window`: 512\n",
      "1933it [1:41:47, 11.88s/it]Input ids are automatically padded from 154 to 512 to be a multiple of `config.attention_window`: 512\n",
      "1934it [1:41:47,  8.48s/it]Input ids are automatically padded from 284 to 512 to be a multiple of `config.attention_window`: 512\n",
      "1935it [1:41:48,  6.10s/it]Input ids are automatically padded from 92 to 512 to be a multiple of `config.attention_window`: 512\n",
      "1936it [1:42:10, 10.80s/it]Input ids are automatically padded from 558 to 1024 to be a multiple of `config.attention_window`: 512\n",
      "1940it [1:42:59, 11.18s/it]Input ids are automatically padded from 70 to 512 to be a multiple of `config.attention_window`: 512\n",
      "1943it [1:43:34, 10.86s/it]Input ids are automatically padded from 347 to 512 to be a multiple of `config.attention_window`: 512\n",
      "1944it [1:43:54, 13.72s/it]Input ids are automatically padded from 639 to 1024 to be a multiple of `config.attention_window`: 512\n",
      "1945it [1:43:55,  9.77s/it]Input ids are automatically padded from 699 to 1024 to be a multiple of `config.attention_window`: 512\n",
      "1946it [1:44:21, 14.68s/it]Input ids are automatically padded from 314 to 512 to be a multiple of `config.attention_window`: 512\n",
      "1949it [1:44:57, 11.92s/it]Input ids are automatically padded from 629 to 1024 to be a multiple of `config.attention_window`: 512\n",
      "1953it [1:45:45, 13.37s/it]Input ids are automatically padded from 665 to 1024 to be a multiple of `config.attention_window`: 512\n",
      "1955it [1:46:22, 14.74s/it]Input ids are automatically padded from 50 to 512 to be a multiple of `config.attention_window`: 512\n",
      "1957it [1:47:08, 20.98s/it]Input ids are automatically padded from 625 to 1024 to be a multiple of `config.attention_window`: 512\n",
      "1958it [1:48:09, 32.97s/it]Input ids are automatically padded from 419 to 512 to be a multiple of `config.attention_window`: 512\n",
      "1960it [1:48:36, 21.78s/it]Input ids are automatically padded from 1437 to 1536 to be a multiple of `config.attention_window`: 512\n",
      "Input ids are automatically padded from 1247 to 1536 to be a multiple of `config.attention_window`: 512\n",
      "Input ids are automatically padded from 1223 to 1536 to be a multiple of `config.attention_window`: 512\n",
      "1962it [1:50:11, 37.25s/it]Input ids are automatically padded from 591 to 1024 to be a multiple of `config.attention_window`: 512\n",
      "1963it [1:50:18, 28.35s/it]Input ids are automatically padded from 445 to 512 to be a multiple of `config.attention_window`: 512\n",
      "1967it [1:50:58, 14.03s/it]Input ids are automatically padded from 681 to 1024 to be a multiple of `config.attention_window`: 512\n",
      "1970it [1:51:30, 12.84s/it]Input ids are automatically padded from 157 to 512 to be a multiple of `config.attention_window`: 512\n",
      "1972it [1:51:47, 10.59s/it]Input ids are automatically padded from 196 to 512 to be a multiple of `config.attention_window`: 512\n",
      "1976it [1:52:21,  9.39s/it]Input ids are automatically padded from 129 to 512 to be a multiple of `config.attention_window`: 512\n",
      "1977it [1:52:24,  7.49s/it]Input ids are automatically padded from 701 to 1024 to be a multiple of `config.attention_window`: 512\n",
      "1978it [1:52:28,  6.33s/it]Input ids are automatically padded from 392 to 512 to be a multiple of `config.attention_window`: 512\n",
      "1980it [1:53:04, 12.05s/it]Input ids are automatically padded from 709 to 1024 to be a multiple of `config.attention_window`: 512\n",
      "1981it [1:53:11, 10.42s/it]Input ids are automatically padded from 107 to 512 to be a multiple of `config.attention_window`: 512\n",
      "1985it [1:53:43,  7.82s/it]Input ids are automatically padded from 366 to 512 to be a multiple of `config.attention_window`: 512\n",
      "1986it [1:53:44,  5.76s/it]Input ids are automatically padded from 244 to 512 to be a multiple of `config.attention_window`: 512\n",
      "1987it [1:54:01,  9.16s/it]Input ids are automatically padded from 19 to 512 to be a multiple of `config.attention_window`: 512\n",
      "1989it [1:54:25,  9.60s/it]Input ids are automatically padded from 228 to 512 to be a multiple of `config.attention_window`: 512\n",
      "1991it [1:55:02, 13.79s/it]Input ids are automatically padded from 272 to 512 to be a multiple of `config.attention_window`: 512\n",
      "1992it [1:55:03,  9.83s/it]Input ids are automatically padded from 125 to 512 to be a multiple of `config.attention_window`: 512\n",
      "1995it [1:55:24,  8.57s/it]Input ids are automatically padded from 77 to 512 to be a multiple of `config.attention_window`: 512\n",
      "1997it [1:55:55, 11.74s/it]Input ids are automatically padded from 215 to 512 to be a multiple of `config.attention_window`: 512\n",
      "2001it [1:56:07,  5.02s/it]Input ids are automatically padded from 35 to 512 to be a multiple of `config.attention_window`: 512\n",
      "2002it [1:56:22,  8.03s/it]Input ids are automatically padded from 76 to 512 to be a multiple of `config.attention_window`: 512\n",
      "2005it [1:57:35, 22.52s/it]Input ids are automatically padded from 521 to 1024 to be a multiple of `config.attention_window`: 512\n",
      "2006it [1:57:35, 15.84s/it]Input ids are automatically padded from 117 to 512 to be a multiple of `config.attention_window`: 512\n",
      "2008it [1:58:23, 21.99s/it]Input ids are automatically padded from 730 to 1024 to be a multiple of `config.attention_window`: 512\n",
      "2010it [1:59:20, 23.92s/it]Input ids are automatically padded from 181 to 512 to be a multiple of `config.attention_window`: 512\n",
      "2014it [2:01:23, 27.47s/it]Input ids are automatically padded from 94 to 512 to be a multiple of `config.attention_window`: 512\n",
      "2015it [2:01:23, 19.36s/it]Input ids are automatically padded from 408 to 512 to be a multiple of `config.attention_window`: 512\n",
      "2016it [2:01:35, 17.06s/it]Input ids are automatically padded from 463 to 512 to be a multiple of `config.attention_window`: 512\n",
      "2021it [2:03:06, 22.27s/it]Input ids are automatically padded from 199 to 512 to be a multiple of `config.attention_window`: 512\n",
      "2024it [2:03:40, 15.59s/it]Input ids are automatically padded from 458 to 512 to be a multiple of `config.attention_window`: 512\n",
      "2025it [2:04:15, 21.42s/it]Input ids are automatically padded from 441 to 512 to be a multiple of `config.attention_window`: 512\n",
      "2026it [2:04:15, 15.05s/it]Input ids are automatically padded from 1667 to 2048 to be a multiple of `config.attention_window`: 512\n",
      "Input ids are automatically padded from 1539 to 2048 to be a multiple of `config.attention_window`: 512\n",
      "Input ids are automatically padded from 5 to 512 to be a multiple of `config.attention_window`: 512\n",
      "2030it [2:05:08, 11.72s/it]Input ids are automatically padded from 734 to 1024 to be a multiple of `config.attention_window`: 512\n",
      "Input ids are automatically padded from 1852 to 2048 to be a multiple of `config.attention_window`: 512\n",
      "Input ids are automatically padded from 1914 to 2048 to be a multiple of `config.attention_window`: 512\n",
      "Input ids are automatically padded from 1884 to 2048 to be a multiple of `config.attention_window`: 512\n",
      "Input ids are automatically padded from 1940 to 2048 to be a multiple of `config.attention_window`: 512\n",
      "Input ids are automatically padded from 1699 to 2048 to be a multiple of `config.attention_window`: 512\n",
      "Input ids are automatically padded from 1841 to 2048 to be a multiple of `config.attention_window`: 512\n",
      "Input ids are automatically padded from 1891 to 2048 to be a multiple of `config.attention_window`: 512\n",
      "Input ids are automatically padded from 1728 to 2048 to be a multiple of `config.attention_window`: 512\n",
      "Input ids are automatically padded from 1820 to 2048 to be a multiple of `config.attention_window`: 512\n",
      "Input ids are automatically padded from 1916 to 2048 to be a multiple of `config.attention_window`: 512\n",
      "Input ids are automatically padded from 2012 to 2048 to be a multiple of `config.attention_window`: 512\n",
      "Input ids are automatically padded from 2002 to 2048 to be a multiple of `config.attention_window`: 512\n",
      "Input ids are automatically padded from 2025 to 2048 to be a multiple of `config.attention_window`: 512\n",
      "Input ids are automatically padded from 1808 to 2048 to be a multiple of `config.attention_window`: 512\n",
      "Input ids are automatically padded from 1857 to 2048 to be a multiple of `config.attention_window`: 512\n",
      "Input ids are automatically padded from 1896 to 2048 to be a multiple of `config.attention_window`: 512\n",
      "Input ids are automatically padded from 1959 to 2048 to be a multiple of `config.attention_window`: 512\n",
      "Input ids are automatically padded from 1952 to 2048 to be a multiple of `config.attention_window`: 512\n",
      "Input ids are automatically padded from 1954 to 2048 to be a multiple of `config.attention_window`: 512\n",
      "Input ids are automatically padded from 1554 to 2048 to be a multiple of `config.attention_window`: 512\n",
      "Input ids are automatically padded from 1652 to 2048 to be a multiple of `config.attention_window`: 512\n",
      "Input ids are automatically padded from 2112 to 2560 to be a multiple of `config.attention_window`: 512\n",
      "Input ids are automatically padded from 2162 to 2560 to be a multiple of `config.attention_window`: 512\n",
      "Input ids are automatically padded from 2063 to 2560 to be a multiple of `config.attention_window`: 512\n",
      "Input ids are automatically padded from 2323 to 2560 to be a multiple of `config.attention_window`: 512\n",
      "Input ids are automatically padded from 2128 to 2560 to be a multiple of `config.attention_window`: 512\n",
      "Input ids are automatically padded from 2161 to 2560 to be a multiple of `config.attention_window`: 512\n",
      "Input ids are automatically padded from 2114 to 2560 to be a multiple of `config.attention_window`: 512\n",
      "Input ids are automatically padded from 1530 to 1536 to be a multiple of `config.attention_window`: 512\n",
      "Input ids are automatically padded from 1664 to 2048 to be a multiple of `config.attention_window`: 512\n",
      "Input ids are automatically padded from 187 to 512 to be a multiple of `config.attention_window`: 512\n",
      "2031it [2:06:26, 31.57s/it]Input ids are automatically padded from 124 to 512 to be a multiple of `config.attention_window`: 512\n",
      "2032it [2:06:29, 22.90s/it]Input ids are automatically padded from 1757 to 2048 to be a multiple of `config.attention_window`: 512\n",
      "2034it [2:06:54, 16.52s/it]Input ids are automatically padded from 683 to 1024 to be a multiple of `config.attention_window`: 512\n",
      "2035it [2:07:18, 18.88s/it]Input ids are automatically padded from 216 to 512 to be a multiple of `config.attention_window`: 512\n",
      "2037it [2:07:30, 12.76s/it]Input ids are automatically padded from 424 to 512 to be a multiple of `config.attention_window`: 512\n",
      "2043it [2:08:19,  7.55s/it]Input ids are automatically padded from 609 to 1024 to be a multiple of `config.attention_window`: 512\n",
      "2045it [2:08:52, 10.59s/it]Input ids are automatically padded from 607 to 1024 to be a multiple of `config.attention_window`: 512\n",
      "2046it [2:08:52,  7.58s/it]Input ids are automatically padded from 435 to 512 to be a multiple of `config.attention_window`: 512\n",
      "2049it [2:09:09,  5.15s/it]Input ids are automatically padded from 345 to 512 to be a multiple of `config.attention_window`: 512\n",
      "2050it [2:09:45, 14.52s/it]Input ids are automatically padded from 687 to 1024 to be a multiple of `config.attention_window`: 512\n",
      "2052it [2:10:03, 11.31s/it]Input ids are automatically padded from 588 to 1024 to be a multiple of `config.attention_window`: 512\n",
      "2054it [2:10:09,  7.27s/it]Input ids are automatically padded from 1678 to 2048 to be a multiple of `config.attention_window`: 512\n",
      "2055it [2:10:52, 18.01s/it]Input ids are automatically padded from 707 to 1024 to be a multiple of `config.attention_window`: 512\n",
      "2057it [2:11:41, 20.51s/it]Input ids are automatically padded from 476 to 512 to be a multiple of `config.attention_window`: 512\n",
      "2059it [2:11:42, 10.17s/it]Input ids are automatically padded from 545 to 1024 to be a multiple of `config.attention_window`: 512\n",
      "2060it [2:11:50,  9.58s/it]Input ids are automatically padded from 40 to 512 to be a multiple of `config.attention_window`: 512\n",
      "2062it [2:11:50,  5.23s/it]Input ids are automatically padded from 17 to 512 to be a multiple of `config.attention_window`: 512\n",
      "2065it [2:11:51,  2.65s/it]Input ids are automatically padded from 7 to 512 to be a multiple of `config.attention_window`: 512\n",
      "2069it [2:11:53,  1.23s/it]Input ids are automatically padded from 561 to 1024 to be a multiple of `config.attention_window`: 512\n",
      "2071it [2:11:53,  1.29it/s]Input ids are automatically padded from 111 to 512 to be a multiple of `config.attention_window`: 512\n",
      "2075it [2:12:05,  2.45s/it]Input ids are automatically padded from 54 to 512 to be a multiple of `config.attention_window`: 512\n",
      "2077it [2:12:07,  1.94s/it]Input ids are automatically padded from 643 to 1024 to be a multiple of `config.attention_window`: 512\n",
      "2079it [2:12:15,  2.68s/it]Input ids are automatically padded from 461 to 512 to be a multiple of `config.attention_window`: 512\n",
      "2080it [2:12:20,  3.30s/it]Input ids are automatically padded from 430 to 512 to be a multiple of `config.attention_window`: 512\n",
      "2083it [2:12:21,  1.35s/it]Input ids are automatically padded from 270 to 512 to be a multiple of `config.attention_window`: 512\n",
      "2085it [2:12:22,  1.15it/s]Input ids are automatically padded from 484 to 512 to be a multiple of `config.attention_window`: 512\n",
      "2087it [2:12:22,  1.93it/s]Input ids are automatically padded from 28 to 512 to be a multiple of `config.attention_window`: 512\n",
      "2088it [2:12:23,  1.91it/s]Input ids are automatically padded from 296 to 512 to be a multiple of `config.attention_window`: 512\n",
      "2090it [2:12:24,  2.06it/s]Input ids are automatically padded from 66 to 512 to be a multiple of `config.attention_window`: 512\n",
      "2091it [2:12:28,  1.75s/it]Input ids are automatically padded from 141 to 512 to be a multiple of `config.attention_window`: 512\n",
      "2092it [2:12:29,  1.26s/it]Input ids are automatically padded from 573 to 1024 to be a multiple of `config.attention_window`: 512\n",
      "2095it [2:12:37,  2.93s/it]Input ids are automatically padded from 115 to 512 to be a multiple of `config.attention_window`: 512\n",
      "2100it [2:13:01,  4.39s/it]Input ids are automatically padded from 103 to 512 to be a multiple of `config.attention_window`: 512\n",
      "Input ids are automatically padded from 209 to 512 to be a multiple of `config.attention_window`: 512\n",
      "2102it [2:13:02,  2.69s/it]Input ids are automatically padded from 360 to 512 to be a multiple of `config.attention_window`: 512\n",
      "2105it [2:13:03,  1.38s/it]Input ids are automatically padded from 13 to 512 to be a multiple of `config.attention_window`: 512\n",
      "2109it [2:13:04,  1.41it/s]Input ids are automatically padded from 448 to 512 to be a multiple of `config.attention_window`: 512\n",
      "2110it [2:13:04,  1.81it/s]Input ids are automatically padded from 466 to 512 to be a multiple of `config.attention_window`: 512\n",
      "2111it [2:13:04,  2.03it/s]Input ids are automatically padded from 158 to 512 to be a multiple of `config.attention_window`: 512\n",
      "2118it [2:13:31,  4.02s/it]Input ids are automatically padded from 224 to 512 to be a multiple of `config.attention_window`: 512\n",
      "2119it [2:13:31,  2.89s/it]Input ids are automatically padded from 247 to 512 to be a multiple of `config.attention_window`: 512\n",
      "2123it [2:13:35,  1.30s/it]Input ids are automatically padded from 197 to 512 to be a multiple of `config.attention_window`: 512\n",
      "2125it [2:13:35,  1.13it/s]Input ids are automatically padded from 177 to 512 to be a multiple of `config.attention_window`: 512\n",
      "2127it [2:13:36,  1.75it/s]Input ids are automatically padded from 369 to 512 to be a multiple of `config.attention_window`: 512\n",
      "2129it [2:13:37,  1.83it/s]Input ids are automatically padded from 106 to 512 to be a multiple of `config.attention_window`: 512\n",
      "2138it [2:13:58,  2.09s/it]Input ids are automatically padded from 175 to 512 to be a multiple of `config.attention_window`: 512\n",
      "2140it [2:14:16,  5.72s/it]Input ids are automatically padded from 280 to 512 to be a multiple of `config.attention_window`: 512\n",
      "2141it [2:14:16,  4.16s/it]Input ids are automatically padded from 69 to 512 to be a multiple of `config.attention_window`: 512\n",
      "Input ids are automatically padded from 33 to 512 to be a multiple of `config.attention_window`: 512\n",
      "2145it [2:14:17,  1.59s/it]Input ids are automatically padded from 45 to 512 to be a multiple of `config.attention_window`: 512\n",
      "2147it [2:14:17,  1.01it/s]Input ids are automatically padded from 493 to 512 to be a multiple of `config.attention_window`: 512\n",
      "2148it [2:14:18,  1.20it/s]Input ids are automatically padded from 481 to 512 to be a multiple of `config.attention_window`: 512\n",
      "2151it [2:14:19,  1.79it/s]Input ids are automatically padded from 241 to 512 to be a multiple of `config.attention_window`: 512\n",
      "2153it [2:14:19,  2.58it/s]Input ids are automatically padded from 204 to 512 to be a multiple of `config.attention_window`: 512\n",
      "2155it [2:14:42,  4.27s/it]Input ids are automatically padded from 11 to 512 to be a multiple of `config.attention_window`: 512\n",
      "2160it [2:15:14,  7.50s/it]Input ids are automatically padded from 315 to 512 to be a multiple of `config.attention_window`: 512\n",
      "2161it [2:15:14,  5.84s/it]Input ids are automatically padded from 71 to 512 to be a multiple of `config.attention_window`: 512\n",
      "Input ids are automatically padded from 298 to 512 to be a multiple of `config.attention_window`: 512\n",
      "2163it [2:15:15,  3.63s/it]Input ids are automatically padded from 552 to 1024 to be a multiple of `config.attention_window`: 512\n",
      "2164it [2:15:15,  2.93s/it]Input ids are automatically padded from 689 to 1024 to be a multiple of `config.attention_window`: 512\n",
      "2165it [2:15:16,  2.40s/it]Input ids are automatically padded from 134 to 512 to be a multiple of `config.attention_window`: 512\n",
      "2169it [2:15:17,  1.10s/it]Input ids are automatically padded from 93 to 512 to be a multiple of `config.attention_window`: 512\n",
      "Input ids are automatically padded from 693 to 1024 to be a multiple of `config.attention_window`: 512\n",
      "2174it [2:15:18,  2.46it/s]Input ids are automatically padded from 417 to 512 to be a multiple of `config.attention_window`: 512\n",
      "2178it [2:15:57,  4.48s/it]Input ids are automatically padded from 220 to 512 to be a multiple of `config.attention_window`: 512\n",
      "2181it [2:16:01,  2.50s/it]Input ids are automatically padded from 155 to 512 to be a multiple of `config.attention_window`: 512\n",
      "2185it [2:16:02,  1.01s/it]Input ids are automatically padded from 12 to 512 to be a multiple of `config.attention_window`: 512\n",
      "2187it [2:16:02,  1.54it/s]Input ids are automatically padded from 295 to 512 to be a multiple of `config.attention_window`: 512\n",
      "2191it [2:16:04,  2.20it/s]Input ids are automatically padded from 173 to 512 to be a multiple of `config.attention_window`: 512\n",
      "Input ids are automatically padded from 409 to 512 to be a multiple of `config.attention_window`: 512\n",
      "2193it [2:16:04,  3.10it/s]Input ids are automatically padded from 84 to 512 to be a multiple of `config.attention_window`: 512\n",
      "2195it [2:16:15,  2.06s/it]Input ids are automatically padded from 451 to 512 to be a multiple of `config.attention_window`: 512\n",
      "2198it [2:16:24,  2.58s/it]Input ids are automatically padded from 396 to 512 to be a multiple of `config.attention_window`: 512\n",
      "2200it [2:16:25,  1.82s/it]Input ids are automatically padded from 109 to 512 to be a multiple of `config.attention_window`: 512\n",
      "2202it [2:16:26,  1.07s/it]Input ids are automatically padded from 470 to 512 to be a multiple of `config.attention_window`: 512\n",
      "2204it [2:16:26,  1.35it/s]Input ids are automatically padded from 234 to 512 to be a multiple of `config.attention_window`: 512\n",
      "2207it [2:16:27,  2.27it/s]Input ids are automatically padded from 680 to 1024 to be a multiple of `config.attention_window`: 512\n",
      "2213it [2:16:29,  3.49it/s]Input ids are automatically padded from 80 to 512 to be a multiple of `config.attention_window`: 512\n",
      "2217it [2:16:46,  2.85s/it]Input ids are automatically padded from 575 to 1024 to be a multiple of `config.attention_window`: 512\n",
      "2219it [2:16:47,  1.81s/it]Input ids are automatically padded from 317 to 512 to be a multiple of `config.attention_window`: 512\n",
      "2220it [2:16:49,  1.77s/it]Input ids are automatically padded from 206 to 512 to be a multiple of `config.attention_window`: 512\n",
      "2224it [2:16:50,  1.34it/s]Input ids are automatically padded from 444 to 512 to be a multiple of `config.attention_window`: 512\n",
      "2225it [2:16:50,  1.43it/s]Input ids are automatically padded from 26 to 512 to be a multiple of `config.attention_window`: 512\n",
      "2229it [2:16:51,  2.07it/s]Input ids are automatically padded from 489 to 512 to be a multiple of `config.attention_window`: 512\n",
      "2231it [2:16:56,  1.43s/it]Input ids are automatically padded from 61 to 512 to be a multiple of `config.attention_window`: 512\n",
      "2237it [2:17:08,  2.13s/it]Input ids are automatically padded from 326 to 512 to be a multiple of `config.attention_window`: 512\n",
      "2238it [2:17:09,  1.73s/it]Input ids are automatically padded from 195 to 512 to be a multiple of `config.attention_window`: 512\n",
      "2240it [2:18:04, 13.66s/it]Input ids are automatically padded from 547 to 1024 to be a multiple of `config.attention_window`: 512\n",
      "2243it [2:18:05,  5.68s/it]Input ids are automatically padded from 121 to 512 to be a multiple of `config.attention_window`: 512\n",
      "2244it [2:18:05,  4.24s/it]Input ids are automatically padded from 720 to 1024 to be a multiple of `config.attention_window`: 512\n",
      "2245it [2:18:05,  3.11s/it]Input ids are automatically padded from 29 to 512 to be a multiple of `config.attention_window`: 512\n",
      "2263it [2:19:48,  9.42s/it]Input ids are automatically padded from 616 to 1024 to be a multiple of `config.attention_window`: 512\n",
      "2265it [2:20:50, 19.59s/it]Input ids are automatically padded from 648 to 1024 to be a multiple of `config.attention_window`: 512\n",
      "2270it [2:22:01, 19.42s/it]Input ids are automatically padded from 192 to 512 to be a multiple of `config.attention_window`: 512\n",
      "2271it [2:22:06, 15.12s/it]Input ids are automatically padded from 190 to 512 to be a multiple of `config.attention_window`: 512\n",
      "2275it [2:22:18,  6.13s/it]Input ids are automatically padded from 503 to 512 to be a multiple of `config.attention_window`: 512\n",
      "2280it [2:22:59,  7.11s/it]Input ids are automatically padded from 462 to 512 to be a multiple of `config.attention_window`: 512\n",
      "2281it [2:23:07,  7.25s/it]Input ids are automatically padded from 428 to 512 to be a multiple of `config.attention_window`: 512\n",
      "2282it [2:23:07,  5.11s/it]Input ids are automatically padded from 253 to 512 to be a multiple of `config.attention_window`: 512\n",
      "2287it [2:23:17,  2.48s/it]Input ids are automatically padded from 252 to 512 to be a multiple of `config.attention_window`: 512\n",
      "2300it [2:24:09,  8.53s/it]Input ids are automatically padded from 90 to 512 to be a multiple of `config.attention_window`: 512\n",
      "2303it [2:24:51, 10.79s/it]Input ids are automatically padded from 122 to 512 to be a multiple of `config.attention_window`: 512\n",
      "2304it [2:24:52,  7.79s/it]Input ids are automatically padded from 371 to 512 to be a multiple of `config.attention_window`: 512\n",
      "2306it [2:24:59,  5.69s/it]Input ids are automatically padded from 746 to 1024 to be a multiple of `config.attention_window`: 512\n",
      "2308it [2:27:58, 42.16s/it]Input ids are automatically padded from 579 to 1024 to be a multiple of `config.attention_window`: 512\n",
      "2310it [2:27:59, 20.83s/it]Input ids are automatically padded from 618 to 1024 to be a multiple of `config.attention_window`: 512\n",
      "2311it [2:28:00, 14.92s/it]Input ids are automatically padded from 67 to 512 to be a multiple of `config.attention_window`: 512\n",
      "2313it [2:28:39, 18.23s/it]Input ids are automatically padded from 606 to 1024 to be a multiple of `config.attention_window`: 512\n",
      "2314it [2:30:15, 41.80s/it]Input ids are automatically padded from 91 to 512 to be a multiple of `config.attention_window`: 512\n",
      "2316it [2:31:42, 46.31s/it]Input ids are automatically padded from 475 to 512 to be a multiple of `config.attention_window`: 512\n",
      "2321it [2:31:50,  8.63s/it]Input ids are automatically padded from 85 to 512 to be a multiple of `config.attention_window`: 512\n",
      "2328it [2:32:10,  2.76s/it]Input ids are automatically padded from 118 to 512 to be a multiple of `config.attention_window`: 512\n",
      "2330it [2:32:11,  1.59s/it]Input ids are automatically padded from 367 to 512 to be a multiple of `config.attention_window`: 512\n",
      "2331it [2:33:08,  3.94s/it]\n"
     ]
    }
   ],
   "source": [
    "import os\n",
    "import pandas as pd\n",
    "import torch\n",
    "import numpy as np\n",
    "from transformers import LongformerTokenizer, LongformerModel\n",
    "from tqdm import tqdm\n",
    "\n",
    "tokenizer = LongformerTokenizer.from_pretrained(\"allenai/longformer-base-4096\", \n",
    "                                                cache_dir=\"/media/souravsaini/Data/POP_OS/internship/env/model_weigths\")\n",
    "model = LongformerModel.from_pretrained(\"allenai/longformer-base-4096\",\n",
    "                                        cache_dir=\"/media/souravsaini/Data/POP_OS/internship/env/model_weigths\")\n",
    "Device = \"cuda\" if torch.cuda.is_available() else \"cpu\"\n",
    "model.to(Device)\n",
    "for index, row in tqdm(df.iterrows()):\n",
    "    text = row['text']\n",
    "    target = row['Anorexia']\n",
    "\n",
    "    subtexts = split_text_into_subtexts(text, 4000)\n",
    "\n",
    "    temp = []\n",
    "    model.eval()\n",
    "    for sub in subtexts:\n",
    "        inputs = tokenizer(sub, return_tensors=\"pt\", truncation=True, padding=True)\n",
    "        inputs = {key: value.to(Device) for key, value in inputs.items()}\n",
    "        with torch.no_grad():\n",
    "            output = model(**inputs)\n",
    "        temp.append(output.last_hidden_state.squeeze().cpu())\n",
    "    final_logits = torch.cat(temp, dim=0)\n",
    "    if target==0:\n",
    "        np.save(f\"/media/souravsaini/Data/POP_OS/internship/eRisk/dataset/negative/{index}.npy\",\n",
    "                final_logits.cpu().numpy())\n",
    "    else:\n",
    "        np.save(f\"/media/souravsaini/Data/POP_OS/internship/eRisk/dataset/{index}.npy\",\n",
    "                final_logits.cpu().numpy())"
   ]
  },
  {
   "cell_type": "code",
   "execution_count": 7,
   "metadata": {},
   "outputs": [],
   "source": [
    "import os\n",
    "import numpy as np\n",
    "import torch\n",
    "from torch.utils.data import Dataset, DataLoader\n",
    "from sklearn.model_selection import train_test_split\n",
    "\n",
    "Device = \"cuda\" if torch.cuda.is_available() else \"cpu\"\n",
    "# Device = \"cpu\"\n",
    "\n",
    "class CustomDataset(Dataset):\n",
    "    def __init__(self, data_folder, is_positive):\n",
    "        self.data_folder = data_folder\n",
    "        self.label = 1 if is_positive else 0\n",
    "        self.data = []\n",
    "\n",
    "        # Load data from numpy files\n",
    "        for file_name in os.listdir(data_folder):\n",
    "            if file_name.endswith('.npy'):\n",
    "                file_path = os.path.join(data_folder, file_name)\n",
    "                self.data.append(file_path)\n",
    "\n",
    "    def __len__(self):\n",
    "        return len(self.data)\n",
    "\n",
    "    def __getitem__(self, idx):\n",
    "        # return torch.from_numpy(np.load(self.data[idx])), torch.ones(1,1) * self.label\n",
    "        return self.data[idx], self.label\n",
    "\n",
    "# Paths to the folders containing numpy arrays\n",
    "positive_folder = \"/media/souravsaini/Data/POP_OS/internship/eRisk/dataset/positive\"\n",
    "negative_folder = \"/media/souravsaini/Data/POP_OS/internship/eRisk/dataset/negative\"\n",
    "\n",
    "# Create datasets for positive and negative classes\n",
    "positive_dataset = CustomDataset(positive_folder, is_positive=True)\n",
    "negative_dataset = CustomDataset(negative_folder, is_positive=False)\n",
    "\n",
    "# Split datasets into training and validation sets\n",
    "train_positive, val_positive = train_test_split(positive_dataset, test_size=0.4, random_state=42)\n",
    "train_negative, val_negative = train_test_split(negative_dataset, test_size=0.2, random_state=42)\n",
    "\n",
    "# Concatenate positive and negative training datasets\n",
    "train_dataset = torch.utils.data.ConcatDataset([train_positive, train_negative])\n",
    "\n",
    "# Concatenate positive and negative validation datasets\n",
    "val_dataset = torch.utils.data.ConcatDataset([val_positive, val_negative])"
   ]
  },
  {
   "cell_type": "code",
   "execution_count": 2,
   "metadata": {},
   "outputs": [],
   "source": [
    "import torch\n",
    "import torch.nn as nn\n",
    "import torch.nn.functional as F\n",
    "\n",
    "class BinaryClassifier(nn.Module):\n",
    "    def __init__(self):\n",
    "        super(BinaryClassifier, self).__init__()\n",
    "        # self.attention = nn.MultiheadAttention(768, 8)\n",
    "        self.fc1 = nn.Linear(in_features=768, out_features=384)\n",
    "        self.fc2 = nn.Linear(in_features=384, out_features=64)\n",
    "        self.fc3 = nn.Linear(in_features=64, out_features=1)\n",
    "        self.sigmoid = nn.Sigmoid()\n",
    "\n",
    "    def forward(self, x):\n",
    "        # x = x.unsqueeze(0)\n",
    "        # x, _ = self.attention(x, x, x)\n",
    "        # x = x.squeeze(0)\n",
    "        x = torch.relu(self.fc2(torch.relu(self.fc1(x))))\n",
    "        # Perform global pooling over the batch dimension\n",
    "        x = torch.mean(x, dim=0, keepdim=True)\n",
    "        x = self.fc3(x)\n",
    "        x = self.sigmoid(x)\n",
    "        return x"
   ]
  },
  {
   "cell_type": "code",
   "execution_count": 4,
   "metadata": {},
   "outputs": [],
   "source": [
    "Device = \"cuda\" if torch.cuda.is_available() else \"cpu\""
   ]
  },
  {
   "cell_type": "code",
   "execution_count": 5,
   "metadata": {},
   "outputs": [
    {
     "name": "stderr",
     "output_type": "stream",
     "text": [
      "/home/ajeet/Sourav/venv/lib/python3.11/site-packages/tqdm/auto.py:21: TqdmWarning: IProgress not found. Please update jupyter and ipywidgets. See https://ipywidgets.readthedocs.io/en/stable/user_install.html\n",
      "  from .autonotebook import tqdm as notebook_tqdm\n"
     ]
    }
   ],
   "source": [
    "# Initialize the model and optimizer\n",
    "num_labels = 1\n",
    "model = BinaryClassifier()\n",
    "model.to(Device)\n",
    "optimizer = torch.optim.Adam(model.parameters(), lr=1e-4)\n",
    "criterion = torch.nn.BCELoss()\n",
    "num_epochs = 50"
   ]
  },
  {
   "cell_type": "code",
   "execution_count": 10,
   "metadata": {},
   "outputs": [
    {
     "name": "stdout",
     "output_type": "stream",
     "text": [
      "torch.Size([12970, 768]) torch.Size([1, 1])\n",
      "torch.Size([1, 1])\n"
     ]
    }
   ],
   "source": [
    "for x, y in train_dataset:\n",
    "    x = torch.from_numpy(np.load(x)).to(Device)\n",
    "    y = torch.ones(1,1).to(Device) * y\n",
    "    print(x.shape, y.shape)\n",
    "    logits = model(x)\n",
    "    print(logits.shape)\n",
    "    break"
   ]
  },
  {
   "cell_type": "code",
   "execution_count": 11,
   "metadata": {},
   "outputs": [
    {
     "name": "stderr",
     "output_type": "stream",
     "text": [
      "training epoch = 0:  10%|█         | 181/1809 [04:24<39:35,  1.46s/it]  \n"
     ]
    },
    {
     "ename": "KeyboardInterrupt",
     "evalue": "",
     "output_type": "error",
     "traceback": [
      "\u001b[0;31m---------------------------------------------------------------------------\u001b[0m",
      "\u001b[0;31mKeyboardInterrupt\u001b[0m                         Traceback (most recent call last)",
      "Cell \u001b[0;32mIn[11], line 31\u001b[0m\n\u001b[1;32m     13\u001b[0m \u001b[38;5;66;03m# if feature.shape[0]>10000:\u001b[39;00m\n\u001b[1;32m     14\u001b[0m \u001b[38;5;66;03m#     partition = int((feature.shape[0])/2)\u001b[39;00m\n\u001b[1;32m     15\u001b[0m \n\u001b[0;32m   (...)\u001b[0m\n\u001b[1;32m     28\u001b[0m \n\u001b[1;32m     29\u001b[0m \u001b[38;5;66;03m# else:            \u001b[39;00m\n\u001b[1;32m     30\u001b[0m feature \u001b[38;5;241m=\u001b[39m feature\u001b[38;5;241m.\u001b[39mto(Device)\n\u001b[0;32m---> 31\u001b[0m logits \u001b[38;5;241m=\u001b[39m \u001b[43mmodel\u001b[49m\u001b[43m(\u001b[49m\u001b[43mfeature\u001b[49m\u001b[43m)\u001b[49m\n\u001b[1;32m     32\u001b[0m loss \u001b[38;5;241m=\u001b[39m criterion(logits, labels\u001b[38;5;241m.\u001b[39mfloat())\n\u001b[1;32m     33\u001b[0m loss_train \u001b[38;5;241m+\u001b[39m\u001b[38;5;241m=\u001b[39m loss\u001b[38;5;241m.\u001b[39mitem()\n",
      "File \u001b[0;32m/media/souravsaini/Data/POP_OS/internship/env/lib/python3.10/site-packages/torch/nn/modules/module.py:1194\u001b[0m, in \u001b[0;36mModule._call_impl\u001b[0;34m(self, *input, **kwargs)\u001b[0m\n\u001b[1;32m   1190\u001b[0m \u001b[38;5;66;03m# If we don't have any hooks, we want to skip the rest of the logic in\u001b[39;00m\n\u001b[1;32m   1191\u001b[0m \u001b[38;5;66;03m# this function, and just call forward.\u001b[39;00m\n\u001b[1;32m   1192\u001b[0m \u001b[38;5;28;01mif\u001b[39;00m \u001b[38;5;129;01mnot\u001b[39;00m (\u001b[38;5;28mself\u001b[39m\u001b[38;5;241m.\u001b[39m_backward_hooks \u001b[38;5;129;01mor\u001b[39;00m \u001b[38;5;28mself\u001b[39m\u001b[38;5;241m.\u001b[39m_forward_hooks \u001b[38;5;129;01mor\u001b[39;00m \u001b[38;5;28mself\u001b[39m\u001b[38;5;241m.\u001b[39m_forward_pre_hooks \u001b[38;5;129;01mor\u001b[39;00m _global_backward_hooks\n\u001b[1;32m   1193\u001b[0m         \u001b[38;5;129;01mor\u001b[39;00m _global_forward_hooks \u001b[38;5;129;01mor\u001b[39;00m _global_forward_pre_hooks):\n\u001b[0;32m-> 1194\u001b[0m     \u001b[38;5;28;01mreturn\u001b[39;00m \u001b[43mforward_call\u001b[49m\u001b[43m(\u001b[49m\u001b[38;5;241;43m*\u001b[39;49m\u001b[38;5;28;43minput\u001b[39;49m\u001b[43m,\u001b[49m\u001b[43m \u001b[49m\u001b[38;5;241;43m*\u001b[39;49m\u001b[38;5;241;43m*\u001b[39;49m\u001b[43mkwargs\u001b[49m\u001b[43m)\u001b[49m\n\u001b[1;32m   1195\u001b[0m \u001b[38;5;66;03m# Do not call functions when jit is used\u001b[39;00m\n\u001b[1;32m   1196\u001b[0m full_backward_hooks, non_full_backward_hooks \u001b[38;5;241m=\u001b[39m [], []\n",
      "Cell \u001b[0;32mIn[8], line 16\u001b[0m, in \u001b[0;36mBinaryClassifier.forward\u001b[0;34m(self, x)\u001b[0m\n\u001b[1;32m     14\u001b[0m \u001b[38;5;28;01mdef\u001b[39;00m \u001b[38;5;21mforward\u001b[39m(\u001b[38;5;28mself\u001b[39m, x):\n\u001b[1;32m     15\u001b[0m     x \u001b[38;5;241m=\u001b[39m x\u001b[38;5;241m.\u001b[39munsqueeze(\u001b[38;5;241m0\u001b[39m)\n\u001b[0;32m---> 16\u001b[0m     x, _ \u001b[38;5;241m=\u001b[39m \u001b[38;5;28;43mself\u001b[39;49m\u001b[38;5;241;43m.\u001b[39;49m\u001b[43mattention\u001b[49m\u001b[43m(\u001b[49m\u001b[43mx\u001b[49m\u001b[43m,\u001b[49m\u001b[43m \u001b[49m\u001b[43mx\u001b[49m\u001b[43m,\u001b[49m\u001b[43m \u001b[49m\u001b[43mx\u001b[49m\u001b[43m)\u001b[49m\n\u001b[1;32m     17\u001b[0m     x \u001b[38;5;241m=\u001b[39m x\u001b[38;5;241m.\u001b[39msqueeze(\u001b[38;5;241m0\u001b[39m)\n\u001b[1;32m     18\u001b[0m     x \u001b[38;5;241m=\u001b[39m torch\u001b[38;5;241m.\u001b[39mrelu(\u001b[38;5;28mself\u001b[39m\u001b[38;5;241m.\u001b[39mfc2(torch\u001b[38;5;241m.\u001b[39mrelu(\u001b[38;5;28mself\u001b[39m\u001b[38;5;241m.\u001b[39mfc1(x))))\n",
      "File \u001b[0;32m/media/souravsaini/Data/POP_OS/internship/env/lib/python3.10/site-packages/torch/nn/modules/module.py:1194\u001b[0m, in \u001b[0;36mModule._call_impl\u001b[0;34m(self, *input, **kwargs)\u001b[0m\n\u001b[1;32m   1190\u001b[0m \u001b[38;5;66;03m# If we don't have any hooks, we want to skip the rest of the logic in\u001b[39;00m\n\u001b[1;32m   1191\u001b[0m \u001b[38;5;66;03m# this function, and just call forward.\u001b[39;00m\n\u001b[1;32m   1192\u001b[0m \u001b[38;5;28;01mif\u001b[39;00m \u001b[38;5;129;01mnot\u001b[39;00m (\u001b[38;5;28mself\u001b[39m\u001b[38;5;241m.\u001b[39m_backward_hooks \u001b[38;5;129;01mor\u001b[39;00m \u001b[38;5;28mself\u001b[39m\u001b[38;5;241m.\u001b[39m_forward_hooks \u001b[38;5;129;01mor\u001b[39;00m \u001b[38;5;28mself\u001b[39m\u001b[38;5;241m.\u001b[39m_forward_pre_hooks \u001b[38;5;129;01mor\u001b[39;00m _global_backward_hooks\n\u001b[1;32m   1193\u001b[0m         \u001b[38;5;129;01mor\u001b[39;00m _global_forward_hooks \u001b[38;5;129;01mor\u001b[39;00m _global_forward_pre_hooks):\n\u001b[0;32m-> 1194\u001b[0m     \u001b[38;5;28;01mreturn\u001b[39;00m \u001b[43mforward_call\u001b[49m\u001b[43m(\u001b[49m\u001b[38;5;241;43m*\u001b[39;49m\u001b[38;5;28;43minput\u001b[39;49m\u001b[43m,\u001b[49m\u001b[43m \u001b[49m\u001b[38;5;241;43m*\u001b[39;49m\u001b[38;5;241;43m*\u001b[39;49m\u001b[43mkwargs\u001b[49m\u001b[43m)\u001b[49m\n\u001b[1;32m   1195\u001b[0m \u001b[38;5;66;03m# Do not call functions when jit is used\u001b[39;00m\n\u001b[1;32m   1196\u001b[0m full_backward_hooks, non_full_backward_hooks \u001b[38;5;241m=\u001b[39m [], []\n",
      "File \u001b[0;32m/media/souravsaini/Data/POP_OS/internship/env/lib/python3.10/site-packages/torch/nn/modules/activation.py:1167\u001b[0m, in \u001b[0;36mMultiheadAttention.forward\u001b[0;34m(self, query, key, value, key_padding_mask, need_weights, attn_mask, average_attn_weights)\u001b[0m\n\u001b[1;32m   1156\u001b[0m     attn_output, attn_output_weights \u001b[38;5;241m=\u001b[39m F\u001b[38;5;241m.\u001b[39mmulti_head_attention_forward(\n\u001b[1;32m   1157\u001b[0m         query, key, value, \u001b[38;5;28mself\u001b[39m\u001b[38;5;241m.\u001b[39membed_dim, \u001b[38;5;28mself\u001b[39m\u001b[38;5;241m.\u001b[39mnum_heads,\n\u001b[1;32m   1158\u001b[0m         \u001b[38;5;28mself\u001b[39m\u001b[38;5;241m.\u001b[39min_proj_weight, \u001b[38;5;28mself\u001b[39m\u001b[38;5;241m.\u001b[39min_proj_bias,\n\u001b[0;32m   (...)\u001b[0m\n\u001b[1;32m   1164\u001b[0m         q_proj_weight\u001b[38;5;241m=\u001b[39m\u001b[38;5;28mself\u001b[39m\u001b[38;5;241m.\u001b[39mq_proj_weight, k_proj_weight\u001b[38;5;241m=\u001b[39m\u001b[38;5;28mself\u001b[39m\u001b[38;5;241m.\u001b[39mk_proj_weight,\n\u001b[1;32m   1165\u001b[0m         v_proj_weight\u001b[38;5;241m=\u001b[39m\u001b[38;5;28mself\u001b[39m\u001b[38;5;241m.\u001b[39mv_proj_weight, average_attn_weights\u001b[38;5;241m=\u001b[39maverage_attn_weights)\n\u001b[1;32m   1166\u001b[0m \u001b[38;5;28;01melse\u001b[39;00m:\n\u001b[0;32m-> 1167\u001b[0m     attn_output, attn_output_weights \u001b[38;5;241m=\u001b[39m \u001b[43mF\u001b[49m\u001b[38;5;241;43m.\u001b[39;49m\u001b[43mmulti_head_attention_forward\u001b[49m\u001b[43m(\u001b[49m\n\u001b[1;32m   1168\u001b[0m \u001b[43m        \u001b[49m\u001b[43mquery\u001b[49m\u001b[43m,\u001b[49m\u001b[43m \u001b[49m\u001b[43mkey\u001b[49m\u001b[43m,\u001b[49m\u001b[43m \u001b[49m\u001b[43mvalue\u001b[49m\u001b[43m,\u001b[49m\u001b[43m \u001b[49m\u001b[38;5;28;43mself\u001b[39;49m\u001b[38;5;241;43m.\u001b[39;49m\u001b[43membed_dim\u001b[49m\u001b[43m,\u001b[49m\u001b[43m \u001b[49m\u001b[38;5;28;43mself\u001b[39;49m\u001b[38;5;241;43m.\u001b[39;49m\u001b[43mnum_heads\u001b[49m\u001b[43m,\u001b[49m\n\u001b[1;32m   1169\u001b[0m \u001b[43m        \u001b[49m\u001b[38;5;28;43mself\u001b[39;49m\u001b[38;5;241;43m.\u001b[39;49m\u001b[43min_proj_weight\u001b[49m\u001b[43m,\u001b[49m\u001b[43m \u001b[49m\u001b[38;5;28;43mself\u001b[39;49m\u001b[38;5;241;43m.\u001b[39;49m\u001b[43min_proj_bias\u001b[49m\u001b[43m,\u001b[49m\n\u001b[1;32m   1170\u001b[0m \u001b[43m        \u001b[49m\u001b[38;5;28;43mself\u001b[39;49m\u001b[38;5;241;43m.\u001b[39;49m\u001b[43mbias_k\u001b[49m\u001b[43m,\u001b[49m\u001b[43m \u001b[49m\u001b[38;5;28;43mself\u001b[39;49m\u001b[38;5;241;43m.\u001b[39;49m\u001b[43mbias_v\u001b[49m\u001b[43m,\u001b[49m\u001b[43m \u001b[49m\u001b[38;5;28;43mself\u001b[39;49m\u001b[38;5;241;43m.\u001b[39;49m\u001b[43madd_zero_attn\u001b[49m\u001b[43m,\u001b[49m\n\u001b[1;32m   1171\u001b[0m \u001b[43m        \u001b[49m\u001b[38;5;28;43mself\u001b[39;49m\u001b[38;5;241;43m.\u001b[39;49m\u001b[43mdropout\u001b[49m\u001b[43m,\u001b[49m\u001b[43m \u001b[49m\u001b[38;5;28;43mself\u001b[39;49m\u001b[38;5;241;43m.\u001b[39;49m\u001b[43mout_proj\u001b[49m\u001b[38;5;241;43m.\u001b[39;49m\u001b[43mweight\u001b[49m\u001b[43m,\u001b[49m\u001b[43m \u001b[49m\u001b[38;5;28;43mself\u001b[39;49m\u001b[38;5;241;43m.\u001b[39;49m\u001b[43mout_proj\u001b[49m\u001b[38;5;241;43m.\u001b[39;49m\u001b[43mbias\u001b[49m\u001b[43m,\u001b[49m\n\u001b[1;32m   1172\u001b[0m \u001b[43m        \u001b[49m\u001b[43mtraining\u001b[49m\u001b[38;5;241;43m=\u001b[39;49m\u001b[38;5;28;43mself\u001b[39;49m\u001b[38;5;241;43m.\u001b[39;49m\u001b[43mtraining\u001b[49m\u001b[43m,\u001b[49m\n\u001b[1;32m   1173\u001b[0m \u001b[43m        \u001b[49m\u001b[43mkey_padding_mask\u001b[49m\u001b[38;5;241;43m=\u001b[39;49m\u001b[43mkey_padding_mask\u001b[49m\u001b[43m,\u001b[49m\u001b[43m \u001b[49m\u001b[43mneed_weights\u001b[49m\u001b[38;5;241;43m=\u001b[39;49m\u001b[43mneed_weights\u001b[49m\u001b[43m,\u001b[49m\n\u001b[1;32m   1174\u001b[0m \u001b[43m        \u001b[49m\u001b[43mattn_mask\u001b[49m\u001b[38;5;241;43m=\u001b[39;49m\u001b[43mattn_mask\u001b[49m\u001b[43m,\u001b[49m\u001b[43m \u001b[49m\u001b[43maverage_attn_weights\u001b[49m\u001b[38;5;241;43m=\u001b[39;49m\u001b[43maverage_attn_weights\u001b[49m\u001b[43m)\u001b[49m\n\u001b[1;32m   1175\u001b[0m \u001b[38;5;28;01mif\u001b[39;00m \u001b[38;5;28mself\u001b[39m\u001b[38;5;241m.\u001b[39mbatch_first \u001b[38;5;129;01mand\u001b[39;00m is_batched:\n\u001b[1;32m   1176\u001b[0m     \u001b[38;5;28;01mreturn\u001b[39;00m attn_output\u001b[38;5;241m.\u001b[39mtranspose(\u001b[38;5;241m1\u001b[39m, \u001b[38;5;241m0\u001b[39m), attn_output_weights\n",
      "File \u001b[0;32m/media/souravsaini/Data/POP_OS/internship/env/lib/python3.10/site-packages/torch/nn/functional.py:5168\u001b[0m, in \u001b[0;36mmulti_head_attention_forward\u001b[0;34m(query, key, value, embed_dim_to_check, num_heads, in_proj_weight, in_proj_bias, bias_k, bias_v, add_zero_attn, dropout_p, out_proj_weight, out_proj_bias, training, key_padding_mask, need_weights, attn_mask, use_separate_proj_weight, q_proj_weight, k_proj_weight, v_proj_weight, static_k, static_v, average_attn_weights)\u001b[0m\n\u001b[1;32m   5165\u001b[0m attn_output \u001b[38;5;241m=\u001b[39m torch\u001b[38;5;241m.\u001b[39mbmm(attn_output_weights, v)\n\u001b[1;32m   5167\u001b[0m attn_output \u001b[38;5;241m=\u001b[39m attn_output\u001b[38;5;241m.\u001b[39mtranspose(\u001b[38;5;241m0\u001b[39m, \u001b[38;5;241m1\u001b[39m)\u001b[38;5;241m.\u001b[39mcontiguous()\u001b[38;5;241m.\u001b[39mview(tgt_len \u001b[38;5;241m*\u001b[39m bsz, embed_dim)\n\u001b[0;32m-> 5168\u001b[0m attn_output \u001b[38;5;241m=\u001b[39m \u001b[43mlinear\u001b[49m\u001b[43m(\u001b[49m\u001b[43mattn_output\u001b[49m\u001b[43m,\u001b[49m\u001b[43m \u001b[49m\u001b[43mout_proj_weight\u001b[49m\u001b[43m,\u001b[49m\u001b[43m \u001b[49m\u001b[43mout_proj_bias\u001b[49m\u001b[43m)\u001b[49m\n\u001b[1;32m   5169\u001b[0m attn_output \u001b[38;5;241m=\u001b[39m attn_output\u001b[38;5;241m.\u001b[39mview(tgt_len, bsz, attn_output\u001b[38;5;241m.\u001b[39msize(\u001b[38;5;241m1\u001b[39m))\n\u001b[1;32m   5171\u001b[0m \u001b[38;5;28;01mif\u001b[39;00m need_weights:\n\u001b[1;32m   5172\u001b[0m     \u001b[38;5;66;03m# optionally average attention weights over heads\u001b[39;00m\n",
      "\u001b[0;31mKeyboardInterrupt\u001b[0m: "
     ]
    }
   ],
   "source": [
    "import os\n",
    "from tqdm import tqdm\n",
    "\n",
    "best_val_loss = 1e+6\n",
    "\n",
    "for epoch in range(num_epochs):\n",
    "    model.train()\n",
    "    loss_train = 0\n",
    "    for feature, labels in tqdm(train_dataset, desc=f\"training epoch = {epoch}\"): \n",
    "        optimizer.zero_grad()\n",
    "        feature = torch.from_numpy(np.load(feature))\n",
    "        labels = torch.ones(1,1).to(Device) * labels\n",
    "        # if feature.shape[0]>10000:\n",
    "        #     partition = int((feature.shape[0])/2)\n",
    "\n",
    "        #     ft = feature[:partition]\n",
    "        #     logits = model(ft.to(Device))\n",
    "        #     loss1 = criterion(logits, labels.float())\n",
    "\n",
    "        #     ft = ft.cpu()\n",
    "        #     ft = feature[partition:]\n",
    "        #     logits = model(ft.to(Device))\n",
    "        #     loss2 = criterion(logits, labels.float())\n",
    "\n",
    "        #     loss_train += (loss1.item() + loss2.item())/2\n",
    "        #     loss = (loss1 + loss2)/2\n",
    "        #     loss.backward()\n",
    "\n",
    "        # else:            \n",
    "        feature = feature.to(Device)\n",
    "        logits = model(feature)\n",
    "        loss = criterion(logits, labels.float())\n",
    "        loss_train += loss.item()\n",
    "        loss.backward()\n",
    "        optimizer.step()\n",
    "\n",
    "    print(f\"training_loss = {loss_train/len(train_dataset)}\")\n",
    "\n",
    "    # Validation loop\n",
    "    model.eval()\n",
    "    val_loss = 0\n",
    "    num_val_steps =  0\n",
    "    with torch.no_grad():\n",
    "        for feature, labels in tqdm(val_dataset, desc=f\"validation epoch = {epoch}\"):\n",
    "            labels = torch.ones(1,1).to(Device) * labels\n",
    "            feature = torch.from_numpy(np.load(feature))\n",
    "            # if feature.shape[0]>10000:\n",
    "            #     partition = int((feature.shape[0])/2)\n",
    "\n",
    "            #     ft = feature[:partition]\n",
    "            #     logits = model(ft.to(Device))\n",
    "            #     loss1 = criterion(logits, labels.float())\n",
    "\n",
    "            #     ft = ft.cpu()\n",
    "            #     ft = feature[partition:]\n",
    "            #     logits = model(ft.to(Device))\n",
    "            #     loss2 = criterion(logits, labels.float())\n",
    "\n",
    "            #     val_loss += (loss1.item() + loss2.item())/2\n",
    "            #     loss = (loss1 + loss2)/2\n",
    "\n",
    "            # else:            \n",
    "            feature = feature.to(Device)\n",
    "            logits = model(feature)\n",
    "            loss = criterion(logits, labels.float())\n",
    "            val_loss += loss.item()\n",
    "\n",
    "            num_val_steps += 1\n",
    "\n",
    "    val_loss /= num_val_steps\n",
    "\n",
    "    if val_loss < best_val_loss:\n",
    "        best_val_loss = val_loss\n",
    "        torch.save(model.state_dict(),\n",
    "               os.path.join(\"/media/souravsaini/Data/POP_OS/internship/models_wts/longformer/att\",\n",
    "                            f\"model_best.pt\"))\n",
    "\n",
    "    if epoch%5 == 0:\n",
    "        torch.save(model.state_dict(),\n",
    "               os.path.join(\"/media/souravsaini/Data/POP_OS/internship/models_wts/longformer/att\",\n",
    "                            f\"epoch_{epoch}_val_loss_{val_loss}.pt\"))\n",
    "\n",
    "    print(f'Epoch {epoch + 1}/{num_epochs}')\n",
    "    print(f'Val loss: {val_loss:.4f}')"
   ]
  },
  {
   "cell_type": "code",
   "execution_count": 25,
   "metadata": {},
   "outputs": [
    {
     "name": "stderr",
     "output_type": "stream",
     "text": [
      "validation epoch = 49: 100%|██████████| 522/522 [03:30<00:00,  2.48it/s]\n"
     ]
    }
   ],
   "source": [
    "probs, target = [], []\n",
    "model.load_state_dict(torch.load(\"/media/souravsaini/Data/POP_OS/internship/models_wts/longformer/epoch_45_val_loss_1.516101801927047.pt\"))\n",
    "model.eval()\n",
    "with torch.no_grad():\n",
    "    for feature, labels in tqdm(val_dataset, desc=f\"validation epoch = {epoch}\"):\n",
    "        feature = torch.from_numpy(np.load(feature))\n",
    "        if feature.shape[0]>10000:\n",
    "            partition = int((feature.shape[0])/2)\n",
    "\n",
    "            ft = feature[:partition]\n",
    "            logits = model(ft.to(Device))\n",
    "\n",
    "            ft = ft.cpu()\n",
    "            ft = feature[partition:]\n",
    "            logits += model(ft.to(Device))\n",
    "            logits /= 2\n",
    "\n",
    "        else:            \n",
    "            feature = feature.to(Device)\n",
    "            logits = model(feature)\n",
    "\n",
    "        probs.append(logits[0][0])\n",
    "        target.append(labels)"
   ]
  },
  {
   "cell_type": "code",
   "execution_count": 6,
   "metadata": {},
   "outputs": [],
   "source": [
    "import pandas as pd\n",
    "import numpy as np\n",
    "import matplotlib.pyplot as plt\n",
    "from sklearn.metrics import precision_score, recall_score\n",
    "\n",
    "def threshold_prediction(probabilities, threshold):\n",
    "    predictions = []\n",
    "    for prob in probabilities:\n",
    "        if prob > threshold: predictions.append(1)\n",
    "        else: predictions.append(0)\n",
    "    return predictions\n",
    "\n",
    "def calculate_precision_recall(probabilities, labels, thresholds):\n",
    "    results = []\n",
    "    for threshold in thresholds:\n",
    "        predictions = threshold_prediction(probabilities, threshold)\n",
    "        precision = precision_score(labels, predictions)\n",
    "        recall = recall_score(labels, predictions)\n",
    "        results.append({'Threshold': threshold, 'Precision': precision, 'Recall': recall})\n",
    "    return pd.DataFrame(results)"
   ]
  },
  {
   "cell_type": "markdown",
   "metadata": {},
   "source": [
    "## results from last epoch model's weight"
   ]
  },
  {
   "cell_type": "code",
   "execution_count": 27,
   "metadata": {},
   "outputs": [
    {
     "data": {
      "image/png": "[encoded data removed]",
      "text/plain": [
       "<Figure size 640x480 with 1 Axes>"
      ]
     },
     "metadata": {},
     "output_type": "display_data"
    },
    {
     "name": "stdout",
     "output_type": "stream",
     "text": [
      "    Threshold  Precision    Recall\n",
      "0      0.0000   0.210728  1.000000\n",
      "1      0.0001   0.852273  0.681818\n",
      "2      0.0002   0.878049  0.654545\n",
      "3      0.0003   0.886076  0.636364\n",
      "4      0.0004   0.886076  0.636364\n",
      "5      0.0005   0.883117  0.618182\n",
      "6      0.0006   0.894737  0.618182\n",
      "7      0.0007   0.894737  0.618182\n",
      "8      0.0008   0.904110  0.600000\n",
      "9      0.0009   0.902778  0.590909\n",
      "10     0.0010   0.915493  0.590909\n",
      "11     0.0011   0.915493  0.590909\n",
      "12     0.0012   0.915493  0.590909\n",
      "13     0.0013   0.915493  0.590909\n",
      "14     0.0014   0.913043  0.572727\n",
      "15     0.0015   0.911765  0.563636\n",
      "16     0.0016   0.925373  0.563636\n",
      "17     0.0017   0.924242  0.554545\n",
      "18     0.0018   0.924242  0.554545\n",
      "19     0.0019   0.924242  0.554545\n",
      "20     0.0020   0.924242  0.554545\n",
      "21     0.0021   0.924242  0.554545\n",
      "22     0.0022   0.923077  0.545455\n",
      "23     0.0023   0.923077  0.545455\n",
      "24     0.0024   0.923077  0.545455\n",
      "25     0.0025   0.923077  0.545455\n",
      "26     0.0026   0.923077  0.545455\n",
      "27     0.0027   0.923077  0.545455\n",
      "28     0.0028   0.921875  0.536364\n",
      "29     0.0029   0.921875  0.536364\n",
      "30     0.0030   0.936508  0.536364\n",
      "31     0.0031   0.936508  0.536364\n",
      "32     0.0032   0.936508  0.536364\n",
      "33     0.0033   0.936508  0.536364\n",
      "34     0.0034   0.936508  0.536364\n",
      "35     0.0035   0.936508  0.536364\n",
      "36     0.0036   0.936508  0.536364\n",
      "37     0.0037   0.936508  0.536364\n",
      "38     0.0038   0.936508  0.536364\n",
      "39     0.0039   0.935484  0.527273\n",
      "40     0.0040   0.935484  0.527273\n",
      "41     0.0041   0.950820  0.527273\n",
      "42     0.0042   0.950000  0.518182\n",
      "43     0.0043   0.950000  0.518182\n",
      "44     0.0044   0.950000  0.518182\n",
      "45     0.0045   0.949153  0.509091\n",
      "46     0.0046   0.948276  0.500000\n",
      "47     0.0047   0.948276  0.500000\n",
      "48     0.0048   0.948276  0.500000\n",
      "49     0.0049   0.947368  0.490909\n"
     ]
    }
   ],
   "source": [
    "thresholds = np.arange(0, 0.005, 0.0001)\n",
    "results_df = calculate_precision_recall(probs, target, thresholds)\n",
    "\n",
    "plt.plot(thresholds, results_df['Precision'], color=\"red\")\n",
    "plt.plot(thresholds, results_df['Recall'], color=\"blue\")\n",
    "plt.xlabel('Threshold')\n",
    "plt.title('Precision-Recall Curve')\n",
    "plt.grid(True)\n",
    "plt.show()\n",
    "\n",
    "print(results_df)"
   ]
  },
  {
   "cell_type": "code",
   "execution_count": 16,
   "metadata": {},
   "outputs": [
    {
     "name": "stderr",
     "output_type": "stream",
     "text": [
      "validation epoch = 49: 100%|██████████| 522/522 [03:27<00:00,  2.51it/s]\n"
     ]
    }
   ],
   "source": [
    "probs, target = [], []\n",
    "model.load_state_dict(torch.load(\"/media/souravsaini/Data/POP_OS/internship/models_wts/longformer/epoch_20_val_loss_1.2015374532240015.pt\"))\n",
    "model.to(Device)\n",
    "model.eval()\n",
    "with torch.no_grad():\n",
    "    for feature, labels in tqdm(val_dataset, desc=f\"validation epoch = {epoch}\"):\n",
    "        feature = torch.from_numpy(np.load(feature))\n",
    "        if feature.shape[0]>10000:\n",
    "            partition = int((feature.shape[0])/2)\n",
    "\n",
    "            ft = feature[:partition]\n",
    "            logits = model(ft.to(Device))\n",
    "\n",
    "            ft = ft.cpu()\n",
    "            ft = feature[partition:]\n",
    "            logits += model(ft.to(Device))\n",
    "            logits /= 2\n",
    "\n",
    "        else:            \n",
    "            feature = feature.to(Device)\n",
    "            logits = model(feature)\n",
    "\n",
    "        probs.append(logits[0][0].cpu())\n",
    "        target.append(labels)"
   ]
  },
  {
   "cell_type": "markdown",
   "metadata": {},
   "source": [
    "## result from best validation loss model's weight"
   ]
  },
  {
   "cell_type": "code",
   "execution_count": 23,
   "metadata": {},
   "outputs": [
    {
     "data": {
      "image/png": "[encoded data removed]",
      "text/plain": [
       "<Figure size 640x480 with 1 Axes>"
      ]
     },
     "metadata": {},
     "output_type": "display_data"
    },
    {
     "name": "stdout",
     "output_type": "stream",
     "text": [
      "    Threshold  Precision    Recall\n",
      "0      0.0000   0.210728  1.000000\n",
      "1      0.0001   0.683824  0.845455\n",
      "2      0.0002   0.728000  0.827273\n",
      "3      0.0003   0.767241  0.809091\n",
      "4      0.0004   0.779817  0.772727\n",
      "5      0.0005   0.792453  0.763636\n",
      "6      0.0006   0.805825  0.754545\n",
      "7      0.0007   0.821782  0.754545\n",
      "8      0.0008   0.826531  0.736364\n",
      "9      0.0009   0.833333  0.727273\n",
      "10     0.0010   0.831579  0.718182\n",
      "11     0.0011   0.836957  0.700000\n",
      "12     0.0012   0.835165  0.690909\n",
      "13     0.0013   0.833333  0.681818\n",
      "14     0.0014   0.833333  0.681818\n",
      "15     0.0015   0.833333  0.681818\n",
      "16     0.0016   0.842697  0.681818\n",
      "17     0.0017   0.839080  0.663636\n",
      "18     0.0018   0.847059  0.654545\n",
      "19     0.0019   0.853659  0.636364\n",
      "20     0.0020   0.864198  0.636364\n",
      "21     0.0021   0.864198  0.636364\n",
      "22     0.0022   0.884615  0.627273\n",
      "23     0.0023   0.884615  0.627273\n",
      "24     0.0024   0.883117  0.618182\n",
      "25     0.0025   0.883117  0.618182\n",
      "26     0.0026   0.883117  0.618182\n",
      "27     0.0027   0.880000  0.600000\n",
      "28     0.0028   0.880000  0.600000\n",
      "29     0.0029   0.880000  0.600000\n",
      "30     0.0030   0.880000  0.600000\n",
      "31     0.0031   0.878378  0.590909\n",
      "32     0.0032   0.875000  0.572727\n",
      "33     0.0033   0.875000  0.572727\n",
      "34     0.0034   0.875000  0.572727\n",
      "35     0.0035   0.873239  0.563636\n",
      "36     0.0036   0.873239  0.563636\n",
      "37     0.0037   0.885714  0.563636\n",
      "38     0.0038   0.885714  0.563636\n",
      "39     0.0039   0.885714  0.563636\n",
      "40     0.0040   0.897059  0.554545\n",
      "41     0.0041   0.910448  0.554545\n",
      "42     0.0042   0.923077  0.545455\n",
      "43     0.0043   0.921875  0.536364\n",
      "44     0.0044   0.921875  0.536364\n",
      "45     0.0045   0.921875  0.536364\n",
      "46     0.0046   0.920635  0.527273\n",
      "47     0.0047   0.920635  0.527273\n",
      "48     0.0048   0.919355  0.518182\n",
      "49     0.0049   0.918033  0.509091\n"
     ]
    }
   ],
   "source": [
    "thresholds = np.arange(0, 0.005, 0.0001)\n",
    "results_df = calculate_precision_recall(probs, target, thresholds)\n",
    "\n",
    "plt.plot(thresholds, results_df['Precision'], color=\"red\")\n",
    "plt.plot(thresholds, results_df['Recall'], color=\"blue\")\n",
    "plt.xlabel('Threshold')\n",
    "plt.title('Precision-Recall Curve')\n",
    "plt.grid(True)\n",
    "plt.show()\n",
    "\n",
    "print(results_df)"
   ]
  },
  {
   "cell_type": "code",
   "execution_count": 24,
   "metadata": {},
   "outputs": [],
   "source": [
    "results_df.to_csv(\"/media/souravsaini/Data/POP_OS/internship/eRisk/threshold_vs_precision_recall_longformer.csv\")"
   ]
  },
  {
   "cell_type": "code",
   "execution_count": 3,
   "metadata": {},
   "outputs": [
    {
     "name": "stdout",
     "output_type": "stream",
     "text": [
      "torch.Size([768, 20])\n"
     ]
    }
   ],
   "source": [
    "import torch\n",
    "import torch.nn as nn\n",
    "\n",
    "# Assuming you have your input tensor stored in 'input_tensor'\n",
    "# input_tensor shape: (x, 765)\n",
    "\n",
    "# Reshape input tensor to (seq_len, batch_size, embed_dim) format\n",
    "input_tensor = torch.rand((20, 768))\n",
    "# input_tensor = input_tensor.transpose(0, 1)  # Shape: (765, x)\n",
    "\n",
    "# Define the multi-head self-attention layer\n",
    "# You need to specify the embedding dimension and the number of attention heads\n",
    "embed_dim = 768\n",
    "num_heads = 8  # You can adjust this number as needed\n",
    "attention_layer = nn.MultiheadAttention(embed_dim, num_heads)\n",
    "\n",
    "# Apply self-attention\n",
    "# Make sure to pass the input tensor twice because it's a self-attention mechanism\n",
    "output_tensor, _ = attention_layer(input_tensor, input_tensor, input_tensor)\n",
    "\n",
    "# Reshape the output tensor back to its original shape\n",
    "output_tensor = output_tensor.transpose(0, 1)  # Shape: (x, 765)\n",
    "\n",
    "print(output_tensor.shape)\n"
   ]
  },
  {
   "cell_type": "code",
   "execution_count": 4,
   "metadata": {},
   "outputs": [],
   "source": [
    "import torch\n",
    "import torch.nn as nn\n",
    "import torch.nn.functional as F\n",
    "\n",
    "class SelfAttention(nn.Module):\n",
    "    def __init__(self, input_dim):\n",
    "        super(SelfAttention, self).__init__()\n",
    "        self.input_dim = input_dim\n",
    "        self.query = nn.Linear(input_dim, input_dim)\n",
    "        self.key = nn.Linear(input_dim, input_dim)\n",
    "        self.value = nn.Linear(input_dim, input_dim)\n",
    "        self.softmax = nn.Softmax(dim=2)\n",
    "        \n",
    "    def forward(self, x):\n",
    "        queries = self.query(x)\n",
    "        keys = self.key(x)\n",
    "        values = self.value(x)\n",
    "        scores = torch.bmm(queries, keys.transpose(1, 2)) / (self.input_dim ** 0.5)\n",
    "        # attention = self.softmax(scores)\n",
    "        weighted = torch.bmm(scores, values)\n",
    "        return weighted"
   ]
  },
  {
   "cell_type": "code",
   "execution_count": 6,
   "metadata": {},
   "outputs": [
    {
     "data": {
      "text/plain": [
       "torch.Size([1, 20, 768])"
      ]
     },
     "execution_count": 6,
     "metadata": {},
     "output_type": "execute_result"
    }
   ],
   "source": [
    "att = SelfAttention(768)\n",
    "\n",
    "out = att(input_tensor.unsqueeze(0))\n",
    "out.shape"
   ]
  },
  {
   "cell_type": "markdown",
   "metadata": {},
   "source": [
    "# Testing"
   ]
  },
  {
   "cell_type": "code",
   "execution_count": 1,
   "metadata": {},
   "outputs": [
    {
     "data": {
      "text/html": [
       "<div>\n",
       "<style scoped>\n",
       "    .dataframe tbody tr th:only-of-type {\n",
       "        vertical-align: middle;\n",
       "    }\n",
       "\n",
       "    .dataframe tbody tr th {\n",
       "        vertical-align: top;\n",
       "    }\n",
       "\n",
       "    .dataframe thead th {\n",
       "        text-align: right;\n",
       "    }\n",
       "</style>\n",
       "<table border=\"1\" class=\"dataframe\">\n",
       "  <thead>\n",
       "    <tr style=\"text-align: right;\">\n",
       "      <th></th>\n",
       "      <th>Unnamed: 0</th>\n",
       "      <th>subject_ID</th>\n",
       "      <th>num_writings</th>\n",
       "      <th>text</th>\n",
       "      <th>Anorexia</th>\n",
       "    </tr>\n",
       "  </thead>\n",
       "  <tbody>\n",
       "    <tr>\n",
       "      <th>0</th>\n",
       "      <td>0</td>\n",
       "      <td>1152_1</td>\n",
       "      <td>4</td>\n",
       "      <td>Student at uw. Need a few hours away from cam...</td>\n",
       "      <td>1</td>\n",
       "    </tr>\n",
       "    <tr>\n",
       "      <th>1</th>\n",
       "      <td>1</td>\n",
       "      <td>1169_1</td>\n",
       "      <td>14</td>\n",
       "      <td>Haha, nailed it dude.\\n     Rings are defi...</td>\n",
       "      <td>1</td>\n",
       "    </tr>\n",
       "    <tr>\n",
       "      <th>2</th>\n",
       "      <td>2</td>\n",
       "      <td>1441_1</td>\n",
       "      <td>55</td>\n",
       "      <td>Right, which is why I said those people wo...</td>\n",
       "      <td>1</td>\n",
       "    </tr>\n",
       "    <tr>\n",
       "      <th>3</th>\n",
       "      <td>3</td>\n",
       "      <td>1518_1</td>\n",
       "      <td>31</td>\n",
       "      <td>I just have a lot of self hatred and depri...</td>\n",
       "      <td>1</td>\n",
       "    </tr>\n",
       "    <tr>\n",
       "      <th>4</th>\n",
       "      <td>4</td>\n",
       "      <td>1773_1</td>\n",
       "      <td>1</td>\n",
       "      <td>Thank you for your long reply! I have been...</td>\n",
       "      <td>1</td>\n",
       "    </tr>\n",
       "  </tbody>\n",
       "</table>\n",
       "</div>"
      ],
      "text/plain": [
       "   Unnamed: 0 subject_ID  num_writings  \\\n",
       "0           0     1152_1             4   \n",
       "1           1     1169_1            14   \n",
       "2           2     1441_1            55   \n",
       "3           3     1518_1            31   \n",
       "4           4     1773_1             1   \n",
       "\n",
       "                                                text  Anorexia  \n",
       "0   Student at uw. Need a few hours away from cam...         1  \n",
       "1      Haha, nailed it dude.\\n     Rings are defi...         1  \n",
       "2      Right, which is why I said those people wo...         1  \n",
       "3      I just have a lot of self hatred and depri...         1  \n",
       "4      Thank you for your long reply! I have been...         1  "
      ]
     },
     "execution_count": 1,
     "metadata": {},
     "output_type": "execute_result"
    }
   ],
   "source": [
    "import pandas as pd\n",
    "\n",
    "testing_dataset = pd.read_csv(\"/home/ajeet/Sourav/test_data.csv\")\n",
    "testing_dataset.head()"
   ]
  },
  {
   "cell_type": "code",
   "execution_count": 5,
   "metadata": {},
   "outputs": [],
   "source": [
    "delay_dict = dict(zip(testing_dataset['subject_ID'], testing_dataset['num_writings']))"
   ]
  },
  {
   "cell_type": "code",
   "execution_count": 8,
   "metadata": {},
   "outputs": [
    {
     "name": "stderr",
     "output_type": "stream",
     "text": [
      "0it [00:00, ?it/s]Asking to truncate to max_length but no maximum length is provided and the model has no predefined maximum length. Default to no truncation.\n",
      "Input ids are automatically padded to be a multiple of `config.attention_window`: 512\n",
      "2it [00:00,  3.00it/s]"
     ]
    },
    {
     "name": "stdout",
     "output_type": "stream",
     "text": [
      "done\n",
      "\n",
      "done\n",
      "\n"
     ]
    },
    {
     "name": "stderr",
     "output_type": "stream",
     "text": [
      "4it [00:01,  3.93it/s]"
     ]
    },
    {
     "name": "stdout",
     "output_type": "stream",
     "text": [
      "done\n",
      "\n",
      "done\n",
      "\n",
      "done\n",
      "\n"
     ]
    },
    {
     "name": "stderr",
     "output_type": "stream",
     "text": [
      "7it [00:02,  3.15it/s]"
     ]
    },
    {
     "name": "stdout",
     "output_type": "stream",
     "text": [
      "done\n",
      "\n",
      "done\n",
      "\n",
      "done\n",
      "\n"
     ]
    },
    {
     "name": "stderr",
     "output_type": "stream",
     "text": [
      "10it [00:02,  5.89it/s]"
     ]
    },
    {
     "name": "stdout",
     "output_type": "stream",
     "text": [
      "done\n",
      "\n",
      "done\n",
      "\n",
      "done\n",
      "\n"
     ]
    },
    {
     "name": "stderr",
     "output_type": "stream",
     "text": [
      "12it [00:02,  6.31it/s]"
     ]
    },
    {
     "name": "stdout",
     "output_type": "stream",
     "text": [
      "done\n",
      "\n"
     ]
    },
    {
     "name": "stderr",
     "output_type": "stream",
     "text": [
      "15it [00:03,  4.47it/s]"
     ]
    },
    {
     "name": "stdout",
     "output_type": "stream",
     "text": [
      "done\n",
      "\n",
      "done\n",
      "\n",
      "done\n",
      "\n"
     ]
    },
    {
     "name": "stderr",
     "output_type": "stream",
     "text": [
      "19it [00:04,  6.95it/s]"
     ]
    },
    {
     "name": "stdout",
     "output_type": "stream",
     "text": [
      "done\n",
      "\n",
      "done\n",
      "\n",
      "done\n",
      "\n",
      "done\n",
      "\n",
      "done\n",
      "\n"
     ]
    },
    {
     "name": "stderr",
     "output_type": "stream",
     "text": [
      "21it [00:05,  4.29it/s]"
     ]
    },
    {
     "name": "stdout",
     "output_type": "stream",
     "text": [
      "done\n",
      "\n"
     ]
    },
    {
     "name": "stderr",
     "output_type": "stream",
     "text": [
      "22it [00:05,  4.22it/s]"
     ]
    },
    {
     "name": "stdout",
     "output_type": "stream",
     "text": [
      "done\n",
      "\n"
     ]
    },
    {
     "name": "stderr",
     "output_type": "stream",
     "text": [
      "23it [00:05,  4.16it/s]"
     ]
    },
    {
     "name": "stdout",
     "output_type": "stream",
     "text": [
      "done\n",
      "\n"
     ]
    },
    {
     "name": "stderr",
     "output_type": "stream",
     "text": [
      "24it [00:05,  3.78it/s]"
     ]
    },
    {
     "name": "stdout",
     "output_type": "stream",
     "text": [
      "done\n",
      "\n",
      "done\n",
      "\n",
      "done\n",
      "\n"
     ]
    },
    {
     "name": "stderr",
     "output_type": "stream",
     "text": [
      "30it [00:06,  7.50it/s]"
     ]
    },
    {
     "name": "stdout",
     "output_type": "stream",
     "text": [
      "done\n",
      "\n",
      "done\n",
      "\n",
      "done\n",
      "\n",
      "done\n",
      "\n",
      "done\n",
      "\n"
     ]
    },
    {
     "name": "stderr",
     "output_type": "stream",
     "text": [
      "34it [00:06,  8.78it/s]"
     ]
    },
    {
     "name": "stdout",
     "output_type": "stream",
     "text": [
      "done\n",
      "\n",
      "done\n",
      "\n",
      "done\n",
      "\n",
      "done\n",
      "\n",
      "done\n",
      "\n"
     ]
    },
    {
     "name": "stderr",
     "output_type": "stream",
     "text": [
      "38it [00:07,  7.32it/s]"
     ]
    },
    {
     "name": "stdout",
     "output_type": "stream",
     "text": [
      "done\n",
      "\n",
      "done\n",
      "\n"
     ]
    },
    {
     "name": "stderr",
     "output_type": "stream",
     "text": [
      "40it [00:07,  8.47it/s]"
     ]
    },
    {
     "name": "stdout",
     "output_type": "stream",
     "text": [
      "done\n",
      "\n",
      "done\n",
      "\n"
     ]
    },
    {
     "name": "stderr",
     "output_type": "stream",
     "text": [
      "42it [00:07,  8.52it/s]"
     ]
    },
    {
     "name": "stdout",
     "output_type": "stream",
     "text": [
      "done\n",
      "\n",
      "done\n",
      "\n"
     ]
    },
    {
     "name": "stderr",
     "output_type": "stream",
     "text": [
      "43it [00:08,  7.26it/s]"
     ]
    },
    {
     "name": "stdout",
     "output_type": "stream",
     "text": [
      "done\n",
      "\n",
      "done\n",
      "\n"
     ]
    },
    {
     "name": "stderr",
     "output_type": "stream",
     "text": [
      "45it [00:08,  6.75it/s]"
     ]
    },
    {
     "name": "stdout",
     "output_type": "stream",
     "text": [
      "done\n",
      "\n"
     ]
    },
    {
     "name": "stderr",
     "output_type": "stream",
     "text": [
      "46it [00:09,  4.13it/s]"
     ]
    },
    {
     "name": "stdout",
     "output_type": "stream",
     "text": [
      "done\n",
      "\n",
      "done\n",
      "\n"
     ]
    },
    {
     "name": "stderr",
     "output_type": "stream",
     "text": [
      "48it [00:09,  4.34it/s]"
     ]
    },
    {
     "name": "stdout",
     "output_type": "stream",
     "text": [
      "done\n",
      "\n",
      "done\n",
      "\n",
      "done\n",
      "\n"
     ]
    },
    {
     "name": "stderr",
     "output_type": "stream",
     "text": [
      "51it [00:09,  4.94it/s]"
     ]
    },
    {
     "name": "stdout",
     "output_type": "stream",
     "text": [
      "done\n",
      "\n"
     ]
    },
    {
     "name": "stderr",
     "output_type": "stream",
     "text": [
      "53it [00:10,  4.75it/s]"
     ]
    },
    {
     "name": "stdout",
     "output_type": "stream",
     "text": [
      "done\n",
      "\n",
      "done\n",
      "\n"
     ]
    },
    {
     "name": "stderr",
     "output_type": "stream",
     "text": [
      "57it [00:10,  7.50it/s]"
     ]
    },
    {
     "name": "stdout",
     "output_type": "stream",
     "text": [
      "done\n",
      "\n",
      "done\n",
      "\n",
      "done\n",
      "\n",
      "done\n",
      "\n",
      "done\n",
      "\n",
      "done\n",
      "\n"
     ]
    },
    {
     "name": "stderr",
     "output_type": "stream",
     "text": [
      "62it [00:11,  9.62it/s]"
     ]
    },
    {
     "name": "stdout",
     "output_type": "stream",
     "text": [
      "done\n",
      "\n",
      "done\n",
      "\n",
      "done\n",
      "\n",
      "done\n",
      "\n"
     ]
    },
    {
     "name": "stderr",
     "output_type": "stream",
     "text": [
      "64it [00:11, 10.59it/s]"
     ]
    },
    {
     "name": "stdout",
     "output_type": "stream",
     "text": [
      "done\n",
      "\n",
      "done\n",
      "\n"
     ]
    },
    {
     "name": "stderr",
     "output_type": "stream",
     "text": [
      "66it [00:11,  9.92it/s]"
     ]
    },
    {
     "name": "stdout",
     "output_type": "stream",
     "text": [
      "done\n",
      "\n"
     ]
    },
    {
     "name": "stderr",
     "output_type": "stream",
     "text": [
      "68it [00:12,  5.06it/s]"
     ]
    },
    {
     "name": "stdout",
     "output_type": "stream",
     "text": [
      "done\n",
      "\n",
      "done\n",
      "\n",
      "done\n",
      "\n"
     ]
    },
    {
     "name": "stderr",
     "output_type": "stream",
     "text": [
      "70it [00:12,  5.94it/s]"
     ]
    },
    {
     "name": "stdout",
     "output_type": "stream",
     "text": [
      "done\n",
      "\n"
     ]
    },
    {
     "name": "stderr",
     "output_type": "stream",
     "text": [
      "72it [00:13,  3.41it/s]"
     ]
    },
    {
     "name": "stdout",
     "output_type": "stream",
     "text": [
      "done\n",
      "\n",
      "done\n",
      "\n"
     ]
    },
    {
     "name": "stderr",
     "output_type": "stream",
     "text": [
      "73it [00:14,  3.94it/s]"
     ]
    },
    {
     "name": "stdout",
     "output_type": "stream",
     "text": [
      "done\n",
      "\n"
     ]
    },
    {
     "name": "stderr",
     "output_type": "stream",
     "text": [
      "76it [00:14,  5.75it/s]"
     ]
    },
    {
     "name": "stdout",
     "output_type": "stream",
     "text": [
      "done\n",
      "\n",
      "done\n",
      "\n",
      "done\n",
      "\n"
     ]
    },
    {
     "name": "stderr",
     "output_type": "stream",
     "text": [
      "80it [00:15,  6.73it/s]"
     ]
    },
    {
     "name": "stdout",
     "output_type": "stream",
     "text": [
      "done\n",
      "\n",
      "done\n",
      "\n",
      "done\n",
      "\n",
      "done\n",
      "\n",
      "done\n",
      "\n"
     ]
    },
    {
     "name": "stderr",
     "output_type": "stream",
     "text": [
      "82it [00:15,  7.01it/s]"
     ]
    },
    {
     "name": "stdout",
     "output_type": "stream",
     "text": [
      "done\n",
      "\n"
     ]
    },
    {
     "name": "stderr",
     "output_type": "stream",
     "text": [
      "84it [00:15,  7.11it/s]"
     ]
    },
    {
     "name": "stdout",
     "output_type": "stream",
     "text": [
      "done\n",
      "\n",
      "done\n",
      "\n"
     ]
    },
    {
     "name": "stderr",
     "output_type": "stream",
     "text": [
      "86it [00:16,  5.86it/s]"
     ]
    },
    {
     "name": "stdout",
     "output_type": "stream",
     "text": [
      "done\n",
      "\n",
      "done\n",
      "\n"
     ]
    },
    {
     "name": "stderr",
     "output_type": "stream",
     "text": [
      "88it [00:16,  6.21it/s]"
     ]
    },
    {
     "name": "stdout",
     "output_type": "stream",
     "text": [
      "done\n",
      "\n",
      "done\n",
      "\n"
     ]
    },
    {
     "name": "stderr",
     "output_type": "stream",
     "text": [
      "89it [00:16,  5.23it/s]"
     ]
    },
    {
     "name": "stdout",
     "output_type": "stream",
     "text": [
      "done\n",
      "\n",
      "done\n",
      "\n"
     ]
    },
    {
     "name": "stderr",
     "output_type": "stream",
     "text": [
      "92it [00:17,  5.48it/s]"
     ]
    },
    {
     "name": "stdout",
     "output_type": "stream",
     "text": [
      "done\n",
      "\n",
      "done\n",
      "\n",
      "done\n",
      "\n"
     ]
    },
    {
     "name": "stderr",
     "output_type": "stream",
     "text": [
      "94it [00:17,  7.57it/s]"
     ]
    },
    {
     "name": "stdout",
     "output_type": "stream",
     "text": [
      "done\n",
      "\n",
      "done\n",
      "\n"
     ]
    },
    {
     "name": "stderr",
     "output_type": "stream",
     "text": [
      "97it [00:17,  6.28it/s]"
     ]
    },
    {
     "name": "stdout",
     "output_type": "stream",
     "text": [
      "done\n",
      "\n",
      "done\n",
      "\n"
     ]
    },
    {
     "name": "stderr",
     "output_type": "stream",
     "text": [
      "100it [00:18,  7.67it/s]"
     ]
    },
    {
     "name": "stdout",
     "output_type": "stream",
     "text": [
      "done\n",
      "\n",
      "done\n",
      "\n",
      "done\n",
      "\n",
      "done\n",
      "\n",
      "done\n",
      "\n"
     ]
    },
    {
     "name": "stderr",
     "output_type": "stream",
     "text": [
      "104it [00:18,  9.11it/s]"
     ]
    },
    {
     "name": "stdout",
     "output_type": "stream",
     "text": [
      "done\n",
      "\n",
      "done\n",
      "\n",
      "done\n",
      "\n",
      "done\n",
      "\n"
     ]
    },
    {
     "name": "stderr",
     "output_type": "stream",
     "text": [
      "107it [00:18,  8.28it/s]"
     ]
    },
    {
     "name": "stdout",
     "output_type": "stream",
     "text": [
      "done\n",
      "\n",
      "done\n",
      "\n",
      "done\n",
      "\n"
     ]
    },
    {
     "name": "stderr",
     "output_type": "stream",
     "text": [
      "110it [00:19,  7.49it/s]"
     ]
    },
    {
     "name": "stdout",
     "output_type": "stream",
     "text": [
      "done\n",
      "\n"
     ]
    },
    {
     "name": "stderr",
     "output_type": "stream",
     "text": [
      "111it [00:19,  6.92it/s]"
     ]
    },
    {
     "name": "stdout",
     "output_type": "stream",
     "text": [
      "done\n",
      "\n",
      "done\n",
      "\n"
     ]
    },
    {
     "name": "stderr",
     "output_type": "stream",
     "text": [
      "115it [00:20,  6.46it/s]"
     ]
    },
    {
     "name": "stdout",
     "output_type": "stream",
     "text": [
      "done\n",
      "\n",
      "done\n",
      "\n",
      "done\n",
      "\n",
      "done\n",
      "\n"
     ]
    },
    {
     "name": "stderr",
     "output_type": "stream",
     "text": [
      "117it [00:20,  7.12it/s]"
     ]
    },
    {
     "name": "stdout",
     "output_type": "stream",
     "text": [
      "done\n",
      "\n"
     ]
    },
    {
     "name": "stderr",
     "output_type": "stream",
     "text": [
      "118it [00:21,  2.83it/s]"
     ]
    },
    {
     "name": "stdout",
     "output_type": "stream",
     "text": [
      "done\n",
      "\n",
      "done\n",
      "\n",
      "done\n",
      "\n"
     ]
    },
    {
     "name": "stderr",
     "output_type": "stream",
     "text": [
      "121it [00:22,  2.82it/s]"
     ]
    },
    {
     "name": "stdout",
     "output_type": "stream",
     "text": [
      "done\n",
      "\n"
     ]
    },
    {
     "name": "stderr",
     "output_type": "stream",
     "text": [
      "123it [00:23,  2.68it/s]"
     ]
    },
    {
     "name": "stdout",
     "output_type": "stream",
     "text": [
      "done\n",
      "\n",
      "done\n",
      "\n",
      "done\n",
      "\n"
     ]
    },
    {
     "name": "stderr",
     "output_type": "stream",
     "text": [
      "125it [00:24,  3.11it/s]"
     ]
    },
    {
     "name": "stdout",
     "output_type": "stream",
     "text": [
      "done\n",
      "\n"
     ]
    },
    {
     "name": "stderr",
     "output_type": "stream",
     "text": [
      "126it [00:24,  2.93it/s]"
     ]
    },
    {
     "name": "stdout",
     "output_type": "stream",
     "text": [
      "done\n",
      "\n",
      "done\n",
      "\n"
     ]
    },
    {
     "name": "stderr",
     "output_type": "stream",
     "text": [
      "128it [00:25,  3.14it/s]"
     ]
    },
    {
     "name": "stdout",
     "output_type": "stream",
     "text": [
      "done\n",
      "\n"
     ]
    },
    {
     "name": "stderr",
     "output_type": "stream",
     "text": [
      "129it [00:25,  2.98it/s]"
     ]
    },
    {
     "name": "stdout",
     "output_type": "stream",
     "text": [
      "done\n",
      "\n",
      "done\n",
      "\n"
     ]
    },
    {
     "name": "stderr",
     "output_type": "stream",
     "text": [
      "131it [00:26,  3.86it/s]"
     ]
    },
    {
     "name": "stdout",
     "output_type": "stream",
     "text": [
      "done\n",
      "\n"
     ]
    },
    {
     "name": "stderr",
     "output_type": "stream",
     "text": [
      "132it [00:26,  3.85it/s]"
     ]
    },
    {
     "name": "stdout",
     "output_type": "stream",
     "text": [
      "done\n",
      "\n"
     ]
    },
    {
     "name": "stderr",
     "output_type": "stream",
     "text": [
      "133it [00:26,  3.18it/s]"
     ]
    },
    {
     "name": "stdout",
     "output_type": "stream",
     "text": [
      "done\n",
      "\n",
      "done\n",
      "\n"
     ]
    },
    {
     "name": "stderr",
     "output_type": "stream",
     "text": [
      "135it [00:27,  4.02it/s]"
     ]
    },
    {
     "name": "stdout",
     "output_type": "stream",
     "text": [
      "done\n",
      "\n"
     ]
    },
    {
     "name": "stderr",
     "output_type": "stream",
     "text": [
      "136it [00:27,  3.14it/s]"
     ]
    },
    {
     "name": "stdout",
     "output_type": "stream",
     "text": [
      "done\n",
      "\n",
      "done\n",
      "\n"
     ]
    },
    {
     "name": "stderr",
     "output_type": "stream",
     "text": [
      "138it [00:28,  3.66it/s]"
     ]
    },
    {
     "name": "stdout",
     "output_type": "stream",
     "text": [
      "done\n",
      "\n"
     ]
    },
    {
     "name": "stderr",
     "output_type": "stream",
     "text": [
      "139it [00:28,  2.76it/s]"
     ]
    },
    {
     "name": "stdout",
     "output_type": "stream",
     "text": [
      "done\n",
      "\n"
     ]
    },
    {
     "name": "stderr",
     "output_type": "stream",
     "text": [
      "140it [00:29,  2.85it/s]"
     ]
    },
    {
     "name": "stdout",
     "output_type": "stream",
     "text": [
      "done\n",
      "\n",
      "done\n",
      "\n"
     ]
    },
    {
     "name": "stderr",
     "output_type": "stream",
     "text": [
      "142it [00:29,  3.90it/s]"
     ]
    },
    {
     "name": "stdout",
     "output_type": "stream",
     "text": [
      "done\n",
      "\n"
     ]
    },
    {
     "name": "stderr",
     "output_type": "stream",
     "text": [
      "143it [00:30,  2.73it/s]"
     ]
    },
    {
     "name": "stdout",
     "output_type": "stream",
     "text": [
      "done\n",
      "\n"
     ]
    },
    {
     "name": "stderr",
     "output_type": "stream",
     "text": [
      "145it [00:30,  3.50it/s]"
     ]
    },
    {
     "name": "stdout",
     "output_type": "stream",
     "text": [
      "done\n",
      "\n",
      "done\n",
      "\n",
      "done\n",
      "\n",
      "done\n",
      "\n"
     ]
    },
    {
     "name": "stderr",
     "output_type": "stream",
     "text": [
      "150it [00:31,  6.00it/s]"
     ]
    },
    {
     "name": "stdout",
     "output_type": "stream",
     "text": [
      "done\n",
      "\n",
      "done\n",
      "\n",
      "done\n",
      "\n"
     ]
    },
    {
     "name": "stderr",
     "output_type": "stream",
     "text": [
      "151it [00:31,  6.44it/s]"
     ]
    },
    {
     "name": "stdout",
     "output_type": "stream",
     "text": [
      "done\n",
      "\n"
     ]
    },
    {
     "name": "stderr",
     "output_type": "stream",
     "text": [
      "153it [00:32,  3.51it/s]"
     ]
    },
    {
     "name": "stdout",
     "output_type": "stream",
     "text": [
      "done\n",
      "\n",
      "done\n",
      "\n"
     ]
    },
    {
     "name": "stderr",
     "output_type": "stream",
     "text": [
      "158it [00:32,  7.80it/s]"
     ]
    },
    {
     "name": "stdout",
     "output_type": "stream",
     "text": [
      "done\n",
      "\n",
      "done\n",
      "\n",
      "done\n",
      "\n",
      "done\n",
      "\n",
      "done\n",
      "\n"
     ]
    },
    {
     "name": "stderr",
     "output_type": "stream",
     "text": [
      "160it [00:32,  6.96it/s]"
     ]
    },
    {
     "name": "stdout",
     "output_type": "stream",
     "text": [
      "done\n",
      "\n",
      "done\n",
      "\n",
      "done\n",
      "\n"
     ]
    },
    {
     "name": "stderr",
     "output_type": "stream",
     "text": [
      "165it [00:33, 10.85it/s]"
     ]
    },
    {
     "name": "stdout",
     "output_type": "stream",
     "text": [
      "done\n",
      "\n",
      "done\n",
      "\n",
      "done\n",
      "\n",
      "done\n",
      "\n"
     ]
    },
    {
     "name": "stderr",
     "output_type": "stream",
     "text": [
      "167it [00:33, 11.54it/s]"
     ]
    },
    {
     "name": "stdout",
     "output_type": "stream",
     "text": [
      "done\n",
      "\n",
      "done\n",
      "\n",
      "done\n",
      "\n",
      "done\n",
      "\n"
     ]
    },
    {
     "name": "stderr",
     "output_type": "stream",
     "text": [
      "170it [00:33, 12.77it/s]"
     ]
    },
    {
     "name": "stdout",
     "output_type": "stream",
     "text": [
      "done\n",
      "\n"
     ]
    },
    {
     "name": "stderr",
     "output_type": "stream",
     "text": [
      "172it [00:33,  8.26it/s]"
     ]
    },
    {
     "name": "stdout",
     "output_type": "stream",
     "text": [
      "done\n",
      "\n",
      "done\n",
      "\n"
     ]
    },
    {
     "name": "stderr",
     "output_type": "stream",
     "text": [
      "174it [00:34,  8.01it/s]"
     ]
    },
    {
     "name": "stdout",
     "output_type": "stream",
     "text": [
      "done\n",
      "\n",
      "done\n",
      "\n",
      "done\n",
      "\n"
     ]
    },
    {
     "name": "stderr",
     "output_type": "stream",
     "text": [
      "178it [00:34, 10.06it/s]"
     ]
    },
    {
     "name": "stdout",
     "output_type": "stream",
     "text": [
      "done\n",
      "\n",
      "done\n",
      "\n",
      "done\n",
      "\n",
      "done\n",
      "\n"
     ]
    },
    {
     "name": "stderr",
     "output_type": "stream",
     "text": [
      "180it [00:34,  8.30it/s]"
     ]
    },
    {
     "name": "stdout",
     "output_type": "stream",
     "text": [
      "done\n",
      "\n"
     ]
    },
    {
     "name": "stderr",
     "output_type": "stream",
     "text": [
      "182it [00:35,  7.94it/s]"
     ]
    },
    {
     "name": "stdout",
     "output_type": "stream",
     "text": [
      "done\n",
      "\n",
      "done\n",
      "\n"
     ]
    },
    {
     "name": "stderr",
     "output_type": "stream",
     "text": [
      "183it [00:35,  6.80it/s]"
     ]
    },
    {
     "name": "stdout",
     "output_type": "stream",
     "text": [
      "done\n",
      "\n"
     ]
    },
    {
     "name": "stderr",
     "output_type": "stream",
     "text": [
      "187it [00:35,  7.36it/s]"
     ]
    },
    {
     "name": "stdout",
     "output_type": "stream",
     "text": [
      "done\n",
      "\n",
      "done\n",
      "\n",
      "done\n",
      "\n",
      "done\n",
      "\n"
     ]
    },
    {
     "name": "stderr",
     "output_type": "stream",
     "text": [
      "189it [00:36,  4.35it/s]"
     ]
    },
    {
     "name": "stdout",
     "output_type": "stream",
     "text": [
      "done\n",
      "\n",
      "done\n",
      "\n"
     ]
    },
    {
     "name": "stderr",
     "output_type": "stream",
     "text": [
      "191it [00:37,  3.70it/s]"
     ]
    },
    {
     "name": "stdout",
     "output_type": "stream",
     "text": [
      "done\n",
      "\n",
      "done\n",
      "\n"
     ]
    },
    {
     "name": "stderr",
     "output_type": "stream",
     "text": [
      "192it [00:37,  3.92it/s]"
     ]
    },
    {
     "name": "stdout",
     "output_type": "stream",
     "text": [
      "done\n",
      "\n",
      "done\n",
      "\n"
     ]
    },
    {
     "name": "stderr",
     "output_type": "stream",
     "text": [
      "195it [00:38,  4.51it/s]"
     ]
    },
    {
     "name": "stdout",
     "output_type": "stream",
     "text": [
      "done\n",
      "\n",
      "done\n",
      "\n",
      "done\n",
      "\n"
     ]
    },
    {
     "name": "stderr",
     "output_type": "stream",
     "text": [
      "199it [00:38,  7.37it/s]"
     ]
    },
    {
     "name": "stdout",
     "output_type": "stream",
     "text": [
      "done\n",
      "\n",
      "done\n",
      "\n",
      "done\n",
      "\n"
     ]
    },
    {
     "name": "stderr",
     "output_type": "stream",
     "text": [
      "200it [00:38,  7.74it/s]"
     ]
    },
    {
     "name": "stdout",
     "output_type": "stream",
     "text": [
      "done\n",
      "\n",
      "done\n",
      "\n",
      "done\n",
      "\n"
     ]
    },
    {
     "name": "stderr",
     "output_type": "stream",
     "text": [
      "205it [00:39,  9.46it/s]"
     ]
    },
    {
     "name": "stdout",
     "output_type": "stream",
     "text": [
      "done\n",
      "\n",
      "done\n",
      "\n",
      "done\n",
      "\n"
     ]
    },
    {
     "name": "stderr",
     "output_type": "stream",
     "text": [
      "207it [00:39,  9.02it/s]"
     ]
    },
    {
     "name": "stdout",
     "output_type": "stream",
     "text": [
      "done\n",
      "\n",
      "done\n",
      "\n",
      "done\n",
      "\n"
     ]
    },
    {
     "name": "stderr",
     "output_type": "stream",
     "text": [
      "211it [00:39, 10.15it/s]"
     ]
    },
    {
     "name": "stdout",
     "output_type": "stream",
     "text": [
      "done\n",
      "\n",
      "done\n",
      "\n",
      "done\n",
      "\n",
      "done\n",
      "\n",
      "done\n",
      "\n"
     ]
    },
    {
     "name": "stderr",
     "output_type": "stream",
     "text": [
      "214it [00:40,  8.29it/s]"
     ]
    },
    {
     "name": "stdout",
     "output_type": "stream",
     "text": [
      "done\n",
      "\n",
      "done\n",
      "\n"
     ]
    },
    {
     "name": "stderr",
     "output_type": "stream",
     "text": [
      "216it [00:40,  5.96it/s]"
     ]
    },
    {
     "name": "stdout",
     "output_type": "stream",
     "text": [
      "done\n",
      "\n",
      "done\n",
      "\n",
      "done\n",
      "\n"
     ]
    },
    {
     "name": "stderr",
     "output_type": "stream",
     "text": [
      "219it [00:41,  5.88it/s]"
     ]
    },
    {
     "name": "stdout",
     "output_type": "stream",
     "text": [
      "done\n",
      "\n"
     ]
    },
    {
     "name": "stderr",
     "output_type": "stream",
     "text": [
      "220it [00:41,  4.51it/s]"
     ]
    },
    {
     "name": "stdout",
     "output_type": "stream",
     "text": [
      "done\n",
      "\n",
      "done\n",
      "\n",
      "done\n",
      "\n"
     ]
    },
    {
     "name": "stderr",
     "output_type": "stream",
     "text": [
      "223it [00:42,  6.07it/s]"
     ]
    },
    {
     "name": "stdout",
     "output_type": "stream",
     "text": [
      "done\n",
      "\n"
     ]
    },
    {
     "name": "stderr",
     "output_type": "stream",
     "text": [
      "224it [00:42,  5.50it/s]"
     ]
    },
    {
     "name": "stdout",
     "output_type": "stream",
     "text": [
      "done\n",
      "\n"
     ]
    },
    {
     "name": "stderr",
     "output_type": "stream",
     "text": [
      "227it [00:42,  6.18it/s]"
     ]
    },
    {
     "name": "stdout",
     "output_type": "stream",
     "text": [
      "done\n",
      "\n",
      "done\n",
      "\n",
      "done\n",
      "\n"
     ]
    },
    {
     "name": "stderr",
     "output_type": "stream",
     "text": [
      "228it [00:43,  6.60it/s]"
     ]
    },
    {
     "name": "stdout",
     "output_type": "stream",
     "text": [
      "done\n",
      "\n",
      "done\n",
      "\n"
     ]
    },
    {
     "name": "stderr",
     "output_type": "stream",
     "text": [
      "230it [00:43,  7.15it/s]"
     ]
    },
    {
     "name": "stdout",
     "output_type": "stream",
     "text": [
      "done\n",
      "\n",
      "done\n",
      "\n"
     ]
    },
    {
     "name": "stderr",
     "output_type": "stream",
     "text": [
      "232it [00:43,  5.17it/s]"
     ]
    },
    {
     "name": "stdout",
     "output_type": "stream",
     "text": [
      "done\n",
      "\n",
      "done\n",
      "\n"
     ]
    },
    {
     "name": "stderr",
     "output_type": "stream",
     "text": [
      "234it [00:44,  5.19it/s]"
     ]
    },
    {
     "name": "stdout",
     "output_type": "stream",
     "text": [
      "done\n",
      "\n"
     ]
    },
    {
     "name": "stderr",
     "output_type": "stream",
     "text": [
      "235it [00:45,  2.60it/s]"
     ]
    },
    {
     "name": "stdout",
     "output_type": "stream",
     "text": [
      "done\n",
      "\n",
      "done\n",
      "\n",
      "done\n",
      "\n"
     ]
    },
    {
     "name": "stderr",
     "output_type": "stream",
     "text": [
      "240it [00:46,  4.14it/s]"
     ]
    },
    {
     "name": "stdout",
     "output_type": "stream",
     "text": [
      "done\n",
      "\n",
      "done\n",
      "\n",
      "done\n",
      "\n",
      "done\n",
      "\n"
     ]
    },
    {
     "name": "stderr",
     "output_type": "stream",
     "text": [
      "245it [00:46,  7.45it/s]"
     ]
    },
    {
     "name": "stdout",
     "output_type": "stream",
     "text": [
      "done\n",
      "\n",
      "done\n",
      "\n",
      "done\n",
      "\n",
      "done\n",
      "\n",
      "done\n",
      "\n"
     ]
    },
    {
     "name": "stderr",
     "output_type": "stream",
     "text": [
      "250it [00:46, 11.04it/s]"
     ]
    },
    {
     "name": "stdout",
     "output_type": "stream",
     "text": [
      "done\n",
      "\n",
      "done\n",
      "\n",
      "done\n",
      "\n",
      "done\n",
      "\n",
      "done\n",
      "\n"
     ]
    },
    {
     "name": "stderr",
     "output_type": "stream",
     "text": [
      "254it [00:47,  9.72it/s]"
     ]
    },
    {
     "name": "stdout",
     "output_type": "stream",
     "text": [
      "done\n",
      "\n",
      "done\n",
      "\n",
      "done\n",
      "\n",
      "done\n",
      "\n"
     ]
    },
    {
     "name": "stderr",
     "output_type": "stream",
     "text": [
      "256it [00:47,  5.97it/s]"
     ]
    },
    {
     "name": "stdout",
     "output_type": "stream",
     "text": [
      "done\n",
      "\n",
      "done\n",
      "\n"
     ]
    },
    {
     "name": "stderr",
     "output_type": "stream",
     "text": [
      "259it [00:48,  6.03it/s]"
     ]
    },
    {
     "name": "stdout",
     "output_type": "stream",
     "text": [
      "done\n",
      "\n",
      "done\n",
      "\n"
     ]
    },
    {
     "name": "stderr",
     "output_type": "stream",
     "text": [
      "261it [00:48,  5.58it/s]"
     ]
    },
    {
     "name": "stdout",
     "output_type": "stream",
     "text": [
      "done\n",
      "\n",
      "done\n",
      "\n"
     ]
    },
    {
     "name": "stderr",
     "output_type": "stream",
     "text": [
      "263it [00:49,  4.69it/s]"
     ]
    },
    {
     "name": "stdout",
     "output_type": "stream",
     "text": [
      "done\n",
      "\n",
      "done\n",
      "\n",
      "done\n",
      "\n",
      "done\n",
      "\n"
     ]
    },
    {
     "name": "stderr",
     "output_type": "stream",
     "text": [
      "267it [00:49,  7.21it/s]"
     ]
    },
    {
     "name": "stdout",
     "output_type": "stream",
     "text": [
      "done\n",
      "\n",
      "done\n",
      "\n"
     ]
    },
    {
     "name": "stderr",
     "output_type": "stream",
     "text": [
      "268it [00:50,  5.61it/s]"
     ]
    },
    {
     "name": "stdout",
     "output_type": "stream",
     "text": [
      "done\n",
      "\n"
     ]
    },
    {
     "name": "stderr",
     "output_type": "stream",
     "text": [
      "270it [00:50,  4.15it/s]"
     ]
    },
    {
     "name": "stdout",
     "output_type": "stream",
     "text": [
      "done\n",
      "\n",
      "done\n",
      "\n",
      "done\n",
      "\n"
     ]
    },
    {
     "name": "stderr",
     "output_type": "stream",
     "text": [
      "272it [00:51,  5.85it/s]"
     ]
    },
    {
     "name": "stdout",
     "output_type": "stream",
     "text": [
      "done\n",
      "\n",
      "done\n",
      "\n",
      "done\n",
      "\n"
     ]
    },
    {
     "name": "stderr",
     "output_type": "stream",
     "text": [
      "275it [00:51,  7.44it/s]"
     ]
    },
    {
     "name": "stdout",
     "output_type": "stream",
     "text": [
      "done\n",
      "\n",
      "done\n",
      "\n"
     ]
    },
    {
     "name": "stderr",
     "output_type": "stream",
     "text": [
      "277it [00:51,  7.45it/s]"
     ]
    },
    {
     "name": "stdout",
     "output_type": "stream",
     "text": [
      "done\n",
      "\n"
     ]
    },
    {
     "name": "stderr",
     "output_type": "stream",
     "text": [
      "278it [00:51,  5.87it/s]"
     ]
    },
    {
     "name": "stdout",
     "output_type": "stream",
     "text": [
      "done\n",
      "\n",
      "done\n",
      "\n"
     ]
    },
    {
     "name": "stderr",
     "output_type": "stream",
     "text": [
      "280it [00:52,  5.31it/s]"
     ]
    },
    {
     "name": "stdout",
     "output_type": "stream",
     "text": [
      "done\n",
      "\n",
      "done\n",
      "\n"
     ]
    },
    {
     "name": "stderr",
     "output_type": "stream",
     "text": [
      "283it [00:52,  6.06it/s]"
     ]
    },
    {
     "name": "stdout",
     "output_type": "stream",
     "text": [
      "done\n",
      "\n",
      "done\n",
      "\n"
     ]
    },
    {
     "name": "stderr",
     "output_type": "stream",
     "text": [
      "284it [00:52,  6.56it/s]"
     ]
    },
    {
     "name": "stdout",
     "output_type": "stream",
     "text": [
      "done\n",
      "\n",
      "done\n",
      "\n"
     ]
    },
    {
     "name": "stderr",
     "output_type": "stream",
     "text": [
      "286it [00:53,  4.62it/s]"
     ]
    },
    {
     "name": "stdout",
     "output_type": "stream",
     "text": [
      "done\n",
      "\n"
     ]
    },
    {
     "name": "stderr",
     "output_type": "stream",
     "text": [
      "287it [00:53,  3.90it/s]"
     ]
    },
    {
     "name": "stdout",
     "output_type": "stream",
     "text": [
      "done\n",
      "\n"
     ]
    },
    {
     "name": "stderr",
     "output_type": "stream",
     "text": [
      "288it [00:54,  3.90it/s]"
     ]
    },
    {
     "name": "stdout",
     "output_type": "stream",
     "text": [
      "done\n",
      "\n",
      "done\n",
      "\n",
      "done\n",
      "\n"
     ]
    },
    {
     "name": "stderr",
     "output_type": "stream",
     "text": [
      "291it [00:54,  5.61it/s]"
     ]
    },
    {
     "name": "stdout",
     "output_type": "stream",
     "text": [
      "done\n",
      "\n"
     ]
    },
    {
     "name": "stderr",
     "output_type": "stream",
     "text": [
      "292it [00:54,  4.64it/s]"
     ]
    },
    {
     "name": "stdout",
     "output_type": "stream",
     "text": [
      "done\n",
      "\n",
      "done\n",
      "\n"
     ]
    },
    {
     "name": "stderr",
     "output_type": "stream",
     "text": [
      "294it [00:55,  5.67it/s]"
     ]
    },
    {
     "name": "stdout",
     "output_type": "stream",
     "text": [
      "done\n",
      "\n",
      "done\n",
      "\n"
     ]
    },
    {
     "name": "stderr",
     "output_type": "stream",
     "text": [
      "299it [00:56,  5.21it/s]"
     ]
    },
    {
     "name": "stdout",
     "output_type": "stream",
     "text": [
      "done\n",
      "\n",
      "done\n",
      "\n",
      "done\n",
      "\n",
      "done\n",
      "\n",
      "done\n",
      "\n"
     ]
    },
    {
     "name": "stderr",
     "output_type": "stream",
     "text": [
      "302it [00:56,  7.25it/s]"
     ]
    },
    {
     "name": "stdout",
     "output_type": "stream",
     "text": [
      "done\n",
      "\n",
      "done\n",
      "\n",
      "done\n",
      "\n"
     ]
    },
    {
     "name": "stderr",
     "output_type": "stream",
     "text": [
      "304it [00:57,  5.55it/s]"
     ]
    },
    {
     "name": "stdout",
     "output_type": "stream",
     "text": [
      "done\n",
      "\n"
     ]
    },
    {
     "name": "stderr",
     "output_type": "stream",
     "text": [
      "306it [00:57,  4.86it/s]"
     ]
    },
    {
     "name": "stdout",
     "output_type": "stream",
     "text": [
      "done\n",
      "\n",
      "done\n",
      "\n"
     ]
    },
    {
     "name": "stderr",
     "output_type": "stream",
     "text": [
      "308it [00:57,  4.87it/s]"
     ]
    },
    {
     "name": "stdout",
     "output_type": "stream",
     "text": [
      "done\n",
      "\n",
      "done\n",
      "\n"
     ]
    },
    {
     "name": "stderr",
     "output_type": "stream",
     "text": [
      "309it [00:58,  4.81it/s]"
     ]
    },
    {
     "name": "stdout",
     "output_type": "stream",
     "text": [
      "done\n",
      "\n",
      "done\n",
      "\n"
     ]
    },
    {
     "name": "stderr",
     "output_type": "stream",
     "text": [
      "311it [00:58,  4.95it/s]"
     ]
    },
    {
     "name": "stdout",
     "output_type": "stream",
     "text": [
      "done\n",
      "\n",
      "done\n",
      "\n"
     ]
    },
    {
     "name": "stderr",
     "output_type": "stream",
     "text": [
      "313it [00:58,  5.12it/s]"
     ]
    },
    {
     "name": "stdout",
     "output_type": "stream",
     "text": [
      "done\n",
      "\n",
      "done\n",
      "\n",
      "done\n",
      "\n"
     ]
    },
    {
     "name": "stderr",
     "output_type": "stream",
     "text": [
      "317it [01:01,  2.40it/s]"
     ]
    },
    {
     "name": "stdout",
     "output_type": "stream",
     "text": [
      "done\n",
      "\n",
      "done\n",
      "\n",
      "done\n",
      "\n",
      "done\n",
      "\n"
     ]
    },
    {
     "name": "stderr",
     "output_type": "stream",
     "text": [
      "322it [01:01,  4.86it/s]"
     ]
    },
    {
     "name": "stdout",
     "output_type": "stream",
     "text": [
      "done\n",
      "\n",
      "done\n",
      "\n",
      "done\n",
      "\n",
      "done\n",
      "\n"
     ]
    },
    {
     "name": "stderr",
     "output_type": "stream",
     "text": [
      "324it [01:02,  5.07it/s]"
     ]
    },
    {
     "name": "stdout",
     "output_type": "stream",
     "text": [
      "done\n",
      "\n",
      "done\n",
      "\n"
     ]
    },
    {
     "name": "stderr",
     "output_type": "stream",
     "text": [
      "327it [01:03,  4.13it/s]"
     ]
    },
    {
     "name": "stdout",
     "output_type": "stream",
     "text": [
      "done\n",
      "\n",
      "done\n",
      "\n",
      "done\n",
      "\n"
     ]
    },
    {
     "name": "stderr",
     "output_type": "stream",
     "text": [
      "331it [01:03,  6.91it/s]"
     ]
    },
    {
     "name": "stdout",
     "output_type": "stream",
     "text": [
      "done\n",
      "\n",
      "done\n",
      "\n",
      "done\n",
      "\n",
      "done\n",
      "\n"
     ]
    },
    {
     "name": "stderr",
     "output_type": "stream",
     "text": [
      "335it [01:04,  6.98it/s]"
     ]
    },
    {
     "name": "stdout",
     "output_type": "stream",
     "text": [
      "done\n",
      "\n",
      "done\n",
      "\n",
      "done\n",
      "\n"
     ]
    },
    {
     "name": "stderr",
     "output_type": "stream",
     "text": [
      "337it [01:04,  5.89it/s]"
     ]
    },
    {
     "name": "stdout",
     "output_type": "stream",
     "text": [
      "done\n",
      "\n",
      "done\n",
      "\n",
      "done\n",
      "\n"
     ]
    },
    {
     "name": "stderr",
     "output_type": "stream",
     "text": [
      "339it [01:04,  7.07it/s]"
     ]
    },
    {
     "name": "stdout",
     "output_type": "stream",
     "text": [
      "done\n",
      "\n",
      "done\n",
      "\n"
     ]
    },
    {
     "name": "stderr",
     "output_type": "stream",
     "text": [
      "341it [01:05,  6.99it/s]"
     ]
    },
    {
     "name": "stdout",
     "output_type": "stream",
     "text": [
      "done\n",
      "\n"
     ]
    },
    {
     "name": "stderr",
     "output_type": "stream",
     "text": [
      "342it [01:05,  5.57it/s]"
     ]
    },
    {
     "name": "stdout",
     "output_type": "stream",
     "text": [
      "done\n",
      "\n"
     ]
    },
    {
     "name": "stderr",
     "output_type": "stream",
     "text": [
      "343it [01:05,  5.44it/s]"
     ]
    },
    {
     "name": "stdout",
     "output_type": "stream",
     "text": [
      "done\n",
      "\n"
     ]
    },
    {
     "name": "stderr",
     "output_type": "stream",
     "text": [
      "344it [01:05,  4.66it/s]"
     ]
    },
    {
     "name": "stdout",
     "output_type": "stream",
     "text": [
      "done\n",
      "\n",
      "done\n",
      "\n"
     ]
    },
    {
     "name": "stderr",
     "output_type": "stream",
     "text": [
      "346it [01:06,  3.34it/s]"
     ]
    },
    {
     "name": "stdout",
     "output_type": "stream",
     "text": [
      "done\n",
      "\n"
     ]
    },
    {
     "name": "stderr",
     "output_type": "stream",
     "text": [
      "349it [01:07,  4.87it/s]"
     ]
    },
    {
     "name": "stdout",
     "output_type": "stream",
     "text": [
      "done\n",
      "\n",
      "done\n",
      "\n",
      "done\n",
      "\n",
      "done\n",
      "\n"
     ]
    },
    {
     "name": "stderr",
     "output_type": "stream",
     "text": [
      "353it [01:07,  7.68it/s]"
     ]
    },
    {
     "name": "stdout",
     "output_type": "stream",
     "text": [
      "done\n",
      "\n",
      "done\n",
      "\n",
      "done\n",
      "\n"
     ]
    },
    {
     "name": "stderr",
     "output_type": "stream",
     "text": [
      "355it [01:07,  8.22it/s]"
     ]
    },
    {
     "name": "stdout",
     "output_type": "stream",
     "text": [
      "done\n",
      "\n",
      "done\n",
      "\n",
      "done\n",
      "\n"
     ]
    },
    {
     "name": "stderr",
     "output_type": "stream",
     "text": [
      "358it [01:08,  7.13it/s]"
     ]
    },
    {
     "name": "stdout",
     "output_type": "stream",
     "text": [
      "done\n",
      "\n",
      "done\n",
      "\n"
     ]
    },
    {
     "name": "stderr",
     "output_type": "stream",
     "text": [
      "359it [01:08,  7.35it/s]"
     ]
    },
    {
     "name": "stdout",
     "output_type": "stream",
     "text": [
      "done\n",
      "\n",
      "done\n",
      "\n"
     ]
    },
    {
     "name": "stderr",
     "output_type": "stream",
     "text": [
      "361it [01:08,  6.11it/s]"
     ]
    },
    {
     "name": "stdout",
     "output_type": "stream",
     "text": [
      "done\n",
      "\n",
      "done\n",
      "\n"
     ]
    },
    {
     "name": "stderr",
     "output_type": "stream",
     "text": [
      "363it [01:09,  6.16it/s]"
     ]
    },
    {
     "name": "stdout",
     "output_type": "stream",
     "text": [
      "done\n",
      "\n",
      "done\n",
      "\n"
     ]
    },
    {
     "name": "stderr",
     "output_type": "stream",
     "text": [
      "366it [01:09,  6.16it/s]"
     ]
    },
    {
     "name": "stdout",
     "output_type": "stream",
     "text": [
      "done\n",
      "\n",
      "done\n",
      "\n"
     ]
    },
    {
     "name": "stderr",
     "output_type": "stream",
     "text": [
      "367it [01:09,  6.60it/s]"
     ]
    },
    {
     "name": "stdout",
     "output_type": "stream",
     "text": [
      "done\n",
      "\n"
     ]
    },
    {
     "name": "stderr",
     "output_type": "stream",
     "text": [
      "370it [01:10,  5.99it/s]"
     ]
    },
    {
     "name": "stdout",
     "output_type": "stream",
     "text": [
      "done\n",
      "\n",
      "done\n",
      "\n",
      "done\n",
      "\n"
     ]
    },
    {
     "name": "stderr",
     "output_type": "stream",
     "text": [
      "371it [01:10,  4.80it/s]"
     ]
    },
    {
     "name": "stdout",
     "output_type": "stream",
     "text": [
      "done\n",
      "\n"
     ]
    },
    {
     "name": "stderr",
     "output_type": "stream",
     "text": [
      "376it [01:11,  6.74it/s]"
     ]
    },
    {
     "name": "stdout",
     "output_type": "stream",
     "text": [
      "done\n",
      "\n",
      "done\n",
      "\n",
      "done\n",
      "\n",
      "done\n",
      "\n",
      "done\n",
      "\n"
     ]
    },
    {
     "name": "stderr",
     "output_type": "stream",
     "text": [
      "379it [01:11,  9.76it/s]"
     ]
    },
    {
     "name": "stdout",
     "output_type": "stream",
     "text": [
      "done\n",
      "\n",
      "done\n",
      "\n",
      "done\n",
      "\n"
     ]
    },
    {
     "name": "stderr",
     "output_type": "stream",
     "text": [
      "384it [01:12,  7.66it/s]"
     ]
    },
    {
     "name": "stdout",
     "output_type": "stream",
     "text": [
      "done\n",
      "\n",
      "done\n",
      "\n",
      "done\n",
      "\n",
      "done\n",
      "\n",
      "done\n",
      "\n"
     ]
    },
    {
     "name": "stderr",
     "output_type": "stream",
     "text": [
      "386it [01:12,  9.07it/s]"
     ]
    },
    {
     "name": "stdout",
     "output_type": "stream",
     "text": [
      "done\n",
      "\n",
      "done\n",
      "\n"
     ]
    },
    {
     "name": "stderr",
     "output_type": "stream",
     "text": [
      "388it [01:12,  7.29it/s]"
     ]
    },
    {
     "name": "stdout",
     "output_type": "stream",
     "text": [
      "done\n",
      "\n",
      "done\n",
      "\n",
      "done\n",
      "\n"
     ]
    },
    {
     "name": "stderr",
     "output_type": "stream",
     "text": [
      "390it [01:13,  8.26it/s]"
     ]
    },
    {
     "name": "stdout",
     "output_type": "stream",
     "text": [
      "done\n",
      "\n"
     ]
    },
    {
     "name": "stderr",
     "output_type": "stream",
     "text": [
      "392it [01:13,  4.92it/s]"
     ]
    },
    {
     "name": "stdout",
     "output_type": "stream",
     "text": [
      "done\n",
      "\n",
      "done\n",
      "\n"
     ]
    },
    {
     "name": "stderr",
     "output_type": "stream",
     "text": [
      "393it [01:14,  3.76it/s]"
     ]
    },
    {
     "name": "stdout",
     "output_type": "stream",
     "text": [
      "done\n",
      "\n"
     ]
    },
    {
     "name": "stderr",
     "output_type": "stream",
     "text": [
      "395it [01:15,  3.79it/s]"
     ]
    },
    {
     "name": "stdout",
     "output_type": "stream",
     "text": [
      "done\n",
      "\n",
      "done\n",
      "\n",
      "done\n",
      "\n"
     ]
    },
    {
     "name": "stderr",
     "output_type": "stream",
     "text": [
      "400it [01:15,  6.37it/s]"
     ]
    },
    {
     "name": "stdout",
     "output_type": "stream",
     "text": [
      "done\n",
      "\n",
      "done\n",
      "\n",
      "done\n",
      "\n",
      "done\n",
      "\n",
      "done\n",
      "\n"
     ]
    },
    {
     "name": "stderr",
     "output_type": "stream",
     "text": [
      "402it [01:15,  6.44it/s]"
     ]
    },
    {
     "name": "stdout",
     "output_type": "stream",
     "text": [
      "done\n",
      "\n"
     ]
    },
    {
     "name": "stderr",
     "output_type": "stream",
     "text": [
      "403it [01:16,  6.03it/s]"
     ]
    },
    {
     "name": "stdout",
     "output_type": "stream",
     "text": [
      "done\n",
      "\n",
      "done\n",
      "\n"
     ]
    },
    {
     "name": "stderr",
     "output_type": "stream",
     "text": [
      "406it [01:16,  5.73it/s]"
     ]
    },
    {
     "name": "stdout",
     "output_type": "stream",
     "text": [
      "done\n",
      "\n",
      "done\n",
      "\n"
     ]
    },
    {
     "name": "stderr",
     "output_type": "stream",
     "text": [
      "408it [01:17,  6.79it/s]"
     ]
    },
    {
     "name": "stdout",
     "output_type": "stream",
     "text": [
      "done\n",
      "\n",
      "done\n",
      "\n"
     ]
    },
    {
     "name": "stderr",
     "output_type": "stream",
     "text": [
      "411it [01:17,  8.61it/s]"
     ]
    },
    {
     "name": "stdout",
     "output_type": "stream",
     "text": [
      "done\n",
      "\n",
      "done\n",
      "\n",
      "done\n",
      "\n"
     ]
    },
    {
     "name": "stderr",
     "output_type": "stream",
     "text": [
      "413it [01:17,  8.34it/s]"
     ]
    },
    {
     "name": "stdout",
     "output_type": "stream",
     "text": [
      "done\n",
      "\n",
      "done\n",
      "\n",
      "done\n",
      "\n",
      "done\n",
      "\n"
     ]
    },
    {
     "name": "stderr",
     "output_type": "stream",
     "text": [
      "416it [01:17,  7.31it/s]"
     ]
    },
    {
     "name": "stdout",
     "output_type": "stream",
     "text": [
      "done\n",
      "\n"
     ]
    },
    {
     "name": "stderr",
     "output_type": "stream",
     "text": [
      "418it [01:18,  7.11it/s]"
     ]
    },
    {
     "name": "stdout",
     "output_type": "stream",
     "text": [
      "done\n",
      "\n",
      "done\n",
      "\n",
      "done\n",
      "\n"
     ]
    },
    {
     "name": "stderr",
     "output_type": "stream",
     "text": [
      "422it [01:18,  8.93it/s]"
     ]
    },
    {
     "name": "stdout",
     "output_type": "stream",
     "text": [
      "done\n",
      "\n",
      "done\n",
      "\n",
      "done\n",
      "\n",
      "done\n",
      "\n"
     ]
    },
    {
     "name": "stderr",
     "output_type": "stream",
     "text": [
      "426it [01:18, 11.63it/s]"
     ]
    },
    {
     "name": "stdout",
     "output_type": "stream",
     "text": [
      "done\n",
      "\n",
      "done\n",
      "\n",
      "done\n",
      "\n"
     ]
    },
    {
     "name": "stderr",
     "output_type": "stream",
     "text": [
      "428it [01:19,  9.58it/s]"
     ]
    },
    {
     "name": "stdout",
     "output_type": "stream",
     "text": [
      "done\n",
      "\n",
      "done\n",
      "\n",
      "done\n",
      "\n"
     ]
    },
    {
     "name": "stderr",
     "output_type": "stream",
     "text": [
      "431it [01:19,  7.08it/s]"
     ]
    },
    {
     "name": "stdout",
     "output_type": "stream",
     "text": [
      "done\n",
      "\n",
      "done\n",
      "\n",
      "done\n",
      "\n"
     ]
    },
    {
     "name": "stderr",
     "output_type": "stream",
     "text": [
      "435it [01:20,  6.89it/s]"
     ]
    },
    {
     "name": "stdout",
     "output_type": "stream",
     "text": [
      "done\n",
      "\n",
      "done\n",
      "\n",
      "done\n",
      "\n",
      "done\n",
      "\n"
     ]
    },
    {
     "name": "stderr",
     "output_type": "stream",
     "text": [
      "437it [01:20,  7.77it/s]"
     ]
    },
    {
     "name": "stdout",
     "output_type": "stream",
     "text": [
      "done\n",
      "\n"
     ]
    },
    {
     "name": "stderr",
     "output_type": "stream",
     "text": [
      "438it [01:21,  5.32it/s]"
     ]
    },
    {
     "name": "stdout",
     "output_type": "stream",
     "text": [
      "done\n",
      "\n",
      "done\n",
      "\n",
      "done\n",
      "\n"
     ]
    },
    {
     "name": "stderr",
     "output_type": "stream",
     "text": [
      "441it [01:21,  5.06it/s]"
     ]
    },
    {
     "name": "stdout",
     "output_type": "stream",
     "text": [
      "done\n",
      "\n"
     ]
    },
    {
     "name": "stderr",
     "output_type": "stream",
     "text": [
      "444it [01:22,  5.99it/s]"
     ]
    },
    {
     "name": "stdout",
     "output_type": "stream",
     "text": [
      "done\n",
      "\n",
      "done\n",
      "\n",
      "done\n",
      "\n"
     ]
    },
    {
     "name": "stderr",
     "output_type": "stream",
     "text": [
      "446it [01:22,  5.46it/s]"
     ]
    },
    {
     "name": "stdout",
     "output_type": "stream",
     "text": [
      "done\n",
      "\n",
      "done\n",
      "\n",
      "done\n",
      "\n"
     ]
    },
    {
     "name": "stderr",
     "output_type": "stream",
     "text": [
      "448it [01:22,  5.97it/s]"
     ]
    },
    {
     "name": "stdout",
     "output_type": "stream",
     "text": [
      "done\n",
      "\n"
     ]
    },
    {
     "name": "stderr",
     "output_type": "stream",
     "text": [
      "449it [01:23,  5.33it/s]"
     ]
    },
    {
     "name": "stdout",
     "output_type": "stream",
     "text": [
      "done\n",
      "\n",
      "done\n",
      "\n"
     ]
    },
    {
     "name": "stderr",
     "output_type": "stream",
     "text": [
      "451it [01:23,  5.96it/s]"
     ]
    },
    {
     "name": "stdout",
     "output_type": "stream",
     "text": [
      "done\n",
      "\n",
      "done\n",
      "\n"
     ]
    },
    {
     "name": "stderr",
     "output_type": "stream",
     "text": [
      "453it [01:23,  6.40it/s]"
     ]
    },
    {
     "name": "stdout",
     "output_type": "stream",
     "text": [
      "done\n",
      "\n",
      "done\n",
      "\n"
     ]
    },
    {
     "name": "stderr",
     "output_type": "stream",
     "text": [
      "455it [01:24,  6.20it/s]"
     ]
    },
    {
     "name": "stdout",
     "output_type": "stream",
     "text": [
      "done\n",
      "\n"
     ]
    },
    {
     "name": "stderr",
     "output_type": "stream",
     "text": [
      "456it [01:24,  3.73it/s]"
     ]
    },
    {
     "name": "stdout",
     "output_type": "stream",
     "text": [
      "done\n",
      "\n",
      "done\n",
      "\n"
     ]
    },
    {
     "name": "stderr",
     "output_type": "stream",
     "text": [
      "458it [01:25,  4.33it/s]"
     ]
    },
    {
     "name": "stdout",
     "output_type": "stream",
     "text": [
      "done\n",
      "\n"
     ]
    },
    {
     "name": "stderr",
     "output_type": "stream",
     "text": [
      "459it [01:26,  1.86it/s]"
     ]
    },
    {
     "name": "stdout",
     "output_type": "stream",
     "text": [
      "done\n",
      "\n"
     ]
    },
    {
     "name": "stderr",
     "output_type": "stream",
     "text": [
      "460it [01:27,  1.98it/s]"
     ]
    },
    {
     "name": "stdout",
     "output_type": "stream",
     "text": [
      "done\n",
      "\n",
      "done\n",
      "\n"
     ]
    },
    {
     "name": "stderr",
     "output_type": "stream",
     "text": [
      "462it [01:27,  2.85it/s]"
     ]
    },
    {
     "name": "stdout",
     "output_type": "stream",
     "text": [
      "done\n",
      "\n"
     ]
    },
    {
     "name": "stderr",
     "output_type": "stream",
     "text": [
      "463it [01:27,  3.01it/s]"
     ]
    },
    {
     "name": "stdout",
     "output_type": "stream",
     "text": [
      "done\n",
      "\n"
     ]
    },
    {
     "name": "stderr",
     "output_type": "stream",
     "text": [
      "466it [01:28,  4.77it/s]"
     ]
    },
    {
     "name": "stdout",
     "output_type": "stream",
     "text": [
      "done\n",
      "\n",
      "done\n",
      "\n",
      "done\n",
      "\n",
      "done\n",
      "\n"
     ]
    },
    {
     "name": "stderr",
     "output_type": "stream",
     "text": [
      "470it [01:28,  7.09it/s]"
     ]
    },
    {
     "name": "stdout",
     "output_type": "stream",
     "text": [
      "done\n",
      "\n",
      "done\n",
      "\n",
      "done\n",
      "\n",
      "done\n",
      "\n"
     ]
    },
    {
     "name": "stderr",
     "output_type": "stream",
     "text": [
      "473it [01:29,  4.60it/s]"
     ]
    },
    {
     "name": "stdout",
     "output_type": "stream",
     "text": [
      "done\n",
      "\n",
      "done\n",
      "\n"
     ]
    },
    {
     "name": "stderr",
     "output_type": "stream",
     "text": [
      "478it [01:29,  8.71it/s]"
     ]
    },
    {
     "name": "stdout",
     "output_type": "stream",
     "text": [
      "done\n",
      "\n",
      "done\n",
      "\n",
      "done\n",
      "\n",
      "done\n",
      "\n",
      "done\n",
      "\n"
     ]
    },
    {
     "name": "stderr",
     "output_type": "stream",
     "text": [
      "480it [01:29,  8.95it/s]"
     ]
    },
    {
     "name": "stdout",
     "output_type": "stream",
     "text": [
      "done\n",
      "\n",
      "done\n",
      "\n",
      "done\n",
      "\n",
      "done\n",
      "\n"
     ]
    },
    {
     "name": "stderr",
     "output_type": "stream",
     "text": [
      "486it [01:30, 14.21it/s]"
     ]
    },
    {
     "name": "stdout",
     "output_type": "stream",
     "text": [
      "done\n",
      "\n",
      "done\n",
      "\n",
      "done\n",
      "\n",
      "done\n",
      "\n"
     ]
    },
    {
     "name": "stderr",
     "output_type": "stream",
     "text": [
      "490it [01:30, 14.96it/s]"
     ]
    },
    {
     "name": "stdout",
     "output_type": "stream",
     "text": [
      "done\n",
      "\n",
      "done\n",
      "\n",
      "done\n",
      "\n",
      "done\n",
      "\n"
     ]
    },
    {
     "name": "stderr",
     "output_type": "stream",
     "text": [
      "492it [01:30, 10.27it/s]"
     ]
    },
    {
     "name": "stdout",
     "output_type": "stream",
     "text": [
      "done\n",
      "\n",
      "done\n",
      "\n"
     ]
    },
    {
     "name": "stderr",
     "output_type": "stream",
     "text": [
      "497it [01:31,  9.14it/s]"
     ]
    },
    {
     "name": "stdout",
     "output_type": "stream",
     "text": [
      "done\n",
      "\n",
      "done\n",
      "\n",
      "done\n",
      "\n",
      "done\n",
      "\n",
      "done\n",
      "\n"
     ]
    },
    {
     "name": "stderr",
     "output_type": "stream",
     "text": [
      "501it [01:31, 10.72it/s]"
     ]
    },
    {
     "name": "stdout",
     "output_type": "stream",
     "text": [
      "done\n",
      "\n",
      "done\n",
      "\n",
      "done\n",
      "\n",
      "done\n",
      "\n"
     ]
    },
    {
     "name": "stderr",
     "output_type": "stream",
     "text": [
      "503it [01:32,  9.79it/s]"
     ]
    },
    {
     "name": "stdout",
     "output_type": "stream",
     "text": [
      "done\n",
      "\n",
      "done\n",
      "\n"
     ]
    },
    {
     "name": "stderr",
     "output_type": "stream",
     "text": [
      "505it [01:32, 10.05it/s]"
     ]
    },
    {
     "name": "stdout",
     "output_type": "stream",
     "text": [
      "done\n",
      "\n",
      "done\n",
      "\n",
      "done\n",
      "\n"
     ]
    },
    {
     "name": "stderr",
     "output_type": "stream",
     "text": [
      "507it [01:32,  9.39it/s]"
     ]
    },
    {
     "name": "stdout",
     "output_type": "stream",
     "text": [
      "done\n",
      "\n"
     ]
    },
    {
     "name": "stderr",
     "output_type": "stream",
     "text": [
      "509it [01:33,  4.96it/s]"
     ]
    },
    {
     "name": "stdout",
     "output_type": "stream",
     "text": [
      "done\n",
      "\n",
      "done\n",
      "\n"
     ]
    },
    {
     "name": "stderr",
     "output_type": "stream",
     "text": [
      "511it [01:34,  4.29it/s]"
     ]
    },
    {
     "name": "stdout",
     "output_type": "stream",
     "text": [
      "done\n",
      "\n",
      "done\n",
      "\n",
      "done\n",
      "\n",
      "done\n",
      "\n"
     ]
    },
    {
     "name": "stderr",
     "output_type": "stream",
     "text": [
      "515it [01:34,  5.57it/s]"
     ]
    },
    {
     "name": "stdout",
     "output_type": "stream",
     "text": [
      "done\n",
      "\n",
      "done\n",
      "\n",
      "done\n",
      "\n"
     ]
    },
    {
     "name": "stderr",
     "output_type": "stream",
     "text": [
      "519it [01:34,  7.95it/s]"
     ]
    },
    {
     "name": "stdout",
     "output_type": "stream",
     "text": [
      "done\n",
      "\n",
      "done\n",
      "\n",
      "done\n",
      "\n"
     ]
    },
    {
     "name": "stderr",
     "output_type": "stream",
     "text": [
      "521it [01:35,  9.59it/s]"
     ]
    },
    {
     "name": "stdout",
     "output_type": "stream",
     "text": [
      "done\n",
      "\n",
      "done\n",
      "\n",
      "done\n",
      "\n"
     ]
    },
    {
     "name": "stderr",
     "output_type": "stream",
     "text": [
      "525it [01:35,  9.32it/s]"
     ]
    },
    {
     "name": "stdout",
     "output_type": "stream",
     "text": [
      "done\n",
      "\n",
      "done\n",
      "\n",
      "done\n",
      "\n"
     ]
    },
    {
     "name": "stderr",
     "output_type": "stream",
     "text": [
      "527it [01:35,  9.23it/s]"
     ]
    },
    {
     "name": "stdout",
     "output_type": "stream",
     "text": [
      "done\n",
      "\n",
      "done\n",
      "\n",
      "done\n",
      "\n"
     ]
    },
    {
     "name": "stderr",
     "output_type": "stream",
     "text": [
      "530it [01:36,  7.57it/s]"
     ]
    },
    {
     "name": "stdout",
     "output_type": "stream",
     "text": [
      "done\n",
      "\n",
      "done\n",
      "\n",
      "done\n",
      "\n"
     ]
    },
    {
     "name": "stderr",
     "output_type": "stream",
     "text": [
      "533it [01:36, 10.44it/s]"
     ]
    },
    {
     "name": "stdout",
     "output_type": "stream",
     "text": [
      "done\n",
      "\n",
      "done\n",
      "\n"
     ]
    },
    {
     "name": "stderr",
     "output_type": "stream",
     "text": [
      "535it [01:36,  7.02it/s]"
     ]
    },
    {
     "name": "stdout",
     "output_type": "stream",
     "text": [
      "done\n",
      "\n",
      "done\n",
      "\n"
     ]
    },
    {
     "name": "stderr",
     "output_type": "stream",
     "text": [
      "536it [01:37,  6.21it/s]"
     ]
    },
    {
     "name": "stdout",
     "output_type": "stream",
     "text": [
      "done\n",
      "\n",
      "done\n",
      "\n",
      "done\n",
      "\n"
     ]
    },
    {
     "name": "stderr",
     "output_type": "stream",
     "text": [
      "539it [01:37,  6.06it/s]"
     ]
    },
    {
     "name": "stdout",
     "output_type": "stream",
     "text": [
      "done\n",
      "\n"
     ]
    },
    {
     "name": "stderr",
     "output_type": "stream",
     "text": [
      "542it [01:38,  6.97it/s]"
     ]
    },
    {
     "name": "stdout",
     "output_type": "stream",
     "text": [
      "done\n",
      "\n",
      "done\n",
      "\n",
      "done\n",
      "\n"
     ]
    },
    {
     "name": "stderr",
     "output_type": "stream",
     "text": [
      "543it [01:38,  5.51it/s]"
     ]
    },
    {
     "name": "stdout",
     "output_type": "stream",
     "text": [
      "done\n",
      "\n"
     ]
    },
    {
     "name": "stderr",
     "output_type": "stream",
     "text": [
      "544it [01:38,  4.77it/s]"
     ]
    },
    {
     "name": "stdout",
     "output_type": "stream",
     "text": [
      "done\n",
      "\n"
     ]
    },
    {
     "name": "stderr",
     "output_type": "stream",
     "text": [
      "546it [01:39,  4.89it/s]"
     ]
    },
    {
     "name": "stdout",
     "output_type": "stream",
     "text": [
      "done\n",
      "\n",
      "done\n",
      "\n"
     ]
    },
    {
     "name": "stderr",
     "output_type": "stream",
     "text": [
      "548it [01:39,  4.93it/s]"
     ]
    },
    {
     "name": "stdout",
     "output_type": "stream",
     "text": [
      "done\n",
      "\n",
      "done\n",
      "\n",
      "done\n",
      "\n"
     ]
    },
    {
     "name": "stderr",
     "output_type": "stream",
     "text": [
      "551it [01:39,  6.98it/s]"
     ]
    },
    {
     "name": "stdout",
     "output_type": "stream",
     "text": [
      "done\n",
      "\n",
      "done\n",
      "\n"
     ]
    },
    {
     "name": "stderr",
     "output_type": "stream",
     "text": [
      "552it [01:40,  5.72it/s]"
     ]
    },
    {
     "name": "stdout",
     "output_type": "stream",
     "text": [
      "done\n",
      "\n",
      "done\n",
      "\n",
      "done\n",
      "\n"
     ]
    },
    {
     "name": "stderr",
     "output_type": "stream",
     "text": [
      "557it [01:41,  5.88it/s]"
     ]
    },
    {
     "name": "stdout",
     "output_type": "stream",
     "text": [
      "done\n",
      "\n",
      "done\n",
      "\n",
      "done\n",
      "\n"
     ]
    },
    {
     "name": "stderr",
     "output_type": "stream",
     "text": [
      "560it [01:42,  4.49it/s]"
     ]
    },
    {
     "name": "stdout",
     "output_type": "stream",
     "text": [
      "done\n",
      "\n",
      "done\n",
      "\n",
      "done\n",
      "\n"
     ]
    },
    {
     "name": "stderr",
     "output_type": "stream",
     "text": [
      "562it [01:42,  5.60it/s]"
     ]
    },
    {
     "name": "stdout",
     "output_type": "stream",
     "text": [
      "done\n",
      "\n",
      "done\n",
      "\n",
      "done\n",
      "\n"
     ]
    },
    {
     "name": "stderr",
     "output_type": "stream",
     "text": [
      "566it [01:42,  8.50it/s]"
     ]
    },
    {
     "name": "stdout",
     "output_type": "stream",
     "text": [
      "done\n",
      "\n",
      "done\n",
      "\n",
      "done\n",
      "\n",
      "done\n",
      "\n"
     ]
    },
    {
     "name": "stderr",
     "output_type": "stream",
     "text": [
      "571it [01:42, 11.77it/s]"
     ]
    },
    {
     "name": "stdout",
     "output_type": "stream",
     "text": [
      "done\n",
      "\n",
      "done\n",
      "\n",
      "done\n",
      "\n",
      "done\n",
      "\n"
     ]
    },
    {
     "name": "stderr",
     "output_type": "stream",
     "text": [
      "573it [01:43,  9.65it/s]"
     ]
    },
    {
     "name": "stdout",
     "output_type": "stream",
     "text": [
      "done\n",
      "\n",
      "done\n",
      "\n",
      "done\n",
      "\n"
     ]
    },
    {
     "name": "stderr",
     "output_type": "stream",
     "text": [
      "575it [01:43,  7.16it/s]"
     ]
    },
    {
     "name": "stdout",
     "output_type": "stream",
     "text": [
      "done\n",
      "\n"
     ]
    },
    {
     "name": "stderr",
     "output_type": "stream",
     "text": [
      "577it [01:43,  7.30it/s]"
     ]
    },
    {
     "name": "stdout",
     "output_type": "stream",
     "text": [
      "done\n",
      "\n",
      "done\n",
      "\n"
     ]
    },
    {
     "name": "stderr",
     "output_type": "stream",
     "text": [
      "579it [01:44,  6.63it/s]"
     ]
    },
    {
     "name": "stdout",
     "output_type": "stream",
     "text": [
      "done\n",
      "\n",
      "done\n",
      "\n"
     ]
    },
    {
     "name": "stderr",
     "output_type": "stream",
     "text": [
      "581it [01:44,  6.14it/s]"
     ]
    },
    {
     "name": "stdout",
     "output_type": "stream",
     "text": [
      "done\n",
      "\n",
      "done\n",
      "\n"
     ]
    },
    {
     "name": "stderr",
     "output_type": "stream",
     "text": [
      "583it [01:45,  4.10it/s]"
     ]
    },
    {
     "name": "stdout",
     "output_type": "stream",
     "text": [
      "done\n",
      "\n",
      "done\n",
      "\n"
     ]
    },
    {
     "name": "stderr",
     "output_type": "stream",
     "text": [
      "586it [01:45,  6.30it/s]"
     ]
    },
    {
     "name": "stdout",
     "output_type": "stream",
     "text": [
      "done\n",
      "\n",
      "done\n",
      "\n",
      "done\n",
      "\n"
     ]
    },
    {
     "name": "stderr",
     "output_type": "stream",
     "text": [
      "587it [01:45,  5.90it/s]"
     ]
    },
    {
     "name": "stdout",
     "output_type": "stream",
     "text": [
      "done\n",
      "\n"
     ]
    },
    {
     "name": "stderr",
     "output_type": "stream",
     "text": [
      "588it [01:46,  5.16it/s]"
     ]
    },
    {
     "name": "stdout",
     "output_type": "stream",
     "text": [
      "done\n",
      "\n"
     ]
    },
    {
     "name": "stderr",
     "output_type": "stream",
     "text": [
      "590it [01:46,  4.45it/s]"
     ]
    },
    {
     "name": "stdout",
     "output_type": "stream",
     "text": [
      "done\n",
      "\n",
      "done\n",
      "\n",
      "done\n",
      "\n"
     ]
    },
    {
     "name": "stderr",
     "output_type": "stream",
     "text": [
      "592it [01:46,  6.19it/s]"
     ]
    },
    {
     "name": "stdout",
     "output_type": "stream",
     "text": [
      "done\n",
      "\n",
      "done\n",
      "\n",
      "done\n",
      "\n"
     ]
    },
    {
     "name": "stderr",
     "output_type": "stream",
     "text": [
      "595it [01:47,  7.77it/s]"
     ]
    },
    {
     "name": "stdout",
     "output_type": "stream",
     "text": [
      "done\n",
      "\n",
      "done\n",
      "\n"
     ]
    },
    {
     "name": "stderr",
     "output_type": "stream",
     "text": [
      "597it [01:47,  7.57it/s]"
     ]
    },
    {
     "name": "stdout",
     "output_type": "stream",
     "text": [
      "done\n",
      "\n"
     ]
    },
    {
     "name": "stderr",
     "output_type": "stream",
     "text": [
      "598it [01:47,  6.59it/s]"
     ]
    },
    {
     "name": "stdout",
     "output_type": "stream",
     "text": [
      "done\n",
      "\n",
      "done\n",
      "\n"
     ]
    },
    {
     "name": "stderr",
     "output_type": "stream",
     "text": [
      "600it [01:48,  6.52it/s]"
     ]
    },
    {
     "name": "stdout",
     "output_type": "stream",
     "text": [
      "done\n",
      "\n",
      "done\n",
      "\n"
     ]
    },
    {
     "name": "stderr",
     "output_type": "stream",
     "text": [
      "603it [01:48,  7.12it/s]"
     ]
    },
    {
     "name": "stdout",
     "output_type": "stream",
     "text": [
      "done\n",
      "\n",
      "done\n",
      "\n"
     ]
    },
    {
     "name": "stderr",
     "output_type": "stream",
     "text": [
      "605it [01:48,  7.89it/s]"
     ]
    },
    {
     "name": "stdout",
     "output_type": "stream",
     "text": [
      "done\n",
      "\n",
      "done\n",
      "\n"
     ]
    },
    {
     "name": "stderr",
     "output_type": "stream",
     "text": [
      "606it [01:48,  5.65it/s]"
     ]
    },
    {
     "name": "stdout",
     "output_type": "stream",
     "text": [
      "done\n",
      "\n"
     ]
    },
    {
     "name": "stderr",
     "output_type": "stream",
     "text": [
      "608it [01:49,  4.53it/s]"
     ]
    },
    {
     "name": "stdout",
     "output_type": "stream",
     "text": [
      "done\n",
      "\n",
      "done\n",
      "\n",
      "done\n",
      "\n",
      "done\n",
      "\n"
     ]
    },
    {
     "name": "stderr",
     "output_type": "stream",
     "text": [
      "611it [01:49,  6.24it/s]"
     ]
    },
    {
     "name": "stdout",
     "output_type": "stream",
     "text": [
      "done\n",
      "\n"
     ]
    },
    {
     "name": "stderr",
     "output_type": "stream",
     "text": [
      "614it [01:50,  6.60it/s]"
     ]
    },
    {
     "name": "stdout",
     "output_type": "stream",
     "text": [
      "done\n",
      "\n",
      "done\n",
      "\n",
      "done\n",
      "\n"
     ]
    },
    {
     "name": "stderr",
     "output_type": "stream",
     "text": [
      "615it [01:50,  7.07it/s]"
     ]
    },
    {
     "name": "stdout",
     "output_type": "stream",
     "text": [
      "done\n",
      "\n"
     ]
    },
    {
     "name": "stderr",
     "output_type": "stream",
     "text": [
      "618it [01:51,  3.80it/s]"
     ]
    },
    {
     "name": "stdout",
     "output_type": "stream",
     "text": [
      "done\n",
      "\n",
      "done\n",
      "\n",
      "done\n",
      "\n",
      "done\n",
      "\n"
     ]
    },
    {
     "name": "stderr",
     "output_type": "stream",
     "text": [
      "620it [01:51,  5.36it/s]"
     ]
    },
    {
     "name": "stdout",
     "output_type": "stream",
     "text": [
      "done\n",
      "\n",
      "done\n",
      "\n"
     ]
    },
    {
     "name": "stderr",
     "output_type": "stream",
     "text": [
      "623it [01:52,  4.23it/s]"
     ]
    },
    {
     "name": "stdout",
     "output_type": "stream",
     "text": [
      "done\n",
      "\n",
      "done\n",
      "\n"
     ]
    },
    {
     "name": "stderr",
     "output_type": "stream",
     "text": [
      "625it [01:53,  4.11it/s]"
     ]
    },
    {
     "name": "stdout",
     "output_type": "stream",
     "text": [
      "done\n",
      "\n",
      "done\n",
      "\n"
     ]
    },
    {
     "name": "stderr",
     "output_type": "stream",
     "text": [
      "627it [01:53,  5.11it/s]"
     ]
    },
    {
     "name": "stdout",
     "output_type": "stream",
     "text": [
      "done\n",
      "\n",
      "done\n",
      "\n"
     ]
    },
    {
     "name": "stderr",
     "output_type": "stream",
     "text": [
      "629it [01:53,  6.72it/s]"
     ]
    },
    {
     "name": "stdout",
     "output_type": "stream",
     "text": [
      "done\n",
      "\n",
      "done\n",
      "\n",
      "done\n",
      "\n"
     ]
    },
    {
     "name": "stderr",
     "output_type": "stream",
     "text": [
      "631it [01:53,  7.46it/s]"
     ]
    },
    {
     "name": "stdout",
     "output_type": "stream",
     "text": [
      "done\n",
      "\n",
      "done\n",
      "\n"
     ]
    },
    {
     "name": "stderr",
     "output_type": "stream",
     "text": [
      "633it [01:54,  7.71it/s]"
     ]
    },
    {
     "name": "stdout",
     "output_type": "stream",
     "text": [
      "done\n",
      "\n",
      "done\n",
      "\n",
      "done\n",
      "\n"
     ]
    },
    {
     "name": "stderr",
     "output_type": "stream",
     "text": [
      "637it [01:54,  6.53it/s]"
     ]
    },
    {
     "name": "stdout",
     "output_type": "stream",
     "text": [
      "done\n",
      "\n",
      "done\n",
      "\n",
      "done\n",
      "\n"
     ]
    },
    {
     "name": "stderr",
     "output_type": "stream",
     "text": [
      "639it [01:55,  8.25it/s]"
     ]
    },
    {
     "name": "stdout",
     "output_type": "stream",
     "text": [
      "done\n",
      "\n",
      "done\n",
      "\n",
      "done\n",
      "\n"
     ]
    },
    {
     "name": "stderr",
     "output_type": "stream",
     "text": [
      "642it [01:55,  8.91it/s]"
     ]
    },
    {
     "name": "stdout",
     "output_type": "stream",
     "text": [
      "done\n",
      "\n",
      "done\n",
      "\n"
     ]
    },
    {
     "name": "stderr",
     "output_type": "stream",
     "text": [
      "644it [01:55,  6.63it/s]"
     ]
    },
    {
     "name": "stdout",
     "output_type": "stream",
     "text": [
      "done\n",
      "\n",
      "done\n",
      "\n"
     ]
    },
    {
     "name": "stderr",
     "output_type": "stream",
     "text": [
      "647it [01:56,  4.95it/s]"
     ]
    },
    {
     "name": "stdout",
     "output_type": "stream",
     "text": [
      "done\n",
      "\n",
      "done\n",
      "\n",
      "done\n",
      "\n",
      "done\n",
      "\n"
     ]
    },
    {
     "name": "stderr",
     "output_type": "stream",
     "text": [
      "652it [01:57,  8.57it/s]"
     ]
    },
    {
     "name": "stdout",
     "output_type": "stream",
     "text": [
      "done\n",
      "\n",
      "done\n",
      "\n",
      "done\n",
      "\n"
     ]
    },
    {
     "name": "stderr",
     "output_type": "stream",
     "text": [
      "654it [01:57,  4.98it/s]"
     ]
    },
    {
     "name": "stdout",
     "output_type": "stream",
     "text": [
      "done\n",
      "\n",
      "done\n",
      "\n",
      "done\n",
      "\n"
     ]
    },
    {
     "name": "stderr",
     "output_type": "stream",
     "text": [
      "659it [01:58,  7.43it/s]"
     ]
    },
    {
     "name": "stdout",
     "output_type": "stream",
     "text": [
      "done\n",
      "\n",
      "done\n",
      "\n",
      "done\n",
      "\n",
      "done\n",
      "\n",
      "done\n",
      "\n"
     ]
    },
    {
     "name": "stderr",
     "output_type": "stream",
     "text": [
      "661it [01:58,  6.23it/s]"
     ]
    },
    {
     "name": "stdout",
     "output_type": "stream",
     "text": [
      "done\n",
      "\n",
      "done\n",
      "\n"
     ]
    },
    {
     "name": "stderr",
     "output_type": "stream",
     "text": [
      "664it [01:59,  6.35it/s]"
     ]
    },
    {
     "name": "stdout",
     "output_type": "stream",
     "text": [
      "done\n",
      "\n",
      "done\n",
      "\n",
      "done\n",
      "\n",
      "done\n",
      "\n"
     ]
    },
    {
     "name": "stderr",
     "output_type": "stream",
     "text": [
      "670it [01:59,  9.24it/s]"
     ]
    },
    {
     "name": "stdout",
     "output_type": "stream",
     "text": [
      "done\n",
      "\n",
      "done\n",
      "\n",
      "done\n",
      "\n",
      "done\n",
      "\n"
     ]
    },
    {
     "name": "stderr",
     "output_type": "stream",
     "text": [
      "672it [01:59,  9.05it/s]"
     ]
    },
    {
     "name": "stdout",
     "output_type": "stream",
     "text": [
      "done\n",
      "\n",
      "done\n",
      "\n",
      "done\n",
      "\n"
     ]
    },
    {
     "name": "stderr",
     "output_type": "stream",
     "text": [
      "674it [02:00,  9.36it/s]"
     ]
    },
    {
     "name": "stdout",
     "output_type": "stream",
     "text": [
      "done\n",
      "\n",
      "done\n",
      "\n",
      "done\n",
      "\n"
     ]
    },
    {
     "name": "stderr",
     "output_type": "stream",
     "text": [
      "677it [02:00,  9.55it/s]"
     ]
    },
    {
     "name": "stdout",
     "output_type": "stream",
     "text": [
      "done\n",
      "\n",
      "done\n",
      "\n"
     ]
    },
    {
     "name": "stderr",
     "output_type": "stream",
     "text": [
      "681it [02:00,  9.32it/s]"
     ]
    },
    {
     "name": "stdout",
     "output_type": "stream",
     "text": [
      "done\n",
      "\n",
      "done\n",
      "\n",
      "done\n",
      "\n"
     ]
    },
    {
     "name": "stderr",
     "output_type": "stream",
     "text": [
      "683it [02:01,  9.03it/s]"
     ]
    },
    {
     "name": "stdout",
     "output_type": "stream",
     "text": [
      "done\n",
      "\n",
      "done\n",
      "\n"
     ]
    },
    {
     "name": "stderr",
     "output_type": "stream",
     "text": [
      "685it [02:01,  9.03it/s]"
     ]
    },
    {
     "name": "stdout",
     "output_type": "stream",
     "text": [
      "done\n",
      "\n",
      "done\n",
      "\n"
     ]
    },
    {
     "name": "stderr",
     "output_type": "stream",
     "text": [
      "687it [02:01,  7.52it/s]"
     ]
    },
    {
     "name": "stdout",
     "output_type": "stream",
     "text": [
      "done\n",
      "\n",
      "done\n",
      "\n"
     ]
    },
    {
     "name": "stderr",
     "output_type": "stream",
     "text": [
      "690it [02:02,  8.29it/s]"
     ]
    },
    {
     "name": "stdout",
     "output_type": "stream",
     "text": [
      "done\n",
      "\n",
      "done\n",
      "\n",
      "done\n",
      "\n"
     ]
    },
    {
     "name": "stderr",
     "output_type": "stream",
     "text": [
      "691it [02:02,  6.30it/s]"
     ]
    },
    {
     "name": "stdout",
     "output_type": "stream",
     "text": [
      "done\n",
      "\n"
     ]
    },
    {
     "name": "stderr",
     "output_type": "stream",
     "text": [
      "693it [02:03,  3.40it/s]"
     ]
    },
    {
     "name": "stdout",
     "output_type": "stream",
     "text": [
      "done\n",
      "\n",
      "done\n",
      "\n",
      "done\n",
      "\n",
      "done\n",
      "\n"
     ]
    },
    {
     "name": "stderr",
     "output_type": "stream",
     "text": [
      "699it [02:03,  9.07it/s]"
     ]
    },
    {
     "name": "stdout",
     "output_type": "stream",
     "text": [
      "done\n",
      "\n",
      "done\n",
      "\n",
      "done\n",
      "\n",
      "done\n",
      "\n"
     ]
    },
    {
     "name": "stderr",
     "output_type": "stream",
     "text": [
      "703it [02:04, 11.50it/s]"
     ]
    },
    {
     "name": "stdout",
     "output_type": "stream",
     "text": [
      "done\n",
      "\n",
      "done\n",
      "\n",
      "done\n",
      "\n",
      "done\n",
      "\n"
     ]
    },
    {
     "name": "stderr",
     "output_type": "stream",
     "text": [
      "706it [02:04, 13.47it/s]"
     ]
    },
    {
     "name": "stdout",
     "output_type": "stream",
     "text": [
      "done\n",
      "\n",
      "done\n",
      "\n",
      "done\n",
      "\n"
     ]
    },
    {
     "name": "stderr",
     "output_type": "stream",
     "text": [
      "708it [02:04,  6.72it/s]"
     ]
    },
    {
     "name": "stdout",
     "output_type": "stream",
     "text": [
      "done\n",
      "\n",
      "done\n",
      "\n"
     ]
    },
    {
     "name": "stderr",
     "output_type": "stream",
     "text": [
      "710it [02:05,  6.79it/s]"
     ]
    },
    {
     "name": "stdout",
     "output_type": "stream",
     "text": [
      "done\n",
      "\n",
      "done\n",
      "\n"
     ]
    },
    {
     "name": "stderr",
     "output_type": "stream",
     "text": [
      "712it [02:06,  3.62it/s]"
     ]
    },
    {
     "name": "stdout",
     "output_type": "stream",
     "text": [
      "done\n",
      "\n",
      "done\n",
      "\n",
      "done\n",
      "\n"
     ]
    },
    {
     "name": "stderr",
     "output_type": "stream",
     "text": [
      "714it [02:06,  4.19it/s]"
     ]
    },
    {
     "name": "stdout",
     "output_type": "stream",
     "text": [
      "done\n",
      "\n",
      "done\n",
      "\n",
      "done\n",
      "\n"
     ]
    },
    {
     "name": "stderr",
     "output_type": "stream",
     "text": [
      "717it [02:07,  4.45it/s]"
     ]
    },
    {
     "name": "stdout",
     "output_type": "stream",
     "text": [
      "done\n",
      "\n"
     ]
    },
    {
     "name": "stderr",
     "output_type": "stream",
     "text": [
      "720it [02:08,  4.18it/s]"
     ]
    },
    {
     "name": "stdout",
     "output_type": "stream",
     "text": [
      "done\n",
      "\n",
      "done\n",
      "\n",
      "done\n",
      "\n",
      "done\n",
      "\n"
     ]
    },
    {
     "name": "stderr",
     "output_type": "stream",
     "text": [
      "723it [02:08,  5.21it/s]"
     ]
    },
    {
     "name": "stdout",
     "output_type": "stream",
     "text": [
      "done\n",
      "\n",
      "done\n",
      "\n",
      "done\n",
      "\n"
     ]
    },
    {
     "name": "stderr",
     "output_type": "stream",
     "text": [
      "726it [02:09,  5.95it/s]"
     ]
    },
    {
     "name": "stdout",
     "output_type": "stream",
     "text": [
      "done\n",
      "\n",
      "done\n",
      "\n"
     ]
    },
    {
     "name": "stderr",
     "output_type": "stream",
     "text": [
      "728it [02:09,  6.30it/s]"
     ]
    },
    {
     "name": "stdout",
     "output_type": "stream",
     "text": [
      "done\n",
      "\n",
      "done\n",
      "\n"
     ]
    },
    {
     "name": "stderr",
     "output_type": "stream",
     "text": [
      "729it [02:09,  6.84it/s]"
     ]
    },
    {
     "name": "stdout",
     "output_type": "stream",
     "text": [
      "done\n",
      "\n",
      "done\n",
      "\n"
     ]
    },
    {
     "name": "stderr",
     "output_type": "stream",
     "text": [
      "732it [02:10,  5.80it/s]"
     ]
    },
    {
     "name": "stdout",
     "output_type": "stream",
     "text": [
      "done\n",
      "\n",
      "done\n",
      "\n"
     ]
    },
    {
     "name": "stderr",
     "output_type": "stream",
     "text": [
      "734it [02:10,  7.64it/s]"
     ]
    },
    {
     "name": "stdout",
     "output_type": "stream",
     "text": [
      "done\n",
      "\n",
      "done\n",
      "\n",
      "done\n",
      "\n"
     ]
    },
    {
     "name": "stderr",
     "output_type": "stream",
     "text": [
      "736it [02:10,  7.05it/s]"
     ]
    },
    {
     "name": "stdout",
     "output_type": "stream",
     "text": [
      "done\n",
      "\n"
     ]
    },
    {
     "name": "stderr",
     "output_type": "stream",
     "text": [
      "740it [02:10,  8.77it/s]"
     ]
    },
    {
     "name": "stdout",
     "output_type": "stream",
     "text": [
      "done\n",
      "\n",
      "done\n",
      "\n",
      "done\n",
      "\n",
      "done\n",
      "\n",
      "done\n",
      "\n"
     ]
    },
    {
     "name": "stderr",
     "output_type": "stream",
     "text": [
      "744it [02:11,  9.49it/s]"
     ]
    },
    {
     "name": "stdout",
     "output_type": "stream",
     "text": [
      "done\n",
      "\n",
      "done\n",
      "\n",
      "done\n",
      "\n",
      "done\n",
      "\n"
     ]
    },
    {
     "name": "stderr",
     "output_type": "stream",
     "text": [
      "746it [02:11,  9.67it/s]"
     ]
    },
    {
     "name": "stdout",
     "output_type": "stream",
     "text": [
      "done\n",
      "\n"
     ]
    },
    {
     "name": "stderr",
     "output_type": "stream",
     "text": [
      "748it [02:11,  8.85it/s]"
     ]
    },
    {
     "name": "stdout",
     "output_type": "stream",
     "text": [
      "done\n",
      "\n",
      "done\n",
      "\n",
      "done\n",
      "\n"
     ]
    },
    {
     "name": "stderr",
     "output_type": "stream",
     "text": [
      "751it [02:12,  6.60it/s]"
     ]
    },
    {
     "name": "stdout",
     "output_type": "stream",
     "text": [
      "done\n",
      "\n",
      "done\n",
      "\n",
      "done\n",
      "\n"
     ]
    },
    {
     "name": "stderr",
     "output_type": "stream",
     "text": [
      "755it [02:12,  7.40it/s]"
     ]
    },
    {
     "name": "stdout",
     "output_type": "stream",
     "text": [
      "done\n",
      "\n",
      "done\n",
      "\n",
      "done\n",
      "\n",
      "done\n",
      "\n"
     ]
    },
    {
     "name": "stderr",
     "output_type": "stream",
     "text": [
      "757it [02:13,  8.27it/s]"
     ]
    },
    {
     "name": "stdout",
     "output_type": "stream",
     "text": [
      "done\n",
      "\n"
     ]
    },
    {
     "name": "stderr",
     "output_type": "stream",
     "text": [
      "758it [02:13,  4.79it/s]"
     ]
    },
    {
     "name": "stdout",
     "output_type": "stream",
     "text": [
      "done\n",
      "\n",
      "done\n",
      "\n",
      "done\n",
      "\n"
     ]
    },
    {
     "name": "stderr",
     "output_type": "stream",
     "text": [
      "761it [02:14,  4.88it/s]"
     ]
    },
    {
     "name": "stdout",
     "output_type": "stream",
     "text": [
      "done\n",
      "\n"
     ]
    },
    {
     "name": "stderr",
     "output_type": "stream",
     "text": [
      "763it [02:15,  4.20it/s]"
     ]
    },
    {
     "name": "stdout",
     "output_type": "stream",
     "text": [
      "done\n",
      "\n",
      "done\n",
      "\n",
      "done\n",
      "\n"
     ]
    },
    {
     "name": "stderr",
     "output_type": "stream",
     "text": [
      "765it [02:15,  4.64it/s]"
     ]
    },
    {
     "name": "stdout",
     "output_type": "stream",
     "text": [
      "done\n",
      "\n"
     ]
    },
    {
     "name": "stderr",
     "output_type": "stream",
     "text": [
      "766it [02:15,  4.70it/s]"
     ]
    },
    {
     "name": "stdout",
     "output_type": "stream",
     "text": [
      "done\n",
      "\n",
      "done\n",
      "\n"
     ]
    },
    {
     "name": "stderr",
     "output_type": "stream",
     "text": [
      "768it [02:15,  5.46it/s]"
     ]
    },
    {
     "name": "stdout",
     "output_type": "stream",
     "text": [
      "done\n",
      "\n"
     ]
    },
    {
     "name": "stderr",
     "output_type": "stream",
     "text": [
      "769it [02:16,  5.20it/s]"
     ]
    },
    {
     "name": "stdout",
     "output_type": "stream",
     "text": [
      "done\n",
      "\n",
      "done\n",
      "\n"
     ]
    },
    {
     "name": "stderr",
     "output_type": "stream",
     "text": [
      "772it [02:16,  4.66it/s]"
     ]
    },
    {
     "name": "stdout",
     "output_type": "stream",
     "text": [
      "done\n",
      "\n",
      "done\n",
      "\n"
     ]
    },
    {
     "name": "stderr",
     "output_type": "stream",
     "text": [
      "773it [02:16,  5.02it/s]"
     ]
    },
    {
     "name": "stdout",
     "output_type": "stream",
     "text": [
      "done\n",
      "\n",
      "done\n",
      "\n"
     ]
    },
    {
     "name": "stderr",
     "output_type": "stream",
     "text": [
      "775it [02:17,  5.38it/s]"
     ]
    },
    {
     "name": "stdout",
     "output_type": "stream",
     "text": [
      "done\n",
      "\n"
     ]
    },
    {
     "name": "stderr",
     "output_type": "stream",
     "text": [
      "776it [02:17,  4.58it/s]"
     ]
    },
    {
     "name": "stdout",
     "output_type": "stream",
     "text": [
      "done\n",
      "\n",
      "done\n",
      "\n"
     ]
    },
    {
     "name": "stderr",
     "output_type": "stream",
     "text": [
      "778it [02:17,  5.60it/s]"
     ]
    },
    {
     "name": "stdout",
     "output_type": "stream",
     "text": [
      "done\n",
      "\n"
     ]
    },
    {
     "name": "stderr",
     "output_type": "stream",
     "text": [
      "779it [02:18,  4.53it/s]"
     ]
    },
    {
     "name": "stdout",
     "output_type": "stream",
     "text": [
      "done\n",
      "\n"
     ]
    },
    {
     "name": "stderr",
     "output_type": "stream",
     "text": [
      "782it [02:18,  5.34it/s]"
     ]
    },
    {
     "name": "stdout",
     "output_type": "stream",
     "text": [
      "done\n",
      "\n",
      "done\n",
      "\n",
      "done\n",
      "\n"
     ]
    },
    {
     "name": "stderr",
     "output_type": "stream",
     "text": [
      "783it [02:19,  3.95it/s]"
     ]
    },
    {
     "name": "stdout",
     "output_type": "stream",
     "text": [
      "done\n",
      "\n"
     ]
    },
    {
     "name": "stderr",
     "output_type": "stream",
     "text": [
      "785it [02:19,  4.85it/s]"
     ]
    },
    {
     "name": "stdout",
     "output_type": "stream",
     "text": [
      "done\n",
      "\n",
      "done\n",
      "\n",
      "done\n",
      "\n",
      "done\n",
      "\n"
     ]
    },
    {
     "name": "stderr",
     "output_type": "stream",
     "text": [
      "791it [02:19, 10.07it/s]"
     ]
    },
    {
     "name": "stdout",
     "output_type": "stream",
     "text": [
      "done\n",
      "\n",
      "done\n",
      "\n",
      "done\n",
      "\n",
      "done\n",
      "\n"
     ]
    },
    {
     "name": "stderr",
     "output_type": "stream",
     "text": [
      "793it [02:21,  3.13it/s]"
     ]
    },
    {
     "name": "stdout",
     "output_type": "stream",
     "text": [
      "done\n",
      "\n",
      "done\n",
      "\n",
      "done\n",
      "\n",
      "done\n",
      "\n"
     ]
    },
    {
     "name": "stderr",
     "output_type": "stream",
     "text": [
      "798it [02:21,  5.86it/s]"
     ]
    },
    {
     "name": "stdout",
     "output_type": "stream",
     "text": [
      "done\n",
      "\n",
      "done\n",
      "\n",
      "done\n",
      "\n"
     ]
    },
    {
     "name": "stderr",
     "output_type": "stream",
     "text": [
      "800it [02:22,  6.28it/s]"
     ]
    },
    {
     "name": "stdout",
     "output_type": "stream",
     "text": [
      "done\n",
      "\n",
      "done\n",
      "\n",
      "done\n",
      "\n"
     ]
    },
    {
     "name": "stderr",
     "output_type": "stream",
     "text": [
      "806it [02:22, 11.03it/s]"
     ]
    },
    {
     "name": "stdout",
     "output_type": "stream",
     "text": [
      "done\n",
      "\n",
      "done\n",
      "\n",
      "done\n",
      "\n",
      "done\n",
      "\n",
      "done\n",
      "\n"
     ]
    },
    {
     "name": "stderr",
     "output_type": "stream",
     "text": [
      "810it [02:22, 11.72it/s]"
     ]
    },
    {
     "name": "stdout",
     "output_type": "stream",
     "text": [
      "done\n",
      "\n",
      "done\n",
      "\n",
      "done\n",
      "\n",
      "done\n",
      "\n"
     ]
    },
    {
     "name": "stderr",
     "output_type": "stream",
     "text": [
      "812it [02:22, 10.52it/s]"
     ]
    },
    {
     "name": "stdout",
     "output_type": "stream",
     "text": [
      "done\n",
      "\n",
      "done\n",
      "\n"
     ]
    },
    {
     "name": "stderr",
     "output_type": "stream",
     "text": [
      "816it [02:23,  9.01it/s]"
     ]
    },
    {
     "name": "stdout",
     "output_type": "stream",
     "text": [
      "done\n",
      "\n",
      "done\n",
      "\n",
      "done\n",
      "\n",
      "done\n",
      "\n"
     ]
    },
    {
     "name": "stderr",
     "output_type": "stream",
     "text": [
      "819it [02:23, 11.57it/s]"
     ]
    },
    {
     "name": "stdout",
     "output_type": "stream",
     "text": [
      "done\n",
      "\n",
      "done\n",
      "\n",
      "done\n",
      "\n"
     ]
    },
    {
     "name": "stderr",
     "output_type": "stream",
     "text": [
      "821it [02:23,  9.64it/s]"
     ]
    },
    {
     "name": "stdout",
     "output_type": "stream",
     "text": [
      "done\n",
      "\n",
      "done\n",
      "\n",
      "done\n",
      "\n"
     ]
    },
    {
     "name": "stderr",
     "output_type": "stream",
     "text": [
      "823it [02:24,  9.13it/s]"
     ]
    },
    {
     "name": "stdout",
     "output_type": "stream",
     "text": [
      "done\n",
      "\n"
     ]
    },
    {
     "name": "stderr",
     "output_type": "stream",
     "text": [
      "825it [02:24,  7.27it/s]"
     ]
    },
    {
     "name": "stdout",
     "output_type": "stream",
     "text": [
      "done\n",
      "\n",
      "done\n",
      "\n",
      "done\n",
      "\n"
     ]
    },
    {
     "name": "stderr",
     "output_type": "stream",
     "text": [
      "827it [02:24,  8.24it/s]"
     ]
    },
    {
     "name": "stdout",
     "output_type": "stream",
     "text": [
      "done\n",
      "\n"
     ]
    },
    {
     "name": "stderr",
     "output_type": "stream",
     "text": [
      "829it [02:25,  4.42it/s]"
     ]
    },
    {
     "name": "stdout",
     "output_type": "stream",
     "text": [
      "done\n",
      "\n",
      "done\n",
      "\n"
     ]
    },
    {
     "name": "stderr",
     "output_type": "stream",
     "text": [
      "832it [02:26,  4.75it/s]"
     ]
    },
    {
     "name": "stdout",
     "output_type": "stream",
     "text": [
      "done\n",
      "\n",
      "done\n",
      "\n",
      "done\n",
      "\n",
      "done\n",
      "\n"
     ]
    },
    {
     "name": "stderr",
     "output_type": "stream",
     "text": [
      "835it [02:27,  4.63it/s]"
     ]
    },
    {
     "name": "stdout",
     "output_type": "stream",
     "text": [
      "done\n",
      "\n",
      "done\n",
      "\n"
     ]
    },
    {
     "name": "stderr",
     "output_type": "stream",
     "text": [
      "840it [02:27,  8.79it/s]"
     ]
    },
    {
     "name": "stdout",
     "output_type": "stream",
     "text": [
      "done\n",
      "\n",
      "done\n",
      "\n",
      "done\n",
      "\n",
      "done\n",
      "\n",
      "done\n",
      "\n"
     ]
    },
    {
     "name": "stderr",
     "output_type": "stream",
     "text": [
      "842it [02:27, 10.35it/s]"
     ]
    },
    {
     "name": "stdout",
     "output_type": "stream",
     "text": [
      "done\n",
      "\n",
      "done\n",
      "\n"
     ]
    },
    {
     "name": "stderr",
     "output_type": "stream",
     "text": [
      "844it [02:27,  8.77it/s]"
     ]
    },
    {
     "name": "stdout",
     "output_type": "stream",
     "text": [
      "done\n",
      "\n",
      "done\n",
      "\n",
      "done\n",
      "\n"
     ]
    },
    {
     "name": "stderr",
     "output_type": "stream",
     "text": [
      "848it [02:28, 10.16it/s]"
     ]
    },
    {
     "name": "stdout",
     "output_type": "stream",
     "text": [
      "done\n",
      "\n",
      "done\n",
      "\n",
      "done\n",
      "\n"
     ]
    },
    {
     "name": "stderr",
     "output_type": "stream",
     "text": [
      "852it [02:28, 10.07it/s]"
     ]
    },
    {
     "name": "stdout",
     "output_type": "stream",
     "text": [
      "done\n",
      "\n",
      "done\n",
      "\n",
      "done\n",
      "\n",
      "done\n",
      "\n",
      "done\n",
      "\n"
     ]
    },
    {
     "name": "stderr",
     "output_type": "stream",
     "text": [
      "854it [02:28,  7.46it/s]"
     ]
    },
    {
     "name": "stdout",
     "output_type": "stream",
     "text": [
      "done\n",
      "\n",
      "done\n",
      "\n"
     ]
    },
    {
     "name": "stderr",
     "output_type": "stream",
     "text": [
      "856it [02:29,  5.73it/s]"
     ]
    },
    {
     "name": "stdout",
     "output_type": "stream",
     "text": [
      "done\n",
      "\n",
      "done\n",
      "\n",
      "done\n",
      "\n"
     ]
    },
    {
     "name": "stderr",
     "output_type": "stream",
     "text": [
      "859it [02:29,  5.90it/s]"
     ]
    },
    {
     "name": "stdout",
     "output_type": "stream",
     "text": [
      "done\n",
      "\n"
     ]
    },
    {
     "name": "stderr",
     "output_type": "stream",
     "text": [
      "860it [02:30,  4.18it/s]"
     ]
    },
    {
     "name": "stdout",
     "output_type": "stream",
     "text": [
      "done\n",
      "\n",
      "done\n",
      "\n",
      "done\n",
      "\n"
     ]
    },
    {
     "name": "stderr",
     "output_type": "stream",
     "text": [
      "863it [02:30,  5.57it/s]"
     ]
    },
    {
     "name": "stdout",
     "output_type": "stream",
     "text": [
      "done\n",
      "\n"
     ]
    },
    {
     "name": "stderr",
     "output_type": "stream",
     "text": [
      "864it [02:31,  5.20it/s]"
     ]
    },
    {
     "name": "stdout",
     "output_type": "stream",
     "text": [
      "done\n",
      "\n"
     ]
    },
    {
     "name": "stderr",
     "output_type": "stream",
     "text": [
      "865it [02:31,  4.75it/s]"
     ]
    },
    {
     "name": "stdout",
     "output_type": "stream",
     "text": [
      "done\n",
      "\n",
      "done\n",
      "\n"
     ]
    },
    {
     "name": "stderr",
     "output_type": "stream",
     "text": [
      "868it [02:31,  6.13it/s]"
     ]
    },
    {
     "name": "stdout",
     "output_type": "stream",
     "text": [
      "done\n",
      "\n",
      "done\n",
      "\n",
      "done\n",
      "\n"
     ]
    },
    {
     "name": "stderr",
     "output_type": "stream",
     "text": [
      "870it [02:31,  7.49it/s]"
     ]
    },
    {
     "name": "stdout",
     "output_type": "stream",
     "text": [
      "done\n",
      "\n",
      "done\n",
      "\n"
     ]
    },
    {
     "name": "stderr",
     "output_type": "stream",
     "text": [
      "872it [02:32,  6.98it/s]"
     ]
    },
    {
     "name": "stdout",
     "output_type": "stream",
     "text": [
      "done\n",
      "\n",
      "done\n",
      "\n",
      "done\n",
      "\n"
     ]
    },
    {
     "name": "stderr",
     "output_type": "stream",
     "text": [
      "875it [02:33,  4.34it/s]"
     ]
    },
    {
     "name": "stdout",
     "output_type": "stream",
     "text": [
      "done\n",
      "\n",
      "done\n",
      "\n",
      "done\n",
      "\n"
     ]
    },
    {
     "name": "stderr",
     "output_type": "stream",
     "text": [
      "879it [02:34,  4.49it/s]"
     ]
    },
    {
     "name": "stdout",
     "output_type": "stream",
     "text": [
      "done\n",
      "\n",
      "done\n",
      "\n",
      "done\n",
      "\n",
      "done\n",
      "\n"
     ]
    },
    {
     "name": "stderr",
     "output_type": "stream",
     "text": [
      "884it [02:34,  7.47it/s]"
     ]
    },
    {
     "name": "stdout",
     "output_type": "stream",
     "text": [
      "done\n",
      "\n",
      "done\n",
      "\n",
      "done\n",
      "\n",
      "done\n",
      "\n"
     ]
    },
    {
     "name": "stderr",
     "output_type": "stream",
     "text": [
      "887it [02:34,  9.55it/s]"
     ]
    },
    {
     "name": "stdout",
     "output_type": "stream",
     "text": [
      "done\n",
      "\n",
      "done\n",
      "\n",
      "done\n",
      "\n"
     ]
    },
    {
     "name": "stderr",
     "output_type": "stream",
     "text": [
      "889it [02:34,  9.34it/s]"
     ]
    },
    {
     "name": "stdout",
     "output_type": "stream",
     "text": [
      "done\n",
      "\n",
      "done\n",
      "\n"
     ]
    },
    {
     "name": "stderr",
     "output_type": "stream",
     "text": [
      "891it [02:35,  9.20it/s]"
     ]
    },
    {
     "name": "stdout",
     "output_type": "stream",
     "text": [
      "done\n",
      "\n",
      "done\n",
      "\n"
     ]
    },
    {
     "name": "stderr",
     "output_type": "stream",
     "text": [
      "893it [02:35,  9.29it/s]"
     ]
    },
    {
     "name": "stdout",
     "output_type": "stream",
     "text": [
      "done\n",
      "\n",
      "done\n",
      "\n"
     ]
    },
    {
     "name": "stderr",
     "output_type": "stream",
     "text": [
      "896it [02:36,  6.05it/s]"
     ]
    },
    {
     "name": "stdout",
     "output_type": "stream",
     "text": [
      "done\n",
      "\n",
      "done\n",
      "\n",
      "done\n",
      "\n"
     ]
    },
    {
     "name": "stderr",
     "output_type": "stream",
     "text": [
      "899it [02:36,  6.02it/s]"
     ]
    },
    {
     "name": "stdout",
     "output_type": "stream",
     "text": [
      "done\n",
      "\n",
      "done\n",
      "\n"
     ]
    },
    {
     "name": "stderr",
     "output_type": "stream",
     "text": [
      "901it [02:37,  5.96it/s]"
     ]
    },
    {
     "name": "stdout",
     "output_type": "stream",
     "text": [
      "done\n",
      "\n",
      "done\n",
      "\n"
     ]
    },
    {
     "name": "stderr",
     "output_type": "stream",
     "text": [
      "903it [02:37,  3.94it/s]"
     ]
    },
    {
     "name": "stdout",
     "output_type": "stream",
     "text": [
      "done\n",
      "\n",
      "done\n",
      "\n"
     ]
    },
    {
     "name": "stderr",
     "output_type": "stream",
     "text": [
      "906it [02:38,  6.42it/s]"
     ]
    },
    {
     "name": "stdout",
     "output_type": "stream",
     "text": [
      "done\n",
      "\n",
      "done\n",
      "\n",
      "done\n",
      "\n"
     ]
    },
    {
     "name": "stderr",
     "output_type": "stream",
     "text": [
      "908it [02:38,  5.47it/s]"
     ]
    },
    {
     "name": "stdout",
     "output_type": "stream",
     "text": [
      "done\n",
      "\n",
      "done\n",
      "\n"
     ]
    },
    {
     "name": "stderr",
     "output_type": "stream",
     "text": [
      "911it [02:39,  5.69it/s]"
     ]
    },
    {
     "name": "stdout",
     "output_type": "stream",
     "text": [
      "done\n",
      "\n",
      "done\n",
      "\n",
      "done\n",
      "\n"
     ]
    },
    {
     "name": "stderr",
     "output_type": "stream",
     "text": [
      "913it [02:39,  7.36it/s]"
     ]
    },
    {
     "name": "stdout",
     "output_type": "stream",
     "text": [
      "done\n",
      "\n",
      "done\n",
      "\n",
      "done\n",
      "\n"
     ]
    },
    {
     "name": "stderr",
     "output_type": "stream",
     "text": [
      "915it [02:39,  7.99it/s]"
     ]
    },
    {
     "name": "stdout",
     "output_type": "stream",
     "text": [
      "done\n",
      "\n",
      "done\n",
      "\n"
     ]
    },
    {
     "name": "stderr",
     "output_type": "stream",
     "text": [
      "917it [02:39,  8.44it/s]"
     ]
    },
    {
     "name": "stdout",
     "output_type": "stream",
     "text": [
      "done\n",
      "\n"
     ]
    },
    {
     "name": "stderr",
     "output_type": "stream",
     "text": [
      "918it [02:39,  7.42it/s]"
     ]
    },
    {
     "name": "stdout",
     "output_type": "stream",
     "text": [
      "done\n",
      "\n",
      "done\n",
      "\n"
     ]
    },
    {
     "name": "stderr",
     "output_type": "stream",
     "text": [
      "920it [02:40,  6.40it/s]"
     ]
    },
    {
     "name": "stdout",
     "output_type": "stream",
     "text": [
      "done\n",
      "\n",
      "done\n",
      "\n"
     ]
    },
    {
     "name": "stderr",
     "output_type": "stream",
     "text": [
      "924it [02:40,  8.50it/s]"
     ]
    },
    {
     "name": "stdout",
     "output_type": "stream",
     "text": [
      "done\n",
      "\n",
      "done\n",
      "\n",
      "done\n",
      "\n",
      "done\n",
      "\n"
     ]
    },
    {
     "name": "stderr",
     "output_type": "stream",
     "text": [
      "926it [02:41,  7.15it/s]"
     ]
    },
    {
     "name": "stdout",
     "output_type": "stream",
     "text": [
      "done\n",
      "\n"
     ]
    },
    {
     "name": "stderr",
     "output_type": "stream",
     "text": [
      "927it [02:41,  5.83it/s]"
     ]
    },
    {
     "name": "stdout",
     "output_type": "stream",
     "text": [
      "done\n",
      "\n"
     ]
    },
    {
     "name": "stderr",
     "output_type": "stream",
     "text": [
      "928it [02:41,  5.61it/s]"
     ]
    },
    {
     "name": "stdout",
     "output_type": "stream",
     "text": [
      "done\n",
      "\n",
      "done\n",
      "\n",
      "done\n",
      "\n"
     ]
    },
    {
     "name": "stderr",
     "output_type": "stream",
     "text": [
      "931it [02:41,  6.93it/s]"
     ]
    },
    {
     "name": "stdout",
     "output_type": "stream",
     "text": [
      "done\n",
      "\n"
     ]
    },
    {
     "name": "stderr",
     "output_type": "stream",
     "text": [
      "934it [02:42,  7.56it/s]"
     ]
    },
    {
     "name": "stdout",
     "output_type": "stream",
     "text": [
      "done\n",
      "\n",
      "done\n",
      "\n",
      "done\n",
      "\n",
      "done\n",
      "\n"
     ]
    },
    {
     "name": "stderr",
     "output_type": "stream",
     "text": [
      "939it [02:42,  8.47it/s]"
     ]
    },
    {
     "name": "stdout",
     "output_type": "stream",
     "text": [
      "done\n",
      "\n",
      "done\n",
      "\n",
      "done\n",
      "\n",
      "done\n",
      "\n",
      "done\n",
      "\n"
     ]
    },
    {
     "name": "stderr",
     "output_type": "stream",
     "text": [
      "942it [02:43, 10.98it/s]"
     ]
    },
    {
     "name": "stdout",
     "output_type": "stream",
     "text": [
      "done\n",
      "\n",
      "done\n",
      "\n",
      "done\n",
      "\n"
     ]
    },
    {
     "name": "stderr",
     "output_type": "stream",
     "text": [
      "944it [02:43,  7.93it/s]"
     ]
    },
    {
     "name": "stdout",
     "output_type": "stream",
     "text": [
      "done\n",
      "\n"
     ]
    },
    {
     "name": "stderr",
     "output_type": "stream",
     "text": [
      "946it [02:43,  6.39it/s]"
     ]
    },
    {
     "name": "stdout",
     "output_type": "stream",
     "text": [
      "done\n",
      "\n",
      "done\n",
      "\n"
     ]
    },
    {
     "name": "stderr",
     "output_type": "stream",
     "text": [
      "948it [02:44,  6.45it/s]"
     ]
    },
    {
     "name": "stdout",
     "output_type": "stream",
     "text": [
      "done\n",
      "\n",
      "done\n",
      "\n"
     ]
    },
    {
     "name": "stderr",
     "output_type": "stream",
     "text": [
      "950it [02:44,  8.00it/s]"
     ]
    },
    {
     "name": "stdout",
     "output_type": "stream",
     "text": [
      "done\n",
      "\n",
      "done\n",
      "\n"
     ]
    },
    {
     "name": "stderr",
     "output_type": "stream",
     "text": [
      "952it [02:44,  5.42it/s]"
     ]
    },
    {
     "name": "stdout",
     "output_type": "stream",
     "text": [
      "done\n",
      "\n",
      "done\n",
      "\n"
     ]
    },
    {
     "name": "stderr",
     "output_type": "stream",
     "text": [
      "953it [02:45,  5.55it/s]"
     ]
    },
    {
     "name": "stdout",
     "output_type": "stream",
     "text": [
      "done\n",
      "\n",
      "done\n",
      "\n",
      "done\n",
      "\n"
     ]
    },
    {
     "name": "stderr",
     "output_type": "stream",
     "text": [
      "958it [02:45,  6.57it/s]"
     ]
    },
    {
     "name": "stdout",
     "output_type": "stream",
     "text": [
      "done\n",
      "\n",
      "done\n",
      "\n",
      "done\n",
      "\n",
      "done\n",
      "\n"
     ]
    },
    {
     "name": "stderr",
     "output_type": "stream",
     "text": [
      "961it [02:46,  8.85it/s]"
     ]
    },
    {
     "name": "stdout",
     "output_type": "stream",
     "text": [
      "done\n",
      "\n",
      "done\n",
      "\n",
      "done\n",
      "\n"
     ]
    },
    {
     "name": "stderr",
     "output_type": "stream",
     "text": [
      "965it [02:46,  9.37it/s]"
     ]
    },
    {
     "name": "stdout",
     "output_type": "stream",
     "text": [
      "done\n",
      "\n",
      "done\n",
      "\n",
      "done\n",
      "\n"
     ]
    },
    {
     "name": "stderr",
     "output_type": "stream",
     "text": [
      "969it [02:47,  6.92it/s]"
     ]
    },
    {
     "name": "stdout",
     "output_type": "stream",
     "text": [
      "done\n",
      "\n",
      "done\n",
      "\n",
      "done\n",
      "\n",
      "done\n",
      "\n",
      "done\n",
      "\n"
     ]
    },
    {
     "name": "stderr",
     "output_type": "stream",
     "text": [
      "972it [02:47,  8.98it/s]"
     ]
    },
    {
     "name": "stdout",
     "output_type": "stream",
     "text": [
      "done\n",
      "\n",
      "done\n",
      "\n"
     ]
    },
    {
     "name": "stderr",
     "output_type": "stream",
     "text": [
      "974it [02:48,  5.76it/s]"
     ]
    },
    {
     "name": "stdout",
     "output_type": "stream",
     "text": [
      "done\n",
      "\n",
      "done\n",
      "\n",
      "done\n",
      "\n"
     ]
    },
    {
     "name": "stderr",
     "output_type": "stream",
     "text": [
      "979it [02:48,  8.15it/s]"
     ]
    },
    {
     "name": "stdout",
     "output_type": "stream",
     "text": [
      "done\n",
      "\n",
      "done\n",
      "\n",
      "done\n",
      "\n",
      "done\n",
      "\n",
      "done\n",
      "\n"
     ]
    },
    {
     "name": "stderr",
     "output_type": "stream",
     "text": [
      "981it [02:48,  7.77it/s]"
     ]
    },
    {
     "name": "stdout",
     "output_type": "stream",
     "text": [
      "done\n",
      "\n",
      "done\n",
      "\n"
     ]
    },
    {
     "name": "stderr",
     "output_type": "stream",
     "text": [
      "984it [02:49,  6.96it/s]"
     ]
    },
    {
     "name": "stdout",
     "output_type": "stream",
     "text": [
      "done\n",
      "\n",
      "done\n",
      "\n",
      "done\n",
      "\n"
     ]
    },
    {
     "name": "stderr",
     "output_type": "stream",
     "text": [
      "986it [02:49,  8.74it/s]"
     ]
    },
    {
     "name": "stdout",
     "output_type": "stream",
     "text": [
      "done\n",
      "\n"
     ]
    },
    {
     "name": "stderr",
     "output_type": "stream",
     "text": [
      "991it [02:50,  9.37it/s]"
     ]
    },
    {
     "name": "stdout",
     "output_type": "stream",
     "text": [
      "done\n",
      "\n",
      "done\n",
      "\n",
      "done\n",
      "\n",
      "done\n",
      "\n",
      "done\n",
      "\n"
     ]
    },
    {
     "name": "stderr",
     "output_type": "stream",
     "text": [
      "993it [02:50,  9.83it/s]"
     ]
    },
    {
     "name": "stdout",
     "output_type": "stream",
     "text": [
      "done\n",
      "\n",
      "done\n",
      "\n"
     ]
    },
    {
     "name": "stderr",
     "output_type": "stream",
     "text": [
      "995it [02:50,  9.74it/s]"
     ]
    },
    {
     "name": "stdout",
     "output_type": "stream",
     "text": [
      "done\n",
      "\n",
      "done\n",
      "\n",
      "done\n",
      "\n"
     ]
    },
    {
     "name": "stderr",
     "output_type": "stream",
     "text": [
      "997it [02:50,  9.18it/s]"
     ]
    },
    {
     "name": "stdout",
     "output_type": "stream",
     "text": [
      "done\n",
      "\n",
      "done\n",
      "\n"
     ]
    },
    {
     "name": "stderr",
     "output_type": "stream",
     "text": [
      "1001it [02:51,  8.83it/s]"
     ]
    },
    {
     "name": "stdout",
     "output_type": "stream",
     "text": [
      "done\n",
      "\n",
      "done\n",
      "\n",
      "done\n",
      "\n"
     ]
    },
    {
     "name": "stderr",
     "output_type": "stream",
     "text": [
      "1003it [02:51,  8.71it/s]"
     ]
    },
    {
     "name": "stdout",
     "output_type": "stream",
     "text": [
      "done\n",
      "\n",
      "done\n",
      "\n"
     ]
    },
    {
     "name": "stderr",
     "output_type": "stream",
     "text": [
      "1005it [02:51,  9.28it/s]"
     ]
    },
    {
     "name": "stdout",
     "output_type": "stream",
     "text": [
      "done\n",
      "\n",
      "done\n",
      "\n"
     ]
    },
    {
     "name": "stderr",
     "output_type": "stream",
     "text": [
      "1006it [02:51,  8.05it/s]"
     ]
    },
    {
     "name": "stdout",
     "output_type": "stream",
     "text": [
      "done\n",
      "\n",
      "done\n",
      "\n"
     ]
    },
    {
     "name": "stderr",
     "output_type": "stream",
     "text": [
      "1008it [02:52,  6.72it/s]"
     ]
    },
    {
     "name": "stdout",
     "output_type": "stream",
     "text": [
      "done\n",
      "\n",
      "done\n",
      "\n",
      "done\n",
      "\n"
     ]
    },
    {
     "name": "stderr",
     "output_type": "stream",
     "text": [
      "1011it [02:52,  6.82it/s]"
     ]
    },
    {
     "name": "stdout",
     "output_type": "stream",
     "text": [
      "done\n",
      "\n"
     ]
    },
    {
     "name": "stderr",
     "output_type": "stream",
     "text": [
      "1015it [02:53,  8.34it/s]"
     ]
    },
    {
     "name": "stdout",
     "output_type": "stream",
     "text": [
      "done\n",
      "\n",
      "done\n",
      "\n",
      "done\n",
      "\n",
      "done\n",
      "\n",
      "done\n",
      "\n"
     ]
    },
    {
     "name": "stderr",
     "output_type": "stream",
     "text": [
      "1021it [02:53, 12.96it/s]"
     ]
    },
    {
     "name": "stdout",
     "output_type": "stream",
     "text": [
      "done\n",
      "\n",
      "done\n",
      "\n",
      "done\n",
      "\n",
      "done\n",
      "\n",
      "done\n",
      "\n"
     ]
    },
    {
     "name": "stderr",
     "output_type": "stream",
     "text": [
      "1023it [02:53, 12.92it/s]"
     ]
    },
    {
     "name": "stdout",
     "output_type": "stream",
     "text": [
      "done\n",
      "\n",
      "done\n",
      "\n",
      "done\n",
      "\n",
      "done\n",
      "\n"
     ]
    },
    {
     "name": "stderr",
     "output_type": "stream",
     "text": [
      "1026it [02:53, 13.00it/s]"
     ]
    },
    {
     "name": "stdout",
     "output_type": "stream",
     "text": [
      "done\n",
      "\n"
     ]
    },
    {
     "name": "stderr",
     "output_type": "stream",
     "text": [
      "1028it [02:54,  9.85it/s]"
     ]
    },
    {
     "name": "stdout",
     "output_type": "stream",
     "text": [
      "done\n",
      "\n",
      "done\n",
      "\n",
      "done\n",
      "\n"
     ]
    },
    {
     "name": "stderr",
     "output_type": "stream",
     "text": [
      "1030it [02:54,  9.28it/s]"
     ]
    },
    {
     "name": "stdout",
     "output_type": "stream",
     "text": [
      "done\n",
      "\n"
     ]
    },
    {
     "name": "stderr",
     "output_type": "stream",
     "text": [
      "1032it [02:55,  4.36it/s]"
     ]
    },
    {
     "name": "stdout",
     "output_type": "stream",
     "text": [
      "done\n",
      "\n",
      "done\n",
      "\n"
     ]
    },
    {
     "name": "stderr",
     "output_type": "stream",
     "text": [
      "1034it [02:55,  4.67it/s]"
     ]
    },
    {
     "name": "stdout",
     "output_type": "stream",
     "text": [
      "done\n",
      "\n",
      "done\n",
      "\n",
      "done\n",
      "\n",
      "done\n",
      "\n"
     ]
    },
    {
     "name": "stderr",
     "output_type": "stream",
     "text": [
      "1040it [02:56,  7.24it/s]"
     ]
    },
    {
     "name": "stdout",
     "output_type": "stream",
     "text": [
      "done\n",
      "\n",
      "done\n",
      "\n",
      "done\n",
      "\n",
      "done\n",
      "\n",
      "done\n",
      "\n"
     ]
    },
    {
     "name": "stderr",
     "output_type": "stream",
     "text": [
      "1042it [02:56,  6.78it/s]"
     ]
    },
    {
     "name": "stdout",
     "output_type": "stream",
     "text": [
      "done\n",
      "\n"
     ]
    },
    {
     "name": "stderr",
     "output_type": "stream",
     "text": [
      "1043it [02:57,  6.36it/s]"
     ]
    },
    {
     "name": "stdout",
     "output_type": "stream",
     "text": [
      "done\n",
      "\n",
      "done\n",
      "\n"
     ]
    },
    {
     "name": "stderr",
     "output_type": "stream",
     "text": [
      "1046it [02:57,  6.49it/s]"
     ]
    },
    {
     "name": "stdout",
     "output_type": "stream",
     "text": [
      "done\n",
      "\n",
      "done\n",
      "\n"
     ]
    },
    {
     "name": "stderr",
     "output_type": "stream",
     "text": [
      "1049it [02:57,  7.59it/s]"
     ]
    },
    {
     "name": "stdout",
     "output_type": "stream",
     "text": [
      "done\n",
      "\n",
      "done\n",
      "\n",
      "done\n",
      "\n",
      "done\n",
      "\n"
     ]
    },
    {
     "name": "stderr",
     "output_type": "stream",
     "text": [
      "1052it [02:58,  7.99it/s]"
     ]
    },
    {
     "name": "stdout",
     "output_type": "stream",
     "text": [
      "done\n",
      "\n",
      "done\n",
      "\n",
      "done\n",
      "\n"
     ]
    },
    {
     "name": "stderr",
     "output_type": "stream",
     "text": [
      "1055it [02:58, 11.35it/s]"
     ]
    },
    {
     "name": "stdout",
     "output_type": "stream",
     "text": [
      "done\n",
      "\n",
      "done\n",
      "\n"
     ]
    },
    {
     "name": "stderr",
     "output_type": "stream",
     "text": [
      "1057it [02:58,  8.05it/s]"
     ]
    },
    {
     "name": "stdout",
     "output_type": "stream",
     "text": [
      "done\n",
      "\n",
      "done\n",
      "\n",
      "done\n",
      "\n",
      "done\n",
      "\n"
     ]
    },
    {
     "name": "stderr",
     "output_type": "stream",
     "text": [
      "1062it [02:59, 10.11it/s]"
     ]
    },
    {
     "name": "stdout",
     "output_type": "stream",
     "text": [
      "done\n",
      "\n",
      "done\n",
      "\n",
      "done\n",
      "\n",
      "done\n",
      "\n"
     ]
    },
    {
     "name": "stderr",
     "output_type": "stream",
     "text": [
      "1065it [02:59, 12.61it/s]"
     ]
    },
    {
     "name": "stdout",
     "output_type": "stream",
     "text": [
      "done\n",
      "\n",
      "done\n",
      "\n",
      "done\n",
      "\n"
     ]
    },
    {
     "name": "stderr",
     "output_type": "stream",
     "text": [
      "1067it [02:59, 11.55it/s]"
     ]
    },
    {
     "name": "stdout",
     "output_type": "stream",
     "text": [
      "done\n",
      "\n",
      "done\n",
      "\n",
      "done\n",
      "\n"
     ]
    },
    {
     "name": "stderr",
     "output_type": "stream",
     "text": [
      "1070it [02:59,  9.93it/s]"
     ]
    },
    {
     "name": "stdout",
     "output_type": "stream",
     "text": [
      "done\n",
      "\n"
     ]
    },
    {
     "name": "stderr",
     "output_type": "stream",
     "text": [
      "1072it [03:00,  8.11it/s]"
     ]
    },
    {
     "name": "stdout",
     "output_type": "stream",
     "text": [
      "done\n",
      "\n",
      "done\n",
      "\n"
     ]
    },
    {
     "name": "stderr",
     "output_type": "stream",
     "text": [
      "1075it [03:00,  7.66it/s]"
     ]
    },
    {
     "name": "stdout",
     "output_type": "stream",
     "text": [
      "done\n",
      "\n",
      "done\n",
      "\n",
      "done\n",
      "\n",
      "done\n",
      "\n"
     ]
    },
    {
     "name": "stderr",
     "output_type": "stream",
     "text": [
      "1077it [03:00,  8.12it/s]"
     ]
    },
    {
     "name": "stdout",
     "output_type": "stream",
     "text": [
      "done\n",
      "\n"
     ]
    },
    {
     "name": "stderr",
     "output_type": "stream",
     "text": [
      "1080it [03:01,  7.85it/s]"
     ]
    },
    {
     "name": "stdout",
     "output_type": "stream",
     "text": [
      "done\n",
      "\n",
      "done\n",
      "\n",
      "done\n",
      "\n",
      "done\n",
      "\n"
     ]
    },
    {
     "name": "stderr",
     "output_type": "stream",
     "text": [
      "1083it [03:02,  5.96it/s]"
     ]
    },
    {
     "name": "stdout",
     "output_type": "stream",
     "text": [
      "done\n",
      "\n",
      "done\n",
      "\n",
      "done\n",
      "\n"
     ]
    },
    {
     "name": "stderr",
     "output_type": "stream",
     "text": [
      "1085it [03:02,  6.67it/s]"
     ]
    },
    {
     "name": "stdout",
     "output_type": "stream",
     "text": [
      "done\n",
      "\n"
     ]
    },
    {
     "name": "stderr",
     "output_type": "stream",
     "text": [
      "1086it [03:02,  5.78it/s]"
     ]
    },
    {
     "name": "stdout",
     "output_type": "stream",
     "text": [
      "done\n",
      "\n",
      "done\n",
      "\n"
     ]
    },
    {
     "name": "stderr",
     "output_type": "stream",
     "text": [
      "1088it [03:02,  6.72it/s]"
     ]
    },
    {
     "name": "stdout",
     "output_type": "stream",
     "text": [
      "done\n",
      "\n"
     ]
    },
    {
     "name": "stderr",
     "output_type": "stream",
     "text": [
      "1091it [03:03,  7.29it/s]"
     ]
    },
    {
     "name": "stdout",
     "output_type": "stream",
     "text": [
      "done\n",
      "\n",
      "done\n",
      "\n",
      "done\n",
      "\n"
     ]
    },
    {
     "name": "stderr",
     "output_type": "stream",
     "text": [
      "1093it [03:03,  6.49it/s]"
     ]
    },
    {
     "name": "stdout",
     "output_type": "stream",
     "text": [
      "done\n",
      "\n",
      "done\n",
      "\n",
      "done\n",
      "\n"
     ]
    },
    {
     "name": "stderr",
     "output_type": "stream",
     "text": [
      "1095it [03:03,  6.69it/s]"
     ]
    },
    {
     "name": "stdout",
     "output_type": "stream",
     "text": [
      "done\n",
      "\n"
     ]
    },
    {
     "name": "stderr",
     "output_type": "stream",
     "text": [
      "1096it [03:04,  5.00it/s]"
     ]
    },
    {
     "name": "stdout",
     "output_type": "stream",
     "text": [
      "done\n",
      "\n",
      "done\n",
      "\n"
     ]
    },
    {
     "name": "stderr",
     "output_type": "stream",
     "text": [
      "1098it [03:04,  5.92it/s]"
     ]
    },
    {
     "name": "stdout",
     "output_type": "stream",
     "text": [
      "done\n",
      "\n"
     ]
    },
    {
     "name": "stderr",
     "output_type": "stream",
     "text": [
      "1099it [03:04,  5.06it/s]"
     ]
    },
    {
     "name": "stdout",
     "output_type": "stream",
     "text": [
      "done\n",
      "\n"
     ]
    },
    {
     "name": "stderr",
     "output_type": "stream",
     "text": [
      "1102it [03:05,  5.37it/s]"
     ]
    },
    {
     "name": "stdout",
     "output_type": "stream",
     "text": [
      "done\n",
      "\n",
      "done\n",
      "\n",
      "done\n",
      "\n"
     ]
    },
    {
     "name": "stderr",
     "output_type": "stream",
     "text": [
      "1103it [03:05,  5.08it/s]"
     ]
    },
    {
     "name": "stdout",
     "output_type": "stream",
     "text": [
      "done\n",
      "\n"
     ]
    },
    {
     "name": "stderr",
     "output_type": "stream",
     "text": [
      "1107it [03:05,  8.17it/s]"
     ]
    },
    {
     "name": "stdout",
     "output_type": "stream",
     "text": [
      "done\n",
      "\n",
      "done\n",
      "\n",
      "done\n",
      "\n",
      "done\n",
      "\n"
     ]
    },
    {
     "name": "stderr",
     "output_type": "stream",
     "text": [
      "1111it [03:06, 10.89it/s]"
     ]
    },
    {
     "name": "stdout",
     "output_type": "stream",
     "text": [
      "done\n",
      "\n",
      "done\n",
      "\n",
      "done\n",
      "\n",
      "done\n",
      "\n"
     ]
    },
    {
     "name": "stderr",
     "output_type": "stream",
     "text": [
      "1113it [03:07,  5.20it/s]"
     ]
    },
    {
     "name": "stdout",
     "output_type": "stream",
     "text": [
      "done\n",
      "\n",
      "done\n",
      "\n",
      "done\n",
      "\n",
      "done\n",
      "\n"
     ]
    },
    {
     "name": "stderr",
     "output_type": "stream",
     "text": [
      "1118it [03:07,  9.07it/s]"
     ]
    },
    {
     "name": "stdout",
     "output_type": "stream",
     "text": [
      "done\n",
      "\n",
      "done\n",
      "\n",
      "done\n",
      "\n"
     ]
    },
    {
     "name": "stderr",
     "output_type": "stream",
     "text": [
      "1120it [03:07,  9.30it/s]"
     ]
    },
    {
     "name": "stdout",
     "output_type": "stream",
     "text": [
      "done\n",
      "\n",
      "done\n",
      "\n",
      "done\n",
      "\n",
      "done\n",
      "\n"
     ]
    },
    {
     "name": "stderr",
     "output_type": "stream",
     "text": [
      "1125it [03:07, 11.96it/s]"
     ]
    },
    {
     "name": "stdout",
     "output_type": "stream",
     "text": [
      "done\n",
      "\n",
      "done\n",
      "\n",
      "done\n",
      "\n"
     ]
    },
    {
     "name": "stderr",
     "output_type": "stream",
     "text": [
      "1127it [03:08, 10.85it/s]"
     ]
    },
    {
     "name": "stdout",
     "output_type": "stream",
     "text": [
      "done\n",
      "\n",
      "done\n",
      "\n"
     ]
    },
    {
     "name": "stderr",
     "output_type": "stream",
     "text": [
      "1130it [03:08, 12.37it/s]"
     ]
    },
    {
     "name": "stdout",
     "output_type": "stream",
     "text": [
      "done\n",
      "\n",
      "done\n",
      "\n",
      "done\n",
      "\n"
     ]
    },
    {
     "name": "stderr",
     "output_type": "stream",
     "text": [
      "1132it [03:08, 10.31it/s]"
     ]
    },
    {
     "name": "stdout",
     "output_type": "stream",
     "text": [
      "done\n",
      "\n",
      "done\n",
      "\n"
     ]
    },
    {
     "name": "stderr",
     "output_type": "stream",
     "text": [
      "1134it [03:09,  7.24it/s]"
     ]
    },
    {
     "name": "stdout",
     "output_type": "stream",
     "text": [
      "done\n",
      "\n",
      "done\n",
      "\n"
     ]
    },
    {
     "name": "stderr",
     "output_type": "stream",
     "text": [
      "1138it [03:09,  9.15it/s]"
     ]
    },
    {
     "name": "stdout",
     "output_type": "stream",
     "text": [
      "done\n",
      "\n",
      "done\n",
      "\n",
      "done\n",
      "\n",
      "done\n",
      "\n"
     ]
    },
    {
     "name": "stderr",
     "output_type": "stream",
     "text": [
      "1140it [03:09, 10.13it/s]"
     ]
    },
    {
     "name": "stdout",
     "output_type": "stream",
     "text": [
      "done\n",
      "\n",
      "done\n",
      "\n"
     ]
    },
    {
     "name": "stderr",
     "output_type": "stream",
     "text": [
      "1142it [03:09, 10.26it/s]"
     ]
    },
    {
     "name": "stdout",
     "output_type": "stream",
     "text": [
      "done\n",
      "\n",
      "done\n",
      "\n"
     ]
    },
    {
     "name": "stderr",
     "output_type": "stream",
     "text": [
      "1144it [03:10,  8.64it/s]"
     ]
    },
    {
     "name": "stdout",
     "output_type": "stream",
     "text": [
      "done\n",
      "\n",
      "done\n",
      "\n",
      "done\n",
      "\n"
     ]
    },
    {
     "name": "stderr",
     "output_type": "stream",
     "text": [
      "1147it [03:10, 11.33it/s]"
     ]
    },
    {
     "name": "stdout",
     "output_type": "stream",
     "text": [
      "done\n",
      "\n",
      "done\n",
      "\n"
     ]
    },
    {
     "name": "stderr",
     "output_type": "stream",
     "text": [
      "1149it [03:10,  5.93it/s]"
     ]
    },
    {
     "name": "stdout",
     "output_type": "stream",
     "text": [
      "done\n",
      "\n",
      "done\n",
      "\n"
     ]
    },
    {
     "name": "stderr",
     "output_type": "stream",
     "text": [
      "1151it [03:11,  4.64it/s]"
     ]
    },
    {
     "name": "stdout",
     "output_type": "stream",
     "text": [
      "done\n",
      "\n",
      "done\n",
      "\n"
     ]
    },
    {
     "name": "stderr",
     "output_type": "stream",
     "text": [
      "1152it [03:11,  5.08it/s]"
     ]
    },
    {
     "name": "stdout",
     "output_type": "stream",
     "text": [
      "done\n",
      "\n",
      "done\n",
      "\n"
     ]
    },
    {
     "name": "stderr",
     "output_type": "stream",
     "text": [
      "1155it [03:12,  5.74it/s]"
     ]
    },
    {
     "name": "stdout",
     "output_type": "stream",
     "text": [
      "done\n",
      "\n",
      "done\n",
      "\n",
      "done\n",
      "\n"
     ]
    },
    {
     "name": "stderr",
     "output_type": "stream",
     "text": [
      "1160it [03:12,  9.88it/s]"
     ]
    },
    {
     "name": "stdout",
     "output_type": "stream",
     "text": [
      "done\n",
      "\n",
      "done\n",
      "\n",
      "done\n",
      "\n",
      "done\n",
      "\n"
     ]
    },
    {
     "name": "stderr",
     "output_type": "stream",
     "text": [
      "1163it [03:12, 11.39it/s]"
     ]
    },
    {
     "name": "stdout",
     "output_type": "stream",
     "text": [
      "done\n",
      "\n",
      "done\n",
      "\n",
      "done\n",
      "\n"
     ]
    },
    {
     "name": "stderr",
     "output_type": "stream",
     "text": [
      "1165it [03:12, 11.98it/s]"
     ]
    },
    {
     "name": "stdout",
     "output_type": "stream",
     "text": [
      "done\n",
      "\n",
      "done\n",
      "\n",
      "done\n",
      "\n"
     ]
    },
    {
     "name": "stderr",
     "output_type": "stream",
     "text": [
      "1167it [03:13, 11.31it/s]"
     ]
    },
    {
     "name": "stdout",
     "output_type": "stream",
     "text": [
      "done\n",
      "\n",
      "done\n",
      "\n"
     ]
    },
    {
     "name": "stderr",
     "output_type": "stream",
     "text": [
      "1172it [03:13, 12.85it/s]"
     ]
    },
    {
     "name": "stdout",
     "output_type": "stream",
     "text": [
      "done\n",
      "\n",
      "done\n",
      "\n",
      "done\n",
      "\n",
      "done\n",
      "\n",
      "done\n",
      "\n"
     ]
    },
    {
     "name": "stderr",
     "output_type": "stream",
     "text": [
      "1174it [03:13,  8.55it/s]"
     ]
    },
    {
     "name": "stdout",
     "output_type": "stream",
     "text": [
      "done\n",
      "\n",
      "done\n",
      "\n"
     ]
    },
    {
     "name": "stderr",
     "output_type": "stream",
     "text": [
      "1176it [03:14,  7.11it/s]"
     ]
    },
    {
     "name": "stdout",
     "output_type": "stream",
     "text": [
      "done\n",
      "\n",
      "done\n",
      "\n",
      "done\n",
      "\n"
     ]
    },
    {
     "name": "stderr",
     "output_type": "stream",
     "text": [
      "1179it [03:14,  6.29it/s]"
     ]
    },
    {
     "name": "stdout",
     "output_type": "stream",
     "text": [
      "done\n",
      "\n"
     ]
    },
    {
     "name": "stderr",
     "output_type": "stream",
     "text": [
      "1180it [03:15,  5.23it/s]"
     ]
    },
    {
     "name": "stdout",
     "output_type": "stream",
     "text": [
      "done\n",
      "\n",
      "done\n",
      "\n",
      "done\n",
      "\n"
     ]
    },
    {
     "name": "stderr",
     "output_type": "stream",
     "text": [
      "1183it [03:15,  6.24it/s]"
     ]
    },
    {
     "name": "stdout",
     "output_type": "stream",
     "text": [
      "done\n",
      "\n"
     ]
    },
    {
     "name": "stderr",
     "output_type": "stream",
     "text": [
      "1185it [03:16,  5.57it/s]"
     ]
    },
    {
     "name": "stdout",
     "output_type": "stream",
     "text": [
      "done\n",
      "\n",
      "done\n",
      "\n",
      "done\n",
      "\n"
     ]
    },
    {
     "name": "stderr",
     "output_type": "stream",
     "text": [
      "1189it [03:16,  8.55it/s]"
     ]
    },
    {
     "name": "stdout",
     "output_type": "stream",
     "text": [
      "done\n",
      "\n",
      "done\n",
      "\n",
      "done\n",
      "\n"
     ]
    },
    {
     "name": "stderr",
     "output_type": "stream",
     "text": [
      "1191it [03:16,  8.02it/s]"
     ]
    },
    {
     "name": "stdout",
     "output_type": "stream",
     "text": [
      "done\n",
      "\n",
      "done\n",
      "\n"
     ]
    },
    {
     "name": "stderr",
     "output_type": "stream",
     "text": [
      "1192it [03:16,  7.14it/s]"
     ]
    },
    {
     "name": "stdout",
     "output_type": "stream",
     "text": [
      "done\n",
      "\n",
      "done\n",
      "\n",
      "done\n",
      "\n"
     ]
    },
    {
     "name": "stderr",
     "output_type": "stream",
     "text": [
      "1195it [03:17,  5.13it/s]"
     ]
    },
    {
     "name": "stdout",
     "output_type": "stream",
     "text": [
      "done\n",
      "\n",
      "done\n",
      "\n",
      "done\n",
      "\n"
     ]
    },
    {
     "name": "stderr",
     "output_type": "stream",
     "text": [
      "1199it [03:18,  4.31it/s]"
     ]
    },
    {
     "name": "stdout",
     "output_type": "stream",
     "text": [
      "done\n",
      "\n",
      "done\n",
      "\n",
      "done\n",
      "\n",
      "done\n",
      "\n"
     ]
    },
    {
     "name": "stderr",
     "output_type": "stream",
     "text": [
      "1203it [03:19,  6.42it/s]"
     ]
    },
    {
     "name": "stdout",
     "output_type": "stream",
     "text": [
      "done\n",
      "\n",
      "done\n",
      "\n",
      "done\n",
      "\n",
      "done\n",
      "\n"
     ]
    },
    {
     "name": "stderr",
     "output_type": "stream",
     "text": [
      "1209it [03:19, 11.51it/s]"
     ]
    },
    {
     "name": "stdout",
     "output_type": "stream",
     "text": [
      "done\n",
      "\n",
      "done\n",
      "\n",
      "done\n",
      "\n",
      "done\n",
      "\n",
      "done\n",
      "\n"
     ]
    },
    {
     "name": "stderr",
     "output_type": "stream",
     "text": [
      "1213it [03:19, 12.06it/s]"
     ]
    },
    {
     "name": "stdout",
     "output_type": "stream",
     "text": [
      "done\n",
      "\n",
      "done\n",
      "\n",
      "done\n",
      "\n",
      "done\n",
      "\n"
     ]
    },
    {
     "name": "stderr",
     "output_type": "stream",
     "text": [
      "1215it [03:20,  8.10it/s]"
     ]
    },
    {
     "name": "stdout",
     "output_type": "stream",
     "text": [
      "done\n",
      "\n",
      "done\n",
      "\n"
     ]
    },
    {
     "name": "stderr",
     "output_type": "stream",
     "text": [
      "1217it [03:20,  8.21it/s]"
     ]
    },
    {
     "name": "stdout",
     "output_type": "stream",
     "text": [
      "done\n",
      "\n",
      "done\n",
      "\n"
     ]
    },
    {
     "name": "stderr",
     "output_type": "stream",
     "text": [
      "1219it [03:20,  7.84it/s]"
     ]
    },
    {
     "name": "stdout",
     "output_type": "stream",
     "text": [
      "done\n",
      "\n"
     ]
    },
    {
     "name": "stderr",
     "output_type": "stream",
     "text": [
      "1221it [03:21,  4.49it/s]"
     ]
    },
    {
     "name": "stdout",
     "output_type": "stream",
     "text": [
      "done\n",
      "\n",
      "done\n",
      "\n"
     ]
    },
    {
     "name": "stderr",
     "output_type": "stream",
     "text": [
      "1224it [03:22,  4.19it/s]"
     ]
    },
    {
     "name": "stdout",
     "output_type": "stream",
     "text": [
      "done\n",
      "\n",
      "done\n",
      "\n",
      "done\n",
      "\n"
     ]
    },
    {
     "name": "stderr",
     "output_type": "stream",
     "text": [
      "1226it [03:22,  5.63it/s]"
     ]
    },
    {
     "name": "stdout",
     "output_type": "stream",
     "text": [
      "done\n",
      "\n",
      "done\n",
      "\n"
     ]
    },
    {
     "name": "stderr",
     "output_type": "stream",
     "text": [
      "1227it [03:22,  5.84it/s]"
     ]
    },
    {
     "name": "stdout",
     "output_type": "stream",
     "text": [
      "done\n",
      "\n"
     ]
    },
    {
     "name": "stderr",
     "output_type": "stream",
     "text": [
      "1228it [03:23,  4.86it/s]"
     ]
    },
    {
     "name": "stdout",
     "output_type": "stream",
     "text": [
      "done\n",
      "\n"
     ]
    },
    {
     "name": "stderr",
     "output_type": "stream",
     "text": [
      "1231it [03:23,  5.20it/s]"
     ]
    },
    {
     "name": "stdout",
     "output_type": "stream",
     "text": [
      "done\n",
      "\n",
      "done\n",
      "\n",
      "done\n",
      "\n"
     ]
    },
    {
     "name": "stderr",
     "output_type": "stream",
     "text": [
      "1233it [03:23,  6.87it/s]"
     ]
    },
    {
     "name": "stdout",
     "output_type": "stream",
     "text": [
      "done\n",
      "\n",
      "done\n",
      "\n",
      "done\n",
      "\n"
     ]
    },
    {
     "name": "stderr",
     "output_type": "stream",
     "text": [
      "1235it [03:24,  6.76it/s]"
     ]
    },
    {
     "name": "stdout",
     "output_type": "stream",
     "text": [
      "done\n",
      "\n",
      "done\n",
      "\n"
     ]
    },
    {
     "name": "stderr",
     "output_type": "stream",
     "text": [
      "1237it [03:24,  7.43it/s]"
     ]
    },
    {
     "name": "stdout",
     "output_type": "stream",
     "text": [
      "done\n",
      "\n"
     ]
    },
    {
     "name": "stderr",
     "output_type": "stream",
     "text": [
      "1238it [03:24,  6.57it/s]"
     ]
    },
    {
     "name": "stdout",
     "output_type": "stream",
     "text": [
      "done\n",
      "\n",
      "done\n",
      "\n"
     ]
    },
    {
     "name": "stderr",
     "output_type": "stream",
     "text": [
      "1240it [03:25,  4.99it/s]"
     ]
    },
    {
     "name": "stdout",
     "output_type": "stream",
     "text": [
      "done\n",
      "\n",
      "done\n",
      "\n"
     ]
    },
    {
     "name": "stderr",
     "output_type": "stream",
     "text": [
      "1245it [03:25,  8.10it/s]"
     ]
    },
    {
     "name": "stdout",
     "output_type": "stream",
     "text": [
      "done\n",
      "\n",
      "done\n",
      "\n",
      "done\n",
      "\n",
      "done\n",
      "\n",
      "done\n",
      "\n"
     ]
    },
    {
     "name": "stderr",
     "output_type": "stream",
     "text": [
      "1248it [03:26,  5.73it/s]"
     ]
    },
    {
     "name": "stdout",
     "output_type": "stream",
     "text": [
      "done\n",
      "\n",
      "done\n",
      "\n",
      "done\n",
      "\n",
      "done\n",
      "\n"
     ]
    },
    {
     "name": "stderr",
     "output_type": "stream",
     "text": [
      "1251it [03:26,  6.79it/s]"
     ]
    },
    {
     "name": "stdout",
     "output_type": "stream",
     "text": [
      "done\n",
      "\n"
     ]
    },
    {
     "name": "stderr",
     "output_type": "stream",
     "text": [
      "1254it [03:27,  7.47it/s]"
     ]
    },
    {
     "name": "stdout",
     "output_type": "stream",
     "text": [
      "done\n",
      "\n",
      "done\n",
      "\n",
      "done\n",
      "\n",
      "done\n",
      "\n"
     ]
    },
    {
     "name": "stderr",
     "output_type": "stream",
     "text": [
      "1259it [03:27,  7.74it/s]"
     ]
    },
    {
     "name": "stdout",
     "output_type": "stream",
     "text": [
      "done\n",
      "\n",
      "done\n",
      "\n",
      "done\n",
      "\n",
      "done\n",
      "\n",
      "done\n",
      "\n"
     ]
    },
    {
     "name": "stderr",
     "output_type": "stream",
     "text": [
      "1262it [03:27, 10.09it/s]"
     ]
    },
    {
     "name": "stdout",
     "output_type": "stream",
     "text": [
      "done\n",
      "\n",
      "done\n",
      "\n",
      "done\n",
      "\n"
     ]
    },
    {
     "name": "stderr",
     "output_type": "stream",
     "text": [
      "1264it [03:28,  7.69it/s]"
     ]
    },
    {
     "name": "stdout",
     "output_type": "stream",
     "text": [
      "done\n",
      "\n"
     ]
    },
    {
     "name": "stderr",
     "output_type": "stream",
     "text": [
      "1267it [03:28,  6.58it/s]"
     ]
    },
    {
     "name": "stdout",
     "output_type": "stream",
     "text": [
      "done\n",
      "\n",
      "done\n",
      "\n",
      "done\n",
      "\n"
     ]
    },
    {
     "name": "stderr",
     "output_type": "stream",
     "text": [
      "1270it [03:29,  8.56it/s]"
     ]
    },
    {
     "name": "stdout",
     "output_type": "stream",
     "text": [
      "done\n",
      "\n",
      "done\n",
      "\n",
      "done\n",
      "\n"
     ]
    },
    {
     "name": "stderr",
     "output_type": "stream",
     "text": [
      "1272it [03:29,  5.70it/s]"
     ]
    },
    {
     "name": "stdout",
     "output_type": "stream",
     "text": [
      "done\n",
      "\n",
      "done\n",
      "\n"
     ]
    },
    {
     "name": "stderr",
     "output_type": "stream",
     "text": [
      "1275it [03:29,  7.81it/s]"
     ]
    },
    {
     "name": "stdout",
     "output_type": "stream",
     "text": [
      "done\n",
      "\n",
      "done\n",
      "\n",
      "done\n",
      "\n"
     ]
    },
    {
     "name": "stderr",
     "output_type": "stream",
     "text": [
      "1277it [03:30,  5.25it/s]"
     ]
    },
    {
     "name": "stdout",
     "output_type": "stream",
     "text": [
      "done\n",
      "\n",
      "done\n",
      "\n"
     ]
    },
    {
     "name": "stderr",
     "output_type": "stream",
     "text": [
      "1281it [03:31,  6.73it/s]"
     ]
    },
    {
     "name": "stdout",
     "output_type": "stream",
     "text": [
      "done\n",
      "\n",
      "done\n",
      "\n",
      "done\n",
      "\n",
      "done\n",
      "\n"
     ]
    },
    {
     "name": "stderr",
     "output_type": "stream",
     "text": [
      "1283it [03:31,  6.60it/s]"
     ]
    },
    {
     "name": "stdout",
     "output_type": "stream",
     "text": [
      "done\n",
      "\n",
      "done\n",
      "\n"
     ]
    },
    {
     "name": "stderr",
     "output_type": "stream",
     "text": [
      "1285it [03:31,  7.13it/s]"
     ]
    },
    {
     "name": "stdout",
     "output_type": "stream",
     "text": [
      "done\n",
      "\n",
      "done\n",
      "\n"
     ]
    },
    {
     "name": "stderr",
     "output_type": "stream",
     "text": [
      "1288it [03:32,  5.69it/s]"
     ]
    },
    {
     "name": "stdout",
     "output_type": "stream",
     "text": [
      "done\n",
      "\n",
      "done\n",
      "\n",
      "done\n",
      "\n",
      "done\n",
      "\n"
     ]
    },
    {
     "name": "stderr",
     "output_type": "stream",
     "text": [
      "1291it [03:32,  8.38it/s]"
     ]
    },
    {
     "name": "stdout",
     "output_type": "stream",
     "text": [
      "done\n",
      "\n",
      "done\n",
      "\n",
      "done\n",
      "\n"
     ]
    },
    {
     "name": "stderr",
     "output_type": "stream",
     "text": [
      "1295it [03:33,  7.72it/s]"
     ]
    },
    {
     "name": "stdout",
     "output_type": "stream",
     "text": [
      "done\n",
      "\n",
      "done\n",
      "\n",
      "done\n",
      "\n"
     ]
    },
    {
     "name": "stderr",
     "output_type": "stream",
     "text": [
      "1300it [03:33,  9.50it/s]"
     ]
    },
    {
     "name": "stdout",
     "output_type": "stream",
     "text": [
      "done\n",
      "\n",
      "done\n",
      "\n",
      "done\n",
      "\n",
      "done\n",
      "\n",
      "done\n",
      "\n"
     ]
    },
    {
     "name": "stderr",
     "output_type": "stream",
     "text": [
      "1302it [03:34,  7.34it/s]"
     ]
    },
    {
     "name": "stdout",
     "output_type": "stream",
     "text": [
      "done\n",
      "\n",
      "done\n",
      "\n"
     ]
    },
    {
     "name": "stderr",
     "output_type": "stream",
     "text": [
      "1304it [03:34,  7.50it/s]"
     ]
    },
    {
     "name": "stdout",
     "output_type": "stream",
     "text": [
      "done\n",
      "\n",
      "done\n",
      "\n",
      "done\n",
      "\n",
      "done\n",
      "\n"
     ]
    },
    {
     "name": "stderr",
     "output_type": "stream",
     "text": [
      "1309it [03:35,  7.33it/s]"
     ]
    },
    {
     "name": "stdout",
     "output_type": "stream",
     "text": [
      "done\n",
      "\n",
      "done\n",
      "\n",
      "done\n",
      "\n",
      "done\n",
      "\n"
     ]
    },
    {
     "name": "stderr",
     "output_type": "stream",
     "text": [
      "1313it [03:35,  9.53it/s]"
     ]
    },
    {
     "name": "stdout",
     "output_type": "stream",
     "text": [
      "done\n",
      "\n",
      "done\n",
      "\n",
      "done\n",
      "\n"
     ]
    },
    {
     "name": "stderr",
     "output_type": "stream",
     "text": [
      "1315it [03:35,  9.67it/s]"
     ]
    },
    {
     "name": "stdout",
     "output_type": "stream",
     "text": [
      "done\n",
      "\n",
      "done\n",
      "\n",
      "done\n",
      "\n"
     ]
    },
    {
     "name": "stderr",
     "output_type": "stream",
     "text": [
      "1317it [03:35,  9.13it/s]"
     ]
    },
    {
     "name": "stdout",
     "output_type": "stream",
     "text": [
      "done\n",
      "\n",
      "done\n",
      "\n"
     ]
    },
    {
     "name": "stderr",
     "output_type": "stream",
     "text": [
      "1321it [03:36, 10.00it/s]"
     ]
    },
    {
     "name": "stdout",
     "output_type": "stream",
     "text": [
      "done\n",
      "\n",
      "done\n",
      "\n",
      "done\n",
      "\n"
     ]
    },
    {
     "name": "stderr",
     "output_type": "stream",
     "text": [
      "1323it [03:36, 10.24it/s]"
     ]
    },
    {
     "name": "stdout",
     "output_type": "stream",
     "text": [
      "done\n",
      "\n",
      "done\n",
      "\n",
      "done\n",
      "\n"
     ]
    },
    {
     "name": "stderr",
     "output_type": "stream",
     "text": [
      "1325it [03:36,  8.76it/s]"
     ]
    },
    {
     "name": "stdout",
     "output_type": "stream",
     "text": [
      "done\n",
      "\n"
     ]
    },
    {
     "name": "stderr",
     "output_type": "stream",
     "text": [
      "1327it [03:37,  7.20it/s]"
     ]
    },
    {
     "name": "stdout",
     "output_type": "stream",
     "text": [
      "done\n",
      "\n",
      "done\n",
      "\n"
     ]
    },
    {
     "name": "stderr",
     "output_type": "stream",
     "text": [
      "1330it [03:37,  7.34it/s]"
     ]
    },
    {
     "name": "stdout",
     "output_type": "stream",
     "text": [
      "done\n",
      "\n",
      "done\n",
      "\n",
      "done\n",
      "\n"
     ]
    },
    {
     "name": "stderr",
     "output_type": "stream",
     "text": [
      "1331it [03:37,  5.57it/s]"
     ]
    },
    {
     "name": "stdout",
     "output_type": "stream",
     "text": [
      "done\n",
      "\n"
     ]
    },
    {
     "name": "stderr",
     "output_type": "stream",
     "text": [
      "1334it [03:38,  7.02it/s]"
     ]
    },
    {
     "name": "stdout",
     "output_type": "stream",
     "text": [
      "done\n",
      "\n",
      "done\n",
      "\n",
      "done\n",
      "\n",
      "done\n",
      "\n",
      "done\n",
      "\n"
     ]
    },
    {
     "name": "stderr",
     "output_type": "stream",
     "text": [
      "1340it [03:38, 13.17it/s]"
     ]
    },
    {
     "name": "stdout",
     "output_type": "stream",
     "text": [
      "done\n",
      "\n",
      "done\n",
      "\n",
      "done\n",
      "\n",
      "done\n",
      "\n"
     ]
    },
    {
     "name": "stderr",
     "output_type": "stream",
     "text": [
      "1345it [03:38, 15.86it/s]"
     ]
    },
    {
     "name": "stdout",
     "output_type": "stream",
     "text": [
      "done\n",
      "\n",
      "done\n",
      "\n",
      "done\n",
      "\n",
      "done\n",
      "\n",
      "done\n",
      "\n",
      "done\n",
      "\n"
     ]
    },
    {
     "name": "stderr",
     "output_type": "stream",
     "text": [
      "1347it [03:39,  9.81it/s]"
     ]
    },
    {
     "name": "stdout",
     "output_type": "stream",
     "text": [
      "done\n",
      "\n",
      "done\n",
      "\n",
      "done\n",
      "\n"
     ]
    },
    {
     "name": "stderr",
     "output_type": "stream",
     "text": [
      "1350it [03:39, 10.06it/s]"
     ]
    },
    {
     "name": "stdout",
     "output_type": "stream",
     "text": [
      "done\n",
      "\n"
     ]
    },
    {
     "name": "stderr",
     "output_type": "stream",
     "text": [
      "1353it [03:40,  6.04it/s]"
     ]
    },
    {
     "name": "stdout",
     "output_type": "stream",
     "text": [
      "done\n",
      "\n",
      "done\n",
      "\n",
      "done\n",
      "\n"
     ]
    },
    {
     "name": "stderr",
     "output_type": "stream",
     "text": [
      "1354it [03:40,  5.53it/s]"
     ]
    },
    {
     "name": "stdout",
     "output_type": "stream",
     "text": [
      "done\n",
      "\n",
      "done\n",
      "\n",
      "done\n",
      "\n"
     ]
    },
    {
     "name": "stderr",
     "output_type": "stream",
     "text": [
      "1360it [03:41,  7.47it/s]"
     ]
    },
    {
     "name": "stdout",
     "output_type": "stream",
     "text": [
      "done\n",
      "\n",
      "done\n",
      "\n",
      "done\n",
      "\n",
      "done\n",
      "\n",
      "done\n",
      "\n"
     ]
    },
    {
     "name": "stderr",
     "output_type": "stream",
     "text": [
      "1362it [03:41,  7.64it/s]"
     ]
    },
    {
     "name": "stdout",
     "output_type": "stream",
     "text": [
      "done\n",
      "\n"
     ]
    },
    {
     "name": "stderr",
     "output_type": "stream",
     "text": [
      "1364it [03:42,  7.24it/s]"
     ]
    },
    {
     "name": "stdout",
     "output_type": "stream",
     "text": [
      "done\n",
      "\n",
      "done\n",
      "\n"
     ]
    },
    {
     "name": "stderr",
     "output_type": "stream",
     "text": [
      "1366it [03:42,  6.10it/s]"
     ]
    },
    {
     "name": "stdout",
     "output_type": "stream",
     "text": [
      "done\n",
      "\n",
      "done\n",
      "\n"
     ]
    },
    {
     "name": "stderr",
     "output_type": "stream",
     "text": [
      "1368it [03:42,  6.82it/s]"
     ]
    },
    {
     "name": "stdout",
     "output_type": "stream",
     "text": [
      "done\n",
      "\n",
      "done\n",
      "\n"
     ]
    },
    {
     "name": "stderr",
     "output_type": "stream",
     "text": [
      "1370it [03:42,  8.69it/s]"
     ]
    },
    {
     "name": "stdout",
     "output_type": "stream",
     "text": [
      "done\n",
      "\n",
      "done\n",
      "\n"
     ]
    },
    {
     "name": "stderr",
     "output_type": "stream",
     "text": [
      "1372it [03:43,  6.84it/s]"
     ]
    },
    {
     "name": "stdout",
     "output_type": "stream",
     "text": [
      "done\n",
      "\n",
      "done\n",
      "\n"
     ]
    },
    {
     "name": "stderr",
     "output_type": "stream",
     "text": [
      "1374it [03:43,  9.18it/s]"
     ]
    },
    {
     "name": "stdout",
     "output_type": "stream",
     "text": [
      "done\n",
      "\n",
      "done\n",
      "\n",
      "done\n",
      "\n"
     ]
    },
    {
     "name": "stderr",
     "output_type": "stream",
     "text": [
      "1377it [03:43,  7.50it/s]"
     ]
    },
    {
     "name": "stdout",
     "output_type": "stream",
     "text": [
      "done\n",
      "\n",
      "done\n",
      "\n",
      "done\n",
      "\n"
     ]
    },
    {
     "name": "stderr",
     "output_type": "stream",
     "text": [
      "1380it [03:44,  9.22it/s]"
     ]
    },
    {
     "name": "stdout",
     "output_type": "stream",
     "text": [
      "done\n",
      "\n",
      "done\n",
      "\n",
      "done\n",
      "\n"
     ]
    },
    {
     "name": "stderr",
     "output_type": "stream",
     "text": [
      "1385it [03:44, 12.85it/s]"
     ]
    },
    {
     "name": "stdout",
     "output_type": "stream",
     "text": [
      "done\n",
      "\n",
      "done\n",
      "\n",
      "done\n",
      "\n",
      "done\n",
      "\n",
      "done\n",
      "\n"
     ]
    },
    {
     "name": "stderr",
     "output_type": "stream",
     "text": [
      "1389it [03:44, 11.63it/s]"
     ]
    },
    {
     "name": "stdout",
     "output_type": "stream",
     "text": [
      "done\n",
      "\n",
      "done\n",
      "\n",
      "done\n",
      "\n",
      "done\n",
      "\n"
     ]
    },
    {
     "name": "stderr",
     "output_type": "stream",
     "text": [
      "1391it [03:45,  7.06it/s]"
     ]
    },
    {
     "name": "stdout",
     "output_type": "stream",
     "text": [
      "done\n",
      "\n",
      "done\n",
      "\n"
     ]
    },
    {
     "name": "stderr",
     "output_type": "stream",
     "text": [
      "1395it [03:45,  7.37it/s]"
     ]
    },
    {
     "name": "stdout",
     "output_type": "stream",
     "text": [
      "done\n",
      "\n",
      "done\n",
      "\n",
      "done\n",
      "\n",
      "done\n",
      "\n"
     ]
    },
    {
     "name": "stderr",
     "output_type": "stream",
     "text": [
      "1397it [03:46,  7.77it/s]"
     ]
    },
    {
     "name": "stdout",
     "output_type": "stream",
     "text": [
      "done\n",
      "\n"
     ]
    },
    {
     "name": "stderr",
     "output_type": "stream",
     "text": [
      "1398it [03:46,  6.46it/s]"
     ]
    },
    {
     "name": "stdout",
     "output_type": "stream",
     "text": [
      "done\n",
      "\n",
      "done\n",
      "\n",
      "done\n",
      "\n"
     ]
    },
    {
     "name": "stderr",
     "output_type": "stream",
     "text": [
      "1401it [03:46,  6.32it/s]"
     ]
    },
    {
     "name": "stdout",
     "output_type": "stream",
     "text": [
      "done\n",
      "\n"
     ]
    },
    {
     "name": "stderr",
     "output_type": "stream",
     "text": [
      "1403it [03:47,  6.38it/s]"
     ]
    },
    {
     "name": "stdout",
     "output_type": "stream",
     "text": [
      "done\n",
      "\n",
      "done\n",
      "\n",
      "done\n",
      "\n"
     ]
    },
    {
     "name": "stderr",
     "output_type": "stream",
     "text": [
      "1406it [03:47,  6.64it/s]"
     ]
    },
    {
     "name": "stdout",
     "output_type": "stream",
     "text": [
      "done\n",
      "\n",
      "done\n",
      "\n",
      "done\n",
      "\n"
     ]
    },
    {
     "name": "stderr",
     "output_type": "stream",
     "text": [
      "1408it [03:47,  7.01it/s]"
     ]
    },
    {
     "name": "stdout",
     "output_type": "stream",
     "text": [
      "done\n",
      "\n"
     ]
    },
    {
     "name": "stderr",
     "output_type": "stream",
     "text": [
      "1409it [03:48,  5.60it/s]"
     ]
    },
    {
     "name": "stdout",
     "output_type": "stream",
     "text": [
      "done\n",
      "\n",
      "done\n",
      "\n"
     ]
    },
    {
     "name": "stderr",
     "output_type": "stream",
     "text": [
      "1412it [03:48,  6.08it/s]"
     ]
    },
    {
     "name": "stdout",
     "output_type": "stream",
     "text": [
      "done\n",
      "\n",
      "done\n",
      "\n"
     ]
    },
    {
     "name": "stderr",
     "output_type": "stream",
     "text": [
      "1413it [03:48,  5.74it/s]"
     ]
    },
    {
     "name": "stdout",
     "output_type": "stream",
     "text": [
      "done\n",
      "\n",
      "done\n",
      "\n"
     ]
    },
    {
     "name": "stderr",
     "output_type": "stream",
     "text": [
      "1415it [03:49,  5.47it/s]"
     ]
    },
    {
     "name": "stdout",
     "output_type": "stream",
     "text": [
      "done\n",
      "\n"
     ]
    },
    {
     "name": "stderr",
     "output_type": "stream",
     "text": [
      "1418it [03:49,  6.05it/s]"
     ]
    },
    {
     "name": "stdout",
     "output_type": "stream",
     "text": [
      "done\n",
      "\n",
      "done\n",
      "\n",
      "done\n",
      "\n"
     ]
    },
    {
     "name": "stderr",
     "output_type": "stream",
     "text": [
      "1419it [03:49,  6.03it/s]"
     ]
    },
    {
     "name": "stdout",
     "output_type": "stream",
     "text": [
      "done\n",
      "\n"
     ]
    },
    {
     "name": "stderr",
     "output_type": "stream",
     "text": [
      "1422it [03:50,  5.98it/s]"
     ]
    },
    {
     "name": "stdout",
     "output_type": "stream",
     "text": [
      "done\n",
      "\n",
      "done\n",
      "\n",
      "done\n",
      "\n"
     ]
    },
    {
     "name": "stderr",
     "output_type": "stream",
     "text": [
      "1423it [03:50,  5.36it/s]"
     ]
    },
    {
     "name": "stdout",
     "output_type": "stream",
     "text": [
      "done\n",
      "\n"
     ]
    },
    {
     "name": "stderr",
     "output_type": "stream",
     "text": [
      "1426it [03:51,  6.87it/s]"
     ]
    },
    {
     "name": "stdout",
     "output_type": "stream",
     "text": [
      "done\n",
      "\n",
      "done\n",
      "\n",
      "done\n",
      "\n",
      "done\n",
      "\n"
     ]
    },
    {
     "name": "stderr",
     "output_type": "stream",
     "text": [
      "1431it [03:51,  9.90it/s]"
     ]
    },
    {
     "name": "stdout",
     "output_type": "stream",
     "text": [
      "done\n",
      "\n",
      "done\n",
      "\n",
      "done\n",
      "\n",
      "done\n",
      "\n"
     ]
    },
    {
     "name": "stderr",
     "output_type": "stream",
     "text": [
      "1433it [03:52,  5.40it/s]"
     ]
    },
    {
     "name": "stdout",
     "output_type": "stream",
     "text": [
      "done\n",
      "\n",
      "done\n",
      "\n"
     ]
    },
    {
     "name": "stderr",
     "output_type": "stream",
     "text": [
      "1435it [03:52,  6.64it/s]"
     ]
    },
    {
     "name": "stdout",
     "output_type": "stream",
     "text": [
      "done\n",
      "\n",
      "done\n",
      "\n",
      "done\n",
      "\n",
      "done\n",
      "\n"
     ]
    },
    {
     "name": "stderr",
     "output_type": "stream",
     "text": [
      "1438it [03:52,  8.58it/s]"
     ]
    },
    {
     "name": "stdout",
     "output_type": "stream",
     "text": [
      "done\n",
      "\n",
      "done\n",
      "\n"
     ]
    },
    {
     "name": "stderr",
     "output_type": "stream",
     "text": [
      "1443it [03:52, 10.90it/s]"
     ]
    },
    {
     "name": "stdout",
     "output_type": "stream",
     "text": [
      "done\n",
      "\n",
      "done\n",
      "\n",
      "done\n",
      "\n",
      "done\n",
      "\n",
      "done\n",
      "\n"
     ]
    },
    {
     "name": "stderr",
     "output_type": "stream",
     "text": [
      "1447it [03:53, 11.48it/s]"
     ]
    },
    {
     "name": "stdout",
     "output_type": "stream",
     "text": [
      "done\n",
      "\n",
      "done\n",
      "\n",
      "done\n",
      "\n"
     ]
    },
    {
     "name": "stderr",
     "output_type": "stream",
     "text": [
      "1450it [03:53, 12.61it/s]"
     ]
    },
    {
     "name": "stdout",
     "output_type": "stream",
     "text": [
      "done\n",
      "\n",
      "done\n",
      "\n",
      "done\n",
      "\n"
     ]
    },
    {
     "name": "stderr",
     "output_type": "stream",
     "text": [
      "1452it [03:53, 10.25it/s]"
     ]
    },
    {
     "name": "stdout",
     "output_type": "stream",
     "text": [
      "done\n",
      "\n",
      "done\n",
      "\n"
     ]
    },
    {
     "name": "stderr",
     "output_type": "stream",
     "text": [
      "1457it [03:54, 10.13it/s]"
     ]
    },
    {
     "name": "stdout",
     "output_type": "stream",
     "text": [
      "done\n",
      "\n",
      "done\n",
      "\n",
      "done\n",
      "\n",
      "done\n",
      "\n",
      "done\n",
      "\n"
     ]
    },
    {
     "name": "stderr",
     "output_type": "stream",
     "text": [
      "1459it [03:54, 11.52it/s]"
     ]
    },
    {
     "name": "stdout",
     "output_type": "stream",
     "text": [
      "done\n",
      "\n",
      "done\n",
      "\n"
     ]
    },
    {
     "name": "stderr",
     "output_type": "stream",
     "text": [
      "1461it [03:54,  8.86it/s]"
     ]
    },
    {
     "name": "stdout",
     "output_type": "stream",
     "text": [
      "done\n",
      "\n",
      "done\n",
      "\n",
      "done\n",
      "\n"
     ]
    },
    {
     "name": "stderr",
     "output_type": "stream",
     "text": [
      "1463it [03:55,  8.34it/s]"
     ]
    },
    {
     "name": "stdout",
     "output_type": "stream",
     "text": [
      "done\n",
      "\n"
     ]
    },
    {
     "name": "stderr",
     "output_type": "stream",
     "text": [
      "1465it [03:55,  7.56it/s]"
     ]
    },
    {
     "name": "stdout",
     "output_type": "stream",
     "text": [
      "done\n",
      "\n",
      "done\n",
      "\n",
      "done\n",
      "\n",
      "done\n",
      "\n"
     ]
    },
    {
     "name": "stderr",
     "output_type": "stream",
     "text": [
      "1468it [03:56,  6.38it/s]"
     ]
    },
    {
     "name": "stdout",
     "output_type": "stream",
     "text": [
      "done\n",
      "\n",
      "done\n",
      "\n"
     ]
    },
    {
     "name": "stderr",
     "output_type": "stream",
     "text": [
      "1472it [03:56,  5.61it/s]"
     ]
    },
    {
     "name": "stdout",
     "output_type": "stream",
     "text": [
      "done\n",
      "\n",
      "done\n",
      "\n",
      "done\n",
      "\n",
      "done\n",
      "\n"
     ]
    },
    {
     "name": "stderr",
     "output_type": "stream",
     "text": [
      "1475it [03:57,  5.86it/s]"
     ]
    },
    {
     "name": "stdout",
     "output_type": "stream",
     "text": [
      "done\n",
      "\n",
      "done\n",
      "\n",
      "done\n",
      "\n"
     ]
    },
    {
     "name": "stderr",
     "output_type": "stream",
     "text": [
      "1480it [03:57,  9.54it/s]"
     ]
    },
    {
     "name": "stdout",
     "output_type": "stream",
     "text": [
      "done\n",
      "\n",
      "done\n",
      "\n",
      "done\n",
      "\n",
      "done\n",
      "\n"
     ]
    },
    {
     "name": "stderr",
     "output_type": "stream",
     "text": [
      "1482it [03:57, 11.18it/s]"
     ]
    },
    {
     "name": "stdout",
     "output_type": "stream",
     "text": [
      "done\n",
      "\n",
      "done\n",
      "\n",
      "done\n",
      "\n"
     ]
    },
    {
     "name": "stderr",
     "output_type": "stream",
     "text": [
      "1486it [03:58, 10.59it/s]"
     ]
    },
    {
     "name": "stdout",
     "output_type": "stream",
     "text": [
      "done\n",
      "\n",
      "done\n",
      "\n",
      "done\n",
      "\n",
      "done\n",
      "\n",
      "done\n",
      "\n"
     ]
    },
    {
     "name": "stderr",
     "output_type": "stream",
     "text": [
      "1492it [03:58, 12.37it/s]"
     ]
    },
    {
     "name": "stdout",
     "output_type": "stream",
     "text": [
      "done\n",
      "\n",
      "done\n",
      "\n",
      "done\n",
      "\n",
      "done\n",
      "\n",
      "done\n",
      "\n"
     ]
    },
    {
     "name": "stderr",
     "output_type": "stream",
     "text": [
      "1494it [03:59,  8.77it/s]"
     ]
    },
    {
     "name": "stdout",
     "output_type": "stream",
     "text": [
      "done\n",
      "\n",
      "done\n",
      "\n"
     ]
    },
    {
     "name": "stderr",
     "output_type": "stream",
     "text": [
      "1496it [03:59,  8.06it/s]"
     ]
    },
    {
     "name": "stdout",
     "output_type": "stream",
     "text": [
      "done\n",
      "\n",
      "done\n",
      "\n",
      "done\n",
      "\n"
     ]
    },
    {
     "name": "stderr",
     "output_type": "stream",
     "text": [
      "1499it [03:59,  7.59it/s]"
     ]
    },
    {
     "name": "stdout",
     "output_type": "stream",
     "text": [
      "done\n",
      "\n"
     ]
    },
    {
     "name": "stderr",
     "output_type": "stream",
     "text": [
      "1500it [04:00,  6.43it/s]"
     ]
    },
    {
     "name": "stdout",
     "output_type": "stream",
     "text": [
      "done\n",
      "\n",
      "done\n",
      "\n",
      "done\n",
      "\n"
     ]
    },
    {
     "name": "stderr",
     "output_type": "stream",
     "text": [
      "1503it [04:00,  5.98it/s]"
     ]
    },
    {
     "name": "stdout",
     "output_type": "stream",
     "text": [
      "done\n",
      "\n"
     ]
    },
    {
     "name": "stderr",
     "output_type": "stream",
     "text": [
      "1505it [04:01,  5.09it/s]"
     ]
    },
    {
     "name": "stdout",
     "output_type": "stream",
     "text": [
      "done\n",
      "\n",
      "done\n",
      "\n"
     ]
    },
    {
     "name": "stderr",
     "output_type": "stream",
     "text": [
      "1507it [04:01,  6.15it/s]"
     ]
    },
    {
     "name": "stdout",
     "output_type": "stream",
     "text": [
      "done\n",
      "\n",
      "done\n",
      "\n"
     ]
    },
    {
     "name": "stderr",
     "output_type": "stream",
     "text": [
      "1508it [04:01,  6.50it/s]"
     ]
    },
    {
     "name": "stdout",
     "output_type": "stream",
     "text": [
      "done\n",
      "\n",
      "done\n",
      "\n"
     ]
    },
    {
     "name": "stderr",
     "output_type": "stream",
     "text": [
      "1510it [04:01,  7.31it/s]"
     ]
    },
    {
     "name": "stdout",
     "output_type": "stream",
     "text": [
      "done\n",
      "\n",
      "done\n",
      "\n"
     ]
    },
    {
     "name": "stderr",
     "output_type": "stream",
     "text": [
      "1512it [04:02,  5.02it/s]"
     ]
    },
    {
     "name": "stdout",
     "output_type": "stream",
     "text": [
      "done\n",
      "\n",
      "done\n",
      "\n",
      "done\n",
      "\n"
     ]
    },
    {
     "name": "stderr",
     "output_type": "stream",
     "text": [
      "1515it [04:03,  4.78it/s]"
     ]
    },
    {
     "name": "stdout",
     "output_type": "stream",
     "text": [
      "done\n",
      "\n",
      "done\n",
      "\n",
      "done\n",
      "\n"
     ]
    },
    {
     "name": "stderr",
     "output_type": "stream",
     "text": [
      "1521it [04:04,  5.85it/s]"
     ]
    },
    {
     "name": "stdout",
     "output_type": "stream",
     "text": [
      "done\n",
      "\n",
      "done\n",
      "\n",
      "done\n",
      "\n",
      "done\n",
      "\n"
     ]
    },
    {
     "name": "stderr",
     "output_type": "stream",
     "text": [
      "1523it [04:04,  6.56it/s]"
     ]
    },
    {
     "name": "stdout",
     "output_type": "stream",
     "text": [
      "done\n",
      "\n",
      "done\n",
      "\n",
      "done\n",
      "\n",
      "done\n",
      "\n"
     ]
    },
    {
     "name": "stderr",
     "output_type": "stream",
     "text": [
      "1529it [04:04, 11.08it/s]"
     ]
    },
    {
     "name": "stdout",
     "output_type": "stream",
     "text": [
      "done\n",
      "\n",
      "done\n",
      "\n",
      "done\n",
      "\n",
      "done\n",
      "\n",
      "done\n",
      "\n"
     ]
    },
    {
     "name": "stderr",
     "output_type": "stream",
     "text": [
      "1531it [04:04, 10.83it/s]"
     ]
    },
    {
     "name": "stdout",
     "output_type": "stream",
     "text": [
      "done\n",
      "\n"
     ]
    },
    {
     "name": "stderr",
     "output_type": "stream",
     "text": [
      "1533it [04:05,  9.34it/s]"
     ]
    },
    {
     "name": "stdout",
     "output_type": "stream",
     "text": [
      "done\n",
      "\n",
      "done\n",
      "\n",
      "done\n",
      "\n"
     ]
    },
    {
     "name": "stderr",
     "output_type": "stream",
     "text": [
      "1536it [04:05,  6.52it/s]"
     ]
    },
    {
     "name": "stdout",
     "output_type": "stream",
     "text": [
      "done\n",
      "\n",
      "done\n",
      "\n"
     ]
    },
    {
     "name": "stderr",
     "output_type": "stream",
     "text": [
      "1538it [04:05,  7.21it/s]"
     ]
    },
    {
     "name": "stdout",
     "output_type": "stream",
     "text": [
      "done\n",
      "\n",
      "done\n",
      "\n"
     ]
    },
    {
     "name": "stderr",
     "output_type": "stream",
     "text": [
      "1540it [04:06,  6.99it/s]"
     ]
    },
    {
     "name": "stdout",
     "output_type": "stream",
     "text": [
      "done\n",
      "\n",
      "done\n",
      "\n"
     ]
    },
    {
     "name": "stderr",
     "output_type": "stream",
     "text": [
      "1541it [04:06,  6.78it/s]"
     ]
    },
    {
     "name": "stdout",
     "output_type": "stream",
     "text": [
      "done\n",
      "\n"
     ]
    },
    {
     "name": "stderr",
     "output_type": "stream",
     "text": [
      "1543it [04:07,  4.53it/s]"
     ]
    },
    {
     "name": "stdout",
     "output_type": "stream",
     "text": [
      "done\n",
      "\n",
      "done\n",
      "\n"
     ]
    },
    {
     "name": "stderr",
     "output_type": "stream",
     "text": [
      "1545it [04:07,  6.42it/s]"
     ]
    },
    {
     "name": "stdout",
     "output_type": "stream",
     "text": [
      "done\n",
      "\n",
      "done\n",
      "\n",
      "done\n",
      "\n"
     ]
    },
    {
     "name": "stderr",
     "output_type": "stream",
     "text": [
      "1547it [04:07,  6.96it/s]"
     ]
    },
    {
     "name": "stdout",
     "output_type": "stream",
     "text": [
      "done\n",
      "\n"
     ]
    },
    {
     "name": "stderr",
     "output_type": "stream",
     "text": [
      "1548it [04:07,  5.87it/s]"
     ]
    },
    {
     "name": "stdout",
     "output_type": "stream",
     "text": [
      "done\n",
      "\n"
     ]
    },
    {
     "name": "stderr",
     "output_type": "stream",
     "text": [
      "1550it [04:08,  5.24it/s]"
     ]
    },
    {
     "name": "stdout",
     "output_type": "stream",
     "text": [
      "done\n",
      "\n",
      "done\n",
      "\n",
      "done\n",
      "\n"
     ]
    },
    {
     "name": "stderr",
     "output_type": "stream",
     "text": [
      "1552it [04:08,  6.60it/s]"
     ]
    },
    {
     "name": "stdout",
     "output_type": "stream",
     "text": [
      "done\n",
      "\n",
      "done\n",
      "\n",
      "done\n",
      "\n"
     ]
    },
    {
     "name": "stderr",
     "output_type": "stream",
     "text": [
      "1555it [04:08,  8.38it/s]"
     ]
    },
    {
     "name": "stdout",
     "output_type": "stream",
     "text": [
      "done\n",
      "\n",
      "done\n",
      "\n"
     ]
    },
    {
     "name": "stderr",
     "output_type": "stream",
     "text": [
      "1557it [04:08,  8.02it/s]"
     ]
    },
    {
     "name": "stdout",
     "output_type": "stream",
     "text": [
      "done\n",
      "\n"
     ]
    },
    {
     "name": "stderr",
     "output_type": "stream",
     "text": [
      "1558it [04:09,  6.67it/s]"
     ]
    },
    {
     "name": "stdout",
     "output_type": "stream",
     "text": [
      "done\n",
      "\n",
      "done\n",
      "\n"
     ]
    },
    {
     "name": "stderr",
     "output_type": "stream",
     "text": [
      "1560it [04:09,  5.81it/s]"
     ]
    },
    {
     "name": "stdout",
     "output_type": "stream",
     "text": [
      "done\n",
      "\n",
      "done\n",
      "\n"
     ]
    },
    {
     "name": "stderr",
     "output_type": "stream",
     "text": [
      "1564it [04:10,  6.42it/s]"
     ]
    },
    {
     "name": "stdout",
     "output_type": "stream",
     "text": [
      "done\n",
      "\n",
      "done\n",
      "\n",
      "done\n",
      "\n",
      "done\n",
      "\n"
     ]
    },
    {
     "name": "stderr",
     "output_type": "stream",
     "text": [
      "1566it [04:10,  6.44it/s]"
     ]
    },
    {
     "name": "stdout",
     "output_type": "stream",
     "text": [
      "done\n",
      "\n"
     ]
    },
    {
     "name": "stderr",
     "output_type": "stream",
     "text": [
      "1567it [04:10,  5.34it/s]"
     ]
    },
    {
     "name": "stdout",
     "output_type": "stream",
     "text": [
      "done\n",
      "\n"
     ]
    },
    {
     "name": "stderr",
     "output_type": "stream",
     "text": [
      "1568it [04:11,  5.22it/s]"
     ]
    },
    {
     "name": "stdout",
     "output_type": "stream",
     "text": [
      "done\n",
      "\n",
      "done\n",
      "\n",
      "done\n",
      "\n"
     ]
    },
    {
     "name": "stderr",
     "output_type": "stream",
     "text": [
      "1572it [04:11,  6.37it/s]"
     ]
    },
    {
     "name": "stdout",
     "output_type": "stream",
     "text": [
      "done\n",
      "\n",
      "done\n",
      "\n"
     ]
    },
    {
     "name": "stderr",
     "output_type": "stream",
     "text": [
      "1574it [04:11,  7.81it/s]"
     ]
    },
    {
     "name": "stdout",
     "output_type": "stream",
     "text": [
      "done\n",
      "\n",
      "done\n",
      "\n",
      "done\n",
      "\n"
     ]
    },
    {
     "name": "stderr",
     "output_type": "stream",
     "text": [
      "1579it [04:13,  4.39it/s]"
     ]
    },
    {
     "name": "stdout",
     "output_type": "stream",
     "text": [
      "done\n",
      "\n",
      "done\n",
      "\n",
      "done\n",
      "\n",
      "done\n",
      "\n",
      "done\n",
      "\n",
      "done\n",
      "\n"
     ]
    },
    {
     "name": "stderr",
     "output_type": "stream",
     "text": [
      "1582it [04:13,  6.31it/s]"
     ]
    },
    {
     "name": "stdout",
     "output_type": "stream",
     "text": [
      "done\n",
      "\n",
      "done\n",
      "\n"
     ]
    },
    {
     "name": "stderr",
     "output_type": "stream",
     "text": [
      "1584it [04:14,  6.02it/s]"
     ]
    },
    {
     "name": "stdout",
     "output_type": "stream",
     "text": [
      "done\n",
      "\n"
     ]
    },
    {
     "name": "stderr",
     "output_type": "stream",
     "text": [
      "1586it [04:14,  5.61it/s]"
     ]
    },
    {
     "name": "stdout",
     "output_type": "stream",
     "text": [
      "done\n",
      "\n",
      "done\n",
      "\n"
     ]
    },
    {
     "name": "stderr",
     "output_type": "stream",
     "text": [
      "1588it [04:14,  5.29it/s]"
     ]
    },
    {
     "name": "stdout",
     "output_type": "stream",
     "text": [
      "done\n",
      "\n",
      "done\n",
      "\n"
     ]
    },
    {
     "name": "stderr",
     "output_type": "stream",
     "text": [
      "1589it [04:15,  4.82it/s]"
     ]
    },
    {
     "name": "stdout",
     "output_type": "stream",
     "text": [
      "done\n",
      "\n",
      "done\n",
      "\n"
     ]
    },
    {
     "name": "stderr",
     "output_type": "stream",
     "text": [
      "1593it [04:15,  6.12it/s]"
     ]
    },
    {
     "name": "stdout",
     "output_type": "stream",
     "text": [
      "done\n",
      "\n",
      "done\n",
      "\n",
      "done\n",
      "\n",
      "done\n",
      "\n",
      "done\n",
      "\n"
     ]
    },
    {
     "name": "stderr",
     "output_type": "stream",
     "text": [
      "1597it [04:16,  6.06it/s]"
     ]
    },
    {
     "name": "stdout",
     "output_type": "stream",
     "text": [
      "done\n",
      "\n",
      "done\n",
      "\n",
      "done\n",
      "\n",
      "done\n",
      "\n"
     ]
    },
    {
     "name": "stderr",
     "output_type": "stream",
     "text": [
      "1600it [04:16,  8.88it/s]"
     ]
    },
    {
     "name": "stdout",
     "output_type": "stream",
     "text": [
      "done\n",
      "\n",
      "done\n",
      "\n",
      "done\n",
      "\n"
     ]
    },
    {
     "name": "stderr",
     "output_type": "stream",
     "text": [
      "1603it [04:16,  9.27it/s]"
     ]
    },
    {
     "name": "stdout",
     "output_type": "stream",
     "text": [
      "done\n",
      "\n",
      "done\n",
      "\n"
     ]
    },
    {
     "name": "stderr",
     "output_type": "stream",
     "text": [
      "1605it [04:17,  9.05it/s]"
     ]
    },
    {
     "name": "stdout",
     "output_type": "stream",
     "text": [
      "done\n",
      "\n"
     ]
    },
    {
     "name": "stderr",
     "output_type": "stream",
     "text": [
      "1607it [04:17,  6.10it/s]"
     ]
    },
    {
     "name": "stdout",
     "output_type": "stream",
     "text": [
      "done\n",
      "\n",
      "done\n",
      "\n",
      "done\n",
      "\n",
      "done\n",
      "\n"
     ]
    },
    {
     "name": "stderr",
     "output_type": "stream",
     "text": [
      "1610it [04:17,  8.43it/s]"
     ]
    },
    {
     "name": "stdout",
     "output_type": "stream",
     "text": [
      "done\n",
      "\n",
      "done\n",
      "\n"
     ]
    },
    {
     "name": "stderr",
     "output_type": "stream",
     "text": [
      "1612it [04:18,  8.65it/s]"
     ]
    },
    {
     "name": "stdout",
     "output_type": "stream",
     "text": [
      "done\n",
      "\n"
     ]
    },
    {
     "name": "stderr",
     "output_type": "stream",
     "text": [
      "1614it [04:18,  8.02it/s]"
     ]
    },
    {
     "name": "stdout",
     "output_type": "stream",
     "text": [
      "done\n",
      "\n",
      "done\n",
      "\n",
      "done\n",
      "\n"
     ]
    },
    {
     "name": "stderr",
     "output_type": "stream",
     "text": [
      "1619it [04:18,  9.09it/s]"
     ]
    },
    {
     "name": "stdout",
     "output_type": "stream",
     "text": [
      "done\n",
      "\n",
      "done\n",
      "\n",
      "done\n",
      "\n",
      "done\n",
      "\n",
      "done\n",
      "\n"
     ]
    },
    {
     "name": "stderr",
     "output_type": "stream",
     "text": [
      "1621it [04:19,  8.51it/s]"
     ]
    },
    {
     "name": "stdout",
     "output_type": "stream",
     "text": [
      "done\n",
      "\n"
     ]
    },
    {
     "name": "stderr",
     "output_type": "stream",
     "text": [
      "1623it [04:19,  6.69it/s]"
     ]
    },
    {
     "name": "stdout",
     "output_type": "stream",
     "text": [
      "done\n",
      "\n",
      "done\n",
      "\n"
     ]
    },
    {
     "name": "stderr",
     "output_type": "stream",
     "text": [
      "1625it [04:19,  7.93it/s]"
     ]
    },
    {
     "name": "stdout",
     "output_type": "stream",
     "text": [
      "done\n",
      "\n",
      "done\n",
      "\n",
      "done\n",
      "\n"
     ]
    },
    {
     "name": "stderr",
     "output_type": "stream",
     "text": [
      "1629it [04:20,  8.81it/s]"
     ]
    },
    {
     "name": "stdout",
     "output_type": "stream",
     "text": [
      "done\n",
      "\n",
      "done\n",
      "\n",
      "done\n",
      "\n",
      "done\n",
      "\n",
      "done\n",
      "\n"
     ]
    },
    {
     "name": "stderr",
     "output_type": "stream",
     "text": [
      "1634it [04:20, 10.94it/s]"
     ]
    },
    {
     "name": "stdout",
     "output_type": "stream",
     "text": [
      "done\n",
      "\n",
      "done\n",
      "\n",
      "done\n",
      "\n",
      "done\n",
      "\n",
      "done\n",
      "\n"
     ]
    },
    {
     "name": "stderr",
     "output_type": "stream",
     "text": [
      "1637it [04:20,  9.60it/s]"
     ]
    },
    {
     "name": "stdout",
     "output_type": "stream",
     "text": [
      "done\n",
      "\n",
      "done\n",
      "\n"
     ]
    },
    {
     "name": "stderr",
     "output_type": "stream",
     "text": [
      "1641it [04:21, 10.23it/s]"
     ]
    },
    {
     "name": "stdout",
     "output_type": "stream",
     "text": [
      "done\n",
      "\n",
      "done\n",
      "\n",
      "done\n",
      "\n",
      "done\n",
      "\n"
     ]
    },
    {
     "name": "stderr",
     "output_type": "stream",
     "text": [
      "1643it [04:21, 10.27it/s]"
     ]
    },
    {
     "name": "stdout",
     "output_type": "stream",
     "text": [
      "done\n",
      "\n",
      "done\n",
      "\n"
     ]
    },
    {
     "name": "stderr",
     "output_type": "stream",
     "text": [
      "1647it [04:21,  9.86it/s]"
     ]
    },
    {
     "name": "stdout",
     "output_type": "stream",
     "text": [
      "done\n",
      "\n",
      "done\n",
      "\n",
      "done\n",
      "\n"
     ]
    },
    {
     "name": "stderr",
     "output_type": "stream",
     "text": [
      "1649it [04:22,  8.84it/s]"
     ]
    },
    {
     "name": "stdout",
     "output_type": "stream",
     "text": [
      "done\n",
      "\n",
      "done\n",
      "\n",
      "done\n",
      "\n"
     ]
    },
    {
     "name": "stderr",
     "output_type": "stream",
     "text": [
      "1651it [04:22,  7.00it/s]"
     ]
    },
    {
     "name": "stdout",
     "output_type": "stream",
     "text": [
      "done\n",
      "\n"
     ]
    },
    {
     "name": "stderr",
     "output_type": "stream",
     "text": [
      "1655it [04:23,  8.49it/s]"
     ]
    },
    {
     "name": "stdout",
     "output_type": "stream",
     "text": [
      "done\n",
      "\n",
      "done\n",
      "\n",
      "done\n",
      "\n",
      "done\n",
      "\n",
      "done\n",
      "\n"
     ]
    },
    {
     "name": "stderr",
     "output_type": "stream",
     "text": [
      "1661it [04:23, 13.19it/s]"
     ]
    },
    {
     "name": "stdout",
     "output_type": "stream",
     "text": [
      "done\n",
      "\n",
      "done\n",
      "\n",
      "done\n",
      "\n",
      "done\n",
      "\n",
      "done\n",
      "\n"
     ]
    },
    {
     "name": "stderr",
     "output_type": "stream",
     "text": [
      "1663it [04:23, 14.34it/s]"
     ]
    },
    {
     "name": "stdout",
     "output_type": "stream",
     "text": [
      "done\n",
      "\n",
      "done\n",
      "\n",
      "done\n",
      "\n",
      "done\n",
      "\n"
     ]
    },
    {
     "name": "stderr",
     "output_type": "stream",
     "text": [
      "1666it [04:23, 14.81it/s]"
     ]
    },
    {
     "name": "stdout",
     "output_type": "stream",
     "text": [
      "done\n",
      "\n"
     ]
    },
    {
     "name": "stderr",
     "output_type": "stream",
     "text": [
      "1668it [04:24, 10.73it/s]"
     ]
    },
    {
     "name": "stdout",
     "output_type": "stream",
     "text": [
      "done\n",
      "\n",
      "done\n",
      "\n",
      "done\n",
      "\n"
     ]
    },
    {
     "name": "stderr",
     "output_type": "stream",
     "text": [
      "1670it [04:24,  8.96it/s]"
     ]
    },
    {
     "name": "stdout",
     "output_type": "stream",
     "text": [
      "done\n",
      "\n"
     ]
    },
    {
     "name": "stderr",
     "output_type": "stream",
     "text": [
      "1672it [04:25,  4.31it/s]"
     ]
    },
    {
     "name": "stdout",
     "output_type": "stream",
     "text": [
      "done\n",
      "\n",
      "done\n",
      "\n"
     ]
    },
    {
     "name": "stderr",
     "output_type": "stream",
     "text": [
      "1673it [04:25,  4.57it/s]"
     ]
    },
    {
     "name": "stdout",
     "output_type": "stream",
     "text": [
      "done\n",
      "\n"
     ]
    },
    {
     "name": "stderr",
     "output_type": "stream",
     "text": [
      "1675it [04:26,  4.89it/s]"
     ]
    },
    {
     "name": "stdout",
     "output_type": "stream",
     "text": [
      "done\n",
      "\n",
      "done\n",
      "\n",
      "done\n",
      "\n"
     ]
    },
    {
     "name": "stderr",
     "output_type": "stream",
     "text": [
      "1680it [04:26,  6.82it/s]"
     ]
    },
    {
     "name": "stdout",
     "output_type": "stream",
     "text": [
      "done\n",
      "\n",
      "done\n",
      "\n",
      "done\n",
      "\n",
      "done\n",
      "\n",
      "done\n",
      "\n"
     ]
    },
    {
     "name": "stderr",
     "output_type": "stream",
     "text": [
      "1682it [04:26,  6.92it/s]"
     ]
    },
    {
     "name": "stdout",
     "output_type": "stream",
     "text": [
      "done\n",
      "\n"
     ]
    },
    {
     "name": "stderr",
     "output_type": "stream",
     "text": [
      "1683it [04:27,  6.46it/s]"
     ]
    },
    {
     "name": "stdout",
     "output_type": "stream",
     "text": [
      "done\n",
      "\n",
      "done\n",
      "\n"
     ]
    },
    {
     "name": "stderr",
     "output_type": "stream",
     "text": [
      "1685it [04:27,  6.45it/s]"
     ]
    },
    {
     "name": "stdout",
     "output_type": "stream",
     "text": [
      "done\n",
      "\n"
     ]
    },
    {
     "name": "stderr",
     "output_type": "stream",
     "text": [
      "1687it [04:27,  6.32it/s]"
     ]
    },
    {
     "name": "stdout",
     "output_type": "stream",
     "text": [
      "done\n",
      "\n",
      "done\n",
      "\n"
     ]
    },
    {
     "name": "stderr",
     "output_type": "stream",
     "text": [
      "1689it [04:28,  7.13it/s]"
     ]
    },
    {
     "name": "stdout",
     "output_type": "stream",
     "text": [
      "done\n",
      "\n",
      "done\n",
      "\n",
      "done\n",
      "\n"
     ]
    },
    {
     "name": "stderr",
     "output_type": "stream",
     "text": [
      "1691it [04:28,  6.90it/s]"
     ]
    },
    {
     "name": "stdout",
     "output_type": "stream",
     "text": [
      "done\n",
      "\n"
     ]
    },
    {
     "name": "stderr",
     "output_type": "stream",
     "text": [
      "1694it [04:28,  8.40it/s]"
     ]
    },
    {
     "name": "stdout",
     "output_type": "stream",
     "text": [
      "done\n",
      "\n",
      "done\n",
      "\n",
      "done\n",
      "\n",
      "done\n",
      "\n"
     ]
    },
    {
     "name": "stderr",
     "output_type": "stream",
     "text": [
      "1697it [04:29,  6.74it/s]"
     ]
    },
    {
     "name": "stdout",
     "output_type": "stream",
     "text": [
      "done\n",
      "\n",
      "done\n",
      "\n"
     ]
    },
    {
     "name": "stderr",
     "output_type": "stream",
     "text": [
      "1699it [04:29,  8.71it/s]"
     ]
    },
    {
     "name": "stdout",
     "output_type": "stream",
     "text": [
      "done\n",
      "\n",
      "done\n",
      "\n"
     ]
    },
    {
     "name": "stderr",
     "output_type": "stream",
     "text": [
      "1702it [04:30,  4.49it/s]"
     ]
    },
    {
     "name": "stdout",
     "output_type": "stream",
     "text": [
      "done\n",
      "\n",
      "done\n",
      "\n",
      "done\n",
      "\n",
      "done\n",
      "\n"
     ]
    },
    {
     "name": "stderr",
     "output_type": "stream",
     "text": [
      "1704it [04:30,  5.95it/s]"
     ]
    },
    {
     "name": "stdout",
     "output_type": "stream",
     "text": [
      "done\n",
      "\n",
      "done\n",
      "\n",
      "done\n",
      "\n"
     ]
    },
    {
     "name": "stderr",
     "output_type": "stream",
     "text": [
      "1707it [04:30,  7.80it/s]"
     ]
    },
    {
     "name": "stdout",
     "output_type": "stream",
     "text": [
      "done\n",
      "\n",
      "done\n",
      "\n",
      "done\n",
      "\n"
     ]
    },
    {
     "name": "stderr",
     "output_type": "stream",
     "text": [
      "1710it [04:31,  7.09it/s]"
     ]
    },
    {
     "name": "stdout",
     "output_type": "stream",
     "text": [
      "done\n",
      "\n"
     ]
    },
    {
     "name": "stderr",
     "output_type": "stream",
     "text": [
      "1711it [04:31,  6.47it/s]"
     ]
    },
    {
     "name": "stdout",
     "output_type": "stream",
     "text": [
      "done\n",
      "\n",
      "done\n",
      "\n"
     ]
    },
    {
     "name": "stderr",
     "output_type": "stream",
     "text": [
      "1716it [04:32,  8.94it/s]"
     ]
    },
    {
     "name": "stdout",
     "output_type": "stream",
     "text": [
      "done\n",
      "\n",
      "done\n",
      "\n",
      "done\n",
      "\n",
      "done\n",
      "\n",
      "done\n",
      "\n"
     ]
    },
    {
     "name": "stderr",
     "output_type": "stream",
     "text": [
      "1718it [04:32,  6.63it/s]"
     ]
    },
    {
     "name": "stdout",
     "output_type": "stream",
     "text": [
      "done\n",
      "\n",
      "done\n",
      "\n",
      "done\n",
      "\n"
     ]
    },
    {
     "name": "stderr",
     "output_type": "stream",
     "text": [
      "1721it [04:33,  6.34it/s]"
     ]
    },
    {
     "name": "stdout",
     "output_type": "stream",
     "text": [
      "done\n",
      "\n"
     ]
    },
    {
     "name": "stderr",
     "output_type": "stream",
     "text": [
      "1723it [04:33,  5.99it/s]"
     ]
    },
    {
     "name": "stdout",
     "output_type": "stream",
     "text": [
      "done\n",
      "\n",
      "done\n",
      "\n",
      "done\n",
      "\n"
     ]
    },
    {
     "name": "stderr",
     "output_type": "stream",
     "text": [
      "1726it [04:33,  6.06it/s]"
     ]
    },
    {
     "name": "stdout",
     "output_type": "stream",
     "text": [
      "done\n",
      "\n",
      "done\n",
      "\n"
     ]
    },
    {
     "name": "stderr",
     "output_type": "stream",
     "text": [
      "1728it [04:34,  7.11it/s]"
     ]
    },
    {
     "name": "stdout",
     "output_type": "stream",
     "text": [
      "done\n",
      "\n",
      "done\n",
      "\n"
     ]
    },
    {
     "name": "stderr",
     "output_type": "stream",
     "text": [
      "1729it [04:34,  5.92it/s]"
     ]
    },
    {
     "name": "stdout",
     "output_type": "stream",
     "text": [
      "done\n",
      "\n",
      "done\n",
      "\n"
     ]
    },
    {
     "name": "stderr",
     "output_type": "stream",
     "text": [
      "1733it [04:37,  2.48it/s]"
     ]
    },
    {
     "name": "stdout",
     "output_type": "stream",
     "text": [
      "done\n",
      "\n",
      "done\n",
      "\n",
      "done\n",
      "\n",
      "done\n",
      "\n"
     ]
    },
    {
     "name": "stderr",
     "output_type": "stream",
     "text": [
      "1735it [04:37,  3.01it/s]"
     ]
    },
    {
     "name": "stdout",
     "output_type": "stream",
     "text": [
      "done\n",
      "\n"
     ]
    },
    {
     "name": "stderr",
     "output_type": "stream",
     "text": [
      "1736it [04:37,  2.99it/s]"
     ]
    },
    {
     "name": "stdout",
     "output_type": "stream",
     "text": [
      "done\n",
      "\n",
      "done\n",
      "\n"
     ]
    },
    {
     "name": "stderr",
     "output_type": "stream",
     "text": [
      "1738it [04:38,  3.88it/s]"
     ]
    },
    {
     "name": "stdout",
     "output_type": "stream",
     "text": [
      "done\n",
      "\n"
     ]
    },
    {
     "name": "stderr",
     "output_type": "stream",
     "text": [
      "1739it [04:38,  3.61it/s]"
     ]
    },
    {
     "name": "stdout",
     "output_type": "stream",
     "text": [
      "done\n",
      "\n"
     ]
    },
    {
     "name": "stderr",
     "output_type": "stream",
     "text": [
      "1740it [04:38,  3.39it/s]"
     ]
    },
    {
     "name": "stdout",
     "output_type": "stream",
     "text": [
      "done\n",
      "\n",
      "done\n",
      "\n"
     ]
    },
    {
     "name": "stderr",
     "output_type": "stream",
     "text": [
      "1742it [04:39,  4.26it/s]"
     ]
    },
    {
     "name": "stdout",
     "output_type": "stream",
     "text": [
      "done\n",
      "\n"
     ]
    },
    {
     "name": "stderr",
     "output_type": "stream",
     "text": [
      "1744it [04:39,  4.23it/s]"
     ]
    },
    {
     "name": "stdout",
     "output_type": "stream",
     "text": [
      "done\n",
      "\n",
      "done\n",
      "\n"
     ]
    },
    {
     "name": "stderr",
     "output_type": "stream",
     "text": [
      "1747it [04:39,  7.15it/s]"
     ]
    },
    {
     "name": "stdout",
     "output_type": "stream",
     "text": [
      "done\n",
      "\n",
      "done\n",
      "\n",
      "done\n",
      "\n"
     ]
    },
    {
     "name": "stderr",
     "output_type": "stream",
     "text": [
      "1751it [04:40,  8.44it/s]"
     ]
    },
    {
     "name": "stdout",
     "output_type": "stream",
     "text": [
      "done\n",
      "\n",
      "done\n",
      "\n",
      "done\n",
      "\n",
      "done\n",
      "\n"
     ]
    },
    {
     "name": "stderr",
     "output_type": "stream",
     "text": [
      "1753it [04:40,  4.62it/s]"
     ]
    },
    {
     "name": "stdout",
     "output_type": "stream",
     "text": [
      "done\n",
      "\n",
      "done\n",
      "\n"
     ]
    },
    {
     "name": "stderr",
     "output_type": "stream",
     "text": [
      "1756it [04:41,  6.79it/s]"
     ]
    },
    {
     "name": "stdout",
     "output_type": "stream",
     "text": [
      "done\n",
      "\n",
      "done\n",
      "\n",
      "done\n",
      "\n",
      "done\n",
      "\n",
      "done\n",
      "\n"
     ]
    },
    {
     "name": "stderr",
     "output_type": "stream",
     "text": [
      "1761it [04:41,  9.30it/s]"
     ]
    },
    {
     "name": "stdout",
     "output_type": "stream",
     "text": [
      "done\n",
      "\n",
      "done\n",
      "\n",
      "done\n",
      "\n",
      "done\n",
      "\n"
     ]
    },
    {
     "name": "stderr",
     "output_type": "stream",
     "text": [
      "1764it [04:41, 11.76it/s]"
     ]
    },
    {
     "name": "stdout",
     "output_type": "stream",
     "text": [
      "done\n",
      "\n",
      "done\n",
      "\n",
      "done\n",
      "\n",
      "done\n",
      "\n"
     ]
    },
    {
     "name": "stderr",
     "output_type": "stream",
     "text": [
      "1770it [04:42, 12.82it/s]"
     ]
    },
    {
     "name": "stdout",
     "output_type": "stream",
     "text": [
      "done\n",
      "\n",
      "done\n",
      "\n",
      "done\n",
      "\n",
      "done\n",
      "\n"
     ]
    },
    {
     "name": "stderr",
     "output_type": "stream",
     "text": [
      "1772it [04:42, 10.58it/s]"
     ]
    },
    {
     "name": "stdout",
     "output_type": "stream",
     "text": [
      "done\n",
      "\n",
      "done\n",
      "\n"
     ]
    },
    {
     "name": "stderr",
     "output_type": "stream",
     "text": [
      "1777it [04:43,  9.47it/s]"
     ]
    },
    {
     "name": "stdout",
     "output_type": "stream",
     "text": [
      "done\n",
      "\n",
      "done\n",
      "\n",
      "done\n",
      "\n",
      "done\n",
      "\n",
      "done\n",
      "\n"
     ]
    },
    {
     "name": "stderr",
     "output_type": "stream",
     "text": [
      "1779it [04:43,  9.95it/s]"
     ]
    },
    {
     "name": "stdout",
     "output_type": "stream",
     "text": [
      "done\n",
      "\n",
      "done\n",
      "\n"
     ]
    },
    {
     "name": "stderr",
     "output_type": "stream",
     "text": [
      "1781it [04:43,  8.93it/s]"
     ]
    },
    {
     "name": "stdout",
     "output_type": "stream",
     "text": [
      "done\n",
      "\n",
      "done\n",
      "\n",
      "done\n",
      "\n"
     ]
    },
    {
     "name": "stderr",
     "output_type": "stream",
     "text": [
      "1785it [04:43,  9.04it/s]"
     ]
    },
    {
     "name": "stdout",
     "output_type": "stream",
     "text": [
      "done\n",
      "\n",
      "done\n",
      "\n",
      "done\n",
      "\n"
     ]
    },
    {
     "name": "stderr",
     "output_type": "stream",
     "text": [
      "1787it [04:44, 10.58it/s]"
     ]
    },
    {
     "name": "stdout",
     "output_type": "stream",
     "text": [
      "done\n",
      "\n",
      "done\n",
      "\n"
     ]
    },
    {
     "name": "stderr",
     "output_type": "stream",
     "text": [
      "1789it [04:44,  5.75it/s]"
     ]
    },
    {
     "name": "stdout",
     "output_type": "stream",
     "text": [
      "done\n",
      "\n",
      "done\n",
      "\n"
     ]
    },
    {
     "name": "stderr",
     "output_type": "stream",
     "text": [
      "1791it [04:45,  4.82it/s]"
     ]
    },
    {
     "name": "stdout",
     "output_type": "stream",
     "text": [
      "done\n",
      "\n",
      "done\n",
      "\n"
     ]
    },
    {
     "name": "stderr",
     "output_type": "stream",
     "text": [
      "1792it [04:45,  5.42it/s]"
     ]
    },
    {
     "name": "stdout",
     "output_type": "stream",
     "text": [
      "done\n",
      "\n",
      "done\n",
      "\n"
     ]
    },
    {
     "name": "stderr",
     "output_type": "stream",
     "text": [
      "1795it [04:46,  5.34it/s]"
     ]
    },
    {
     "name": "stdout",
     "output_type": "stream",
     "text": [
      "done\n",
      "\n",
      "done\n",
      "\n"
     ]
    },
    {
     "name": "stderr",
     "output_type": "stream",
     "text": [
      "1798it [04:46,  8.41it/s]"
     ]
    },
    {
     "name": "stdout",
     "output_type": "stream",
     "text": [
      "done\n",
      "\n",
      "done\n",
      "\n",
      "done\n",
      "\n",
      "done\n",
      "\n"
     ]
    },
    {
     "name": "stderr",
     "output_type": "stream",
     "text": [
      "1802it [04:46, 10.83it/s]"
     ]
    },
    {
     "name": "stdout",
     "output_type": "stream",
     "text": [
      "done\n",
      "\n",
      "done\n",
      "\n",
      "done\n",
      "\n"
     ]
    },
    {
     "name": "stderr",
     "output_type": "stream",
     "text": [
      "1804it [04:46,  8.89it/s]"
     ]
    },
    {
     "name": "stdout",
     "output_type": "stream",
     "text": [
      "done\n",
      "\n",
      "done\n",
      "\n",
      "done\n",
      "\n"
     ]
    },
    {
     "name": "stderr",
     "output_type": "stream",
     "text": [
      "1808it [04:47, 10.26it/s]"
     ]
    },
    {
     "name": "stdout",
     "output_type": "stream",
     "text": [
      "done\n",
      "\n",
      "done\n",
      "\n",
      "done\n",
      "\n"
     ]
    },
    {
     "name": "stderr",
     "output_type": "stream",
     "text": [
      "1812it [04:47, 10.07it/s]"
     ]
    },
    {
     "name": "stdout",
     "output_type": "stream",
     "text": [
      "done\n",
      "\n",
      "done\n",
      "\n",
      "done\n",
      "\n",
      "done\n",
      "\n",
      "done\n",
      "\n"
     ]
    },
    {
     "name": "stderr",
     "output_type": "stream",
     "text": [
      "1814it [04:47,  7.56it/s]"
     ]
    },
    {
     "name": "stdout",
     "output_type": "stream",
     "text": [
      "done\n",
      "\n",
      "done\n",
      "\n"
     ]
    },
    {
     "name": "stderr",
     "output_type": "stream",
     "text": [
      "1818it [04:48,  8.54it/s]"
     ]
    },
    {
     "name": "stdout",
     "output_type": "stream",
     "text": [
      "done\n",
      "\n",
      "done\n",
      "\n",
      "done\n",
      "\n",
      "done\n",
      "\n"
     ]
    },
    {
     "name": "stderr",
     "output_type": "stream",
     "text": [
      "1822it [04:49,  6.37it/s]"
     ]
    },
    {
     "name": "stdout",
     "output_type": "stream",
     "text": [
      "done\n",
      "\n",
      "done\n",
      "\n",
      "done\n",
      "\n",
      "done\n",
      "\n"
     ]
    },
    {
     "name": "stderr",
     "output_type": "stream",
     "text": [
      "1825it [04:50,  4.74it/s]"
     ]
    },
    {
     "name": "stdout",
     "output_type": "stream",
     "text": [
      "done\n",
      "\n",
      "done\n",
      "\n"
     ]
    },
    {
     "name": "stderr",
     "output_type": "stream",
     "text": [
      "1827it [04:50,  5.75it/s]"
     ]
    },
    {
     "name": "stdout",
     "output_type": "stream",
     "text": [
      "done\n",
      "\n",
      "done\n",
      "\n"
     ]
    },
    {
     "name": "stderr",
     "output_type": "stream",
     "text": [
      "1830it [04:50,  7.21it/s]"
     ]
    },
    {
     "name": "stdout",
     "output_type": "stream",
     "text": [
      "done\n",
      "\n",
      "done\n",
      "\n",
      "done\n",
      "\n",
      "done\n",
      "\n"
     ]
    },
    {
     "name": "stderr",
     "output_type": "stream",
     "text": [
      "1832it [04:51,  6.92it/s]"
     ]
    },
    {
     "name": "stdout",
     "output_type": "stream",
     "text": [
      "done\n",
      "\n",
      "done\n",
      "\n",
      "done\n",
      "\n"
     ]
    },
    {
     "name": "stderr",
     "output_type": "stream",
     "text": [
      "1835it [04:51,  5.17it/s]"
     ]
    },
    {
     "name": "stdout",
     "output_type": "stream",
     "text": [
      "done\n",
      "\n",
      "done\n",
      "\n",
      "done\n",
      "\n"
     ]
    },
    {
     "name": "stderr",
     "output_type": "stream",
     "text": [
      "1841it [04:53,  4.68it/s]"
     ]
    },
    {
     "name": "stdout",
     "output_type": "stream",
     "text": [
      "done\n",
      "\n",
      "done\n",
      "\n",
      "done\n",
      "\n",
      "done\n",
      "\n"
     ]
    },
    {
     "name": "stderr",
     "output_type": "stream",
     "text": [
      "1846it [04:53,  7.31it/s]"
     ]
    },
    {
     "name": "stdout",
     "output_type": "stream",
     "text": [
      "done\n",
      "\n",
      "done\n",
      "\n",
      "done\n",
      "\n",
      "done\n",
      "\n",
      "done\n",
      "\n"
     ]
    },
    {
     "name": "stderr",
     "output_type": "stream",
     "text": [
      "1848it [04:53,  8.64it/s]"
     ]
    },
    {
     "name": "stdout",
     "output_type": "stream",
     "text": [
      "done\n",
      "\n",
      "done\n",
      "\n",
      "done\n",
      "\n",
      "done\n",
      "\n"
     ]
    },
    {
     "name": "stderr",
     "output_type": "stream",
     "text": [
      "1853it [04:54, 10.23it/s]"
     ]
    },
    {
     "name": "stdout",
     "output_type": "stream",
     "text": [
      "done\n",
      "\n",
      "done\n",
      "\n",
      "done\n",
      "\n",
      "done\n",
      "\n"
     ]
    },
    {
     "name": "stderr",
     "output_type": "stream",
     "text": [
      "1855it [04:54,  6.87it/s]"
     ]
    },
    {
     "name": "stdout",
     "output_type": "stream",
     "text": [
      "done\n",
      "\n",
      "done\n",
      "\n"
     ]
    },
    {
     "name": "stderr",
     "output_type": "stream",
     "text": [
      "1857it [04:55,  7.44it/s]"
     ]
    },
    {
     "name": "stdout",
     "output_type": "stream",
     "text": [
      "done\n",
      "\n",
      "done\n",
      "\n"
     ]
    },
    {
     "name": "stderr",
     "output_type": "stream",
     "text": [
      "1860it [04:55,  7.19it/s]"
     ]
    },
    {
     "name": "stdout",
     "output_type": "stream",
     "text": [
      "done\n",
      "\n",
      "done\n",
      "\n"
     ]
    },
    {
     "name": "stderr",
     "output_type": "stream",
     "text": [
      "1861it [04:55,  6.98it/s]"
     ]
    },
    {
     "name": "stdout",
     "output_type": "stream",
     "text": [
      "done\n",
      "\n"
     ]
    },
    {
     "name": "stderr",
     "output_type": "stream",
     "text": [
      "1863it [04:56,  5.25it/s]"
     ]
    },
    {
     "name": "stdout",
     "output_type": "stream",
     "text": [
      "done\n",
      "\n",
      "done\n",
      "\n"
     ]
    },
    {
     "name": "stderr",
     "output_type": "stream",
     "text": [
      "1866it [04:56,  7.87it/s]"
     ]
    },
    {
     "name": "stdout",
     "output_type": "stream",
     "text": [
      "done\n",
      "\n",
      "done\n",
      "\n",
      "done\n",
      "\n"
     ]
    },
    {
     "name": "stderr",
     "output_type": "stream",
     "text": [
      "1867it [04:56,  7.68it/s]"
     ]
    },
    {
     "name": "stdout",
     "output_type": "stream",
     "text": [
      "done\n",
      "\n"
     ]
    },
    {
     "name": "stderr",
     "output_type": "stream",
     "text": [
      "1868it [04:56,  6.44it/s]"
     ]
    },
    {
     "name": "stdout",
     "output_type": "stream",
     "text": [
      "done\n",
      "\n"
     ]
    },
    {
     "name": "stderr",
     "output_type": "stream",
     "text": [
      "1870it [04:57,  5.46it/s]"
     ]
    },
    {
     "name": "stdout",
     "output_type": "stream",
     "text": [
      "done\n",
      "\n",
      "done\n",
      "\n",
      "done\n",
      "\n"
     ]
    },
    {
     "name": "stderr",
     "output_type": "stream",
     "text": [
      "1872it [04:57,  6.91it/s]"
     ]
    },
    {
     "name": "stdout",
     "output_type": "stream",
     "text": [
      "done\n",
      "\n",
      "done\n",
      "\n",
      "done\n",
      "\n"
     ]
    },
    {
     "name": "stderr",
     "output_type": "stream",
     "text": [
      "1875it [04:57,  8.80it/s]"
     ]
    },
    {
     "name": "stdout",
     "output_type": "stream",
     "text": [
      "done\n",
      "\n",
      "done\n",
      "\n"
     ]
    },
    {
     "name": "stderr",
     "output_type": "stream",
     "text": [
      "1878it [04:58,  7.77it/s]"
     ]
    },
    {
     "name": "stdout",
     "output_type": "stream",
     "text": [
      "done\n",
      "\n",
      "done\n",
      "\n",
      "done\n",
      "\n"
     ]
    },
    {
     "name": "stderr",
     "output_type": "stream",
     "text": [
      "1880it [04:58,  6.42it/s]"
     ]
    },
    {
     "name": "stdout",
     "output_type": "stream",
     "text": [
      "done\n",
      "\n",
      "done\n",
      "\n"
     ]
    },
    {
     "name": "stderr",
     "output_type": "stream",
     "text": [
      "1885it [04:58,  9.84it/s]"
     ]
    },
    {
     "name": "stdout",
     "output_type": "stream",
     "text": [
      "done\n",
      "\n",
      "done\n",
      "\n",
      "done\n",
      "\n",
      "done\n",
      "\n",
      "done\n",
      "\n"
     ]
    },
    {
     "name": "stderr",
     "output_type": "stream",
     "text": [
      "1887it [04:59,  6.58it/s]"
     ]
    },
    {
     "name": "stdout",
     "output_type": "stream",
     "text": [
      "done\n",
      "\n"
     ]
    },
    {
     "name": "stderr",
     "output_type": "stream",
     "text": [
      "1888it [04:59,  5.73it/s]"
     ]
    },
    {
     "name": "stdout",
     "output_type": "stream",
     "text": [
      "done\n",
      "\n",
      "done\n",
      "\n",
      "done\n",
      "\n"
     ]
    },
    {
     "name": "stderr",
     "output_type": "stream",
     "text": [
      "1891it [05:00,  7.12it/s]"
     ]
    },
    {
     "name": "stdout",
     "output_type": "stream",
     "text": [
      "done\n",
      "\n"
     ]
    },
    {
     "name": "stderr",
     "output_type": "stream",
     "text": [
      "1894it [05:00,  7.74it/s]"
     ]
    },
    {
     "name": "stdout",
     "output_type": "stream",
     "text": [
      "done\n",
      "\n",
      "done\n",
      "\n",
      "done\n",
      "\n",
      "done\n",
      "\n"
     ]
    },
    {
     "name": "stderr",
     "output_type": "stream",
     "text": [
      "1899it [05:01,  5.53it/s]"
     ]
    },
    {
     "name": "stdout",
     "output_type": "stream",
     "text": [
      "done\n",
      "\n",
      "done\n",
      "\n",
      "done\n",
      "\n",
      "done\n",
      "\n",
      "done\n",
      "\n",
      "done\n",
      "\n"
     ]
    },
    {
     "name": "stderr",
     "output_type": "stream",
     "text": [
      "1902it [05:01,  7.77it/s]"
     ]
    },
    {
     "name": "stdout",
     "output_type": "stream",
     "text": [
      "done\n",
      "\n",
      "done\n",
      "\n"
     ]
    },
    {
     "name": "stderr",
     "output_type": "stream",
     "text": [
      "1904it [05:02,  6.94it/s]"
     ]
    },
    {
     "name": "stdout",
     "output_type": "stream",
     "text": [
      "done\n",
      "\n"
     ]
    },
    {
     "name": "stderr",
     "output_type": "stream",
     "text": [
      "1906it [05:02,  6.75it/s]"
     ]
    },
    {
     "name": "stdout",
     "output_type": "stream",
     "text": [
      "done\n",
      "\n",
      "done\n",
      "\n"
     ]
    },
    {
     "name": "stderr",
     "output_type": "stream",
     "text": [
      "1908it [05:02,  6.95it/s]"
     ]
    },
    {
     "name": "stdout",
     "output_type": "stream",
     "text": [
      "done\n",
      "\n",
      "done\n",
      "\n"
     ]
    },
    {
     "name": "stderr",
     "output_type": "stream",
     "text": [
      "1910it [05:03,  7.33it/s]"
     ]
    },
    {
     "name": "stdout",
     "output_type": "stream",
     "text": [
      "done\n",
      "\n",
      "done\n",
      "\n"
     ]
    },
    {
     "name": "stderr",
     "output_type": "stream",
     "text": [
      "1911it [05:03,  5.38it/s]"
     ]
    },
    {
     "name": "stdout",
     "output_type": "stream",
     "text": [
      "done\n",
      "\n",
      "done\n",
      "\n"
     ]
    },
    {
     "name": "stderr",
     "output_type": "stream",
     "text": [
      "1913it [05:03,  5.96it/s]"
     ]
    },
    {
     "name": "stdout",
     "output_type": "stream",
     "text": [
      "done\n",
      "\n",
      "done\n",
      "\n",
      "done\n",
      "\n"
     ]
    },
    {
     "name": "stderr",
     "output_type": "stream",
     "text": [
      "1917it [05:04,  7.89it/s]"
     ]
    },
    {
     "name": "stdout",
     "output_type": "stream",
     "text": [
      "done\n",
      "\n",
      "done\n",
      "\n",
      "done\n",
      "\n"
     ]
    },
    {
     "name": "stderr",
     "output_type": "stream",
     "text": [
      "1922it [05:04, 11.30it/s]"
     ]
    },
    {
     "name": "stdout",
     "output_type": "stream",
     "text": [
      "done\n",
      "\n",
      "done\n",
      "\n",
      "done\n",
      "\n",
      "done\n",
      "\n",
      "done\n",
      "\n"
     ]
    },
    {
     "name": "stderr",
     "output_type": "stream",
     "text": [
      "1924it [05:04,  7.91it/s]"
     ]
    },
    {
     "name": "stdout",
     "output_type": "stream",
     "text": [
      "done\n",
      "\n",
      "done\n",
      "\n"
     ]
    },
    {
     "name": "stderr",
     "output_type": "stream",
     "text": [
      "1928it [05:05,  6.91it/s]"
     ]
    },
    {
     "name": "stdout",
     "output_type": "stream",
     "text": [
      "done\n",
      "\n",
      "done\n",
      "\n",
      "done\n",
      "\n",
      "done\n",
      "\n"
     ]
    },
    {
     "name": "stderr",
     "output_type": "stream",
     "text": [
      "1931it [05:05,  9.48it/s]"
     ]
    },
    {
     "name": "stdout",
     "output_type": "stream",
     "text": [
      "done\n",
      "\n",
      "done\n",
      "\n",
      "done\n",
      "\n"
     ]
    },
    {
     "name": "stderr",
     "output_type": "stream",
     "text": [
      "1935it [05:06,  8.90it/s]"
     ]
    },
    {
     "name": "stdout",
     "output_type": "stream",
     "text": [
      "done\n",
      "\n",
      "done\n",
      "\n",
      "done\n",
      "\n"
     ]
    },
    {
     "name": "stderr",
     "output_type": "stream",
     "text": [
      "1940it [05:06, 11.49it/s]"
     ]
    },
    {
     "name": "stdout",
     "output_type": "stream",
     "text": [
      "done\n",
      "\n",
      "done\n",
      "\n",
      "done\n",
      "\n",
      "done\n",
      "\n",
      "done\n",
      "\n",
      "done\n",
      "\n"
     ]
    },
    {
     "name": "stderr",
     "output_type": "stream",
     "text": [
      "1942it [05:07,  8.61it/s]"
     ]
    },
    {
     "name": "stdout",
     "output_type": "stream",
     "text": [
      "done\n",
      "\n",
      "done\n",
      "\n"
     ]
    },
    {
     "name": "stderr",
     "output_type": "stream",
     "text": [
      "1944it [05:07,  7.63it/s]"
     ]
    },
    {
     "name": "stdout",
     "output_type": "stream",
     "text": [
      "done\n",
      "\n",
      "done\n",
      "\n",
      "done\n",
      "\n"
     ]
    },
    {
     "name": "stderr",
     "output_type": "stream",
     "text": [
      "1950it [05:07,  9.98it/s]"
     ]
    },
    {
     "name": "stdout",
     "output_type": "stream",
     "text": [
      "done\n",
      "\n",
      "done\n",
      "\n",
      "done\n",
      "\n",
      "done\n",
      "\n",
      "done\n",
      "\n"
     ]
    },
    {
     "name": "stderr",
     "output_type": "stream",
     "text": [
      "1954it [05:08, 10.41it/s]"
     ]
    },
    {
     "name": "stdout",
     "output_type": "stream",
     "text": [
      "done\n",
      "\n",
      "done\n",
      "\n",
      "done\n",
      "\n",
      "done\n",
      "\n",
      "done\n",
      "\n"
     ]
    },
    {
     "name": "stderr",
     "output_type": "stream",
     "text": [
      "1957it [05:08, 10.47it/s]"
     ]
    },
    {
     "name": "stdout",
     "output_type": "stream",
     "text": [
      "done\n",
      "\n",
      "done\n",
      "\n"
     ]
    },
    {
     "name": "stderr",
     "output_type": "stream",
     "text": [
      "1961it [05:08, 10.74it/s]"
     ]
    },
    {
     "name": "stdout",
     "output_type": "stream",
     "text": [
      "done\n",
      "\n",
      "done\n",
      "\n",
      "done\n",
      "\n",
      "done\n",
      "\n"
     ]
    },
    {
     "name": "stderr",
     "output_type": "stream",
     "text": [
      "1963it [05:09,  9.99it/s]"
     ]
    },
    {
     "name": "stdout",
     "output_type": "stream",
     "text": [
      "done\n",
      "\n",
      "done\n",
      "\n"
     ]
    },
    {
     "name": "stderr",
     "output_type": "stream",
     "text": [
      "1965it [05:09,  8.42it/s]"
     ]
    },
    {
     "name": "stdout",
     "output_type": "stream",
     "text": [
      "done\n",
      "\n"
     ]
    },
    {
     "name": "stderr",
     "output_type": "stream",
     "text": [
      "1966it [05:09,  7.08it/s]"
     ]
    },
    {
     "name": "stdout",
     "output_type": "stream",
     "text": [
      "done\n",
      "\n",
      "done\n",
      "\n"
     ]
    },
    {
     "name": "stderr",
     "output_type": "stream",
     "text": [
      "1970it [05:10,  8.29it/s]"
     ]
    },
    {
     "name": "stdout",
     "output_type": "stream",
     "text": [
      "done\n",
      "\n",
      "done\n",
      "\n",
      "done\n",
      "\n"
     ]
    },
    {
     "name": "stderr",
     "output_type": "stream",
     "text": [
      "1971it [05:10,  6.49it/s]"
     ]
    },
    {
     "name": "stdout",
     "output_type": "stream",
     "text": [
      "done\n",
      "\n"
     ]
    },
    {
     "name": "stderr",
     "output_type": "stream",
     "text": [
      "1974it [05:10,  7.38it/s]"
     ]
    },
    {
     "name": "stdout",
     "output_type": "stream",
     "text": [
      "done\n",
      "\n",
      "done\n",
      "\n",
      "done\n",
      "\n",
      "done\n",
      "\n"
     ]
    },
    {
     "name": "stderr",
     "output_type": "stream",
     "text": [
      "1980it [05:11, 13.30it/s]"
     ]
    },
    {
     "name": "stdout",
     "output_type": "stream",
     "text": [
      "done\n",
      "\n",
      "done\n",
      "\n",
      "done\n",
      "\n",
      "done\n",
      "\n",
      "done\n",
      "\n"
     ]
    },
    {
     "name": "stderr",
     "output_type": "stream",
     "text": [
      "1983it [05:11, 15.33it/s]"
     ]
    },
    {
     "name": "stdout",
     "output_type": "stream",
     "text": [
      "done\n",
      "\n",
      "done\n",
      "\n",
      "done\n",
      "\n",
      "done\n",
      "\n",
      "done\n",
      "\n"
     ]
    },
    {
     "name": "stderr",
     "output_type": "stream",
     "text": [
      "1986it [05:11, 16.21it/s]"
     ]
    },
    {
     "name": "stdout",
     "output_type": "stream",
     "text": [
      "done\n",
      "\n"
     ]
    },
    {
     "name": "stderr",
     "output_type": "stream",
     "text": [
      "1988it [05:11, 12.14it/s]"
     ]
    },
    {
     "name": "stdout",
     "output_type": "stream",
     "text": [
      "done\n",
      "\n",
      "done\n",
      "\n",
      "done\n",
      "\n"
     ]
    },
    {
     "name": "stderr",
     "output_type": "stream",
     "text": [
      "1990it [05:12,  9.77it/s]"
     ]
    },
    {
     "name": "stdout",
     "output_type": "stream",
     "text": [
      "done\n",
      "\n"
     ]
    },
    {
     "name": "stderr",
     "output_type": "stream",
     "text": [
      "1992it [05:13,  4.70it/s]"
     ]
    },
    {
     "name": "stdout",
     "output_type": "stream",
     "text": [
      "done\n",
      "\n",
      "done\n",
      "\n",
      "done\n",
      "\n"
     ]
    },
    {
     "name": "stderr",
     "output_type": "stream",
     "text": [
      "1996it [05:13,  5.97it/s]"
     ]
    },
    {
     "name": "stdout",
     "output_type": "stream",
     "text": [
      "done\n",
      "\n",
      "done\n",
      "\n",
      "done\n",
      "\n"
     ]
    },
    {
     "name": "stderr",
     "output_type": "stream",
     "text": [
      "2000it [05:14,  7.25it/s]"
     ]
    },
    {
     "name": "stdout",
     "output_type": "stream",
     "text": [
      "done\n",
      "\n",
      "done\n",
      "\n",
      "done\n",
      "\n",
      "done\n",
      "\n",
      "done\n",
      "\n"
     ]
    },
    {
     "name": "stderr",
     "output_type": "stream",
     "text": [
      "2002it [05:14,  7.71it/s]"
     ]
    },
    {
     "name": "stdout",
     "output_type": "stream",
     "text": [
      "done\n",
      "\n",
      "done\n",
      "\n"
     ]
    },
    {
     "name": "stderr",
     "output_type": "stream",
     "text": [
      "2004it [05:14,  7.97it/s]"
     ]
    },
    {
     "name": "stdout",
     "output_type": "stream",
     "text": [
      "done\n",
      "\n"
     ]
    },
    {
     "name": "stderr",
     "output_type": "stream",
     "text": [
      "2006it [05:15,  5.33it/s]"
     ]
    },
    {
     "name": "stdout",
     "output_type": "stream",
     "text": [
      "done\n",
      "\n",
      "done\n",
      "\n"
     ]
    },
    {
     "name": "stderr",
     "output_type": "stream",
     "text": [
      "2007it [05:15,  5.78it/s]"
     ]
    },
    {
     "name": "stdout",
     "output_type": "stream",
     "text": [
      "done\n",
      "\n",
      "done\n",
      "\n"
     ]
    },
    {
     "name": "stderr",
     "output_type": "stream",
     "text": [
      "2009it [05:15,  4.79it/s]"
     ]
    },
    {
     "name": "stdout",
     "output_type": "stream",
     "text": [
      "done\n",
      "\n",
      "done\n",
      "\n"
     ]
    },
    {
     "name": "stderr",
     "output_type": "stream",
     "text": [
      "2012it [05:16,  5.57it/s]"
     ]
    },
    {
     "name": "stdout",
     "output_type": "stream",
     "text": [
      "done\n",
      "\n",
      "done\n",
      "\n"
     ]
    },
    {
     "name": "stderr",
     "output_type": "stream",
     "text": [
      "2014it [05:16,  7.09it/s]"
     ]
    },
    {
     "name": "stdout",
     "output_type": "stream",
     "text": [
      "done\n",
      "\n",
      "done\n",
      "\n",
      "done\n",
      "\n"
     ]
    },
    {
     "name": "stderr",
     "output_type": "stream",
     "text": [
      "2016it [05:16,  7.18it/s]"
     ]
    },
    {
     "name": "stdout",
     "output_type": "stream",
     "text": [
      "done\n",
      "\n"
     ]
    },
    {
     "name": "stderr",
     "output_type": "stream",
     "text": [
      "2019it [05:17,  7.85it/s]"
     ]
    },
    {
     "name": "stdout",
     "output_type": "stream",
     "text": [
      "done\n",
      "\n",
      "done\n",
      "\n",
      "done\n",
      "\n"
     ]
    },
    {
     "name": "stderr",
     "output_type": "stream",
     "text": [
      "2022it [05:17,  9.16it/s]"
     ]
    },
    {
     "name": "stdout",
     "output_type": "stream",
     "text": [
      "done\n",
      "\n",
      "done\n",
      "\n",
      "done\n",
      "\n",
      "done\n",
      "\n"
     ]
    },
    {
     "name": "stderr",
     "output_type": "stream",
     "text": [
      "2024it [05:17, 10.50it/s]"
     ]
    },
    {
     "name": "stdout",
     "output_type": "stream",
     "text": [
      "done\n",
      "\n",
      "done\n",
      "\n",
      "done\n",
      "\n"
     ]
    },
    {
     "name": "stderr",
     "output_type": "stream",
     "text": [
      "2027it [05:17, 10.12it/s]"
     ]
    },
    {
     "name": "stdout",
     "output_type": "stream",
     "text": [
      "done\n",
      "\n",
      "done\n",
      "\n",
      "done\n",
      "\n"
     ]
    },
    {
     "name": "stderr",
     "output_type": "stream",
     "text": [
      "2030it [05:18,  8.75it/s]"
     ]
    },
    {
     "name": "stdout",
     "output_type": "stream",
     "text": [
      "done\n",
      "\n"
     ]
    },
    {
     "name": "stderr",
     "output_type": "stream",
     "text": [
      "2033it [05:18,  8.17it/s]"
     ]
    },
    {
     "name": "stdout",
     "output_type": "stream",
     "text": [
      "done\n",
      "\n",
      "done\n",
      "\n",
      "done\n",
      "\n"
     ]
    },
    {
     "name": "stderr",
     "output_type": "stream",
     "text": [
      "2036it [05:18, 10.98it/s]"
     ]
    },
    {
     "name": "stdout",
     "output_type": "stream",
     "text": [
      "done\n",
      "\n",
      "done\n",
      "\n",
      "done\n",
      "\n",
      "done\n",
      "\n"
     ]
    },
    {
     "name": "stderr",
     "output_type": "stream",
     "text": [
      "2038it [05:19,  8.04it/s]"
     ]
    },
    {
     "name": "stdout",
     "output_type": "stream",
     "text": [
      "done\n",
      "\n",
      "done\n",
      "\n",
      "done\n",
      "\n"
     ]
    },
    {
     "name": "stderr",
     "output_type": "stream",
     "text": [
      "2041it [05:19,  7.41it/s]"
     ]
    },
    {
     "name": "stdout",
     "output_type": "stream",
     "text": [
      "done\n",
      "\n"
     ]
    },
    {
     "name": "stderr",
     "output_type": "stream",
     "text": [
      "2043it [05:20,  6.75it/s]"
     ]
    },
    {
     "name": "stdout",
     "output_type": "stream",
     "text": [
      "done\n",
      "\n",
      "done\n",
      "\n",
      "done\n",
      "\n"
     ]
    },
    {
     "name": "stderr",
     "output_type": "stream",
     "text": [
      "2046it [05:20,  6.39it/s]"
     ]
    },
    {
     "name": "stdout",
     "output_type": "stream",
     "text": [
      "done\n",
      "\n",
      "done\n",
      "\n"
     ]
    },
    {
     "name": "stderr",
     "output_type": "stream",
     "text": [
      "2048it [05:20,  7.07it/s]"
     ]
    },
    {
     "name": "stdout",
     "output_type": "stream",
     "text": [
      "done\n",
      "\n",
      "done\n",
      "\n"
     ]
    },
    {
     "name": "stderr",
     "output_type": "stream",
     "text": [
      "2049it [05:21,  5.52it/s]"
     ]
    },
    {
     "name": "stdout",
     "output_type": "stream",
     "text": [
      "done\n",
      "\n",
      "done\n",
      "\n"
     ]
    },
    {
     "name": "stderr",
     "output_type": "stream",
     "text": [
      "2053it [05:21,  7.95it/s]"
     ]
    },
    {
     "name": "stdout",
     "output_type": "stream",
     "text": [
      "done\n",
      "\n",
      "done\n",
      "\n",
      "done\n",
      "\n",
      "done\n",
      "\n"
     ]
    },
    {
     "name": "stderr",
     "output_type": "stream",
     "text": [
      "2055it [05:21,  6.53it/s]"
     ]
    },
    {
     "name": "stdout",
     "output_type": "stream",
     "text": [
      "done\n",
      "\n"
     ]
    },
    {
     "name": "stderr",
     "output_type": "stream",
     "text": [
      "2056it [05:22,  5.33it/s]"
     ]
    },
    {
     "name": "stdout",
     "output_type": "stream",
     "text": [
      "done\n",
      "\n",
      "done\n",
      "\n"
     ]
    },
    {
     "name": "stderr",
     "output_type": "stream",
     "text": [
      "2058it [05:22,  6.10it/s]"
     ]
    },
    {
     "name": "stdout",
     "output_type": "stream",
     "text": [
      "done\n",
      "\n"
     ]
    },
    {
     "name": "stderr",
     "output_type": "stream",
     "text": [
      "2059it [05:22,  5.01it/s]"
     ]
    },
    {
     "name": "stdout",
     "output_type": "stream",
     "text": [
      "done\n",
      "\n"
     ]
    },
    {
     "name": "stderr",
     "output_type": "stream",
     "text": [
      "2060it [05:23,  4.15it/s]"
     ]
    },
    {
     "name": "stdout",
     "output_type": "stream",
     "text": [
      "done\n",
      "\n",
      "done\n",
      "\n"
     ]
    },
    {
     "name": "stderr",
     "output_type": "stream",
     "text": [
      "2062it [05:23,  5.16it/s]"
     ]
    },
    {
     "name": "stdout",
     "output_type": "stream",
     "text": [
      "done\n",
      "\n"
     ]
    },
    {
     "name": "stderr",
     "output_type": "stream",
     "text": [
      "2064it [05:23,  4.95it/s]"
     ]
    },
    {
     "name": "stdout",
     "output_type": "stream",
     "text": [
      "done\n",
      "\n",
      "done\n",
      "\n"
     ]
    },
    {
     "name": "stderr",
     "output_type": "stream",
     "text": [
      "2065it [05:24,  5.67it/s]"
     ]
    },
    {
     "name": "stdout",
     "output_type": "stream",
     "text": [
      "done\n",
      "\n",
      "done\n",
      "\n",
      "done\n",
      "\n"
     ]
    },
    {
     "name": "stderr",
     "output_type": "stream",
     "text": [
      "2071it [05:24,  9.78it/s]"
     ]
    },
    {
     "name": "stdout",
     "output_type": "stream",
     "text": [
      "done\n",
      "\n",
      "done\n",
      "\n",
      "done\n",
      "\n",
      "done\n",
      "\n"
     ]
    },
    {
     "name": "stderr",
     "output_type": "stream",
     "text": [
      "2073it [05:25,  4.77it/s]"
     ]
    },
    {
     "name": "stdout",
     "output_type": "stream",
     "text": [
      "done\n",
      "\n",
      "done\n",
      "\n",
      "done\n",
      "\n"
     ]
    },
    {
     "name": "stderr",
     "output_type": "stream",
     "text": [
      "2076it [05:25,  6.83it/s]"
     ]
    },
    {
     "name": "stdout",
     "output_type": "stream",
     "text": [
      "done\n",
      "\n",
      "done\n",
      "\n",
      "done\n",
      "\n",
      "done\n",
      "\n"
     ]
    },
    {
     "name": "stderr",
     "output_type": "stream",
     "text": [
      "2081it [05:25,  9.52it/s]"
     ]
    },
    {
     "name": "stdout",
     "output_type": "stream",
     "text": [
      "done\n",
      "\n",
      "done\n",
      "\n",
      "done\n",
      "\n",
      "done\n",
      "\n"
     ]
    },
    {
     "name": "stderr",
     "output_type": "stream",
     "text": [
      "2086it [05:26, 12.28it/s]"
     ]
    },
    {
     "name": "stdout",
     "output_type": "stream",
     "text": [
      "done\n",
      "\n",
      "done\n",
      "\n",
      "done\n",
      "\n",
      "done\n",
      "\n"
     ]
    },
    {
     "name": "stderr",
     "output_type": "stream",
     "text": [
      "2090it [05:26, 12.39it/s]"
     ]
    },
    {
     "name": "stdout",
     "output_type": "stream",
     "text": [
      "done\n",
      "\n",
      "done\n",
      "\n",
      "done\n",
      "\n",
      "done\n",
      "\n"
     ]
    },
    {
     "name": "stderr",
     "output_type": "stream",
     "text": [
      "2092it [05:26,  9.62it/s]"
     ]
    },
    {
     "name": "stdout",
     "output_type": "stream",
     "text": [
      "done\n",
      "\n",
      "done\n",
      "\n"
     ]
    },
    {
     "name": "stderr",
     "output_type": "stream",
     "text": [
      "2097it [05:27,  9.77it/s]"
     ]
    },
    {
     "name": "stdout",
     "output_type": "stream",
     "text": [
      "done\n",
      "\n",
      "done\n",
      "\n",
      "done\n",
      "\n",
      "done\n",
      "\n",
      "done\n",
      "\n"
     ]
    },
    {
     "name": "stderr",
     "output_type": "stream",
     "text": [
      "2099it [05:27, 10.46it/s]"
     ]
    },
    {
     "name": "stdout",
     "output_type": "stream",
     "text": [
      "done\n",
      "\n",
      "done\n",
      "\n",
      "done\n",
      "\n"
     ]
    },
    {
     "name": "stderr",
     "output_type": "stream",
     "text": [
      "2101it [05:27,  8.60it/s]"
     ]
    },
    {
     "name": "stdout",
     "output_type": "stream",
     "text": [
      "done\n",
      "\n",
      "done\n",
      "\n"
     ]
    },
    {
     "name": "stderr",
     "output_type": "stream",
     "text": [
      "2105it [05:28,  9.44it/s]"
     ]
    },
    {
     "name": "stdout",
     "output_type": "stream",
     "text": [
      "done\n",
      "\n",
      "done\n",
      "\n",
      "done\n",
      "\n",
      "done\n",
      "\n"
     ]
    },
    {
     "name": "stderr",
     "output_type": "stream",
     "text": [
      "2107it [05:28, 10.52it/s]"
     ]
    },
    {
     "name": "stdout",
     "output_type": "stream",
     "text": [
      "done\n",
      "\n"
     ]
    },
    {
     "name": "stderr",
     "output_type": "stream",
     "text": [
      "2109it [05:28,  7.12it/s]"
     ]
    },
    {
     "name": "stdout",
     "output_type": "stream",
     "text": [
      "done\n",
      "\n",
      "done\n",
      "\n"
     ]
    },
    {
     "name": "stderr",
     "output_type": "stream",
     "text": [
      "2112it [05:29,  6.32it/s]"
     ]
    },
    {
     "name": "stdout",
     "output_type": "stream",
     "text": [
      "done\n",
      "\n",
      "done\n",
      "\n",
      "done\n",
      "\n",
      "done\n",
      "\n"
     ]
    },
    {
     "name": "stderr",
     "output_type": "stream",
     "text": [
      "2114it [05:29,  6.12it/s]"
     ]
    },
    {
     "name": "stdout",
     "output_type": "stream",
     "text": [
      "done\n",
      "\n"
     ]
    },
    {
     "name": "stderr",
     "output_type": "stream",
     "text": [
      "2117it [05:30,  7.67it/s]"
     ]
    },
    {
     "name": "stdout",
     "output_type": "stream",
     "text": [
      "done\n",
      "\n",
      "done\n",
      "\n",
      "done\n",
      "\n",
      "done\n",
      "\n"
     ]
    },
    {
     "name": "stderr",
     "output_type": "stream",
     "text": [
      "2122it [05:30, 12.71it/s]"
     ]
    },
    {
     "name": "stdout",
     "output_type": "stream",
     "text": [
      "done\n",
      "\n",
      "done\n",
      "\n",
      "done\n",
      "\n",
      "done\n",
      "\n"
     ]
    },
    {
     "name": "stderr",
     "output_type": "stream",
     "text": [
      "2124it [05:30, 10.18it/s]"
     ]
    },
    {
     "name": "stdout",
     "output_type": "stream",
     "text": [
      "done\n",
      "\n",
      "done\n",
      "\n",
      "done\n",
      "\n"
     ]
    },
    {
     "name": "stderr",
     "output_type": "stream",
     "text": [
      "2126it [05:30, 10.73it/s]"
     ]
    },
    {
     "name": "stdout",
     "output_type": "stream",
     "text": [
      "done\n",
      "\n",
      "done\n",
      "\n",
      "done\n",
      "\n"
     ]
    },
    {
     "name": "stderr",
     "output_type": "stream",
     "text": [
      "2131it [05:31, 10.73it/s]"
     ]
    },
    {
     "name": "stdout",
     "output_type": "stream",
     "text": [
      "done\n",
      "\n",
      "done\n",
      "\n",
      "done\n",
      "\n"
     ]
    },
    {
     "name": "stderr",
     "output_type": "stream",
     "text": [
      "2133it [05:31, 11.70it/s]"
     ]
    },
    {
     "name": "stdout",
     "output_type": "stream",
     "text": [
      "done\n",
      "\n",
      "done\n",
      "\n"
     ]
    },
    {
     "name": "stderr",
     "output_type": "stream",
     "text": [
      "2135it [05:31,  7.66it/s]"
     ]
    },
    {
     "name": "stdout",
     "output_type": "stream",
     "text": [
      "done\n",
      "\n",
      "done\n",
      "\n",
      "done\n",
      "\n"
     ]
    },
    {
     "name": "stderr",
     "output_type": "stream",
     "text": [
      "2137it [05:33,  3.49it/s]"
     ]
    },
    {
     "name": "stdout",
     "output_type": "stream",
     "text": [
      "done\n",
      "\n",
      "done\n",
      "\n"
     ]
    },
    {
     "name": "stderr",
     "output_type": "stream",
     "text": [
      "2139it [05:33,  3.82it/s]"
     ]
    },
    {
     "name": "stdout",
     "output_type": "stream",
     "text": [
      "done\n",
      "\n"
     ]
    },
    {
     "name": "stderr",
     "output_type": "stream",
     "text": [
      "2140it [05:34,  3.76it/s]"
     ]
    },
    {
     "name": "stdout",
     "output_type": "stream",
     "text": [
      "done\n",
      "\n",
      "done\n",
      "\n",
      "done\n",
      "\n"
     ]
    },
    {
     "name": "stderr",
     "output_type": "stream",
     "text": [
      "2143it [05:34,  5.19it/s]"
     ]
    },
    {
     "name": "stdout",
     "output_type": "stream",
     "text": [
      "done\n",
      "\n"
     ]
    },
    {
     "name": "stderr",
     "output_type": "stream",
     "text": [
      "2144it [05:34,  4.79it/s]"
     ]
    },
    {
     "name": "stdout",
     "output_type": "stream",
     "text": [
      "done\n",
      "\n"
     ]
    },
    {
     "name": "stderr",
     "output_type": "stream",
     "text": [
      "2147it [05:35,  5.35it/s]"
     ]
    },
    {
     "name": "stdout",
     "output_type": "stream",
     "text": [
      "done\n",
      "\n",
      "done\n",
      "\n",
      "done\n",
      "\n"
     ]
    },
    {
     "name": "stderr",
     "output_type": "stream",
     "text": [
      "2150it [05:35,  7.15it/s]"
     ]
    },
    {
     "name": "stdout",
     "output_type": "stream",
     "text": [
      "done\n",
      "\n",
      "done\n",
      "\n",
      "done\n",
      "\n"
     ]
    },
    {
     "name": "stderr",
     "output_type": "stream",
     "text": [
      "2151it [05:35,  7.38it/s]"
     ]
    },
    {
     "name": "stdout",
     "output_type": "stream",
     "text": [
      "done\n",
      "\n"
     ]
    },
    {
     "name": "stderr",
     "output_type": "stream",
     "text": [
      "2152it [05:35,  6.02it/s]"
     ]
    },
    {
     "name": "stdout",
     "output_type": "stream",
     "text": [
      "done\n",
      "\n",
      "done\n",
      "\n",
      "done\n",
      "\n"
     ]
    },
    {
     "name": "stderr",
     "output_type": "stream",
     "text": [
      "2155it [05:36,  6.38it/s]"
     ]
    },
    {
     "name": "stdout",
     "output_type": "stream",
     "text": [
      "done\n",
      "\n",
      "done\n",
      "\n",
      "done\n",
      "\n"
     ]
    },
    {
     "name": "stderr",
     "output_type": "stream",
     "text": [
      "2160it [05:37,  6.63it/s]"
     ]
    },
    {
     "name": "stdout",
     "output_type": "stream",
     "text": [
      "done\n",
      "\n",
      "done\n",
      "\n",
      "done\n",
      "\n",
      "done\n",
      "\n"
     ]
    },
    {
     "name": "stderr",
     "output_type": "stream",
     "text": [
      "2164it [05:37,  8.87it/s]"
     ]
    },
    {
     "name": "stdout",
     "output_type": "stream",
     "text": [
      "done\n",
      "\n",
      "done\n",
      "\n",
      "done\n",
      "\n",
      "done\n",
      "\n"
     ]
    },
    {
     "name": "stderr",
     "output_type": "stream",
     "text": [
      "2170it [05:37, 14.07it/s]"
     ]
    },
    {
     "name": "stdout",
     "output_type": "stream",
     "text": [
      "done\n",
      "\n",
      "done\n",
      "\n",
      "done\n",
      "\n",
      "done\n",
      "\n",
      "done\n",
      "\n",
      "done\n",
      "\n"
     ]
    },
    {
     "name": "stderr",
     "output_type": "stream",
     "text": [
      "2174it [05:38, 12.32it/s]"
     ]
    },
    {
     "name": "stdout",
     "output_type": "stream",
     "text": [
      "done\n",
      "\n",
      "done\n",
      "\n",
      "done\n",
      "\n",
      "done\n",
      "\n"
     ]
    },
    {
     "name": "stderr",
     "output_type": "stream",
     "text": [
      "2176it [05:38,  7.18it/s]"
     ]
    },
    {
     "name": "stdout",
     "output_type": "stream",
     "text": [
      "done\n",
      "\n",
      "done\n",
      "\n"
     ]
    },
    {
     "name": "stderr",
     "output_type": "stream",
     "text": [
      "2178it [05:38,  7.64it/s]"
     ]
    },
    {
     "name": "stdout",
     "output_type": "stream",
     "text": [
      "done\n",
      "\n",
      "done\n",
      "\n"
     ]
    },
    {
     "name": "stderr",
     "output_type": "stream",
     "text": [
      "2181it [05:39,  7.28it/s]"
     ]
    },
    {
     "name": "stdout",
     "output_type": "stream",
     "text": [
      "done\n",
      "\n",
      "done\n",
      "\n"
     ]
    },
    {
     "name": "stderr",
     "output_type": "stream",
     "text": [
      "2183it [05:39,  5.47it/s]"
     ]
    },
    {
     "name": "stdout",
     "output_type": "stream",
     "text": [
      "done\n",
      "\n",
      "done\n",
      "\n"
     ]
    },
    {
     "name": "stderr",
     "output_type": "stream",
     "text": [
      "2186it [05:40,  7.65it/s]"
     ]
    },
    {
     "name": "stdout",
     "output_type": "stream",
     "text": [
      "done\n",
      "\n",
      "done\n",
      "\n",
      "done\n",
      "\n"
     ]
    },
    {
     "name": "stderr",
     "output_type": "stream",
     "text": [
      "2187it [05:40,  7.33it/s]"
     ]
    },
    {
     "name": "stdout",
     "output_type": "stream",
     "text": [
      "done\n",
      "\n"
     ]
    },
    {
     "name": "stderr",
     "output_type": "stream",
     "text": [
      "2188it [05:40,  6.19it/s]"
     ]
    },
    {
     "name": "stdout",
     "output_type": "stream",
     "text": [
      "done\n",
      "\n"
     ]
    },
    {
     "name": "stderr",
     "output_type": "stream",
     "text": [
      "2191it [05:41,  6.35it/s]"
     ]
    },
    {
     "name": "stdout",
     "output_type": "stream",
     "text": [
      "done\n",
      "\n",
      "done\n",
      "\n",
      "done\n",
      "\n"
     ]
    },
    {
     "name": "stderr",
     "output_type": "stream",
     "text": [
      "2192it [05:41,  6.27it/s]"
     ]
    },
    {
     "name": "stdout",
     "output_type": "stream",
     "text": [
      "done\n",
      "\n",
      "done\n",
      "\n",
      "done\n",
      "\n"
     ]
    },
    {
     "name": "stderr",
     "output_type": "stream",
     "text": [
      "2195it [05:41,  8.49it/s]"
     ]
    },
    {
     "name": "stdout",
     "output_type": "stream",
     "text": [
      "done\n",
      "\n",
      "done\n",
      "\n"
     ]
    },
    {
     "name": "stderr",
     "output_type": "stream",
     "text": [
      "2197it [05:41,  8.21it/s]"
     ]
    },
    {
     "name": "stdout",
     "output_type": "stream",
     "text": [
      "done\n",
      "\n"
     ]
    },
    {
     "name": "stderr",
     "output_type": "stream",
     "text": [
      "2198it [05:42,  6.56it/s]"
     ]
    },
    {
     "name": "stdout",
     "output_type": "stream",
     "text": [
      "done\n",
      "\n",
      "done\n",
      "\n"
     ]
    },
    {
     "name": "stderr",
     "output_type": "stream",
     "text": [
      "2200it [05:42,  6.01it/s]"
     ]
    },
    {
     "name": "stdout",
     "output_type": "stream",
     "text": [
      "done\n",
      "\n",
      "done\n",
      "\n"
     ]
    },
    {
     "name": "stderr",
     "output_type": "stream",
     "text": [
      "2205it [05:42,  9.62it/s]"
     ]
    },
    {
     "name": "stdout",
     "output_type": "stream",
     "text": [
      "done\n",
      "\n",
      "done\n",
      "\n",
      "done\n",
      "\n",
      "done\n",
      "\n",
      "done\n",
      "\n"
     ]
    },
    {
     "name": "stderr",
     "output_type": "stream",
     "text": [
      "2207it [05:43,  5.76it/s]"
     ]
    },
    {
     "name": "stdout",
     "output_type": "stream",
     "text": [
      "done\n",
      "\n"
     ]
    },
    {
     "name": "stderr",
     "output_type": "stream",
     "text": [
      "2208it [05:43,  5.58it/s]"
     ]
    },
    {
     "name": "stdout",
     "output_type": "stream",
     "text": [
      "done\n",
      "\n",
      "done\n",
      "\n",
      "done\n",
      "\n"
     ]
    },
    {
     "name": "stderr",
     "output_type": "stream",
     "text": [
      "2211it [05:44,  6.62it/s]"
     ]
    },
    {
     "name": "stdout",
     "output_type": "stream",
     "text": [
      "done\n",
      "\n"
     ]
    },
    {
     "name": "stderr",
     "output_type": "stream",
     "text": [
      "2214it [05:44,  7.33it/s]"
     ]
    },
    {
     "name": "stdout",
     "output_type": "stream",
     "text": [
      "done\n",
      "\n",
      "done\n",
      "\n",
      "done\n",
      "\n"
     ]
    },
    {
     "name": "stderr",
     "output_type": "stream",
     "text": [
      "2215it [05:44,  7.57it/s]"
     ]
    },
    {
     "name": "stdout",
     "output_type": "stream",
     "text": [
      "done\n",
      "\n"
     ]
    },
    {
     "name": "stderr",
     "output_type": "stream",
     "text": [
      "2219it [05:45,  4.93it/s]"
     ]
    },
    {
     "name": "stdout",
     "output_type": "stream",
     "text": [
      "done\n",
      "\n",
      "done\n",
      "\n",
      "done\n",
      "\n",
      "done\n",
      "\n",
      "done\n",
      "\n"
     ]
    },
    {
     "name": "stderr",
     "output_type": "stream",
     "text": [
      "2222it [05:45,  7.22it/s]"
     ]
    },
    {
     "name": "stdout",
     "output_type": "stream",
     "text": [
      "done\n",
      "\n",
      "done\n",
      "\n",
      "done\n",
      "\n"
     ]
    },
    {
     "name": "stderr",
     "output_type": "stream",
     "text": [
      "2224it [05:46,  6.72it/s]"
     ]
    },
    {
     "name": "stdout",
     "output_type": "stream",
     "text": [
      "done\n",
      "\n"
     ]
    },
    {
     "name": "stderr",
     "output_type": "stream",
     "text": [
      "2226it [05:46,  6.27it/s]"
     ]
    },
    {
     "name": "stdout",
     "output_type": "stream",
     "text": [
      "done\n",
      "\n",
      "done\n",
      "\n"
     ]
    },
    {
     "name": "stderr",
     "output_type": "stream",
     "text": [
      "2229it [05:47,  6.79it/s]"
     ]
    },
    {
     "name": "stdout",
     "output_type": "stream",
     "text": [
      "done\n",
      "\n",
      "done\n",
      "\n",
      "done\n",
      "\n",
      "done\n",
      "\n"
     ]
    },
    {
     "name": "stderr",
     "output_type": "stream",
     "text": [
      "2231it [05:47,  6.80it/s]"
     ]
    },
    {
     "name": "stdout",
     "output_type": "stream",
     "text": [
      "done\n",
      "\n",
      "done\n",
      "\n"
     ]
    },
    {
     "name": "stderr",
     "output_type": "stream",
     "text": [
      "2233it [05:47,  7.26it/s]"
     ]
    },
    {
     "name": "stdout",
     "output_type": "stream",
     "text": [
      "done\n",
      "\n",
      "done\n",
      "\n",
      "done\n",
      "\n"
     ]
    },
    {
     "name": "stderr",
     "output_type": "stream",
     "text": [
      "2238it [05:48,  8.25it/s]"
     ]
    },
    {
     "name": "stdout",
     "output_type": "stream",
     "text": [
      "done\n",
      "\n",
      "done\n",
      "\n",
      "done\n",
      "\n",
      "done\n",
      "\n"
     ]
    },
    {
     "name": "stderr",
     "output_type": "stream",
     "text": [
      "2242it [05:48, 11.10it/s]"
     ]
    },
    {
     "name": "stdout",
     "output_type": "stream",
     "text": [
      "done\n",
      "\n",
      "done\n",
      "\n",
      "done\n",
      "\n"
     ]
    },
    {
     "name": "stderr",
     "output_type": "stream",
     "text": [
      "2244it [05:48,  9.12it/s]"
     ]
    },
    {
     "name": "stdout",
     "output_type": "stream",
     "text": [
      "done\n",
      "\n",
      "done\n",
      "\n",
      "done\n",
      "\n"
     ]
    },
    {
     "name": "stderr",
     "output_type": "stream",
     "text": [
      "2248it [05:49,  7.36it/s]"
     ]
    },
    {
     "name": "stdout",
     "output_type": "stream",
     "text": [
      "done\n",
      "\n",
      "done\n",
      "\n",
      "done\n",
      "\n",
      "done\n",
      "\n"
     ]
    },
    {
     "name": "stderr",
     "output_type": "stream",
     "text": [
      "2251it [05:49,  9.89it/s]"
     ]
    },
    {
     "name": "stdout",
     "output_type": "stream",
     "text": [
      "done\n",
      "\n",
      "done\n",
      "\n",
      "done\n",
      "\n"
     ]
    },
    {
     "name": "stderr",
     "output_type": "stream",
     "text": [
      "2255it [05:50,  8.43it/s]"
     ]
    },
    {
     "name": "stdout",
     "output_type": "stream",
     "text": [
      "done\n",
      "\n",
      "done\n",
      "\n",
      "done\n",
      "\n"
     ]
    },
    {
     "name": "stderr",
     "output_type": "stream",
     "text": [
      "2260it [05:50, 11.41it/s]"
     ]
    },
    {
     "name": "stdout",
     "output_type": "stream",
     "text": [
      "done\n",
      "\n",
      "done\n",
      "\n",
      "done\n",
      "\n",
      "done\n",
      "\n",
      "done\n",
      "\n",
      "done\n",
      "\n"
     ]
    },
    {
     "name": "stderr",
     "output_type": "stream",
     "text": [
      "2262it [05:51,  7.15it/s]"
     ]
    },
    {
     "name": "stdout",
     "output_type": "stream",
     "text": [
      "done\n",
      "\n",
      "done\n",
      "\n"
     ]
    },
    {
     "name": "stderr",
     "output_type": "stream",
     "text": [
      "2264it [05:51,  6.51it/s]"
     ]
    },
    {
     "name": "stdout",
     "output_type": "stream",
     "text": [
      "done\n",
      "\n",
      "done\n",
      "\n",
      "done\n",
      "\n"
     ]
    },
    {
     "name": "stderr",
     "output_type": "stream",
     "text": [
      "2270it [05:52,  8.68it/s]"
     ]
    },
    {
     "name": "stdout",
     "output_type": "stream",
     "text": [
      "done\n",
      "\n",
      "done\n",
      "\n",
      "done\n",
      "\n",
      "done\n",
      "\n",
      "done\n",
      "\n"
     ]
    },
    {
     "name": "stderr",
     "output_type": "stream",
     "text": [
      "2274it [05:52,  9.85it/s]"
     ]
    },
    {
     "name": "stdout",
     "output_type": "stream",
     "text": [
      "done\n",
      "\n",
      "done\n",
      "\n",
      "done\n",
      "\n",
      "done\n",
      "\n",
      "done\n",
      "\n"
     ]
    },
    {
     "name": "stderr",
     "output_type": "stream",
     "text": [
      "2277it [05:52, 10.09it/s]"
     ]
    },
    {
     "name": "stdout",
     "output_type": "stream",
     "text": [
      "done\n",
      "\n",
      "done\n",
      "\n"
     ]
    },
    {
     "name": "stderr",
     "output_type": "stream",
     "text": [
      "2279it [05:52,  9.19it/s]"
     ]
    },
    {
     "name": "stdout",
     "output_type": "stream",
     "text": [
      "done\n",
      "\n",
      "done\n",
      "\n",
      "done\n",
      "\n"
     ]
    },
    {
     "name": "stderr",
     "output_type": "stream",
     "text": [
      "2281it [05:53,  9.39it/s]"
     ]
    },
    {
     "name": "stdout",
     "output_type": "stream",
     "text": [
      "done\n",
      "\n"
     ]
    },
    {
     "name": "stderr",
     "output_type": "stream",
     "text": [
      "2283it [05:53,  8.36it/s]"
     ]
    },
    {
     "name": "stdout",
     "output_type": "stream",
     "text": [
      "done\n",
      "\n",
      "done\n",
      "\n"
     ]
    },
    {
     "name": "stderr",
     "output_type": "stream",
     "text": [
      "2285it [05:53,  8.35it/s]"
     ]
    },
    {
     "name": "stdout",
     "output_type": "stream",
     "text": [
      "done\n",
      "\n"
     ]
    },
    {
     "name": "stderr",
     "output_type": "stream",
     "text": [
      "2286it [05:53,  6.66it/s]"
     ]
    },
    {
     "name": "stdout",
     "output_type": "stream",
     "text": [
      "done\n",
      "\n",
      "done\n",
      "\n"
     ]
    },
    {
     "name": "stderr",
     "output_type": "stream",
     "text": [
      "2290it [05:54,  5.53it/s]"
     ]
    },
    {
     "name": "stdout",
     "output_type": "stream",
     "text": [
      "done\n",
      "\n",
      "done\n",
      "\n",
      "done\n",
      "\n"
     ]
    },
    {
     "name": "stderr",
     "output_type": "stream",
     "text": [
      "2291it [05:55,  4.86it/s]"
     ]
    },
    {
     "name": "stdout",
     "output_type": "stream",
     "text": [
      "done\n",
      "\n"
     ]
    },
    {
     "name": "stderr",
     "output_type": "stream",
     "text": [
      "2294it [05:55,  6.53it/s]"
     ]
    },
    {
     "name": "stdout",
     "output_type": "stream",
     "text": [
      "done\n",
      "\n",
      "done\n",
      "\n",
      "done\n",
      "\n",
      "done\n",
      "\n",
      "done\n",
      "\n"
     ]
    },
    {
     "name": "stderr",
     "output_type": "stream",
     "text": [
      "2300it [05:55, 12.28it/s]"
     ]
    },
    {
     "name": "stdout",
     "output_type": "stream",
     "text": [
      "done\n",
      "\n",
      "done\n",
      "\n",
      "done\n",
      "\n",
      "done\n",
      "\n",
      "done\n",
      "\n"
     ]
    },
    {
     "name": "stderr",
     "output_type": "stream",
     "text": [
      "2303it [05:55, 14.75it/s]"
     ]
    },
    {
     "name": "stdout",
     "output_type": "stream",
     "text": [
      "done\n",
      "\n",
      "done\n",
      "\n",
      "done\n",
      "\n",
      "done\n",
      "\n"
     ]
    },
    {
     "name": "stderr",
     "output_type": "stream",
     "text": [
      "2306it [05:56, 15.72it/s]"
     ]
    },
    {
     "name": "stdout",
     "output_type": "stream",
     "text": [
      "done\n",
      "\n"
     ]
    },
    {
     "name": "stderr",
     "output_type": "stream",
     "text": [
      "2308it [05:56, 12.82it/s]"
     ]
    },
    {
     "name": "stdout",
     "output_type": "stream",
     "text": [
      "done\n",
      "\n",
      "done\n",
      "\n",
      "done\n",
      "\n"
     ]
    },
    {
     "name": "stderr",
     "output_type": "stream",
     "text": [
      "2310it [05:56, 11.75it/s]"
     ]
    },
    {
     "name": "stdout",
     "output_type": "stream",
     "text": [
      "done\n",
      "\n"
     ]
    },
    {
     "name": "stderr",
     "output_type": "stream",
     "text": [
      "2312it [05:57,  5.02it/s]"
     ]
    },
    {
     "name": "stdout",
     "output_type": "stream",
     "text": [
      "done\n",
      "\n",
      "done\n",
      "\n",
      "done\n",
      "\n"
     ]
    },
    {
     "name": "stderr",
     "output_type": "stream",
     "text": [
      "2314it [05:57,  5.06it/s]"
     ]
    },
    {
     "name": "stdout",
     "output_type": "stream",
     "text": [
      "done\n",
      "\n",
      "done\n",
      "\n",
      "done\n",
      "\n"
     ]
    },
    {
     "name": "stderr",
     "output_type": "stream",
     "text": [
      "2319it [05:58,  7.05it/s]"
     ]
    },
    {
     "name": "stdout",
     "output_type": "stream",
     "text": [
      "done\n",
      "\n",
      "done\n",
      "\n",
      "done\n",
      "\n",
      "done\n",
      "\n",
      "done\n",
      "\n"
     ]
    },
    {
     "name": "stderr",
     "output_type": "stream",
     "text": [
      "2323it [05:59,  6.98it/s]"
     ]
    },
    {
     "name": "stdout",
     "output_type": "stream",
     "text": [
      "done\n",
      "\n",
      "done\n",
      "\n",
      "done\n",
      "\n"
     ]
    },
    {
     "name": "stderr",
     "output_type": "stream",
     "text": [
      "2326it [05:59,  5.86it/s]"
     ]
    },
    {
     "name": "stdout",
     "output_type": "stream",
     "text": [
      "done\n",
      "\n",
      "done\n",
      "\n"
     ]
    },
    {
     "name": "stderr",
     "output_type": "stream",
     "text": [
      "2328it [05:59,  6.53it/s]"
     ]
    },
    {
     "name": "stdout",
     "output_type": "stream",
     "text": [
      "done\n",
      "\n",
      "done\n",
      "\n",
      "done\n",
      "\n",
      "done\n",
      "\n"
     ]
    },
    {
     "name": "stderr",
     "output_type": "stream",
     "text": [
      "2332it [06:00,  7.08it/s]"
     ]
    },
    {
     "name": "stdout",
     "output_type": "stream",
     "text": [
      "done\n",
      "\n",
      "done\n",
      "\n",
      "done\n",
      "\n"
     ]
    },
    {
     "name": "stderr",
     "output_type": "stream",
     "text": [
      "2335it [06:00, 10.24it/s]"
     ]
    },
    {
     "name": "stdout",
     "output_type": "stream",
     "text": [
      "done\n",
      "\n",
      "done\n",
      "\n"
     ]
    },
    {
     "name": "stderr",
     "output_type": "stream",
     "text": [
      "2337it [06:01,  7.74it/s]"
     ]
    },
    {
     "name": "stdout",
     "output_type": "stream",
     "text": [
      "done\n",
      "\n",
      "done\n",
      "\n"
     ]
    },
    {
     "name": "stderr",
     "output_type": "stream",
     "text": [
      "2340it [06:01,  9.05it/s]"
     ]
    },
    {
     "name": "stdout",
     "output_type": "stream",
     "text": [
      "done\n",
      "\n",
      "done\n",
      "\n",
      "done\n",
      "\n"
     ]
    },
    {
     "name": "stderr",
     "output_type": "stream",
     "text": [
      "2342it [06:01,  9.98it/s]"
     ]
    },
    {
     "name": "stdout",
     "output_type": "stream",
     "text": [
      "done\n",
      "\n",
      "done\n",
      "\n",
      "done\n",
      "\n"
     ]
    },
    {
     "name": "stderr",
     "output_type": "stream",
     "text": [
      "2344it [06:01, 10.85it/s]"
     ]
    },
    {
     "name": "stdout",
     "output_type": "stream",
     "text": [
      "done\n",
      "\n",
      "done\n",
      "\n",
      "done\n",
      "\n"
     ]
    },
    {
     "name": "stderr",
     "output_type": "stream",
     "text": [
      "2347it [06:01, 10.80it/s]"
     ]
    },
    {
     "name": "stdout",
     "output_type": "stream",
     "text": [
      "done\n",
      "\n",
      "done\n",
      "\n",
      "done\n",
      "\n"
     ]
    },
    {
     "name": "stderr",
     "output_type": "stream",
     "text": [
      "2350it [06:02,  8.72it/s]"
     ]
    },
    {
     "name": "stdout",
     "output_type": "stream",
     "text": [
      "done\n",
      "\n"
     ]
    },
    {
     "name": "stderr",
     "output_type": "stream",
     "text": [
      "2352it [06:03,  5.68it/s]"
     ]
    },
    {
     "name": "stdout",
     "output_type": "stream",
     "text": [
      "done\n",
      "\n",
      "done\n",
      "\n"
     ]
    },
    {
     "name": "stderr",
     "output_type": "stream",
     "text": [
      "2355it [06:03,  6.92it/s]"
     ]
    },
    {
     "name": "stdout",
     "output_type": "stream",
     "text": [
      "done\n",
      "\n",
      "done\n",
      "\n",
      "done\n",
      "\n",
      "done\n",
      "\n"
     ]
    },
    {
     "name": "stderr",
     "output_type": "stream",
     "text": [
      "2357it [06:03,  7.50it/s]"
     ]
    },
    {
     "name": "stdout",
     "output_type": "stream",
     "text": [
      "done\n",
      "\n"
     ]
    },
    {
     "name": "stderr",
     "output_type": "stream",
     "text": [
      "2360it [06:04,  6.15it/s]"
     ]
    },
    {
     "name": "stdout",
     "output_type": "stream",
     "text": [
      "done\n",
      "\n",
      "done\n",
      "\n",
      "done\n",
      "\n"
     ]
    },
    {
     "name": "stderr",
     "output_type": "stream",
     "text": [
      "2361it [06:05,  3.62it/s]"
     ]
    },
    {
     "name": "stdout",
     "output_type": "stream",
     "text": [
      "done\n",
      "\n"
     ]
    },
    {
     "name": "stderr",
     "output_type": "stream",
     "text": [
      "2363it [06:05,  3.83it/s]"
     ]
    },
    {
     "name": "stdout",
     "output_type": "stream",
     "text": [
      "done\n",
      "\n",
      "done\n",
      "\n",
      "done\n",
      "\n"
     ]
    },
    {
     "name": "stderr",
     "output_type": "stream",
     "text": [
      "2366it [06:05,  5.22it/s]"
     ]
    },
    {
     "name": "stdout",
     "output_type": "stream",
     "text": [
      "done\n",
      "\n",
      "done\n",
      "\n",
      "done\n",
      "\n"
     ]
    },
    {
     "name": "stderr",
     "output_type": "stream",
     "text": [
      "2368it [06:06,  6.45it/s]"
     ]
    },
    {
     "name": "stdout",
     "output_type": "stream",
     "text": [
      "done\n",
      "\n"
     ]
    },
    {
     "name": "stderr",
     "output_type": "stream",
     "text": [
      "2371it [06:06,  7.13it/s]"
     ]
    },
    {
     "name": "stdout",
     "output_type": "stream",
     "text": [
      "done\n",
      "\n",
      "done\n",
      "\n",
      "done\n",
      "\n"
     ]
    },
    {
     "name": "stderr",
     "output_type": "stream",
     "text": [
      "2373it [06:06,  7.53it/s]"
     ]
    },
    {
     "name": "stdout",
     "output_type": "stream",
     "text": [
      "done\n",
      "\n",
      "done\n",
      "\n",
      "done\n",
      "\n"
     ]
    },
    {
     "name": "stderr",
     "output_type": "stream",
     "text": [
      "2375it [06:07,  6.28it/s]"
     ]
    },
    {
     "name": "stdout",
     "output_type": "stream",
     "text": [
      "done\n",
      "\n"
     ]
    },
    {
     "name": "stderr",
     "output_type": "stream",
     "text": [
      "2376it [06:07,  4.89it/s]"
     ]
    },
    {
     "name": "stdout",
     "output_type": "stream",
     "text": [
      "done\n",
      "\n",
      "done\n",
      "\n"
     ]
    },
    {
     "name": "stderr",
     "output_type": "stream",
     "text": [
      "2378it [06:07,  5.63it/s]"
     ]
    },
    {
     "name": "stdout",
     "output_type": "stream",
     "text": [
      "done\n",
      "\n"
     ]
    },
    {
     "name": "stderr",
     "output_type": "stream",
     "text": [
      "2379it [06:08,  4.17it/s]"
     ]
    },
    {
     "name": "stdout",
     "output_type": "stream",
     "text": [
      "done\n",
      "\n"
     ]
    },
    {
     "name": "stderr",
     "output_type": "stream",
     "text": [
      "2380it [06:08,  3.97it/s]"
     ]
    },
    {
     "name": "stdout",
     "output_type": "stream",
     "text": [
      "done\n",
      "\n",
      "done\n",
      "\n"
     ]
    },
    {
     "name": "stderr",
     "output_type": "stream",
     "text": [
      "2382it [06:08,  4.83it/s]"
     ]
    },
    {
     "name": "stdout",
     "output_type": "stream",
     "text": [
      "done\n",
      "\n"
     ]
    },
    {
     "name": "stderr",
     "output_type": "stream",
     "text": [
      "2383it [06:09,  4.69it/s]"
     ]
    },
    {
     "name": "stdout",
     "output_type": "stream",
     "text": [
      "done\n",
      "\n"
     ]
    },
    {
     "name": "stderr",
     "output_type": "stream",
     "text": [
      "2385it [06:09,  5.34it/s]"
     ]
    },
    {
     "name": "stdout",
     "output_type": "stream",
     "text": [
      "done\n",
      "\n",
      "done\n",
      "\n",
      "done\n",
      "\n",
      "done\n",
      "\n"
     ]
    },
    {
     "name": "stderr",
     "output_type": "stream",
     "text": [
      "2388it [06:09,  6.73it/s]"
     ]
    },
    {
     "name": "stdout",
     "output_type": "stream",
     "text": [
      "done\n",
      "\n",
      "done\n",
      "\n",
      "done\n",
      "\n"
     ]
    },
    {
     "name": "stderr",
     "output_type": "stream",
     "text": [
      "2391it [06:10,  8.77it/s]"
     ]
    },
    {
     "name": "stdout",
     "output_type": "stream",
     "text": [
      "done\n",
      "\n"
     ]
    },
    {
     "name": "stderr",
     "output_type": "stream",
     "text": [
      "2393it [06:10,  5.55it/s]"
     ]
    },
    {
     "name": "stdout",
     "output_type": "stream",
     "text": [
      "done\n",
      "\n",
      "done\n",
      "\n"
     ]
    },
    {
     "name": "stderr",
     "output_type": "stream",
     "text": [
      "2396it [06:10,  8.54it/s]"
     ]
    },
    {
     "name": "stdout",
     "output_type": "stream",
     "text": [
      "done\n",
      "\n",
      "done\n",
      "\n",
      "done\n",
      "\n",
      "done\n",
      "\n",
      "done\n",
      "\n"
     ]
    },
    {
     "name": "stderr",
     "output_type": "stream",
     "text": [
      "2401it [06:11, 10.82it/s]"
     ]
    },
    {
     "name": "stdout",
     "output_type": "stream",
     "text": [
      "done\n",
      "\n",
      "done\n",
      "\n",
      "done\n",
      "\n",
      "done\n",
      "\n"
     ]
    },
    {
     "name": "stderr",
     "output_type": "stream",
     "text": [
      "2406it [06:11, 14.44it/s]"
     ]
    },
    {
     "name": "stdout",
     "output_type": "stream",
     "text": [
      "done\n",
      "\n",
      "done\n",
      "\n",
      "done\n",
      "\n",
      "done\n",
      "\n",
      "done\n",
      "\n"
     ]
    },
    {
     "name": "stderr",
     "output_type": "stream",
     "text": [
      "2409it [06:11, 16.41it/s]"
     ]
    },
    {
     "name": "stdout",
     "output_type": "stream",
     "text": [
      "done\n",
      "\n",
      "done\n",
      "\n",
      "done\n",
      "\n"
     ]
    },
    {
     "name": "stderr",
     "output_type": "stream",
     "text": [
      "2411it [06:12,  9.55it/s]"
     ]
    },
    {
     "name": "stdout",
     "output_type": "stream",
     "text": [
      "done\n",
      "\n",
      "done\n",
      "\n"
     ]
    },
    {
     "name": "stderr",
     "output_type": "stream",
     "text": [
      "2415it [06:12,  8.57it/s]"
     ]
    },
    {
     "name": "stdout",
     "output_type": "stream",
     "text": [
      "done\n",
      "\n",
      "done\n",
      "\n",
      "done\n",
      "\n"
     ]
    },
    {
     "name": "stderr",
     "output_type": "stream",
     "text": [
      "2418it [06:12, 10.09it/s]"
     ]
    },
    {
     "name": "stdout",
     "output_type": "stream",
     "text": [
      "done\n",
      "\n",
      "done\n",
      "\n",
      "done\n",
      "\n"
     ]
    },
    {
     "name": "stderr",
     "output_type": "stream",
     "text": [
      "2420it [06:12, 10.79it/s]"
     ]
    },
    {
     "name": "stdout",
     "output_type": "stream",
     "text": [
      "done\n",
      "\n",
      "done\n",
      "\n"
     ]
    },
    {
     "name": "stderr",
     "output_type": "stream",
     "text": [
      "2422it [06:13, 11.20it/s]"
     ]
    },
    {
     "name": "stdout",
     "output_type": "stream",
     "text": [
      "done\n",
      "\n",
      "done\n",
      "\n"
     ]
    },
    {
     "name": "stderr",
     "output_type": "stream",
     "text": [
      "2424it [06:13,  8.14it/s]"
     ]
    },
    {
     "name": "stdout",
     "output_type": "stream",
     "text": [
      "done\n",
      "\n",
      "done\n",
      "\n",
      "done\n",
      "\n"
     ]
    },
    {
     "name": "stderr",
     "output_type": "stream",
     "text": [
      "2426it [06:13,  9.65it/s]"
     ]
    },
    {
     "name": "stdout",
     "output_type": "stream",
     "text": [
      "done\n",
      "\n",
      "done\n",
      "\n"
     ]
    },
    {
     "name": "stderr",
     "output_type": "stream",
     "text": [
      "2428it [06:14,  5.65it/s]"
     ]
    },
    {
     "name": "stdout",
     "output_type": "stream",
     "text": [
      "done\n",
      "\n",
      "done\n",
      "\n"
     ]
    },
    {
     "name": "stderr",
     "output_type": "stream",
     "text": [
      "2431it [06:15,  4.92it/s]"
     ]
    },
    {
     "name": "stdout",
     "output_type": "stream",
     "text": [
      "done\n",
      "\n",
      "done\n",
      "\n"
     ]
    },
    {
     "name": "stderr",
     "output_type": "stream",
     "text": [
      "2432it [06:15,  5.10it/s]"
     ]
    },
    {
     "name": "stdout",
     "output_type": "stream",
     "text": [
      "done\n",
      "\n",
      "done\n",
      "\n"
     ]
    },
    {
     "name": "stderr",
     "output_type": "stream",
     "text": [
      "2434it [06:15,  5.39it/s]"
     ]
    },
    {
     "name": "stdout",
     "output_type": "stream",
     "text": [
      "done\n",
      "\n"
     ]
    },
    {
     "name": "stderr",
     "output_type": "stream",
     "text": [
      "2438it [06:16,  7.41it/s]"
     ]
    },
    {
     "name": "stdout",
     "output_type": "stream",
     "text": [
      "done\n",
      "\n",
      "done\n",
      "\n",
      "done\n",
      "\n",
      "done\n",
      "\n",
      "done\n",
      "\n"
     ]
    },
    {
     "name": "stderr",
     "output_type": "stream",
     "text": [
      "2441it [06:16,  9.91it/s]"
     ]
    },
    {
     "name": "stdout",
     "output_type": "stream",
     "text": [
      "done\n",
      "\n",
      "done\n",
      "\n",
      "done\n",
      "\n"
     ]
    },
    {
     "name": "stderr",
     "output_type": "stream",
     "text": [
      "2445it [06:16, 10.46it/s]"
     ]
    },
    {
     "name": "stdout",
     "output_type": "stream",
     "text": [
      "done\n",
      "\n",
      "done\n",
      "\n",
      "done\n",
      "\n"
     ]
    },
    {
     "name": "stderr",
     "output_type": "stream",
     "text": [
      "2447it [06:16, 10.65it/s]"
     ]
    },
    {
     "name": "stdout",
     "output_type": "stream",
     "text": [
      "done\n",
      "\n",
      "done\n",
      "\n",
      "done\n",
      "\n"
     ]
    },
    {
     "name": "stderr",
     "output_type": "stream",
     "text": [
      "2451it [06:17,  9.73it/s]"
     ]
    },
    {
     "name": "stdout",
     "output_type": "stream",
     "text": [
      "done\n",
      "\n",
      "done\n",
      "\n",
      "done\n",
      "\n",
      "done\n",
      "\n",
      "done\n",
      "\n"
     ]
    },
    {
     "name": "stderr",
     "output_type": "stream",
     "text": [
      "2454it [06:17,  7.89it/s]"
     ]
    },
    {
     "name": "stdout",
     "output_type": "stream",
     "text": [
      "done\n",
      "\n",
      "done\n",
      "\n"
     ]
    },
    {
     "name": "stderr",
     "output_type": "stream",
     "text": [
      "2456it [06:18,  7.09it/s]"
     ]
    },
    {
     "name": "stdout",
     "output_type": "stream",
     "text": [
      "done\n",
      "\n",
      "done\n",
      "\n",
      "done\n",
      "\n"
     ]
    },
    {
     "name": "stderr",
     "output_type": "stream",
     "text": [
      "2459it [06:18,  6.98it/s]"
     ]
    },
    {
     "name": "stdout",
     "output_type": "stream",
     "text": [
      "done\n",
      "\n"
     ]
    },
    {
     "name": "stderr",
     "output_type": "stream",
     "text": [
      "2463it [06:19,  6.90it/s]"
     ]
    },
    {
     "name": "stdout",
     "output_type": "stream",
     "text": [
      "done\n",
      "\n",
      "done\n",
      "\n",
      "done\n",
      "\n",
      "done\n",
      "\n"
     ]
    },
    {
     "name": "stderr",
     "output_type": "stream",
     "text": [
      "2464it [06:19,  6.57it/s]"
     ]
    },
    {
     "name": "stdout",
     "output_type": "stream",
     "text": [
      "done\n",
      "\n"
     ]
    },
    {
     "name": "stderr",
     "output_type": "stream",
     "text": [
      "2467it [06:19,  7.58it/s]"
     ]
    },
    {
     "name": "stdout",
     "output_type": "stream",
     "text": [
      "done\n",
      "\n",
      "done\n",
      "\n",
      "done\n",
      "\n"
     ]
    },
    {
     "name": "stderr",
     "output_type": "stream",
     "text": [
      "2469it [06:19,  9.00it/s]"
     ]
    },
    {
     "name": "stdout",
     "output_type": "stream",
     "text": [
      "done\n",
      "\n",
      "done\n",
      "\n",
      "done\n",
      "\n"
     ]
    },
    {
     "name": "stderr",
     "output_type": "stream",
     "text": [
      "2471it [06:20,  8.96it/s]"
     ]
    },
    {
     "name": "stdout",
     "output_type": "stream",
     "text": [
      "done\n",
      "\n"
     ]
    },
    {
     "name": "stderr",
     "output_type": "stream",
     "text": [
      "2473it [06:20,  6.37it/s]"
     ]
    },
    {
     "name": "stdout",
     "output_type": "stream",
     "text": [
      "done\n",
      "\n",
      "done\n",
      "\n",
      "done\n",
      "\n"
     ]
    },
    {
     "name": "stderr",
     "output_type": "stream",
     "text": [
      "2475it [06:21,  5.72it/s]"
     ]
    },
    {
     "name": "stdout",
     "output_type": "stream",
     "text": [
      "done\n",
      "\n",
      "done\n",
      "\n",
      "done\n",
      "\n"
     ]
    },
    {
     "name": "stderr",
     "output_type": "stream",
     "text": [
      "2481it [06:22,  5.55it/s]"
     ]
    },
    {
     "name": "stdout",
     "output_type": "stream",
     "text": [
      "done\n",
      "\n",
      "done\n",
      "\n",
      "done\n",
      "\n",
      "done\n",
      "\n"
     ]
    },
    {
     "name": "stderr",
     "output_type": "stream",
     "text": [
      "2486it [06:22,  8.81it/s]"
     ]
    },
    {
     "name": "stdout",
     "output_type": "stream",
     "text": [
      "done\n",
      "\n",
      "done\n",
      "\n",
      "done\n",
      "\n",
      "done\n",
      "\n",
      "done\n",
      "\n"
     ]
    },
    {
     "name": "stderr",
     "output_type": "stream",
     "text": [
      "2489it [06:22, 10.98it/s]"
     ]
    },
    {
     "name": "stdout",
     "output_type": "stream",
     "text": [
      "done\n",
      "\n",
      "done\n",
      "\n",
      "done\n",
      "\n",
      "done\n",
      "\n"
     ]
    },
    {
     "name": "stderr",
     "output_type": "stream",
     "text": [
      "2491it [06:22, 11.62it/s]"
     ]
    },
    {
     "name": "stdout",
     "output_type": "stream",
     "text": [
      "done\n",
      "\n",
      "done\n",
      "\n"
     ]
    },
    {
     "name": "stderr",
     "output_type": "stream",
     "text": [
      "2493it [06:23,  9.86it/s]"
     ]
    },
    {
     "name": "stdout",
     "output_type": "stream",
     "text": [
      "done\n",
      "\n",
      "done\n",
      "\n"
     ]
    },
    {
     "name": "stderr",
     "output_type": "stream",
     "text": [
      "2495it [06:23,  6.81it/s]"
     ]
    },
    {
     "name": "stdout",
     "output_type": "stream",
     "text": [
      "done\n",
      "\n",
      "done\n",
      "\n"
     ]
    },
    {
     "name": "stderr",
     "output_type": "stream",
     "text": [
      "2497it [06:24,  7.24it/s]"
     ]
    },
    {
     "name": "stdout",
     "output_type": "stream",
     "text": [
      "done\n",
      "\n",
      "done\n",
      "\n"
     ]
    },
    {
     "name": "stderr",
     "output_type": "stream",
     "text": [
      "2500it [06:24,  7.09it/s]"
     ]
    },
    {
     "name": "stdout",
     "output_type": "stream",
     "text": [
      "done\n",
      "\n",
      "done\n",
      "\n"
     ]
    },
    {
     "name": "stderr",
     "output_type": "stream",
     "text": [
      "2501it [06:24,  7.01it/s]"
     ]
    },
    {
     "name": "stdout",
     "output_type": "stream",
     "text": [
      "done\n",
      "\n"
     ]
    },
    {
     "name": "stderr",
     "output_type": "stream",
     "text": [
      "2503it [06:25,  4.26it/s]"
     ]
    },
    {
     "name": "stdout",
     "output_type": "stream",
     "text": [
      "done\n",
      "\n",
      "done\n",
      "\n"
     ]
    },
    {
     "name": "stderr",
     "output_type": "stream",
     "text": [
      "2506it [06:25,  6.72it/s]"
     ]
    },
    {
     "name": "stdout",
     "output_type": "stream",
     "text": [
      "done\n",
      "\n",
      "done\n",
      "\n",
      "done\n",
      "\n"
     ]
    },
    {
     "name": "stderr",
     "output_type": "stream",
     "text": [
      "2507it [06:25,  6.68it/s]"
     ]
    },
    {
     "name": "stdout",
     "output_type": "stream",
     "text": [
      "done\n",
      "\n"
     ]
    },
    {
     "name": "stderr",
     "output_type": "stream",
     "text": [
      "2508it [06:26,  5.20it/s]"
     ]
    },
    {
     "name": "stdout",
     "output_type": "stream",
     "text": [
      "done\n",
      "\n"
     ]
    },
    {
     "name": "stderr",
     "output_type": "stream",
     "text": [
      "2510it [06:26,  5.11it/s]"
     ]
    },
    {
     "name": "stdout",
     "output_type": "stream",
     "text": [
      "done\n",
      "\n",
      "done\n",
      "\n"
     ]
    },
    {
     "name": "stderr",
     "output_type": "stream",
     "text": [
      "2512it [06:26,  6.58it/s]"
     ]
    },
    {
     "name": "stdout",
     "output_type": "stream",
     "text": [
      "done\n",
      "\n",
      "done\n",
      "\n",
      "done\n",
      "\n",
      "done\n",
      "\n"
     ]
    },
    {
     "name": "stderr",
     "output_type": "stream",
     "text": [
      "2515it [06:26, 10.11it/s]"
     ]
    },
    {
     "name": "stdout",
     "output_type": "stream",
     "text": [
      "done\n",
      "\n",
      "done\n",
      "\n"
     ]
    },
    {
     "name": "stderr",
     "output_type": "stream",
     "text": [
      "2517it [06:27,  9.78it/s]"
     ]
    },
    {
     "name": "stdout",
     "output_type": "stream",
     "text": [
      "done\n",
      "\n"
     ]
    },
    {
     "name": "stderr",
     "output_type": "stream",
     "text": [
      "2519it [06:27,  8.66it/s]"
     ]
    },
    {
     "name": "stdout",
     "output_type": "stream",
     "text": [
      "done\n",
      "\n",
      "done\n",
      "\n"
     ]
    },
    {
     "name": "stderr",
     "output_type": "stream",
     "text": [
      "2522it [06:27,  7.76it/s]"
     ]
    },
    {
     "name": "stdout",
     "output_type": "stream",
     "text": [
      "done\n",
      "\n",
      "done\n",
      "\n",
      "done\n",
      "\n"
     ]
    },
    {
     "name": "stderr",
     "output_type": "stream",
     "text": [
      "2524it [06:28,  9.75it/s]"
     ]
    },
    {
     "name": "stdout",
     "output_type": "stream",
     "text": [
      "done\n",
      "\n",
      "done\n",
      "\n",
      "done\n",
      "\n"
     ]
    },
    {
     "name": "stderr",
     "output_type": "stream",
     "text": [
      "2526it [06:28,  6.46it/s]"
     ]
    },
    {
     "name": "stdout",
     "output_type": "stream",
     "text": [
      "done\n",
      "\n"
     ]
    },
    {
     "name": "stderr",
     "output_type": "stream",
     "text": [
      "2528it [06:29,  5.59it/s]"
     ]
    },
    {
     "name": "stdout",
     "output_type": "stream",
     "text": [
      "done\n",
      "\n",
      "done\n",
      "\n",
      "done\n",
      "\n"
     ]
    },
    {
     "name": "stderr",
     "output_type": "stream",
     "text": [
      "2531it [06:29,  7.31it/s]"
     ]
    },
    {
     "name": "stdout",
     "output_type": "stream",
     "text": [
      "done\n",
      "\n",
      "done\n",
      "\n"
     ]
    },
    {
     "name": "stderr",
     "output_type": "stream",
     "text": [
      "2534it [06:29,  7.96it/s]"
     ]
    },
    {
     "name": "stdout",
     "output_type": "stream",
     "text": [
      "done\n",
      "\n",
      "done\n",
      "\n",
      "done\n",
      "\n",
      "done\n",
      "\n"
     ]
    },
    {
     "name": "stderr",
     "output_type": "stream",
     "text": [
      "2539it [06:30,  6.98it/s]"
     ]
    },
    {
     "name": "stdout",
     "output_type": "stream",
     "text": [
      "done\n",
      "\n",
      "done\n",
      "\n",
      "done\n",
      "\n",
      "done\n",
      "\n",
      "done\n",
      "\n",
      "done\n",
      "\n"
     ]
    },
    {
     "name": "stderr",
     "output_type": "stream",
     "text": [
      "2542it [06:30,  9.54it/s]"
     ]
    },
    {
     "name": "stdout",
     "output_type": "stream",
     "text": [
      "done\n",
      "\n",
      "done\n",
      "\n"
     ]
    },
    {
     "name": "stderr",
     "output_type": "stream",
     "text": [
      "2544it [06:31,  8.38it/s]"
     ]
    },
    {
     "name": "stdout",
     "output_type": "stream",
     "text": [
      "done\n",
      "\n",
      "done\n",
      "\n"
     ]
    },
    {
     "name": "stderr",
     "output_type": "stream",
     "text": [
      "2546it [06:31,  8.47it/s]"
     ]
    },
    {
     "name": "stdout",
     "output_type": "stream",
     "text": [
      "done\n",
      "\n",
      "done\n",
      "\n"
     ]
    },
    {
     "name": "stderr",
     "output_type": "stream",
     "text": [
      "2548it [06:31,  7.84it/s]"
     ]
    },
    {
     "name": "stdout",
     "output_type": "stream",
     "text": [
      "done\n",
      "\n",
      "done\n",
      "\n",
      "done\n",
      "\n"
     ]
    },
    {
     "name": "stderr",
     "output_type": "stream",
     "text": [
      "2551it [06:32,  7.37it/s]"
     ]
    },
    {
     "name": "stdout",
     "output_type": "stream",
     "text": [
      "done\n",
      "\n",
      "done\n",
      "\n"
     ]
    },
    {
     "name": "stderr",
     "output_type": "stream",
     "text": [
      "2553it [06:32,  7.56it/s]"
     ]
    },
    {
     "name": "stdout",
     "output_type": "stream",
     "text": [
      "done\n",
      "\n",
      "done\n",
      "\n",
      "done\n",
      "\n"
     ]
    },
    {
     "name": "stderr",
     "output_type": "stream",
     "text": [
      "2557it [06:32,  7.89it/s]"
     ]
    },
    {
     "name": "stdout",
     "output_type": "stream",
     "text": [
      "done\n",
      "\n",
      "done\n",
      "\n",
      "done\n",
      "\n",
      "done\n",
      "\n"
     ]
    },
    {
     "name": "stderr",
     "output_type": "stream",
     "text": [
      "2562it [06:33, 12.02it/s]"
     ]
    },
    {
     "name": "stdout",
     "output_type": "stream",
     "text": [
      "done\n",
      "\n",
      "done\n",
      "\n",
      "done\n",
      "\n"
     ]
    },
    {
     "name": "stderr",
     "output_type": "stream",
     "text": [
      "2564it [06:33,  8.91it/s]"
     ]
    },
    {
     "name": "stdout",
     "output_type": "stream",
     "text": [
      "done\n",
      "\n",
      "done\n",
      "\n",
      "done\n",
      "\n"
     ]
    },
    {
     "name": "stderr",
     "output_type": "stream",
     "text": [
      "2568it [06:34,  7.90it/s]"
     ]
    },
    {
     "name": "stdout",
     "output_type": "stream",
     "text": [
      "done\n",
      "\n",
      "done\n",
      "\n",
      "done\n",
      "\n",
      "done\n",
      "\n"
     ]
    },
    {
     "name": "stderr",
     "output_type": "stream",
     "text": [
      "2571it [06:34,  9.86it/s]"
     ]
    },
    {
     "name": "stdout",
     "output_type": "stream",
     "text": [
      "done\n",
      "\n",
      "done\n",
      "\n",
      "done\n",
      "\n"
     ]
    },
    {
     "name": "stderr",
     "output_type": "stream",
     "text": [
      "2573it [06:34,  6.84it/s]"
     ]
    },
    {
     "name": "stdout",
     "output_type": "stream",
     "text": [
      "done\n",
      "\n",
      "done\n",
      "\n"
     ]
    },
    {
     "name": "stderr",
     "output_type": "stream",
     "text": [
      "2575it [06:34,  7.37it/s]"
     ]
    },
    {
     "name": "stdout",
     "output_type": "stream",
     "text": [
      "done\n",
      "\n"
     ]
    },
    {
     "name": "stderr",
     "output_type": "stream",
     "text": [
      "2579it [06:35,  8.90it/s]"
     ]
    },
    {
     "name": "stdout",
     "output_type": "stream",
     "text": [
      "done\n",
      "\n",
      "done\n",
      "\n",
      "done\n",
      "\n",
      "done\n",
      "\n",
      "done\n",
      "\n"
     ]
    },
    {
     "name": "stderr",
     "output_type": "stream",
     "text": [
      "2581it [06:35,  8.40it/s]"
     ]
    },
    {
     "name": "stdout",
     "output_type": "stream",
     "text": [
      "done\n",
      "\n"
     ]
    },
    {
     "name": "stderr",
     "output_type": "stream",
     "text": [
      "2583it [06:36,  6.53it/s]"
     ]
    },
    {
     "name": "stdout",
     "output_type": "stream",
     "text": [
      "done\n",
      "\n",
      "done\n",
      "\n"
     ]
    },
    {
     "name": "stderr",
     "output_type": "stream",
     "text": [
      "2584it [06:36,  5.93it/s]"
     ]
    },
    {
     "name": "stdout",
     "output_type": "stream",
     "text": [
      "done\n",
      "\n",
      "done\n",
      "\n",
      "done\n",
      "\n"
     ]
    },
    {
     "name": "stderr",
     "output_type": "stream",
     "text": [
      "2590it [06:36,  9.12it/s]"
     ]
    },
    {
     "name": "stdout",
     "output_type": "stream",
     "text": [
      "done\n",
      "\n",
      "done\n",
      "\n",
      "done\n",
      "\n",
      "done\n",
      "\n"
     ]
    },
    {
     "name": "stderr",
     "output_type": "stream",
     "text": [
      "2592it [06:37,  8.94it/s]"
     ]
    },
    {
     "name": "stdout",
     "output_type": "stream",
     "text": [
      "done\n",
      "\n",
      "done\n",
      "\n",
      "done\n",
      "\n"
     ]
    },
    {
     "name": "stderr",
     "output_type": "stream",
     "text": [
      "2594it [06:37,  9.42it/s]"
     ]
    },
    {
     "name": "stdout",
     "output_type": "stream",
     "text": [
      "done\n",
      "\n",
      "done\n",
      "\n",
      "done\n",
      "\n"
     ]
    },
    {
     "name": "stderr",
     "output_type": "stream",
     "text": [
      "2597it [06:37, 10.43it/s]"
     ]
    },
    {
     "name": "stdout",
     "output_type": "stream",
     "text": [
      "done\n",
      "\n",
      "done\n",
      "\n"
     ]
    },
    {
     "name": "stderr",
     "output_type": "stream",
     "text": [
      "2601it [06:37,  9.94it/s]"
     ]
    },
    {
     "name": "stdout",
     "output_type": "stream",
     "text": [
      "done\n",
      "\n",
      "done\n",
      "\n",
      "done\n",
      "\n"
     ]
    },
    {
     "name": "stderr",
     "output_type": "stream",
     "text": [
      "2603it [06:38,  9.46it/s]"
     ]
    },
    {
     "name": "stdout",
     "output_type": "stream",
     "text": [
      "done\n",
      "\n",
      "done\n",
      "\n",
      "done\n",
      "\n"
     ]
    },
    {
     "name": "stderr",
     "output_type": "stream",
     "text": [
      "2605it [06:38,  8.60it/s]"
     ]
    },
    {
     "name": "stdout",
     "output_type": "stream",
     "text": [
      "done\n",
      "\n"
     ]
    },
    {
     "name": "stderr",
     "output_type": "stream",
     "text": [
      "2606it [06:38,  7.31it/s]"
     ]
    },
    {
     "name": "stdout",
     "output_type": "stream",
     "text": [
      "done\n",
      "\n",
      "done\n",
      "\n"
     ]
    },
    {
     "name": "stderr",
     "output_type": "stream",
     "text": [
      "2608it [06:39,  6.85it/s]"
     ]
    },
    {
     "name": "stdout",
     "output_type": "stream",
     "text": [
      "done\n",
      "\n",
      "done\n",
      "\n",
      "done\n",
      "\n"
     ]
    },
    {
     "name": "stderr",
     "output_type": "stream",
     "text": [
      "2611it [06:39,  7.33it/s]"
     ]
    },
    {
     "name": "stdout",
     "output_type": "stream",
     "text": [
      "done\n",
      "\n"
     ]
    },
    {
     "name": "stderr",
     "output_type": "stream",
     "text": [
      "2615it [06:39,  8.73it/s]"
     ]
    },
    {
     "name": "stdout",
     "output_type": "stream",
     "text": [
      "done\n",
      "\n",
      "done\n",
      "\n",
      "done\n",
      "\n",
      "done\n",
      "\n",
      "done\n",
      "\n",
      "done\n",
      "\n"
     ]
    },
    {
     "name": "stderr",
     "output_type": "stream",
     "text": [
      "2621it [06:40, 13.52it/s]"
     ]
    },
    {
     "name": "stdout",
     "output_type": "stream",
     "text": [
      "done\n",
      "\n",
      "done\n",
      "\n",
      "done\n",
      "\n",
      "done\n",
      "\n",
      "done\n",
      "\n"
     ]
    },
    {
     "name": "stderr",
     "output_type": "stream",
     "text": [
      "2626it [06:40, 15.06it/s]"
     ]
    },
    {
     "name": "stdout",
     "output_type": "stream",
     "text": [
      "done\n",
      "\n",
      "done\n",
      "\n",
      "done\n",
      "\n",
      "done\n",
      "\n"
     ]
    },
    {
     "name": "stderr",
     "output_type": "stream",
     "text": [
      "2628it [06:40,  9.94it/s]"
     ]
    },
    {
     "name": "stdout",
     "output_type": "stream",
     "text": [
      "done\n",
      "\n",
      "done\n",
      "\n",
      "done\n",
      "\n"
     ]
    },
    {
     "name": "stderr",
     "output_type": "stream",
     "text": [
      "2630it [06:41,  9.51it/s]"
     ]
    },
    {
     "name": "stdout",
     "output_type": "stream",
     "text": [
      "done\n",
      "\n"
     ]
    },
    {
     "name": "stderr",
     "output_type": "stream",
     "text": [
      "2632it [06:42,  3.82it/s]"
     ]
    },
    {
     "name": "stdout",
     "output_type": "stream",
     "text": [
      "done\n",
      "\n",
      "done\n",
      "\n"
     ]
    },
    {
     "name": "stderr",
     "output_type": "stream",
     "text": [
      "2633it [06:42,  4.10it/s]"
     ]
    },
    {
     "name": "stdout",
     "output_type": "stream",
     "text": [
      "done\n",
      "\n"
     ]
    },
    {
     "name": "stderr",
     "output_type": "stream",
     "text": [
      "2636it [06:42,  5.44it/s]"
     ]
    },
    {
     "name": "stdout",
     "output_type": "stream",
     "text": [
      "done\n",
      "\n",
      "done\n",
      "\n",
      "done\n",
      "\n"
     ]
    },
    {
     "name": "stderr",
     "output_type": "stream",
     "text": [
      "2641it [06:43,  7.88it/s]"
     ]
    },
    {
     "name": "stdout",
     "output_type": "stream",
     "text": [
      "done\n",
      "\n",
      "done\n",
      "\n",
      "done\n",
      "\n",
      "done\n",
      "\n",
      "done\n",
      "\n",
      "done\n",
      "\n"
     ]
    },
    {
     "name": "stderr",
     "output_type": "stream",
     "text": [
      "2643it [06:44,  5.84it/s]"
     ]
    },
    {
     "name": "stdout",
     "output_type": "stream",
     "text": [
      "done\n",
      "\n",
      "done\n",
      "\n"
     ]
    },
    {
     "name": "stderr",
     "output_type": "stream",
     "text": [
      "2645it [06:44,  4.81it/s]"
     ]
    },
    {
     "name": "stdout",
     "output_type": "stream",
     "text": [
      "done\n",
      "\n"
     ]
    },
    {
     "name": "stderr",
     "output_type": "stream",
     "text": [
      "2647it [06:45,  4.91it/s]"
     ]
    },
    {
     "name": "stdout",
     "output_type": "stream",
     "text": [
      "done\n",
      "\n",
      "done\n",
      "\n"
     ]
    },
    {
     "name": "stderr",
     "output_type": "stream",
     "text": [
      "2649it [06:45,  5.91it/s]"
     ]
    },
    {
     "name": "stdout",
     "output_type": "stream",
     "text": [
      "done\n",
      "\n",
      "done\n",
      "\n",
      "done\n",
      "\n"
     ]
    },
    {
     "name": "stderr",
     "output_type": "stream",
     "text": [
      "2651it [06:45,  7.07it/s]"
     ]
    },
    {
     "name": "stdout",
     "output_type": "stream",
     "text": [
      "done\n",
      "\n"
     ]
    },
    {
     "name": "stderr",
     "output_type": "stream",
     "text": [
      "2655it [06:45,  9.76it/s]"
     ]
    },
    {
     "name": "stdout",
     "output_type": "stream",
     "text": [
      "done\n",
      "\n",
      "done\n",
      "\n",
      "done\n",
      "\n",
      "done\n",
      "\n"
     ]
    },
    {
     "name": "stderr",
     "output_type": "stream",
     "text": [
      "2657it [06:46,  7.13it/s]"
     ]
    },
    {
     "name": "stdout",
     "output_type": "stream",
     "text": [
      "done\n",
      "\n",
      "done\n",
      "\n"
     ]
    },
    {
     "name": "stderr",
     "output_type": "stream",
     "text": [
      "2660it [06:46,  8.59it/s]"
     ]
    },
    {
     "name": "stdout",
     "output_type": "stream",
     "text": [
      "done\n",
      "\n",
      "done\n",
      "\n",
      "done\n",
      "\n"
     ]
    },
    {
     "name": "stderr",
     "output_type": "stream",
     "text": [
      "2662it [06:46,  9.56it/s]"
     ]
    },
    {
     "name": "stdout",
     "output_type": "stream",
     "text": [
      "done\n",
      "\n",
      "done\n",
      "\n",
      "done\n",
      "\n"
     ]
    },
    {
     "name": "stderr",
     "output_type": "stream",
     "text": [
      "2666it [06:46, 11.76it/s]"
     ]
    },
    {
     "name": "stdout",
     "output_type": "stream",
     "text": [
      "done\n",
      "\n",
      "done\n",
      "\n",
      "done\n",
      "\n"
     ]
    },
    {
     "name": "stderr",
     "output_type": "stream",
     "text": [
      "2668it [06:47, 11.18it/s]"
     ]
    },
    {
     "name": "stdout",
     "output_type": "stream",
     "text": [
      "done\n",
      "\n",
      "done\n",
      "\n",
      "done\n",
      "\n"
     ]
    },
    {
     "name": "stderr",
     "output_type": "stream",
     "text": [
      "2670it [06:47,  7.85it/s]"
     ]
    },
    {
     "name": "stdout",
     "output_type": "stream",
     "text": [
      "done\n",
      "\n"
     ]
    },
    {
     "name": "stderr",
     "output_type": "stream",
     "text": [
      "2672it [06:47,  7.52it/s]"
     ]
    },
    {
     "name": "stdout",
     "output_type": "stream",
     "text": [
      "done\n",
      "\n",
      "done\n",
      "\n"
     ]
    },
    {
     "name": "stderr",
     "output_type": "stream",
     "text": [
      "2675it [06:48,  8.48it/s]"
     ]
    },
    {
     "name": "stdout",
     "output_type": "stream",
     "text": [
      "done\n",
      "\n",
      "done\n",
      "\n",
      "done\n",
      "\n",
      "done\n",
      "\n"
     ]
    },
    {
     "name": "stderr",
     "output_type": "stream",
     "text": [
      "2677it [06:48,  8.64it/s]"
     ]
    },
    {
     "name": "stdout",
     "output_type": "stream",
     "text": [
      "done\n",
      "\n"
     ]
    },
    {
     "name": "stderr",
     "output_type": "stream",
     "text": [
      "2680it [06:49,  7.03it/s]"
     ]
    },
    {
     "name": "stdout",
     "output_type": "stream",
     "text": [
      "done\n",
      "\n",
      "done\n",
      "\n",
      "done\n",
      "\n",
      "done\n",
      "\n"
     ]
    },
    {
     "name": "stderr",
     "output_type": "stream",
     "text": [
      "2683it [06:50,  4.49it/s]"
     ]
    },
    {
     "name": "stdout",
     "output_type": "stream",
     "text": [
      "done\n",
      "\n",
      "done\n",
      "\n"
     ]
    },
    {
     "name": "stderr",
     "output_type": "stream",
     "text": [
      "2685it [06:50,  5.40it/s]"
     ]
    },
    {
     "name": "stdout",
     "output_type": "stream",
     "text": [
      "done\n",
      "\n",
      "done\n",
      "\n"
     ]
    },
    {
     "name": "stderr",
     "output_type": "stream",
     "text": [
      "2686it [06:50,  5.23it/s]"
     ]
    },
    {
     "name": "stdout",
     "output_type": "stream",
     "text": [
      "done\n",
      "\n",
      "done\n",
      "\n"
     ]
    },
    {
     "name": "stderr",
     "output_type": "stream",
     "text": [
      "2688it [06:50,  5.46it/s]"
     ]
    },
    {
     "name": "stdout",
     "output_type": "stream",
     "text": [
      "done\n",
      "\n"
     ]
    },
    {
     "name": "stderr",
     "output_type": "stream",
     "text": [
      "2691it [06:51,  5.86it/s]"
     ]
    },
    {
     "name": "stdout",
     "output_type": "stream",
     "text": [
      "done\n",
      "\n",
      "done\n",
      "\n",
      "done\n",
      "\n"
     ]
    },
    {
     "name": "stderr",
     "output_type": "stream",
     "text": [
      "2693it [06:51,  7.25it/s]"
     ]
    },
    {
     "name": "stdout",
     "output_type": "stream",
     "text": [
      "done\n",
      "\n",
      "done\n",
      "\n",
      "done\n",
      "\n"
     ]
    },
    {
     "name": "stderr",
     "output_type": "stream",
     "text": [
      "2695it [06:51,  6.81it/s]"
     ]
    },
    {
     "name": "stdout",
     "output_type": "stream",
     "text": [
      "done\n",
      "\n"
     ]
    },
    {
     "name": "stderr",
     "output_type": "stream",
     "text": [
      "2696it [06:52,  4.92it/s]"
     ]
    },
    {
     "name": "stdout",
     "output_type": "stream",
     "text": [
      "done\n",
      "\n",
      "done\n",
      "\n"
     ]
    },
    {
     "name": "stderr",
     "output_type": "stream",
     "text": [
      "2698it [06:52,  5.56it/s]"
     ]
    },
    {
     "name": "stdout",
     "output_type": "stream",
     "text": [
      "done\n",
      "\n"
     ]
    },
    {
     "name": "stderr",
     "output_type": "stream",
     "text": [
      "2699it [06:53,  4.27it/s]"
     ]
    },
    {
     "name": "stdout",
     "output_type": "stream",
     "text": [
      "done\n",
      "\n"
     ]
    },
    {
     "name": "stderr",
     "output_type": "stream",
     "text": [
      "2700it [06:53,  3.82it/s]"
     ]
    },
    {
     "name": "stdout",
     "output_type": "stream",
     "text": [
      "done\n",
      "\n",
      "done\n",
      "\n"
     ]
    },
    {
     "name": "stderr",
     "output_type": "stream",
     "text": [
      "2702it [06:53,  4.74it/s]"
     ]
    },
    {
     "name": "stdout",
     "output_type": "stream",
     "text": [
      "done\n",
      "\n"
     ]
    },
    {
     "name": "stderr",
     "output_type": "stream",
     "text": [
      "2704it [06:54,  4.36it/s]"
     ]
    },
    {
     "name": "stdout",
     "output_type": "stream",
     "text": [
      "done\n",
      "\n",
      "done\n",
      "\n"
     ]
    },
    {
     "name": "stderr",
     "output_type": "stream",
     "text": [
      "2707it [06:54,  7.22it/s]"
     ]
    },
    {
     "name": "stdout",
     "output_type": "stream",
     "text": [
      "done\n",
      "\n",
      "done\n",
      "\n",
      "done\n",
      "\n"
     ]
    },
    {
     "name": "stderr",
     "output_type": "stream",
     "text": [
      "2709it [06:54,  5.29it/s]"
     ]
    },
    {
     "name": "stdout",
     "output_type": "stream",
     "text": [
      "done\n",
      "\n",
      "done\n",
      "\n"
     ]
    },
    {
     "name": "stderr",
     "output_type": "stream",
     "text": [
      "2711it [06:55,  6.39it/s]"
     ]
    },
    {
     "name": "stdout",
     "output_type": "stream",
     "text": [
      "done\n",
      "\n",
      "done\n",
      "\n"
     ]
    },
    {
     "name": "stderr",
     "output_type": "stream",
     "text": [
      "2713it [06:55,  4.68it/s]"
     ]
    },
    {
     "name": "stdout",
     "output_type": "stream",
     "text": [
      "done\n",
      "\n",
      "done\n",
      "\n"
     ]
    },
    {
     "name": "stderr",
     "output_type": "stream",
     "text": [
      "2718it [06:56,  9.75it/s]"
     ]
    },
    {
     "name": "stdout",
     "output_type": "stream",
     "text": [
      "done\n",
      "\n",
      "done\n",
      "\n",
      "done\n",
      "\n",
      "done\n",
      "\n",
      "done\n",
      "\n"
     ]
    },
    {
     "name": "stderr",
     "output_type": "stream",
     "text": [
      "2720it [06:56,  9.37it/s]"
     ]
    },
    {
     "name": "stdout",
     "output_type": "stream",
     "text": [
      "done\n",
      "\n",
      "done\n",
      "\n",
      "done\n",
      "\n"
     ]
    },
    {
     "name": "stderr",
     "output_type": "stream",
     "text": [
      "2725it [06:56, 13.70it/s]"
     ]
    },
    {
     "name": "stdout",
     "output_type": "stream",
     "text": [
      "done\n",
      "\n",
      "done\n",
      "\n",
      "done\n",
      "\n",
      "done\n",
      "\n",
      "done\n",
      "\n"
     ]
    },
    {
     "name": "stderr",
     "output_type": "stream",
     "text": [
      "2728it [06:56, 16.14it/s]"
     ]
    },
    {
     "name": "stdout",
     "output_type": "stream",
     "text": [
      "done\n",
      "\n",
      "done\n",
      "\n",
      "done\n",
      "\n"
     ]
    },
    {
     "name": "stderr",
     "output_type": "stream",
     "text": [
      "2730it [06:56, 12.11it/s]"
     ]
    },
    {
     "name": "stdout",
     "output_type": "stream",
     "text": [
      "done\n",
      "\n"
     ]
    },
    {
     "name": "stderr",
     "output_type": "stream",
     "text": [
      "2732it [06:57,  9.53it/s]"
     ]
    },
    {
     "name": "stdout",
     "output_type": "stream",
     "text": [
      "done\n",
      "\n",
      "done\n",
      "\n"
     ]
    },
    {
     "name": "stderr",
     "output_type": "stream",
     "text": [
      "2737it [06:57,  9.67it/s]"
     ]
    },
    {
     "name": "stdout",
     "output_type": "stream",
     "text": [
      "done\n",
      "\n",
      "done\n",
      "\n",
      "done\n",
      "\n",
      "done\n",
      "\n",
      "done\n",
      "\n"
     ]
    },
    {
     "name": "stderr",
     "output_type": "stream",
     "text": [
      "2739it [06:58, 10.20it/s]"
     ]
    },
    {
     "name": "stdout",
     "output_type": "stream",
     "text": [
      "done\n",
      "\n",
      "done\n",
      "\n",
      "done\n",
      "\n"
     ]
    },
    {
     "name": "stderr",
     "output_type": "stream",
     "text": [
      "2741it [06:58, 10.13it/s]"
     ]
    },
    {
     "name": "stdout",
     "output_type": "stream",
     "text": [
      "done\n",
      "\n",
      "done\n",
      "\n"
     ]
    },
    {
     "name": "stderr",
     "output_type": "stream",
     "text": [
      "2743it [06:58,  8.71it/s]"
     ]
    },
    {
     "name": "stdout",
     "output_type": "stream",
     "text": [
      "done\n",
      "\n",
      "done\n",
      "\n"
     ]
    },
    {
     "name": "stderr",
     "output_type": "stream",
     "text": [
      "2747it [06:58,  9.05it/s]"
     ]
    },
    {
     "name": "stdout",
     "output_type": "stream",
     "text": [
      "done\n",
      "\n",
      "done\n",
      "\n",
      "done\n",
      "\n"
     ]
    },
    {
     "name": "stderr",
     "output_type": "stream",
     "text": [
      "2749it [06:59,  6.50it/s]"
     ]
    },
    {
     "name": "stdout",
     "output_type": "stream",
     "text": [
      "done\n",
      "\n",
      "done\n",
      "\n"
     ]
    },
    {
     "name": "stderr",
     "output_type": "stream",
     "text": [
      "2751it [07:00,  4.06it/s]"
     ]
    },
    {
     "name": "stdout",
     "output_type": "stream",
     "text": [
      "done\n",
      "\n",
      "done\n",
      "\n"
     ]
    },
    {
     "name": "stderr",
     "output_type": "stream",
     "text": [
      "2752it [07:00,  4.67it/s]"
     ]
    },
    {
     "name": "stdout",
     "output_type": "stream",
     "text": [
      "done\n",
      "\n",
      "done\n",
      "\n"
     ]
    },
    {
     "name": "stderr",
     "output_type": "stream",
     "text": [
      "2755it [07:01,  5.00it/s]"
     ]
    },
    {
     "name": "stdout",
     "output_type": "stream",
     "text": [
      "done\n",
      "\n",
      "done\n",
      "\n"
     ]
    },
    {
     "name": "stderr",
     "output_type": "stream",
     "text": [
      "2758it [07:01,  8.02it/s]"
     ]
    },
    {
     "name": "stdout",
     "output_type": "stream",
     "text": [
      "done\n",
      "\n",
      "done\n",
      "\n",
      "done\n",
      "\n",
      "done\n",
      "\n",
      "done\n",
      "\n"
     ]
    },
    {
     "name": "stderr",
     "output_type": "stream",
     "text": [
      "2761it [07:01, 10.80it/s]"
     ]
    },
    {
     "name": "stdout",
     "output_type": "stream",
     "text": [
      "done\n",
      "\n",
      "done\n",
      "\n"
     ]
    },
    {
     "name": "stderr",
     "output_type": "stream",
     "text": [
      "2765it [07:01,  9.93it/s]"
     ]
    },
    {
     "name": "stdout",
     "output_type": "stream",
     "text": [
      "done\n",
      "\n",
      "done\n",
      "\n",
      "done\n",
      "\n"
     ]
    },
    {
     "name": "stderr",
     "output_type": "stream",
     "text": [
      "2767it [07:02,  8.32it/s]"
     ]
    },
    {
     "name": "stdout",
     "output_type": "stream",
     "text": [
      "done\n",
      "\n",
      "done\n",
      "\n",
      "done\n",
      "\n"
     ]
    },
    {
     "name": "stderr",
     "output_type": "stream",
     "text": [
      "2771it [07:02,  9.55it/s]"
     ]
    },
    {
     "name": "stdout",
     "output_type": "stream",
     "text": [
      "done\n",
      "\n",
      "done\n",
      "\n",
      "done\n",
      "\n",
      "done\n",
      "\n",
      "done\n",
      "\n"
     ]
    },
    {
     "name": "stderr",
     "output_type": "stream",
     "text": [
      "2774it [07:03,  6.59it/s]"
     ]
    },
    {
     "name": "stdout",
     "output_type": "stream",
     "text": [
      "done\n",
      "\n",
      "done\n",
      "\n"
     ]
    },
    {
     "name": "stderr",
     "output_type": "stream",
     "text": [
      "2776it [07:03,  6.32it/s]"
     ]
    },
    {
     "name": "stdout",
     "output_type": "stream",
     "text": [
      "done\n",
      "\n",
      "done\n",
      "\n",
      "done\n",
      "\n"
     ]
    },
    {
     "name": "stderr",
     "output_type": "stream",
     "text": [
      "2779it [07:04,  6.59it/s]"
     ]
    },
    {
     "name": "stdout",
     "output_type": "stream",
     "text": [
      "done\n",
      "\n"
     ]
    },
    {
     "name": "stderr",
     "output_type": "stream",
     "text": [
      "2780it [07:04,  5.49it/s]"
     ]
    },
    {
     "name": "stdout",
     "output_type": "stream",
     "text": [
      "done\n",
      "\n",
      "done\n",
      "\n",
      "done\n",
      "\n"
     ]
    },
    {
     "name": "stderr",
     "output_type": "stream",
     "text": [
      "2783it [07:04,  6.05it/s]"
     ]
    },
    {
     "name": "stdout",
     "output_type": "stream",
     "text": [
      "done\n",
      "\n"
     ]
    },
    {
     "name": "stderr",
     "output_type": "stream",
     "text": [
      "2784it [07:05,  5.59it/s]"
     ]
    },
    {
     "name": "stdout",
     "output_type": "stream",
     "text": [
      "done\n",
      "\n"
     ]
    },
    {
     "name": "stderr",
     "output_type": "stream",
     "text": [
      "2785it [07:05,  5.08it/s]"
     ]
    },
    {
     "name": "stdout",
     "output_type": "stream",
     "text": [
      "done\n",
      "\n",
      "done\n",
      "\n"
     ]
    },
    {
     "name": "stderr",
     "output_type": "stream",
     "text": [
      "2789it [07:05,  7.36it/s]"
     ]
    },
    {
     "name": "stdout",
     "output_type": "stream",
     "text": [
      "done\n",
      "\n",
      "done\n",
      "\n",
      "done\n",
      "\n"
     ]
    },
    {
     "name": "stderr",
     "output_type": "stream",
     "text": [
      "2791it [07:06,  6.91it/s]"
     ]
    },
    {
     "name": "stdout",
     "output_type": "stream",
     "text": [
      "done\n",
      "\n",
      "done\n",
      "\n"
     ]
    },
    {
     "name": "stderr",
     "output_type": "stream",
     "text": [
      "2792it [07:06,  5.42it/s]"
     ]
    },
    {
     "name": "stdout",
     "output_type": "stream",
     "text": [
      "done\n",
      "\n",
      "done\n",
      "\n",
      "done\n",
      "\n"
     ]
    },
    {
     "name": "stderr",
     "output_type": "stream",
     "text": [
      "2795it [07:06,  5.41it/s]"
     ]
    },
    {
     "name": "stdout",
     "output_type": "stream",
     "text": [
      "done\n",
      "\n",
      "done\n",
      "\n",
      "done\n",
      "\n"
     ]
    },
    {
     "name": "stderr",
     "output_type": "stream",
     "text": [
      "2801it [07:07,  6.00it/s]"
     ]
    },
    {
     "name": "stdout",
     "output_type": "stream",
     "text": [
      "done\n",
      "\n",
      "done\n",
      "\n",
      "done\n",
      "\n",
      "done\n",
      "\n"
     ]
    },
    {
     "name": "stderr",
     "output_type": "stream",
     "text": [
      "2806it [07:08,  9.24it/s]"
     ]
    },
    {
     "name": "stdout",
     "output_type": "stream",
     "text": [
      "done\n",
      "\n",
      "done\n",
      "\n",
      "done\n",
      "\n",
      "done\n",
      "\n",
      "done\n",
      "\n"
     ]
    },
    {
     "name": "stderr",
     "output_type": "stream",
     "text": [
      "2809it [07:08, 11.54it/s]"
     ]
    },
    {
     "name": "stdout",
     "output_type": "stream",
     "text": [
      "done\n",
      "\n",
      "done\n",
      "\n",
      "done\n",
      "\n",
      "done\n",
      "\n"
     ]
    },
    {
     "name": "stderr",
     "output_type": "stream",
     "text": [
      "2811it [07:08, 11.89it/s]"
     ]
    },
    {
     "name": "stdout",
     "output_type": "stream",
     "text": [
      "done\n",
      "\n",
      "done\n",
      "\n"
     ]
    },
    {
     "name": "stderr",
     "output_type": "stream",
     "text": [
      "2813it [07:08, 10.13it/s]"
     ]
    },
    {
     "name": "stdout",
     "output_type": "stream",
     "text": [
      "done\n",
      "\n",
      "done\n",
      "\n"
     ]
    },
    {
     "name": "stderr",
     "output_type": "stream",
     "text": [
      "2815it [07:09,  8.18it/s]"
     ]
    },
    {
     "name": "stdout",
     "output_type": "stream",
     "text": [
      "done\n",
      "\n",
      "done\n",
      "\n"
     ]
    },
    {
     "name": "stderr",
     "output_type": "stream",
     "text": [
      "2817it [07:09,  8.35it/s]"
     ]
    },
    {
     "name": "stdout",
     "output_type": "stream",
     "text": [
      "done\n",
      "\n",
      "done\n",
      "\n"
     ]
    },
    {
     "name": "stderr",
     "output_type": "stream",
     "text": [
      "2820it [07:09,  7.96it/s]"
     ]
    },
    {
     "name": "stdout",
     "output_type": "stream",
     "text": [
      "done\n",
      "\n",
      "done\n",
      "\n"
     ]
    },
    {
     "name": "stderr",
     "output_type": "stream",
     "text": [
      "2821it [07:09,  7.69it/s]"
     ]
    },
    {
     "name": "stdout",
     "output_type": "stream",
     "text": [
      "done\n",
      "\n"
     ]
    },
    {
     "name": "stderr",
     "output_type": "stream",
     "text": [
      "2823it [07:10,  4.58it/s]"
     ]
    },
    {
     "name": "stdout",
     "output_type": "stream",
     "text": [
      "done\n",
      "\n",
      "done\n",
      "\n"
     ]
    },
    {
     "name": "stderr",
     "output_type": "stream",
     "text": [
      "2826it [07:11,  7.16it/s]"
     ]
    },
    {
     "name": "stdout",
     "output_type": "stream",
     "text": [
      "done\n",
      "\n",
      "done\n",
      "\n",
      "done\n",
      "\n"
     ]
    },
    {
     "name": "stderr",
     "output_type": "stream",
     "text": [
      "2828it [07:11,  6.48it/s]"
     ]
    },
    {
     "name": "stdout",
     "output_type": "stream",
     "text": [
      "done\n",
      "\n",
      "done\n",
      "\n"
     ]
    },
    {
     "name": "stderr",
     "output_type": "stream",
     "text": [
      "2830it [07:11,  5.45it/s]"
     ]
    },
    {
     "name": "stdout",
     "output_type": "stream",
     "text": [
      "done\n",
      "\n",
      "done\n",
      "\n",
      "done\n",
      "\n"
     ]
    },
    {
     "name": "stderr",
     "output_type": "stream",
     "text": [
      "2832it [07:11,  7.46it/s]"
     ]
    },
    {
     "name": "stdout",
     "output_type": "stream",
     "text": [
      "done\n",
      "\n",
      "done\n",
      "\n",
      "done\n",
      "\n"
     ]
    },
    {
     "name": "stderr",
     "output_type": "stream",
     "text": [
      "2835it [07:12,  8.39it/s]"
     ]
    },
    {
     "name": "stdout",
     "output_type": "stream",
     "text": [
      "done\n",
      "\n",
      "done\n",
      "\n"
     ]
    },
    {
     "name": "stderr",
     "output_type": "stream",
     "text": [
      "2837it [07:12,  7.44it/s]"
     ]
    },
    {
     "name": "stdout",
     "output_type": "stream",
     "text": [
      "done\n",
      "\n"
     ]
    },
    {
     "name": "stderr",
     "output_type": "stream",
     "text": [
      "2838it [07:12,  6.20it/s]"
     ]
    },
    {
     "name": "stdout",
     "output_type": "stream",
     "text": [
      "done\n",
      "\n",
      "done\n",
      "\n"
     ]
    },
    {
     "name": "stderr",
     "output_type": "stream",
     "text": [
      "2840it [07:13,  6.18it/s]"
     ]
    },
    {
     "name": "stdout",
     "output_type": "stream",
     "text": [
      "done\n",
      "\n",
      "done\n",
      "\n"
     ]
    },
    {
     "name": "stderr",
     "output_type": "stream",
     "text": [
      "2843it [07:13,  7.12it/s]"
     ]
    },
    {
     "name": "stdout",
     "output_type": "stream",
     "text": [
      "done\n",
      "\n",
      "done\n",
      "\n",
      "done\n",
      "\n"
     ]
    },
    {
     "name": "stderr",
     "output_type": "stream",
     "text": [
      "2845it [07:13,  8.31it/s]"
     ]
    },
    {
     "name": "stdout",
     "output_type": "stream",
     "text": [
      "done\n",
      "\n"
     ]
    },
    {
     "name": "stderr",
     "output_type": "stream",
     "text": [
      "2846it [07:14,  6.16it/s]"
     ]
    },
    {
     "name": "stdout",
     "output_type": "stream",
     "text": [
      "done\n",
      "\n"
     ]
    },
    {
     "name": "stderr",
     "output_type": "stream",
     "text": [
      "2848it [07:14,  5.51it/s]"
     ]
    },
    {
     "name": "stdout",
     "output_type": "stream",
     "text": [
      "done\n",
      "\n",
      "done\n",
      "\n"
     ]
    },
    {
     "name": "stderr",
     "output_type": "stream",
     "text": [
      "2850it [07:14,  7.79it/s]"
     ]
    },
    {
     "name": "stdout",
     "output_type": "stream",
     "text": [
      "done\n",
      "\n",
      "done\n",
      "\n",
      "done\n",
      "\n"
     ]
    },
    {
     "name": "stderr",
     "output_type": "stream",
     "text": [
      "2854it [07:15,  6.25it/s]"
     ]
    },
    {
     "name": "stdout",
     "output_type": "stream",
     "text": [
      "done\n",
      "\n",
      "done\n",
      "\n",
      "done\n",
      "\n"
     ]
    },
    {
     "name": "stderr",
     "output_type": "stream",
     "text": [
      "2855it [07:15,  6.74it/s]"
     ]
    },
    {
     "name": "stdout",
     "output_type": "stream",
     "text": [
      "done\n",
      "\n"
     ]
    },
    {
     "name": "stderr",
     "output_type": "stream",
     "text": [
      "2859it [07:16,  4.54it/s]"
     ]
    },
    {
     "name": "stdout",
     "output_type": "stream",
     "text": [
      "done\n",
      "\n",
      "done\n",
      "\n",
      "done\n",
      "\n",
      "done\n",
      "\n",
      "done\n",
      "\n"
     ]
    },
    {
     "name": "stderr",
     "output_type": "stream",
     "text": [
      "2863it [07:17,  7.60it/s]"
     ]
    },
    {
     "name": "stdout",
     "output_type": "stream",
     "text": [
      "done\n",
      "\n",
      "done\n",
      "\n",
      "done\n",
      "\n",
      "done\n",
      "\n"
     ]
    },
    {
     "name": "stderr",
     "output_type": "stream",
     "text": [
      "2865it [07:17,  5.80it/s]"
     ]
    },
    {
     "name": "stdout",
     "output_type": "stream",
     "text": [
      "done\n",
      "\n",
      "done\n",
      "\n"
     ]
    },
    {
     "name": "stderr",
     "output_type": "stream",
     "text": [
      "2869it [07:17,  7.76it/s]"
     ]
    },
    {
     "name": "stdout",
     "output_type": "stream",
     "text": [
      "done\n",
      "\n",
      "done\n",
      "\n",
      "done\n",
      "\n",
      "done\n",
      "\n"
     ]
    },
    {
     "name": "stderr",
     "output_type": "stream",
     "text": [
      "2871it [07:18,  7.58it/s]"
     ]
    },
    {
     "name": "stdout",
     "output_type": "stream",
     "text": [
      "done\n",
      "\n",
      "done\n",
      "\n"
     ]
    },
    {
     "name": "stderr",
     "output_type": "stream",
     "text": [
      "2873it [07:18,  8.00it/s]"
     ]
    },
    {
     "name": "stdout",
     "output_type": "stream",
     "text": [
      "done\n",
      "\n",
      "done\n",
      "\n",
      "done\n",
      "\n"
     ]
    },
    {
     "name": "stderr",
     "output_type": "stream",
     "text": [
      "2877it [07:19,  7.36it/s]"
     ]
    },
    {
     "name": "stdout",
     "output_type": "stream",
     "text": [
      "done\n",
      "\n",
      "done\n",
      "\n",
      "done\n",
      "\n"
     ]
    },
    {
     "name": "stderr",
     "output_type": "stream",
     "text": [
      "2880it [07:19, 10.37it/s]"
     ]
    },
    {
     "name": "stdout",
     "output_type": "stream",
     "text": [
      "done\n",
      "\n",
      "done\n",
      "\n",
      "done\n",
      "\n",
      "done\n",
      "\n"
     ]
    },
    {
     "name": "stderr",
     "output_type": "stream",
     "text": [
      "2885it [07:19, 10.37it/s]"
     ]
    },
    {
     "name": "stdout",
     "output_type": "stream",
     "text": [
      "done\n",
      "\n",
      "done\n",
      "\n",
      "done\n",
      "\n"
     ]
    },
    {
     "name": "stderr",
     "output_type": "stream",
     "text": [
      "2889it [07:20,  8.88it/s]"
     ]
    },
    {
     "name": "stdout",
     "output_type": "stream",
     "text": [
      "done\n",
      "\n",
      "done\n",
      "\n",
      "done\n",
      "\n",
      "done\n",
      "\n",
      "done\n",
      "\n"
     ]
    },
    {
     "name": "stderr",
     "output_type": "stream",
     "text": [
      "2891it [07:20, 10.17it/s]"
     ]
    },
    {
     "name": "stdout",
     "output_type": "stream",
     "text": [
      "done\n",
      "\n",
      "done\n",
      "\n"
     ]
    },
    {
     "name": "stderr",
     "output_type": "stream",
     "text": [
      "2895it [07:20,  9.76it/s]"
     ]
    },
    {
     "name": "stdout",
     "output_type": "stream",
     "text": [
      "done\n",
      "\n",
      "done\n",
      "\n",
      "done\n",
      "\n"
     ]
    },
    {
     "name": "stderr",
     "output_type": "stream",
     "text": [
      "2897it [07:21,  7.47it/s]"
     ]
    },
    {
     "name": "stdout",
     "output_type": "stream",
     "text": [
      "done\n",
      "\n",
      "done\n",
      "\n",
      "done\n",
      "\n",
      "done\n",
      "\n"
     ]
    },
    {
     "name": "stderr",
     "output_type": "stream",
     "text": [
      "2900it [07:21, 10.30it/s]"
     ]
    },
    {
     "name": "stdout",
     "output_type": "stream",
     "text": [
      "done\n",
      "\n",
      "done\n",
      "\n"
     ]
    },
    {
     "name": "stderr",
     "output_type": "stream",
     "text": [
      "2902it [07:22,  6.06it/s]"
     ]
    },
    {
     "name": "stdout",
     "output_type": "stream",
     "text": [
      "done\n",
      "\n",
      "done\n",
      "\n"
     ]
    },
    {
     "name": "stderr",
     "output_type": "stream",
     "text": [
      "2904it [07:22,  5.81it/s]"
     ]
    },
    {
     "name": "stdout",
     "output_type": "stream",
     "text": [
      "done\n",
      "\n",
      "done\n",
      "\n",
      "done\n",
      "\n"
     ]
    },
    {
     "name": "stderr",
     "output_type": "stream",
     "text": [
      "2910it [07:23,  8.30it/s]"
     ]
    },
    {
     "name": "stdout",
     "output_type": "stream",
     "text": [
      "done\n",
      "\n",
      "done\n",
      "\n",
      "done\n",
      "\n",
      "done\n",
      "\n",
      "done\n",
      "\n"
     ]
    },
    {
     "name": "stderr",
     "output_type": "stream",
     "text": [
      "2914it [07:23,  9.77it/s]"
     ]
    },
    {
     "name": "stdout",
     "output_type": "stream",
     "text": [
      "done\n",
      "\n",
      "done\n",
      "\n",
      "done\n",
      "\n",
      "done\n",
      "\n",
      "done\n",
      "\n"
     ]
    },
    {
     "name": "stderr",
     "output_type": "stream",
     "text": [
      "2917it [07:23, 10.10it/s]"
     ]
    },
    {
     "name": "stdout",
     "output_type": "stream",
     "text": [
      "done\n",
      "\n",
      "done\n",
      "\n"
     ]
    },
    {
     "name": "stderr",
     "output_type": "stream",
     "text": [
      "2919it [07:23,  8.30it/s]"
     ]
    },
    {
     "name": "stdout",
     "output_type": "stream",
     "text": [
      "done\n",
      "\n",
      "done\n",
      "\n"
     ]
    },
    {
     "name": "stderr",
     "output_type": "stream",
     "text": [
      "2921it [07:24,  8.65it/s]"
     ]
    },
    {
     "name": "stdout",
     "output_type": "stream",
     "text": [
      "done\n",
      "\n",
      "done\n",
      "\n"
     ]
    },
    {
     "name": "stderr",
     "output_type": "stream",
     "text": [
      "2923it [07:24,  8.45it/s]"
     ]
    },
    {
     "name": "stdout",
     "output_type": "stream",
     "text": [
      "done\n",
      "\n",
      "done\n",
      "\n"
     ]
    },
    {
     "name": "stderr",
     "output_type": "stream",
     "text": [
      "2925it [07:24,  7.53it/s]"
     ]
    },
    {
     "name": "stdout",
     "output_type": "stream",
     "text": [
      "done\n",
      "\n"
     ]
    },
    {
     "name": "stderr",
     "output_type": "stream",
     "text": [
      "2926it [07:25,  6.59it/s]"
     ]
    },
    {
     "name": "stdout",
     "output_type": "stream",
     "text": [
      "done\n",
      "\n",
      "done\n",
      "\n"
     ]
    },
    {
     "name": "stderr",
     "output_type": "stream",
     "text": [
      "2930it [07:25,  7.38it/s]"
     ]
    },
    {
     "name": "stdout",
     "output_type": "stream",
     "text": [
      "done\n",
      "\n",
      "done\n",
      "\n",
      "done\n",
      "\n"
     ]
    },
    {
     "name": "stderr",
     "output_type": "stream",
     "text": [
      "2931it [07:25,  6.11it/s]"
     ]
    },
    {
     "name": "stdout",
     "output_type": "stream",
     "text": [
      "done\n",
      "\n"
     ]
    },
    {
     "name": "stderr",
     "output_type": "stream",
     "text": [
      "2935it [07:26,  8.81it/s]"
     ]
    },
    {
     "name": "stdout",
     "output_type": "stream",
     "text": [
      "done\n",
      "\n",
      "done\n",
      "\n",
      "done\n",
      "\n",
      "done\n",
      "\n",
      "done\n",
      "\n"
     ]
    },
    {
     "name": "stderr",
     "output_type": "stream",
     "text": [
      "2940it [07:26, 13.20it/s]"
     ]
    },
    {
     "name": "stdout",
     "output_type": "stream",
     "text": [
      "done\n",
      "\n",
      "done\n",
      "\n",
      "done\n",
      "\n",
      "done\n",
      "\n",
      "done\n",
      "\n"
     ]
    },
    {
     "name": "stderr",
     "output_type": "stream",
     "text": [
      "2943it [07:26, 14.39it/s]"
     ]
    },
    {
     "name": "stdout",
     "output_type": "stream",
     "text": [
      "done\n",
      "\n",
      "done\n",
      "\n",
      "done\n",
      "\n",
      "done\n",
      "\n"
     ]
    },
    {
     "name": "stderr",
     "output_type": "stream",
     "text": [
      "2946it [07:26, 15.47it/s]"
     ]
    },
    {
     "name": "stdout",
     "output_type": "stream",
     "text": [
      "done\n",
      "\n"
     ]
    },
    {
     "name": "stderr",
     "output_type": "stream",
     "text": [
      "2950it [07:27, 12.20it/s]"
     ]
    },
    {
     "name": "stdout",
     "output_type": "stream",
     "text": [
      "done\n",
      "\n",
      "done\n",
      "\n",
      "done\n",
      "\n",
      "done\n",
      "\n"
     ]
    },
    {
     "name": "stderr",
     "output_type": "stream",
     "text": [
      "2952it [07:28,  5.95it/s]"
     ]
    },
    {
     "name": "stdout",
     "output_type": "stream",
     "text": [
      "done\n",
      "\n",
      "done\n",
      "\n",
      "done\n",
      "\n"
     ]
    },
    {
     "name": "stderr",
     "output_type": "stream",
     "text": [
      "2954it [07:28,  5.87it/s]"
     ]
    },
    {
     "name": "stdout",
     "output_type": "stream",
     "text": [
      "done\n",
      "\n",
      "done\n",
      "\n",
      "done\n",
      "\n"
     ]
    },
    {
     "name": "stderr",
     "output_type": "stream",
     "text": [
      "2960it [07:28,  8.62it/s]"
     ]
    },
    {
     "name": "stdout",
     "output_type": "stream",
     "text": [
      "done\n",
      "\n",
      "done\n",
      "\n",
      "done\n",
      "\n",
      "done\n",
      "\n",
      "done\n",
      "\n"
     ]
    },
    {
     "name": "stderr",
     "output_type": "stream",
     "text": [
      "2962it [07:29,  7.82it/s]"
     ]
    },
    {
     "name": "stdout",
     "output_type": "stream",
     "text": [
      "done\n",
      "\n"
     ]
    },
    {
     "name": "stderr",
     "output_type": "stream",
     "text": [
      "2964it [07:29,  7.72it/s]"
     ]
    },
    {
     "name": "stdout",
     "output_type": "stream",
     "text": [
      "done\n",
      "\n",
      "done\n",
      "\n"
     ]
    },
    {
     "name": "stderr",
     "output_type": "stream",
     "text": [
      "2966it [07:30,  5.67it/s]"
     ]
    },
    {
     "name": "stdout",
     "output_type": "stream",
     "text": [
      "done\n",
      "\n",
      "done\n",
      "\n"
     ]
    },
    {
     "name": "stderr",
     "output_type": "stream",
     "text": [
      "2969it [07:30,  7.74it/s]"
     ]
    },
    {
     "name": "stdout",
     "output_type": "stream",
     "text": [
      "done\n",
      "\n",
      "done\n",
      "\n",
      "done\n",
      "\n",
      "done\n",
      "\n"
     ]
    },
    {
     "name": "stderr",
     "output_type": "stream",
     "text": [
      "2972it [07:30,  7.79it/s]"
     ]
    },
    {
     "name": "stdout",
     "output_type": "stream",
     "text": [
      "done\n",
      "\n",
      "done\n",
      "\n",
      "done\n",
      "\n"
     ]
    },
    {
     "name": "stderr",
     "output_type": "stream",
     "text": [
      "2975it [07:30, 10.96it/s]"
     ]
    },
    {
     "name": "stdout",
     "output_type": "stream",
     "text": [
      "done\n",
      "\n",
      "done\n",
      "\n"
     ]
    },
    {
     "name": "stderr",
     "output_type": "stream",
     "text": [
      "2977it [07:31,  7.88it/s]"
     ]
    },
    {
     "name": "stdout",
     "output_type": "stream",
     "text": [
      "done\n",
      "\n",
      "done\n",
      "\n"
     ]
    },
    {
     "name": "stderr",
     "output_type": "stream",
     "text": [
      "2979it [07:31,  9.64it/s]"
     ]
    },
    {
     "name": "stdout",
     "output_type": "stream",
     "text": [
      "done\n",
      "\n",
      "done\n",
      "\n"
     ]
    },
    {
     "name": "stderr",
     "output_type": "stream",
     "text": [
      "2981it [07:31,  9.46it/s]"
     ]
    },
    {
     "name": "stdout",
     "output_type": "stream",
     "text": [
      "done\n",
      "\n",
      "done\n",
      "\n",
      "done\n",
      "\n"
     ]
    },
    {
     "name": "stderr",
     "output_type": "stream",
     "text": [
      "2985it [07:31, 10.91it/s]"
     ]
    },
    {
     "name": "stdout",
     "output_type": "stream",
     "text": [
      "done\n",
      "\n",
      "done\n",
      "\n",
      "done\n",
      "\n",
      "done\n",
      "\n"
     ]
    },
    {
     "name": "stderr",
     "output_type": "stream",
     "text": [
      "2987it [07:32,  7.83it/s]"
     ]
    },
    {
     "name": "stdout",
     "output_type": "stream",
     "text": [
      "done\n",
      "\n",
      "done\n",
      "\n",
      "done\n",
      "\n"
     ]
    },
    {
     "name": "stderr",
     "output_type": "stream",
     "text": [
      "2990it [07:32,  7.84it/s]"
     ]
    },
    {
     "name": "stdout",
     "output_type": "stream",
     "text": [
      "done\n",
      "\n"
     ]
    },
    {
     "name": "stderr",
     "output_type": "stream",
     "text": [
      "2991it [07:32,  6.68it/s]"
     ]
    },
    {
     "name": "stdout",
     "output_type": "stream",
     "text": [
      "done\n",
      "\n",
      "done\n",
      "\n"
     ]
    },
    {
     "name": "stderr",
     "output_type": "stream",
     "text": [
      "2996it [07:33,  8.12it/s]"
     ]
    },
    {
     "name": "stdout",
     "output_type": "stream",
     "text": [
      "done\n",
      "\n",
      "done\n",
      "\n",
      "done\n",
      "\n",
      "done\n",
      "\n",
      "done\n",
      "\n"
     ]
    },
    {
     "name": "stderr",
     "output_type": "stream",
     "text": [
      "2998it [07:34,  6.04it/s]"
     ]
    },
    {
     "name": "stdout",
     "output_type": "stream",
     "text": [
      "done\n",
      "\n",
      "done\n",
      "\n",
      "done\n",
      "\n"
     ]
    },
    {
     "name": "stderr",
     "output_type": "stream",
     "text": [
      "3001it [07:34,  6.52it/s]"
     ]
    },
    {
     "name": "stdout",
     "output_type": "stream",
     "text": [
      "done\n",
      "\n"
     ]
    },
    {
     "name": "stderr",
     "output_type": "stream",
     "text": [
      "3003it [07:35,  5.36it/s]"
     ]
    },
    {
     "name": "stdout",
     "output_type": "stream",
     "text": [
      "done\n",
      "\n",
      "done\n",
      "\n",
      "done\n",
      "\n"
     ]
    },
    {
     "name": "stderr",
     "output_type": "stream",
     "text": [
      "3006it [07:35,  5.61it/s]"
     ]
    },
    {
     "name": "stdout",
     "output_type": "stream",
     "text": [
      "done\n",
      "\n",
      "done\n",
      "\n",
      "done\n",
      "\n"
     ]
    },
    {
     "name": "stderr",
     "output_type": "stream",
     "text": [
      "3008it [07:35,  5.75it/s]"
     ]
    },
    {
     "name": "stdout",
     "output_type": "stream",
     "text": [
      "done\n",
      "\n"
     ]
    },
    {
     "name": "stderr",
     "output_type": "stream",
     "text": [
      "3009it [07:36,  4.78it/s]"
     ]
    },
    {
     "name": "stdout",
     "output_type": "stream",
     "text": [
      "done\n",
      "\n",
      "done\n",
      "\n"
     ]
    },
    {
     "name": "stderr",
     "output_type": "stream",
     "text": [
      "3013it [07:36,  7.06it/s]"
     ]
    },
    {
     "name": "stdout",
     "output_type": "stream",
     "text": [
      "done\n",
      "\n",
      "done\n",
      "\n",
      "done\n",
      "\n",
      "done\n",
      "\n"
     ]
    },
    {
     "name": "stderr",
     "output_type": "stream",
     "text": [
      "3015it [07:37,  6.77it/s]"
     ]
    },
    {
     "name": "stdout",
     "output_type": "stream",
     "text": [
      "done\n",
      "\n"
     ]
    },
    {
     "name": "stderr",
     "output_type": "stream",
     "text": [
      "3018it [07:37,  6.23it/s]"
     ]
    },
    {
     "name": "stdout",
     "output_type": "stream",
     "text": [
      "done\n",
      "\n",
      "done\n",
      "\n",
      "done\n",
      "\n"
     ]
    },
    {
     "name": "stderr",
     "output_type": "stream",
     "text": [
      "3019it [07:38,  4.88it/s]"
     ]
    },
    {
     "name": "stdout",
     "output_type": "stream",
     "text": [
      "done\n",
      "\n"
     ]
    },
    {
     "name": "stderr",
     "output_type": "stream",
     "text": [
      "3020it [07:38,  4.68it/s]"
     ]
    },
    {
     "name": "stdout",
     "output_type": "stream",
     "text": [
      "done\n",
      "\n",
      "done\n",
      "\n"
     ]
    },
    {
     "name": "stderr",
     "output_type": "stream",
     "text": [
      "3022it [07:38,  5.69it/s]"
     ]
    },
    {
     "name": "stdout",
     "output_type": "stream",
     "text": [
      "done\n",
      "\n"
     ]
    },
    {
     "name": "stderr",
     "output_type": "stream",
     "text": [
      "3024it [07:38,  5.39it/s]"
     ]
    },
    {
     "name": "stdout",
     "output_type": "stream",
     "text": [
      "done\n",
      "\n",
      "done\n",
      "\n"
     ]
    },
    {
     "name": "stderr",
     "output_type": "stream",
     "text": [
      "3026it [07:39,  7.29it/s]"
     ]
    },
    {
     "name": "stdout",
     "output_type": "stream",
     "text": [
      "done\n",
      "\n",
      "done\n",
      "\n",
      "done\n",
      "\n"
     ]
    },
    {
     "name": "stderr",
     "output_type": "stream",
     "text": [
      "3031it [07:39,  8.62it/s]"
     ]
    },
    {
     "name": "stdout",
     "output_type": "stream",
     "text": [
      "done\n",
      "\n",
      "done\n",
      "\n",
      "done\n",
      "\n",
      "done\n",
      "\n",
      "done\n",
      "\n"
     ]
    },
    {
     "name": "stderr",
     "output_type": "stream",
     "text": [
      "3036it [07:40,  6.88it/s]"
     ]
    },
    {
     "name": "stdout",
     "output_type": "stream",
     "text": [
      "done\n",
      "\n",
      "done\n",
      "\n",
      "done\n",
      "\n",
      "done\n",
      "\n",
      "done\n",
      "\n"
     ]
    },
    {
     "name": "stderr",
     "output_type": "stream",
     "text": [
      "3039it [07:40,  8.66it/s]"
     ]
    },
    {
     "name": "stdout",
     "output_type": "stream",
     "text": [
      "done\n",
      "\n",
      "done\n",
      "\n",
      "done\n",
      "\n"
     ]
    },
    {
     "name": "stderr",
     "output_type": "stream",
     "text": [
      "3043it [07:41, 11.15it/s]"
     ]
    },
    {
     "name": "stdout",
     "output_type": "stream",
     "text": [
      "done\n",
      "\n",
      "done\n",
      "\n",
      "done\n",
      "\n",
      "done\n",
      "\n",
      "done\n",
      "\n"
     ]
    },
    {
     "name": "stderr",
     "output_type": "stream",
     "text": [
      "3049it [07:41, 15.77it/s]"
     ]
    },
    {
     "name": "stdout",
     "output_type": "stream",
     "text": [
      "done\n",
      "\n",
      "done\n",
      "\n",
      "done\n",
      "\n",
      "done\n",
      "\n",
      "done\n",
      "\n"
     ]
    },
    {
     "name": "stderr",
     "output_type": "stream",
     "text": [
      "3051it [07:41, 11.44it/s]"
     ]
    },
    {
     "name": "stdout",
     "output_type": "stream",
     "text": [
      "done\n",
      "\n",
      "done\n",
      "\n"
     ]
    },
    {
     "name": "stderr",
     "output_type": "stream",
     "text": [
      "3055it [07:42,  9.01it/s]"
     ]
    },
    {
     "name": "stdout",
     "output_type": "stream",
     "text": [
      "done\n",
      "\n",
      "done\n",
      "\n",
      "done\n",
      "\n",
      "done\n",
      "\n",
      "done\n",
      "\n"
     ]
    },
    {
     "name": "stderr",
     "output_type": "stream",
     "text": [
      "3060it [07:43,  5.43it/s]"
     ]
    },
    {
     "name": "stdout",
     "output_type": "stream",
     "text": [
      "done\n",
      "\n",
      "done\n",
      "\n",
      "done\n",
      "\n",
      "done\n",
      "\n",
      "done\n",
      "\n"
     ]
    },
    {
     "name": "stderr",
     "output_type": "stream",
     "text": [
      "3063it [07:43,  6.64it/s]"
     ]
    },
    {
     "name": "stdout",
     "output_type": "stream",
     "text": [
      "done\n",
      "\n",
      "done\n",
      "\n"
     ]
    },
    {
     "name": "stderr",
     "output_type": "stream",
     "text": [
      "3067it [07:44,  8.20it/s]"
     ]
    },
    {
     "name": "stdout",
     "output_type": "stream",
     "text": [
      "done\n",
      "\n",
      "done\n",
      "\n",
      "done\n",
      "\n"
     ]
    },
    {
     "name": "stderr",
     "output_type": "stream",
     "text": [
      "3069it [07:45,  5.16it/s]"
     ]
    },
    {
     "name": "stdout",
     "output_type": "stream",
     "text": [
      "done\n",
      "\n",
      "done\n",
      "\n"
     ]
    },
    {
     "name": "stderr",
     "output_type": "stream",
     "text": [
      "3071it [07:45,  3.98it/s]"
     ]
    },
    {
     "name": "stdout",
     "output_type": "stream",
     "text": [
      "done\n",
      "\n",
      "done\n",
      "\n"
     ]
    },
    {
     "name": "stderr",
     "output_type": "stream",
     "text": [
      "3072it [07:45,  4.47it/s]"
     ]
    },
    {
     "name": "stdout",
     "output_type": "stream",
     "text": [
      "done\n",
      "\n",
      "done\n",
      "\n"
     ]
    },
    {
     "name": "stderr",
     "output_type": "stream",
     "text": [
      "3075it [07:46,  5.21it/s]"
     ]
    },
    {
     "name": "stdout",
     "output_type": "stream",
     "text": [
      "done\n",
      "\n",
      "done\n",
      "\n",
      "done\n",
      "\n"
     ]
    },
    {
     "name": "stderr",
     "output_type": "stream",
     "text": [
      "3080it [07:46,  9.94it/s]"
     ]
    },
    {
     "name": "stdout",
     "output_type": "stream",
     "text": [
      "done\n",
      "\n",
      "done\n",
      "\n",
      "done\n",
      "\n",
      "done\n",
      "\n",
      "done\n",
      "\n",
      "done\n",
      "\n"
     ]
    },
    {
     "name": "stderr",
     "output_type": "stream",
     "text": [
      "3086it [07:47, 10.74it/s]"
     ]
    },
    {
     "name": "stdout",
     "output_type": "stream",
     "text": [
      "done\n",
      "\n",
      "done\n",
      "\n",
      "done\n",
      "\n",
      "done\n",
      "\n",
      "done\n",
      "\n",
      "done\n",
      "\n"
     ]
    },
    {
     "name": "stderr",
     "output_type": "stream",
     "text": [
      "3091it [07:47, 11.38it/s]"
     ]
    },
    {
     "name": "stdout",
     "output_type": "stream",
     "text": [
      "done\n",
      "\n",
      "done\n",
      "\n",
      "done\n",
      "\n",
      "done\n",
      "\n"
     ]
    },
    {
     "name": "stderr",
     "output_type": "stream",
     "text": [
      "3093it [07:47, 12.66it/s]"
     ]
    },
    {
     "name": "stdout",
     "output_type": "stream",
     "text": [
      "done\n",
      "\n"
     ]
    },
    {
     "name": "stderr",
     "output_type": "stream",
     "text": [
      "3095it [07:48,  9.14it/s]"
     ]
    },
    {
     "name": "stdout",
     "output_type": "stream",
     "text": [
      "done\n",
      "\n",
      "done\n",
      "\n"
     ]
    },
    {
     "name": "stderr",
     "output_type": "stream",
     "text": [
      "3097it [07:48,  8.07it/s]"
     ]
    },
    {
     "name": "stdout",
     "output_type": "stream",
     "text": [
      "done\n",
      "\n",
      "done\n",
      "\n",
      "done\n",
      "\n"
     ]
    },
    {
     "name": "stderr",
     "output_type": "stream",
     "text": [
      "3099it [07:48,  6.76it/s]"
     ]
    },
    {
     "name": "stdout",
     "output_type": "stream",
     "text": [
      "done\n",
      "\n"
     ]
    },
    {
     "name": "stderr",
     "output_type": "stream",
     "text": [
      "3102it [07:49,  6.56it/s]"
     ]
    },
    {
     "name": "stdout",
     "output_type": "stream",
     "text": [
      "done\n",
      "\n",
      "done\n",
      "\n",
      "done\n",
      "\n"
     ]
    },
    {
     "name": "stderr",
     "output_type": "stream",
     "text": [
      "3104it [07:49,  5.83it/s]"
     ]
    },
    {
     "name": "stdout",
     "output_type": "stream",
     "text": [
      "done\n",
      "\n",
      "done\n",
      "\n"
     ]
    },
    {
     "name": "stderr",
     "output_type": "stream",
     "text": [
      "3107it [07:50,  6.11it/s]"
     ]
    },
    {
     "name": "stdout",
     "output_type": "stream",
     "text": [
      "done\n",
      "\n",
      "done\n",
      "\n",
      "done\n",
      "\n"
     ]
    },
    {
     "name": "stderr",
     "output_type": "stream",
     "text": [
      "3110it [07:50,  7.69it/s]"
     ]
    },
    {
     "name": "stdout",
     "output_type": "stream",
     "text": [
      "done\n",
      "\n",
      "done\n",
      "\n",
      "done\n",
      "\n"
     ]
    },
    {
     "name": "stderr",
     "output_type": "stream",
     "text": [
      "3112it [07:51,  7.40it/s]"
     ]
    },
    {
     "name": "stdout",
     "output_type": "stream",
     "text": [
      "done\n",
      "\n",
      "done\n",
      "\n",
      "done\n",
      "\n",
      "done\n",
      "\n"
     ]
    },
    {
     "name": "stderr",
     "output_type": "stream",
     "text": [
      "3115it [07:51,  7.24it/s]"
     ]
    },
    {
     "name": "stdout",
     "output_type": "stream",
     "text": [
      "done\n",
      "\n",
      "done\n",
      "\n",
      "done\n",
      "\n"
     ]
    },
    {
     "name": "stderr",
     "output_type": "stream",
     "text": [
      "3121it [07:52,  6.51it/s]"
     ]
    },
    {
     "name": "stdout",
     "output_type": "stream",
     "text": [
      "done\n",
      "\n",
      "done\n",
      "\n",
      "done\n",
      "\n",
      "done\n",
      "\n"
     ]
    },
    {
     "name": "stderr",
     "output_type": "stream",
     "text": [
      "3126it [07:52,  9.80it/s]"
     ]
    },
    {
     "name": "stdout",
     "output_type": "stream",
     "text": [
      "done\n",
      "\n",
      "done\n",
      "\n",
      "done\n",
      "\n",
      "done\n",
      "\n",
      "done\n",
      "\n"
     ]
    },
    {
     "name": "stderr",
     "output_type": "stream",
     "text": [
      "3129it [07:52, 12.12it/s]"
     ]
    },
    {
     "name": "stdout",
     "output_type": "stream",
     "text": [
      "done\n",
      "\n",
      "done\n",
      "\n",
      "done\n",
      "\n",
      "done\n",
      "\n"
     ]
    },
    {
     "name": "stderr",
     "output_type": "stream",
     "text": [
      "3131it [07:53, 12.20it/s]"
     ]
    },
    {
     "name": "stdout",
     "output_type": "stream",
     "text": [
      "done\n",
      "\n",
      "done\n",
      "\n"
     ]
    },
    {
     "name": "stderr",
     "output_type": "stream",
     "text": [
      "3133it [07:53, 10.67it/s]"
     ]
    },
    {
     "name": "stdout",
     "output_type": "stream",
     "text": [
      "done\n",
      "\n",
      "done\n",
      "\n"
     ]
    },
    {
     "name": "stderr",
     "output_type": "stream",
     "text": [
      "3135it [07:54,  5.26it/s]"
     ]
    },
    {
     "name": "stdout",
     "output_type": "stream",
     "text": [
      "done\n",
      "\n"
     ]
    },
    {
     "name": "stderr",
     "output_type": "stream",
     "text": [
      "3137it [07:54,  5.81it/s]"
     ]
    },
    {
     "name": "stdout",
     "output_type": "stream",
     "text": [
      "done\n",
      "\n",
      "done\n",
      "\n"
     ]
    },
    {
     "name": "stderr",
     "output_type": "stream",
     "text": [
      "3139it [07:55,  5.31it/s]"
     ]
    },
    {
     "name": "stdout",
     "output_type": "stream",
     "text": [
      "done\n",
      "\n",
      "done\n",
      "\n"
     ]
    },
    {
     "name": "stderr",
     "output_type": "stream",
     "text": [
      "3141it [07:56,  2.79it/s]"
     ]
    },
    {
     "name": "stdout",
     "output_type": "stream",
     "text": [
      "done\n",
      "\n",
      "done\n",
      "\n"
     ]
    },
    {
     "name": "stderr",
     "output_type": "stream",
     "text": [
      "3144it [07:57,  3.48it/s]"
     ]
    },
    {
     "name": "stdout",
     "output_type": "stream",
     "text": [
      "done\n",
      "\n",
      "done\n",
      "\n",
      "done\n",
      "\n"
     ]
    },
    {
     "name": "stderr",
     "output_type": "stream",
     "text": [
      "3146it [07:57,  4.85it/s]"
     ]
    },
    {
     "name": "stdout",
     "output_type": "stream",
     "text": [
      "done\n",
      "\n",
      "done\n",
      "\n",
      "done\n",
      "\n"
     ]
    },
    {
     "name": "stderr",
     "output_type": "stream",
     "text": [
      "3148it [07:57,  5.29it/s]"
     ]
    },
    {
     "name": "stdout",
     "output_type": "stream",
     "text": [
      "done\n",
      "\n"
     ]
    },
    {
     "name": "stderr",
     "output_type": "stream",
     "text": [
      "3150it [07:58,  4.81it/s]"
     ]
    },
    {
     "name": "stdout",
     "output_type": "stream",
     "text": [
      "done\n",
      "\n",
      "done\n",
      "\n",
      "done\n",
      "\n"
     ]
    },
    {
     "name": "stderr",
     "output_type": "stream",
     "text": [
      "3152it [07:58,  6.46it/s]"
     ]
    },
    {
     "name": "stdout",
     "output_type": "stream",
     "text": [
      "done\n",
      "\n",
      "done\n",
      "\n",
      "done\n",
      "\n"
     ]
    },
    {
     "name": "stderr",
     "output_type": "stream",
     "text": [
      "3155it [07:58,  8.19it/s]"
     ]
    },
    {
     "name": "stdout",
     "output_type": "stream",
     "text": [
      "done\n",
      "\n",
      "done\n",
      "\n"
     ]
    },
    {
     "name": "stderr",
     "output_type": "stream",
     "text": [
      "3158it [07:59,  7.11it/s]"
     ]
    },
    {
     "name": "stdout",
     "output_type": "stream",
     "text": [
      "done\n",
      "\n",
      "done\n",
      "\n",
      "done\n",
      "\n"
     ]
    },
    {
     "name": "stderr",
     "output_type": "stream",
     "text": [
      "3160it [07:59,  6.63it/s]"
     ]
    },
    {
     "name": "stdout",
     "output_type": "stream",
     "text": [
      "done\n",
      "\n",
      "done\n",
      "\n"
     ]
    },
    {
     "name": "stderr",
     "output_type": "stream",
     "text": [
      "3163it [07:59,  7.15it/s]"
     ]
    },
    {
     "name": "stdout",
     "output_type": "stream",
     "text": [
      "done\n",
      "\n",
      "done\n",
      "\n",
      "done\n",
      "\n",
      "done\n",
      "\n"
     ]
    },
    {
     "name": "stderr",
     "output_type": "stream",
     "text": [
      "3166it [08:00,  6.85it/s]"
     ]
    },
    {
     "name": "stdout",
     "output_type": "stream",
     "text": [
      "done\n",
      "\n"
     ]
    },
    {
     "name": "stderr",
     "output_type": "stream",
     "text": [
      "3168it [08:00,  5.70it/s]"
     ]
    },
    {
     "name": "stdout",
     "output_type": "stream",
     "text": [
      "done\n",
      "\n",
      "done\n",
      "\n",
      "done\n",
      "\n",
      "done\n",
      "\n"
     ]
    },
    {
     "name": "stderr",
     "output_type": "stream",
     "text": [
      "3171it [08:01,  6.26it/s]"
     ]
    },
    {
     "name": "stdout",
     "output_type": "stream",
     "text": [
      "done\n",
      "\n"
     ]
    },
    {
     "name": "stderr",
     "output_type": "stream",
     "text": [
      "3174it [08:01,  6.67it/s]"
     ]
    },
    {
     "name": "stdout",
     "output_type": "stream",
     "text": [
      "done\n",
      "\n",
      "done\n",
      "\n",
      "done\n",
      "\n"
     ]
    },
    {
     "name": "stderr",
     "output_type": "stream",
     "text": [
      "3175it [08:01,  7.08it/s]"
     ]
    },
    {
     "name": "stdout",
     "output_type": "stream",
     "text": [
      "done\n",
      "\n"
     ]
    },
    {
     "name": "stderr",
     "output_type": "stream",
     "text": [
      "3176it [08:02,  3.98it/s]"
     ]
    },
    {
     "name": "stdout",
     "output_type": "stream",
     "text": [
      "done\n",
      "\n",
      "done\n",
      "\n",
      "done\n",
      "\n"
     ]
    },
    {
     "name": "stderr",
     "output_type": "stream",
     "text": [
      "3182it [08:03,  7.31it/s]"
     ]
    },
    {
     "name": "stdout",
     "output_type": "stream",
     "text": [
      "done\n",
      "\n",
      "done\n",
      "\n",
      "done\n",
      "\n",
      "done\n",
      "\n",
      "done\n",
      "\n"
     ]
    },
    {
     "name": "stderr",
     "output_type": "stream",
     "text": [
      "3185it [08:03,  6.81it/s]"
     ]
    },
    {
     "name": "stdout",
     "output_type": "stream",
     "text": [
      "done\n",
      "\n",
      "done\n",
      "\n",
      "done\n",
      "\n"
     ]
    },
    {
     "name": "stderr",
     "output_type": "stream",
     "text": [
      "3189it [08:03,  8.32it/s]"
     ]
    },
    {
     "name": "stdout",
     "output_type": "stream",
     "text": [
      "done\n",
      "\n",
      "done\n",
      "\n",
      "done\n",
      "\n",
      "done\n",
      "\n"
     ]
    },
    {
     "name": "stderr",
     "output_type": "stream",
     "text": [
      "3191it [08:04,  7.41it/s]"
     ]
    },
    {
     "name": "stdout",
     "output_type": "stream",
     "text": [
      "done\n",
      "\n",
      "done\n",
      "\n"
     ]
    },
    {
     "name": "stderr",
     "output_type": "stream",
     "text": [
      "3193it [08:04,  7.76it/s]"
     ]
    },
    {
     "name": "stdout",
     "output_type": "stream",
     "text": [
      "done\n",
      "\n",
      "done\n",
      "\n",
      "done\n",
      "\n"
     ]
    },
    {
     "name": "stderr",
     "output_type": "stream",
     "text": [
      "3200it [08:05,  6.59it/s]"
     ]
    },
    {
     "name": "stdout",
     "output_type": "stream",
     "text": [
      "done\n",
      "\n",
      "done\n",
      "\n",
      "done\n",
      "\n",
      "done\n",
      "\n",
      "done\n",
      "\n"
     ]
    },
    {
     "name": "stderr",
     "output_type": "stream",
     "text": [
      "\n"
     ]
    }
   ],
   "source": [
    "import os\n",
    "import pandas as pd\n",
    "import torch\n",
    "import numpy as np\n",
    "from transformers import LongformerTokenizer, LongformerModel\n",
    "from tqdm import tqdm\n",
    "\n",
    "tokenizer = LongformerTokenizer.from_pretrained(\"allenai/longformer-base-4096\", \n",
    "                                                cache_dir=\"/home/ajeet/Sourav/pre_trained_weigths\")\n",
    "model = LongformerModel.from_pretrained(\"allenai/longformer-base-4096\",\n",
    "                                        cache_dir=\"/home/ajeet/Sourav/pre_trained_weigths\")\n",
    "Device = \"cuda\" if torch.cuda.is_available() else \"cpu\"\n",
    "model.to(Device)\n",
    "\n",
    "base_path = \"/home/ajeet/Sourav/test_dataset_longformer_without_aug\"\n",
    "\n",
    "testing_dataset['text'] = testing_dataset['text'].astype(str)\n",
    "\n",
    "for index, row in tqdm(testing_dataset.iterrows()):\n",
    "    text = row['text']\n",
    "    target = row['Anorexia']\n",
    "\n",
    "    subtexts = split_text_into_subtexts(text, 4000)\n",
    "\n",
    "    try:\n",
    "        temp = []\n",
    "        model.eval()\n",
    "        for sub in subtexts:\n",
    "            inputs = tokenizer(sub, return_tensors=\"pt\", truncation=True, padding=True)\n",
    "            inputs = {key: value.to(Device) for key, value in inputs.items()}\n",
    "            with torch.no_grad():\n",
    "                output = model(**inputs)\n",
    "            temp.append(output.last_hidden_state.squeeze().cpu())\n",
    "        final_logits = torch.cat(temp, dim=0)\n",
    "        chunk = row[\"subject_ID\"].split(\"_\")[-1]\n",
    "        subject_id = int(row[\"subject_ID\"].split(\"_\")[0])\n",
    "        if not os.path.exists(os.path.join(base_path, chunk)):\n",
    "            try: os.mkdir(os.path.join(base_path, chunk))\n",
    "            except: pass\n",
    "        np.save(os.path.join(base_path, chunk, f'{subject_id}.npy'),\n",
    "                    final_logits.cpu().numpy())\n",
    "        # print(\"done\\n\")\n",
    "    except:\n",
    "        print(\"fail\\n\")"
   ]
  },
  {
   "cell_type": "code",
   "execution_count": 2,
   "metadata": {},
   "outputs": [
    {
     "data": {
      "text/plain": [
       "320"
      ]
     },
     "execution_count": 2,
     "metadata": {},
     "output_type": "execute_result"
    }
   ],
   "source": [
    "d = {}\n",
    "with open(\"/home/ajeet/Sourav/risk-golden-truth-test.txt\", 'r') as f:\n",
    "    for line in f:\n",
    "        subject, label = line.split()\n",
    "        d[subject[7:]] = int(label)\n",
    "\n",
    "len(d)"
   ]
  },
  {
   "cell_type": "code",
   "execution_count": 6,
   "metadata": {},
   "outputs": [],
   "source": [
    "import os\n",
    "import numpy as np\n",
    "import torch\n",
    "from torch.utils.data import Dataset, DataLoader\n",
    "from glob import glob\n",
    "import random\n",
    "\n",
    "class NpyDataset(Dataset):\n",
    "    def __init__(self, npy_folder, labels_dict, delay_dict):\n",
    "        self.npy_folder = npy_folder\n",
    "        self.labels_dict = labels_dict\n",
    "        self.delay_dict = delay_dict\n",
    "        self.my_list = glob(os.path.join(npy_folder, \"*\"))\n",
    "        file_names = glob(os.path.join(self.my_list[0], \"*.npy\"))\n",
    "        self.file_names = random.sample(file_names, len(file_names))\n",
    "\n",
    "    def __len__(self):\n",
    "        return len(self.file_names)\n",
    "\n",
    "    def __getitem__(self, idx):\n",
    "        if torch.is_tensor(idx):\n",
    "            idx = idx.tolist()\n",
    "        file_path_list = []\n",
    "        delay_list = []\n",
    "        file_path = self.file_names[idx]\n",
    "        file = file_path.split('/')[-1]\n",
    "        for i in range(1, 11):\n",
    "            file_path_list.append(os.path.join(self.npy_folder, str(i), file))\n",
    "            try:\n",
    "                delay = self.delay_dict[file.split('.')[0] + '_' + str(i)]\n",
    "                # print(np.array(time).shape)\n",
    "                delay_list.append(delay)\n",
    "\n",
    "            except:   \n",
    "                delay_list.append(0)\n",
    "            \n",
    "        subject = file_path.split('/')[-1].split('.')[0]\n",
    "        label = self.labels_dict[subject]\n",
    "\n",
    "        return file_path_list, delay_list, label"
   ]
  },
  {
   "cell_type": "code",
   "execution_count": 7,
   "metadata": {},
   "outputs": [],
   "source": [
    "test_dataset = NpyDataset('/home/ajeet/Sourav/test_dataset_longformer_without_aug', d, delay_dict)"
   ]
  },
  {
   "cell_type": "code",
   "execution_count": 8,
   "metadata": {},
   "outputs": [
    {
     "name": "stdout",
     "output_type": "stream",
     "text": [
      "['/home/ajeet/Sourav/test_dataset_longformer_without_aug/1/5028.npy', '/home/ajeet/Sourav/test_dataset_longformer_without_aug/2/5028.npy', '/home/ajeet/Sourav/test_dataset_longformer_without_aug/3/5028.npy', '/home/ajeet/Sourav/test_dataset_longformer_without_aug/4/5028.npy', '/home/ajeet/Sourav/test_dataset_longformer_without_aug/5/5028.npy', '/home/ajeet/Sourav/test_dataset_longformer_without_aug/6/5028.npy', '/home/ajeet/Sourav/test_dataset_longformer_without_aug/7/5028.npy', '/home/ajeet/Sourav/test_dataset_longformer_without_aug/8/5028.npy', '/home/ajeet/Sourav/test_dataset_longformer_without_aug/9/5028.npy', '/home/ajeet/Sourav/test_dataset_longformer_without_aug/10/5028.npy']\n",
      "[95, 95, 95, 95, 95, 95, 95, 95, 95, 101]\n",
      "0\n"
     ]
    }
   ],
   "source": [
    "file_list, delay_list, label = test_dataset[0]\n",
    "print(file_list)\n",
    "print(delay_list)\n",
    "print(label)"
   ]
  },
  {
   "cell_type": "code",
   "execution_count": 14,
   "metadata": {},
   "outputs": [],
   "source": [
    "def evaluate(test_dataset, model):\n",
    "    Device = 'cuda' if torch.cuda.is_available() else 'cpu'\n",
    "    probs, target, delays = [], [], []\n",
    "    model.to(Device)\n",
    "    model.eval()\n",
    "    with torch.no_grad():\n",
    "        for features, delay, label in tqdm(test_dataset):\n",
    "            temp = []\n",
    "            for feature in features:\n",
    "                try:\n",
    "                    feature = torch.from_numpy(np.load(feature))         \n",
    "                    feature = feature.to(Device)\n",
    "                    logits = model(feature)\n",
    "\n",
    "                    temp.append(logits[0][0].cpu().numpy())\n",
    "                except:\n",
    "                    temp.append(0)\n",
    "            target.append(label)\n",
    "            probs.append(temp)\n",
    "            delays.append(delay)\n",
    "\n",
    "    probs = np.array(probs)\n",
    "    target = np.array(target)\n",
    "    return probs, target, delays"
   ]
  },
  {
   "cell_type": "code",
   "execution_count": 15,
   "metadata": {},
   "outputs": [],
   "source": [
    "import math\n",
    "\n",
    "def get_delays(preds, delays_all):\n",
    "    delays = []\n",
    "    for i in range(0, len(preds)):\n",
    "        delay = 0\n",
    "        for j in range(0, len(preds[i])):\n",
    "            if preds[i][j] == 1:\n",
    "                # delay += delays_all[i][j]\n",
    "                break\n",
    "            delay += delays_all[i][j]\n",
    "        delays.append(delay)\n",
    "    return delays\n",
    "\n",
    "import numpy as np\n",
    "\n",
    "def lco(k, o):\n",
    "    if k - o > 700:\n",
    "        return 1.0\n",
    "    elif k - o < -700:\n",
    "        return 0.0\n",
    "    else:\n",
    "        return 1 - (1 / (1 + np.exp(k - o)))\n",
    "\n",
    "\n",
    "def calculate_ERDE(preds, delays, ground_truth, cfn, ctp, o):\n",
    "    cfp = np.sum(ground_truth)/len(ground_truth)\n",
    "    erde_values = []\n",
    "    for pred, gt, delay in zip(preds, ground_truth, delays):\n",
    "        if pred == 1 and gt == 1:\n",
    "            erde = lco(delay, o) * ctp \n",
    "        elif pred == 0 and gt == 1:\n",
    "            erde = cfn\n",
    "        elif pred == 1 and gt == 0:\n",
    "            erde = cfp\n",
    "        else:\n",
    "            erde = 0\n",
    "        erde_values.append(erde)\n",
    "    return sum(erde_values) / len(erde_values)"
   ]
  },
  {
   "cell_type": "markdown",
   "metadata": {},
   "source": [
    "## Without attention"
   ]
  },
  {
   "cell_type": "code",
   "execution_count": 16,
   "metadata": {},
   "outputs": [],
   "source": [
    "import torch\n",
    "import torch.nn as nn\n",
    "import torch.nn.functional as F\n",
    "\n",
    "class BinaryClassifier(nn.Module):\n",
    "    def __init__(self):\n",
    "        super(BinaryClassifier, self).__init__()\n",
    "        # self.attention = nn.MultiheadAttention(768, 8)\n",
    "        self.fc1 = nn.Linear(in_features=768, out_features=384)\n",
    "        self.fc2 = nn.Linear(in_features=384, out_features=64)\n",
    "        self.fc3 = nn.Linear(in_features=64, out_features=1)\n",
    "        self.sigmoid = nn.Sigmoid()\n",
    "\n",
    "    def forward(self, x):\n",
    "        # x = x.unsqueeze(0)\n",
    "        # x, _ = self.attention(x, x, x)\n",
    "        # x = x.squeeze(0)\n",
    "        x = torch.relu(self.fc2(torch.relu(self.fc1(x))))\n",
    "        # Perform global pooling over the batch dimension\n",
    "        x = torch.mean(x, dim=0, keepdim=True)\n",
    "        x = self.fc3(x)\n",
    "        x = self.sigmoid(x)\n",
    "        return x"
   ]
  },
  {
   "cell_type": "code",
   "execution_count": 17,
   "metadata": {},
   "outputs": [
    {
     "data": {
      "text/plain": [
       "<All keys matched successfully>"
      ]
     },
     "execution_count": 17,
     "metadata": {},
     "output_type": "execute_result"
    }
   ],
   "source": [
    "from tqdm import tqdm\n",
    "\n",
    "model = BinaryClassifier()\n",
    "# model.load_state_dict(torch.load(\"/media/souravsaini/Data/POP_OS/internship/models_wts/longformer/Aug_dataset/epoch_49_val_loss_0.1539282605572142.pt\"))\n",
    "model.load_state_dict(torch.load(\"/home/ajeet/Sourav/longformer/epoch_20_val_loss_1.2015374532240015.pt\"))"
   ]
  },
  {
   "cell_type": "code",
   "execution_count": 18,
   "metadata": {},
   "outputs": [
    {
     "name": "stderr",
     "output_type": "stream",
     "text": [
      "100%|██████████| 320/320 [00:42<00:00,  7.47it/s]\n"
     ]
    }
   ],
   "source": [
    "# test_dataset = NpyDataset(\"/home/ajeet/Sourav/test_dataset_longformer_without_aug\", d)\n",
    "\n",
    "probs, label, delay = evaluate(test_dataset, model)"
   ]
  },
  {
   "cell_type": "code",
   "execution_count": 23,
   "metadata": {},
   "outputs": [
    {
     "data": {
      "text/plain": [
       "array([[2.9531810e-05, 5.7710993e-05, 6.2968546e-05, ..., 1.4151857e-04,\n",
       "        2.5933157e-04, 1.6159602e-03],\n",
       "       [4.3157002e-04, 6.0873030e-04, 1.1399829e-02, ..., 5.1076070e-04,\n",
       "        1.0765752e-02, 6.8819703e-04],\n",
       "       [1.2684780e-03, 6.2234272e-07, 1.3648680e-02, ..., 2.7850782e-03,\n",
       "        4.4338959e-03, 3.1455237e-04],\n",
       "       ...,\n",
       "       [7.6041924e-04, 3.0308624e-03, 1.2287742e-04, ..., 2.0434652e-04,\n",
       "        8.4619242e-05, 4.6532416e-05],\n",
       "       [1.1284382e-05, 6.9059952e-06, 1.7388803e-06, ..., 4.7803871e-05,\n",
       "        4.9136401e-05, 4.1865576e-05],\n",
       "       [1.3907171e-03, 6.0202123e-04, 3.0644452e-03, ..., 1.2115430e-01,\n",
       "        1.2611607e-01, 1.6262626e-03]], dtype=float32)"
      ]
     },
     "execution_count": 23,
     "metadata": {},
     "output_type": "execute_result"
    }
   ],
   "source": [
    "probs*100"
   ]
  },
  {
   "cell_type": "code",
   "execution_count": 26,
   "metadata": {},
   "outputs": [],
   "source": [
    "pred_labels = []\n",
    "for i in range(0,len(probs)):\n",
    "    temp = []\n",
    "    for j in range(0, len(probs[i])):\n",
    "        if probs[i][j]*100>0.1: temp.append(1)\n",
    "        else: temp.append(0)\n",
    "    pred_labels.append(temp)"
   ]
  },
  {
   "cell_type": "code",
   "execution_count": 27,
   "metadata": {},
   "outputs": [
    {
     "name": "stdout",
     "output_type": "stream",
     "text": [
      "precision = 0.9310344827586207\n",
      "recall = 0.6585365853658537\n"
     ]
    }
   ],
   "source": [
    "from sklearn.metrics import precision_score, recall_score\n",
    "\n",
    "preds = []\n",
    "for i in pred_labels:\n",
    "    if sum(i)>4: preds.append(1)\n",
    "    else: preds.append(0)\n",
    "\n",
    "precision = precision_score(label, preds)\n",
    "recall = recall_score(label, preds)\n",
    "print(f\"precision = {precision}\\nrecall = {recall}\")"
   ]
  },
  {
   "cell_type": "code",
   "execution_count": 29,
   "metadata": {},
   "outputs": [
    {
     "name": "stdout",
     "output_type": "stream",
     "text": [
      "      threshold  f1_score\n",
      "0         0.000  0.227147\n",
      "1         0.001  0.771429\n",
      "2         0.002  0.676923\n",
      "3         0.003  0.634921\n",
      "4         0.004  0.590164\n",
      "...         ...       ...\n",
      "1005      1.005  0.000000\n",
      "1006      1.006  0.000000\n",
      "1007      1.007  0.000000\n",
      "1008      1.008  0.000000\n",
      "1009      1.009  0.000000\n",
      "\n",
      "[1010 rows x 2 columns]\n"
     ]
    },
    {
     "data": {
      "image/png": "[encoded data removed]",
      "text/plain": [
       "<Figure size 1000x600 with 1 Axes>"
      ]
     },
     "metadata": {},
     "output_type": "display_data"
    }
   ],
   "source": [
    "import numpy as np\n",
    "import pandas as pd\n",
    "import matplotlib.pyplot as plt\n",
    "from sklearn.metrics import f1_score\n",
    "\n",
    "# Initialize lists to store results\n",
    "thresholds = np.arange(0, 1.01, 0.001)\n",
    "f1_scores = []\n",
    "\n",
    "# Calculate F1 score for each threshold\n",
    "for threshold in thresholds:\n",
    "    pred_labels = []\n",
    "    for i in range(len(probs)):\n",
    "        temp = []\n",
    "        for j in range(len(probs[i])):\n",
    "            if probs[i][j] > threshold: \n",
    "                temp.append(1)\n",
    "            else: \n",
    "                temp.append(0)\n",
    "        pred_labels.append(temp)\n",
    "\n",
    "    preds = []\n",
    "    for i in pred_labels:\n",
    "        if sum(i) > 4: \n",
    "            preds.append(1)\n",
    "        else: \n",
    "            preds.append(0)\n",
    "    \n",
    "    f1 = f1_score(label, preds)\n",
    "    f1_scores.append(f1)\n",
    "\n",
    "# Create a DataFrame to store the results\n",
    "results_df = pd.DataFrame({\n",
    "    'threshold': thresholds,\n",
    "    'f1_score': f1_scores\n",
    "})\n",
    "\n",
    "# Print the DataFrame\n",
    "print(results_df)\n",
    "\n",
    "# Plot the curve\n",
    "plt.figure(figsize=(10, 6))\n",
    "plt.plot(results_df['threshold'], results_df['f1_score'])\n",
    "plt.title('Threshold vs F1 Score')\n",
    "plt.xlabel('Threshold')\n",
    "plt.ylabel('F1 Score')\n",
    "plt.grid(True)\n",
    "plt.show()\n"
   ]
  },
  {
   "cell_type": "code",
   "execution_count": 30,
   "metadata": {},
   "outputs": [],
   "source": [
    "results_df.to_csv('/home/ajeet/Sourav/threshold_vs_f1/longformer.csv')"
   ]
  },
  {
   "cell_type": "code",
   "execution_count": 76,
   "metadata": {},
   "outputs": [
    {
     "name": "stdout",
     "output_type": "stream",
     "text": [
      "[10, 1, 10, 10, 10, 10, 10, 10, 10, 10, 10, 10, 0, 10, 10, 5, 10, 10, 10, 10, 10, 10, 10, 2, 0, 0, 2, 0, 4, 10, 10, 10, 10, 4, 10, 8, 4, 3, 10, 10, 0, 0, 10, 5, 10, 10, 7, 10, 10, 10, 10, 10, 10, 10, 10, 10, 2, 10, 10, 10, 10, 10, 10, 10, 10, 10, 10, 10, 10, 2, 10, 10, 10, 10, 1, 10, 10, 2, 10, 0, 0, 1, 10, 10, 10, 10, 10, 10, 10, 10, 0, 10, 10, 6, 10, 10, 10, 10, 10, 6, 10, 10, 8, 0, 0, 5, 10, 9, 10, 10, 1, 7, 3, 10, 10, 2, 10, 10, 10, 0, 10, 0, 10, 0, 6, 3, 0, 3, 2, 10, 10, 10, 10, 10, 2, 7, 10, 1, 10, 3, 3, 10, 2, 10, 10, 10, 10, 1, 10, 0, 10, 10, 10, 10, 0, 10, 1, 10, 10, 0, 10, 10, 10, 10, 10, 0, 10, 3, 10, 10, 10, 10, 10, 10, 10, 10, 10, 10, 10, 10, 10, 10, 10, 10, 10, 10, 10, 0, 10, 10, 7, 10, 10, 10, 10, 10, 10, 10, 10, 10, 4, 10, 10, 10, 10, 1, 10, 10, 10, 10, 7, 10, 1, 10, 10, 10, 10, 10, 10, 2, 10, 10, 10, 10, 10, 7, 10, 10, 10, 5, 10, 10, 10, 10, 0, 10, 10, 10, 10, 10, 10, 10, 10, 10, 10, 10, 0, 10, 10, 10, 10, 10, 0, 7, 10, 3, 10, 10, 10, 10, 10, 10, 1, 10, 10, 10, 10, 10, 10, 0, 10, 10, 10, 2, 6, 4, 10, 10, 10, 10, 10, 10, 10, 10, 6, 0, 10, 1, 0, 10, 10, 10, 0, 10, 2, 10, 1, 9, 10, 10, 10, 10, 10, 10, 10, 10, 1, 10, 10, 0, 10, 10, 7, 10, 10, 10, 10, 10, 0, 6]\n"
     ]
    }
   ],
   "source": [
    "delays = get_delays(pred_labels)\n",
    "print(delays)"
   ]
  },
  {
   "cell_type": "code",
   "execution_count": 77,
   "metadata": {},
   "outputs": [
    {
     "name": "stdout",
     "output_type": "stream",
     "text": [
      "ERDE5 = 4.656602084033431%\n",
      "ERDE50 = 4.455078125%\n"
     ]
    }
   ],
   "source": [
    "cfp = 0.01  # Cost of false positive\n",
    "cfn = 1     # Cost of false negative\n",
    "ctp = 1     # Cost of true positive\n",
    "o = 5       # Parameter controlling the rate of increase for latency cost\n",
    "ERDE5 = calculate_ERDE(preds, delays, label, cfn, ctp, o)\n",
    "ERDE50 = calculate_ERDE(preds, delays, label, cfn, ctp, o*10)\n",
    "print(f\"ERDE5 = {ERDE5*100}%\\nERDE50 = {ERDE50*100}%\")"
   ]
  },
  {
   "cell_type": "markdown",
   "metadata": {},
   "source": [
    "## With Attention"
   ]
  },
  {
   "cell_type": "code",
   "execution_count": 31,
   "metadata": {},
   "outputs": [],
   "source": [
    "class BinaryClassifier(nn.Module):\n",
    "    def __init__(self):\n",
    "        super(BinaryClassifier, self).__init__()\n",
    "        self.attention = nn.MultiheadAttention(768, 12)\n",
    "        self.fc1 = nn.Linear(in_features=768, out_features=384)\n",
    "        self.fc2 = nn.Linear(in_features=384, out_features=128)\n",
    "        self.fc3 = nn.Linear(in_features=128, out_features=32)\n",
    "        self.fc4 = nn.Linear(in_features=32, out_features=1)\n",
    "        self.sigmoid = nn.Sigmoid()\n",
    "\n",
    "    def forward(self, x):\n",
    "        x = x.unsqueeze(0)\n",
    "        x, _ = self.attention(x, x, x)\n",
    "        x = x.squeeze(0)\n",
    "        x = torch.relu(self.fc2(torch.relu(self.fc1(x))))\n",
    "        # Perform global pooling over the batch dimension\n",
    "        x = torch.relu(self.fc3(x))\n",
    "        x = torch.mean(x, dim=0, keepdim=True)\n",
    "        x = self.fc4(x)\n",
    "        x = self.sigmoid(x)\n",
    "        return x"
   ]
  },
  {
   "cell_type": "code",
   "execution_count": 32,
   "metadata": {},
   "outputs": [
    {
     "data": {
      "text/plain": [
       "<All keys matched successfully>"
      ]
     },
     "execution_count": 32,
     "metadata": {},
     "output_type": "execute_result"
    }
   ],
   "source": [
    "from tqdm import tqdm\n",
    "\n",
    "model = BinaryClassifier()\n",
    "# model.load_state_dict(torch.load(\"/media/souravsaini/Data/POP_OS/internship/models_wts/longformer/Aug_dataset/epoch_49_val_loss_0.1539282605572142.pt\"))\n",
    "model.load_state_dict(torch.load(\"/home/ajeet/Sourav/longformer/att/ckpt/model_best.pt\"))"
   ]
  },
  {
   "cell_type": "code",
   "execution_count": 33,
   "metadata": {},
   "outputs": [
    {
     "name": "stderr",
     "output_type": "stream",
     "text": [
      "100%|██████████| 320/320 [00:22<00:00, 13.94it/s]\n"
     ]
    }
   ],
   "source": [
    "probs, label, delay = evaluate(test_dataset, model)"
   ]
  },
  {
   "cell_type": "code",
   "execution_count": 34,
   "metadata": {},
   "outputs": [
    {
     "data": {
      "text/plain": [
       "array([[0.00626798, 0.00503707, 0.0047513 , ..., 0.00742835, 0.0026765 ,\n",
       "        0.00868425],\n",
       "       [0.00993578, 0.00322613, 0.12610549, ..., 0.00473848, 0.01857298,\n",
       "        0.12997708],\n",
       "       [0.08043083, 0.00395711, 0.19276868, ..., 0.03748517, 0.09083208,\n",
       "        0.00502199],\n",
       "       ...,\n",
       "       [0.01830302, 0.02830472, 0.02718624, ..., 0.01049639, 0.01448877,\n",
       "        0.00316819],\n",
       "       [0.01159891, 0.01066424, 0.00858018, ..., 0.0222023 , 0.02000696,\n",
       "        0.020697  ],\n",
       "       [0.07071353, 0.07029145, 0.16893788, ..., 0.79286212, 0.65820652,\n",
       "        0.16038238]])"
      ]
     },
     "execution_count": 34,
     "metadata": {},
     "output_type": "execute_result"
    }
   ],
   "source": [
    "probs"
   ]
  },
  {
   "cell_type": "code",
   "execution_count": 37,
   "metadata": {},
   "outputs": [],
   "source": [
    "pred_labels = []\n",
    "for i in range(0,len(probs)):\n",
    "    temp = []\n",
    "    for j in range(0, len(probs[i])):\n",
    "        if probs[i][j]>0.3: temp.append(1)\n",
    "        else: temp.append(0)\n",
    "    pred_labels.append(temp)"
   ]
  },
  {
   "cell_type": "code",
   "execution_count": 38,
   "metadata": {},
   "outputs": [
    {
     "name": "stdout",
     "output_type": "stream",
     "text": [
      "precision = 0.7674418604651163\n",
      "recall = 0.8048780487804879\n"
     ]
    }
   ],
   "source": [
    "preds = []\n",
    "for i in pred_labels:\n",
    "    if sum(i)>4: preds.append(1)\n",
    "    else: preds.append(0)\n",
    "\n",
    "precision = precision_score(label, preds)\n",
    "recall = recall_score(label, preds)\n",
    "print(f\"precision = {precision}\\nrecall = {recall}\")"
   ]
  },
  {
   "cell_type": "code",
   "execution_count": 35,
   "metadata": {},
   "outputs": [
    {
     "name": "stdout",
     "output_type": "stream",
     "text": [
      "      threshold  f1_score\n",
      "0         0.000  0.227147\n",
      "1         0.001  0.229050\n",
      "2         0.002  0.233618\n",
      "3         0.003  0.245509\n",
      "4         0.004  0.253870\n",
      "...         ...       ...\n",
      "1005      1.005  0.000000\n",
      "1006      1.006  0.000000\n",
      "1007      1.007  0.000000\n",
      "1008      1.008  0.000000\n",
      "1009      1.009  0.000000\n",
      "\n",
      "[1010 rows x 2 columns]\n"
     ]
    },
    {
     "data": {
      "image/png": "[encoded data removed]",
      "text/plain": [
       "<Figure size 1000x600 with 1 Axes>"
      ]
     },
     "metadata": {},
     "output_type": "display_data"
    }
   ],
   "source": [
    "import numpy as np\n",
    "import pandas as pd\n",
    "import matplotlib.pyplot as plt\n",
    "from sklearn.metrics import f1_score\n",
    "\n",
    "# Initialize lists to store results\n",
    "thresholds = np.arange(0, 1.01, 0.001)\n",
    "f1_scores = []\n",
    "\n",
    "# Calculate F1 score for each threshold\n",
    "for threshold in thresholds:\n",
    "    pred_labels = []\n",
    "    for i in range(len(probs)):\n",
    "        temp = []\n",
    "        for j in range(len(probs[i])):\n",
    "            if probs[i][j] > threshold: \n",
    "                temp.append(1)\n",
    "            else: \n",
    "                temp.append(0)\n",
    "        pred_labels.append(temp)\n",
    "\n",
    "    preds = []\n",
    "    for i in pred_labels:\n",
    "        if sum(i) > 4: \n",
    "            preds.append(1)\n",
    "        else: \n",
    "            preds.append(0)\n",
    "    \n",
    "    f1 = f1_score(label, preds)\n",
    "    f1_scores.append(f1)\n",
    "\n",
    "# Create a DataFrame to store the results\n",
    "results_df = pd.DataFrame({\n",
    "    'threshold': thresholds,\n",
    "    'f1_score': f1_scores\n",
    "})\n",
    "\n",
    "# Print the DataFrame\n",
    "print(results_df)\n",
    "\n",
    "# Plot the curve\n",
    "plt.figure(figsize=(10, 6))\n",
    "plt.plot(results_df['threshold'], results_df['f1_score'])\n",
    "plt.title('Threshold vs F1 Score')\n",
    "plt.xlabel('Threshold')\n",
    "plt.ylabel('F1 Score')\n",
    "plt.grid(True)\n",
    "plt.show()\n"
   ]
  },
  {
   "cell_type": "code",
   "execution_count": 36,
   "metadata": {},
   "outputs": [],
   "source": [
    "results_df.to_csv('/home/ajeet/Sourav/threshold_vs_f1/longformerAttn.csv')"
   ]
  },
  {
   "cell_type": "code",
   "execution_count": 39,
   "metadata": {},
   "outputs": [],
   "source": [
    "delays = get_delays(pred_labels, delay)"
   ]
  },
  {
   "cell_type": "code",
   "execution_count": 40,
   "metadata": {},
   "outputs": [
    {
     "name": "stdout",
     "output_type": "stream",
     "text": [
      "ERDE5 = 5.234860265160933%\n",
      "ERDE50 = 4.113139711873017%\n"
     ]
    }
   ],
   "source": [
    "cfp = 0.01  # Cost of false positive\n",
    "cfn = 1     # Cost of false negative\n",
    "ctp = 1     # Cost of true positive\n",
    "o = 5       # Parameter controlling the rate of increase for latency cost\n",
    "ERDE5 = calculate_ERDE(preds, delays, label, cfn, ctp, o)\n",
    "ERDE50 = calculate_ERDE(preds, delays, label, cfn, ctp, o*10)\n",
    "print(f\"ERDE5 = {ERDE5*100}%\\nERDE50 = {ERDE50*100}%\")"
   ]
  },
  {
   "cell_type": "code",
   "execution_count": null,
   "metadata": {},
   "outputs": [],
   "source": []
  }
 ],
 "metadata": {
  "kernelspec": {
   "display_name": "env",
   "language": "python",
   "name": "python3"
  },
  "language_info": {
   "codemirror_mode": {
    "name": "ipython",
    "version": 3
   },
   "file_extension": ".py",
   "mimetype": "text/x-python",
   "name": "python",
   "nbconvert_exporter": "python",
   "pygments_lexer": "ipython3",
   "version": "3.11.3"
  }
 },
 "nbformat": 4,
 "nbformat_minor": 2
}
